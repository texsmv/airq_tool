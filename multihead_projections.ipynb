{
 "cells": [
  {
   "cell_type": "code",
   "execution_count": 69,
   "metadata": {},
   "outputs": [],
   "source": [
    "%reload_ext autoreload\n",
    "%autoreload 2\n",
    "\n",
    "import os\n",
    "import numpy as np\n",
    "from source.tserie import TSerie\n",
    "from source.read_ontario import read_ontario\n",
    "from source.utils import commonWindows\n",
    "from source.torch_utils import getContrastiveFeatures\n",
    "from cuml.manifold import UMAP\n",
    "from ccpca import CCPCA\n",
    "\n",
    "VIS_PATH = 'visualizations'\n",
    "SMOOTH = 0 # 8 -1 if you don't want to smooth the data otherwise the size of the smooth window\n",
    "LOSS = 'SimCLR' # SupConLoss | SimCLR\n",
    "MODE = 'subsequences' # subsequences - shape\n",
    "# MODE = 'shape' # subsequences - shape\n",
    "EPOCHS = 800\n",
    "BATCH_SIZE = 128\n",
    "ENC_SIZE = 20 # 8\n",
    "POLLUTANTS = ['PM25', 'SO2', 'CO'] # ['NO', 'NOx', 'NO2', 'SO2', 'CO', 'O3', 'PM25']\n",
    "CONV_FILTERS = [16, 32]\n",
    "CONV_KERNELS = [5, 5]\n",
    "UMAP_NEIGHBORS = 15\n",
    "N_VIZ_SAMPLES = 600\n",
    "FEAT_SIZE = 32"
   ]
  },
  {
   "cell_type": "markdown",
   "metadata": {},
   "source": [
    "# Months case"
   ]
  },
  {
   "cell_type": "code",
   "execution_count": 70,
   "metadata": {},
   "outputs": [],
   "source": [
    "from source.datasets import loadFuncionalModel, loadNatops, loadWafer, loadSelfRegulationSCP2, loadBasicMotions, loadEarthquakes, loadItalyPowerDemand, loadEigenWorms\n",
    "# windows_map = read_ontario(granularity='daily', cache=False)\n",
    "X_train, y_train, X_test, y_test, classLabels= loadBasicMotions()\n",
    "# X_train, y_train, X_test, y_test, classLabels= loadItalyPowerDemand()\n",
    "# pollutans = POLLUTANTS\n",
    "# windows, dates, station_ids, stations = commonWindows(windows_map, pollutans)"
   ]
  },
  {
   "cell_type": "code",
   "execution_count": 71,
   "metadata": {},
   "outputs": [
    {
     "name": "stdout",
     "output_type": "stream",
     "text": [
      "Loaded mts - N: 40, T: 100, D: 6 \n"
     ]
    }
   ],
   "source": [
    "mts = TSerie(X=X_train.transpose([0, 2, 1]), y = y_train)\n",
    "\n",
    "if SMOOTH > 0:\n",
    "    mts.smooth(window_size=SMOOTH)\n",
    "\n",
    "if MODE == 'shape':\n",
    "    mts.shapeNormalizization()\n",
    "else:\n",
    "    mts.minMaxNormalizization()\n"
   ]
  },
  {
   "cell_type": "code",
   "execution_count": 72,
   "metadata": {},
   "outputs": [
    {
     "data": {
      "text/html": [
       "<pre style=\"white-space:pre;overflow-x:auto;line-height:normal;font-family:Menlo,'DejaVu Sans Mono',consolas,'Courier New',monospace\">Subsequence length: <span style=\"color: #008080; text-decoration-color: #008080; font-weight: bold\">80</span>\n",
       "</pre>\n"
      ],
      "text/plain": [
       "Subsequence length: \u001b[1;36m80\u001b[0m\n"
      ]
     },
     "metadata": {},
     "output_type": "display_data"
    },
    {
     "data": {
      "text/html": [
       "<pre style=\"white-space:pre;overflow-x:auto;line-height:normal;font-family:Menlo,'DejaVu Sans Mono',consolas,'Courier New',monospace\">Epoch<span style=\"font-weight: bold\">[</span><span style=\"color: #008080; text-decoration-color: #008080; font-weight: bold\">1</span><span style=\"font-weight: bold\">]</span> Train loss    avg: <span style=\"color: #008080; text-decoration-color: #008080; font-weight: bold\">9.046646118164062</span>\n",
       "</pre>\n"
      ],
      "text/plain": [
       "Epoch\u001b[1m[\u001b[0m\u001b[1;36m1\u001b[0m\u001b[1m]\u001b[0m Train loss    avg: \u001b[1;36m9.046646118164062\u001b[0m\n"
      ]
     },
     "metadata": {},
     "output_type": "display_data"
    },
    {
     "data": {
      "text/html": [
       "<pre style=\"white-space:pre;overflow-x:auto;line-height:normal;font-family:Menlo,'DejaVu Sans Mono',consolas,'Courier New',monospace\">Epoch<span style=\"font-weight: bold\">[</span><span style=\"color: #008080; text-decoration-color: #008080; font-weight: bold\">10</span><span style=\"font-weight: bold\">]</span> Train loss    avg: <span style=\"color: #008080; text-decoration-color: #008080; font-weight: bold\">7.305241107940674</span>\n",
       "</pre>\n"
      ],
      "text/plain": [
       "Epoch\u001b[1m[\u001b[0m\u001b[1;36m10\u001b[0m\u001b[1m]\u001b[0m Train loss    avg: \u001b[1;36m7.305241107940674\u001b[0m\n"
      ]
     },
     "metadata": {},
     "output_type": "display_data"
    },
    {
     "data": {
      "text/html": [
       "<pre style=\"white-space:pre;overflow-x:auto;line-height:normal;font-family:Menlo,'DejaVu Sans Mono',consolas,'Courier New',monospace\">Epoch<span style=\"font-weight: bold\">[</span><span style=\"color: #008080; text-decoration-color: #008080; font-weight: bold\">20</span><span style=\"font-weight: bold\">]</span> Train loss    avg: <span style=\"color: #008080; text-decoration-color: #008080; font-weight: bold\">5.45122766494751</span>\n",
       "</pre>\n"
      ],
      "text/plain": [
       "Epoch\u001b[1m[\u001b[0m\u001b[1;36m20\u001b[0m\u001b[1m]\u001b[0m Train loss    avg: \u001b[1;36m5.45122766494751\u001b[0m\n"
      ]
     },
     "metadata": {},
     "output_type": "display_data"
    },
    {
     "data": {
      "text/html": [
       "<pre style=\"white-space:pre;overflow-x:auto;line-height:normal;font-family:Menlo,'DejaVu Sans Mono',consolas,'Courier New',monospace\">Epoch<span style=\"font-weight: bold\">[</span><span style=\"color: #008080; text-decoration-color: #008080; font-weight: bold\">30</span><span style=\"font-weight: bold\">]</span> Train loss    avg: <span style=\"color: #008080; text-decoration-color: #008080; font-weight: bold\">4.7189836502075195</span>\n",
       "</pre>\n"
      ],
      "text/plain": [
       "Epoch\u001b[1m[\u001b[0m\u001b[1;36m30\u001b[0m\u001b[1m]\u001b[0m Train loss    avg: \u001b[1;36m4.7189836502075195\u001b[0m\n"
      ]
     },
     "metadata": {},
     "output_type": "display_data"
    },
    {
     "data": {
      "text/html": [
       "<pre style=\"white-space:pre;overflow-x:auto;line-height:normal;font-family:Menlo,'DejaVu Sans Mono',consolas,'Courier New',monospace\">Epoch<span style=\"font-weight: bold\">[</span><span style=\"color: #008080; text-decoration-color: #008080; font-weight: bold\">40</span><span style=\"font-weight: bold\">]</span> Train loss    avg: <span style=\"color: #008080; text-decoration-color: #008080; font-weight: bold\">4.592138767242432</span>\n",
       "</pre>\n"
      ],
      "text/plain": [
       "Epoch\u001b[1m[\u001b[0m\u001b[1;36m40\u001b[0m\u001b[1m]\u001b[0m Train loss    avg: \u001b[1;36m4.592138767242432\u001b[0m\n"
      ]
     },
     "metadata": {},
     "output_type": "display_data"
    },
    {
     "data": {
      "text/html": [
       "<pre style=\"white-space:pre;overflow-x:auto;line-height:normal;font-family:Menlo,'DejaVu Sans Mono',consolas,'Courier New',monospace\">Epoch<span style=\"font-weight: bold\">[</span><span style=\"color: #008080; text-decoration-color: #008080; font-weight: bold\">50</span><span style=\"font-weight: bold\">]</span> Train loss    avg: <span style=\"color: #008080; text-decoration-color: #008080; font-weight: bold\">4.439388275146484</span>\n",
       "</pre>\n"
      ],
      "text/plain": [
       "Epoch\u001b[1m[\u001b[0m\u001b[1;36m50\u001b[0m\u001b[1m]\u001b[0m Train loss    avg: \u001b[1;36m4.439388275146484\u001b[0m\n"
      ]
     },
     "metadata": {},
     "output_type": "display_data"
    },
    {
     "data": {
      "text/html": [
       "<pre style=\"white-space:pre;overflow-x:auto;line-height:normal;font-family:Menlo,'DejaVu Sans Mono',consolas,'Courier New',monospace\">Epoch<span style=\"font-weight: bold\">[</span><span style=\"color: #008080; text-decoration-color: #008080; font-weight: bold\">60</span><span style=\"font-weight: bold\">]</span> Train loss    avg: <span style=\"color: #008080; text-decoration-color: #008080; font-weight: bold\">4.4151997566223145</span>\n",
       "</pre>\n"
      ],
      "text/plain": [
       "Epoch\u001b[1m[\u001b[0m\u001b[1;36m60\u001b[0m\u001b[1m]\u001b[0m Train loss    avg: \u001b[1;36m4.4151997566223145\u001b[0m\n"
      ]
     },
     "metadata": {},
     "output_type": "display_data"
    },
    {
     "data": {
      "text/html": [
       "<pre style=\"white-space:pre;overflow-x:auto;line-height:normal;font-family:Menlo,'DejaVu Sans Mono',consolas,'Courier New',monospace\">Epoch<span style=\"font-weight: bold\">[</span><span style=\"color: #008080; text-decoration-color: #008080; font-weight: bold\">70</span><span style=\"font-weight: bold\">]</span> Train loss    avg: <span style=\"color: #008080; text-decoration-color: #008080; font-weight: bold\">4.394774913787842</span>\n",
       "</pre>\n"
      ],
      "text/plain": [
       "Epoch\u001b[1m[\u001b[0m\u001b[1;36m70\u001b[0m\u001b[1m]\u001b[0m Train loss    avg: \u001b[1;36m4.394774913787842\u001b[0m\n"
      ]
     },
     "metadata": {},
     "output_type": "display_data"
    },
    {
     "data": {
      "text/html": [
       "<pre style=\"white-space:pre;overflow-x:auto;line-height:normal;font-family:Menlo,'DejaVu Sans Mono',consolas,'Courier New',monospace\">Epoch<span style=\"font-weight: bold\">[</span><span style=\"color: #008080; text-decoration-color: #008080; font-weight: bold\">80</span><span style=\"font-weight: bold\">]</span> Train loss    avg: <span style=\"color: #008080; text-decoration-color: #008080; font-weight: bold\">4.402472972869873</span>\n",
       "</pre>\n"
      ],
      "text/plain": [
       "Epoch\u001b[1m[\u001b[0m\u001b[1;36m80\u001b[0m\u001b[1m]\u001b[0m Train loss    avg: \u001b[1;36m4.402472972869873\u001b[0m\n"
      ]
     },
     "metadata": {},
     "output_type": "display_data"
    },
    {
     "data": {
      "text/html": [
       "<pre style=\"white-space:pre;overflow-x:auto;line-height:normal;font-family:Menlo,'DejaVu Sans Mono',consolas,'Courier New',monospace\">Epoch<span style=\"font-weight: bold\">[</span><span style=\"color: #008080; text-decoration-color: #008080; font-weight: bold\">90</span><span style=\"font-weight: bold\">]</span> Train loss    avg: <span style=\"color: #008080; text-decoration-color: #008080; font-weight: bold\">4.37030029296875</span>\n",
       "</pre>\n"
      ],
      "text/plain": [
       "Epoch\u001b[1m[\u001b[0m\u001b[1;36m90\u001b[0m\u001b[1m]\u001b[0m Train loss    avg: \u001b[1;36m4.37030029296875\u001b[0m\n"
      ]
     },
     "metadata": {},
     "output_type": "display_data"
    },
    {
     "data": {
      "text/html": [
       "<pre style=\"white-space:pre;overflow-x:auto;line-height:normal;font-family:Menlo,'DejaVu Sans Mono',consolas,'Courier New',monospace\">Epoch<span style=\"font-weight: bold\">[</span><span style=\"color: #008080; text-decoration-color: #008080; font-weight: bold\">100</span><span style=\"font-weight: bold\">]</span> Train loss    avg: <span style=\"color: #008080; text-decoration-color: #008080; font-weight: bold\">4.361632823944092</span>\n",
       "</pre>\n"
      ],
      "text/plain": [
       "Epoch\u001b[1m[\u001b[0m\u001b[1;36m100\u001b[0m\u001b[1m]\u001b[0m Train loss    avg: \u001b[1;36m4.361632823944092\u001b[0m\n"
      ]
     },
     "metadata": {},
     "output_type": "display_data"
    },
    {
     "data": {
      "text/html": [
       "<pre style=\"white-space:pre;overflow-x:auto;line-height:normal;font-family:Menlo,'DejaVu Sans Mono',consolas,'Courier New',monospace\">Epoch<span style=\"font-weight: bold\">[</span><span style=\"color: #008080; text-decoration-color: #008080; font-weight: bold\">110</span><span style=\"font-weight: bold\">]</span> Train loss    avg: <span style=\"color: #008080; text-decoration-color: #008080; font-weight: bold\">4.369416236877441</span>\n",
       "</pre>\n"
      ],
      "text/plain": [
       "Epoch\u001b[1m[\u001b[0m\u001b[1;36m110\u001b[0m\u001b[1m]\u001b[0m Train loss    avg: \u001b[1;36m4.369416236877441\u001b[0m\n"
      ]
     },
     "metadata": {},
     "output_type": "display_data"
    },
    {
     "data": {
      "text/html": [
       "<pre style=\"white-space:pre;overflow-x:auto;line-height:normal;font-family:Menlo,'DejaVu Sans Mono',consolas,'Courier New',monospace\">Epoch<span style=\"font-weight: bold\">[</span><span style=\"color: #008080; text-decoration-color: #008080; font-weight: bold\">120</span><span style=\"font-weight: bold\">]</span> Train loss    avg: <span style=\"color: #008080; text-decoration-color: #008080; font-weight: bold\">4.340052604675293</span>\n",
       "</pre>\n"
      ],
      "text/plain": [
       "Epoch\u001b[1m[\u001b[0m\u001b[1;36m120\u001b[0m\u001b[1m]\u001b[0m Train loss    avg: \u001b[1;36m4.340052604675293\u001b[0m\n"
      ]
     },
     "metadata": {},
     "output_type": "display_data"
    },
    {
     "data": {
      "text/html": [
       "<pre style=\"white-space:pre;overflow-x:auto;line-height:normal;font-family:Menlo,'DejaVu Sans Mono',consolas,'Courier New',monospace\">Epoch<span style=\"font-weight: bold\">[</span><span style=\"color: #008080; text-decoration-color: #008080; font-weight: bold\">130</span><span style=\"font-weight: bold\">]</span> Train loss    avg: <span style=\"color: #008080; text-decoration-color: #008080; font-weight: bold\">4.301283359527588</span>\n",
       "</pre>\n"
      ],
      "text/plain": [
       "Epoch\u001b[1m[\u001b[0m\u001b[1;36m130\u001b[0m\u001b[1m]\u001b[0m Train loss    avg: \u001b[1;36m4.301283359527588\u001b[0m\n"
      ]
     },
     "metadata": {},
     "output_type": "display_data"
    },
    {
     "data": {
      "text/html": [
       "<pre style=\"white-space:pre;overflow-x:auto;line-height:normal;font-family:Menlo,'DejaVu Sans Mono',consolas,'Courier New',monospace\">Epoch<span style=\"font-weight: bold\">[</span><span style=\"color: #008080; text-decoration-color: #008080; font-weight: bold\">140</span><span style=\"font-weight: bold\">]</span> Train loss    avg: <span style=\"color: #008080; text-decoration-color: #008080; font-weight: bold\">4.220865249633789</span>\n",
       "</pre>\n"
      ],
      "text/plain": [
       "Epoch\u001b[1m[\u001b[0m\u001b[1;36m140\u001b[0m\u001b[1m]\u001b[0m Train loss    avg: \u001b[1;36m4.220865249633789\u001b[0m\n"
      ]
     },
     "metadata": {},
     "output_type": "display_data"
    },
    {
     "data": {
      "text/html": [
       "<pre style=\"white-space:pre;overflow-x:auto;line-height:normal;font-family:Menlo,'DejaVu Sans Mono',consolas,'Courier New',monospace\">Epoch<span style=\"font-weight: bold\">[</span><span style=\"color: #008080; text-decoration-color: #008080; font-weight: bold\">150</span><span style=\"font-weight: bold\">]</span> Train loss    avg: <span style=\"color: #008080; text-decoration-color: #008080; font-weight: bold\">4.074743747711182</span>\n",
       "</pre>\n"
      ],
      "text/plain": [
       "Epoch\u001b[1m[\u001b[0m\u001b[1;36m150\u001b[0m\u001b[1m]\u001b[0m Train loss    avg: \u001b[1;36m4.074743747711182\u001b[0m\n"
      ]
     },
     "metadata": {},
     "output_type": "display_data"
    },
    {
     "data": {
      "text/html": [
       "<pre style=\"white-space:pre;overflow-x:auto;line-height:normal;font-family:Menlo,'DejaVu Sans Mono',consolas,'Courier New',monospace\">Epoch<span style=\"font-weight: bold\">[</span><span style=\"color: #008080; text-decoration-color: #008080; font-weight: bold\">160</span><span style=\"font-weight: bold\">]</span> Train loss    avg: <span style=\"color: #008080; text-decoration-color: #008080; font-weight: bold\">3.929347038269043</span>\n",
       "</pre>\n"
      ],
      "text/plain": [
       "Epoch\u001b[1m[\u001b[0m\u001b[1;36m160\u001b[0m\u001b[1m]\u001b[0m Train loss    avg: \u001b[1;36m3.929347038269043\u001b[0m\n"
      ]
     },
     "metadata": {},
     "output_type": "display_data"
    },
    {
     "data": {
      "text/html": [
       "<pre style=\"white-space:pre;overflow-x:auto;line-height:normal;font-family:Menlo,'DejaVu Sans Mono',consolas,'Courier New',monospace\">Epoch<span style=\"font-weight: bold\">[</span><span style=\"color: #008080; text-decoration-color: #008080; font-weight: bold\">170</span><span style=\"font-weight: bold\">]</span> Train loss    avg: <span style=\"color: #008080; text-decoration-color: #008080; font-weight: bold\">3.791048526763916</span>\n",
       "</pre>\n"
      ],
      "text/plain": [
       "Epoch\u001b[1m[\u001b[0m\u001b[1;36m170\u001b[0m\u001b[1m]\u001b[0m Train loss    avg: \u001b[1;36m3.791048526763916\u001b[0m\n"
      ]
     },
     "metadata": {},
     "output_type": "display_data"
    },
    {
     "data": {
      "text/html": [
       "<pre style=\"white-space:pre;overflow-x:auto;line-height:normal;font-family:Menlo,'DejaVu Sans Mono',consolas,'Courier New',monospace\">Epoch<span style=\"font-weight: bold\">[</span><span style=\"color: #008080; text-decoration-color: #008080; font-weight: bold\">180</span><span style=\"font-weight: bold\">]</span> Train loss    avg: <span style=\"color: #008080; text-decoration-color: #008080; font-weight: bold\">3.745129346847534</span>\n",
       "</pre>\n"
      ],
      "text/plain": [
       "Epoch\u001b[1m[\u001b[0m\u001b[1;36m180\u001b[0m\u001b[1m]\u001b[0m Train loss    avg: \u001b[1;36m3.745129346847534\u001b[0m\n"
      ]
     },
     "metadata": {},
     "output_type": "display_data"
    },
    {
     "data": {
      "text/html": [
       "<pre style=\"white-space:pre;overflow-x:auto;line-height:normal;font-family:Menlo,'DejaVu Sans Mono',consolas,'Courier New',monospace\">Epoch<span style=\"font-weight: bold\">[</span><span style=\"color: #008080; text-decoration-color: #008080; font-weight: bold\">190</span><span style=\"font-weight: bold\">]</span> Train loss    avg: <span style=\"color: #008080; text-decoration-color: #008080; font-weight: bold\">3.5950310230255127</span>\n",
       "</pre>\n"
      ],
      "text/plain": [
       "Epoch\u001b[1m[\u001b[0m\u001b[1;36m190\u001b[0m\u001b[1m]\u001b[0m Train loss    avg: \u001b[1;36m3.5950310230255127\u001b[0m\n"
      ]
     },
     "metadata": {},
     "output_type": "display_data"
    },
    {
     "data": {
      "text/html": [
       "<pre style=\"white-space:pre;overflow-x:auto;line-height:normal;font-family:Menlo,'DejaVu Sans Mono',consolas,'Courier New',monospace\">Epoch<span style=\"font-weight: bold\">[</span><span style=\"color: #008080; text-decoration-color: #008080; font-weight: bold\">200</span><span style=\"font-weight: bold\">]</span> Train loss    avg: <span style=\"color: #008080; text-decoration-color: #008080; font-weight: bold\">3.4728283882141113</span>\n",
       "</pre>\n"
      ],
      "text/plain": [
       "Epoch\u001b[1m[\u001b[0m\u001b[1;36m200\u001b[0m\u001b[1m]\u001b[0m Train loss    avg: \u001b[1;36m3.4728283882141113\u001b[0m\n"
      ]
     },
     "metadata": {},
     "output_type": "display_data"
    },
    {
     "data": {
      "text/html": [
       "<pre style=\"white-space:pre;overflow-x:auto;line-height:normal;font-family:Menlo,'DejaVu Sans Mono',consolas,'Courier New',monospace\">Epoch<span style=\"font-weight: bold\">[</span><span style=\"color: #008080; text-decoration-color: #008080; font-weight: bold\">210</span><span style=\"font-weight: bold\">]</span> Train loss    avg: <span style=\"color: #008080; text-decoration-color: #008080; font-weight: bold\">3.3222410678863525</span>\n",
       "</pre>\n"
      ],
      "text/plain": [
       "Epoch\u001b[1m[\u001b[0m\u001b[1;36m210\u001b[0m\u001b[1m]\u001b[0m Train loss    avg: \u001b[1;36m3.3222410678863525\u001b[0m\n"
      ]
     },
     "metadata": {},
     "output_type": "display_data"
    },
    {
     "data": {
      "text/html": [
       "<pre style=\"white-space:pre;overflow-x:auto;line-height:normal;font-family:Menlo,'DejaVu Sans Mono',consolas,'Courier New',monospace\">Epoch<span style=\"font-weight: bold\">[</span><span style=\"color: #008080; text-decoration-color: #008080; font-weight: bold\">220</span><span style=\"font-weight: bold\">]</span> Train loss    avg: <span style=\"color: #008080; text-decoration-color: #008080; font-weight: bold\">3.17460560798645</span>\n",
       "</pre>\n"
      ],
      "text/plain": [
       "Epoch\u001b[1m[\u001b[0m\u001b[1;36m220\u001b[0m\u001b[1m]\u001b[0m Train loss    avg: \u001b[1;36m3.17460560798645\u001b[0m\n"
      ]
     },
     "metadata": {},
     "output_type": "display_data"
    },
    {
     "data": {
      "text/html": [
       "<pre style=\"white-space:pre;overflow-x:auto;line-height:normal;font-family:Menlo,'DejaVu Sans Mono',consolas,'Courier New',monospace\">Epoch<span style=\"font-weight: bold\">[</span><span style=\"color: #008080; text-decoration-color: #008080; font-weight: bold\">230</span><span style=\"font-weight: bold\">]</span> Train loss    avg: <span style=\"color: #008080; text-decoration-color: #008080; font-weight: bold\">3.0537891387939453</span>\n",
       "</pre>\n"
      ],
      "text/plain": [
       "Epoch\u001b[1m[\u001b[0m\u001b[1;36m230\u001b[0m\u001b[1m]\u001b[0m Train loss    avg: \u001b[1;36m3.0537891387939453\u001b[0m\n"
      ]
     },
     "metadata": {},
     "output_type": "display_data"
    },
    {
     "data": {
      "text/html": [
       "<pre style=\"white-space:pre;overflow-x:auto;line-height:normal;font-family:Menlo,'DejaVu Sans Mono',consolas,'Courier New',monospace\">Epoch<span style=\"font-weight: bold\">[</span><span style=\"color: #008080; text-decoration-color: #008080; font-weight: bold\">240</span><span style=\"font-weight: bold\">]</span> Train loss    avg: <span style=\"color: #008080; text-decoration-color: #008080; font-weight: bold\">3.0191566944122314</span>\n",
       "</pre>\n"
      ],
      "text/plain": [
       "Epoch\u001b[1m[\u001b[0m\u001b[1;36m240\u001b[0m\u001b[1m]\u001b[0m Train loss    avg: \u001b[1;36m3.0191566944122314\u001b[0m\n"
      ]
     },
     "metadata": {},
     "output_type": "display_data"
    },
    {
     "data": {
      "text/html": [
       "<pre style=\"white-space:pre;overflow-x:auto;line-height:normal;font-family:Menlo,'DejaVu Sans Mono',consolas,'Courier New',monospace\">Epoch<span style=\"font-weight: bold\">[</span><span style=\"color: #008080; text-decoration-color: #008080; font-weight: bold\">250</span><span style=\"font-weight: bold\">]</span> Train loss    avg: <span style=\"color: #008080; text-decoration-color: #008080; font-weight: bold\">2.9573516845703125</span>\n",
       "</pre>\n"
      ],
      "text/plain": [
       "Epoch\u001b[1m[\u001b[0m\u001b[1;36m250\u001b[0m\u001b[1m]\u001b[0m Train loss    avg: \u001b[1;36m2.9573516845703125\u001b[0m\n"
      ]
     },
     "metadata": {},
     "output_type": "display_data"
    },
    {
     "data": {
      "text/html": [
       "<pre style=\"white-space:pre;overflow-x:auto;line-height:normal;font-family:Menlo,'DejaVu Sans Mono',consolas,'Courier New',monospace\">Epoch<span style=\"font-weight: bold\">[</span><span style=\"color: #008080; text-decoration-color: #008080; font-weight: bold\">260</span><span style=\"font-weight: bold\">]</span> Train loss    avg: <span style=\"color: #008080; text-decoration-color: #008080; font-weight: bold\">2.9073805809020996</span>\n",
       "</pre>\n"
      ],
      "text/plain": [
       "Epoch\u001b[1m[\u001b[0m\u001b[1;36m260\u001b[0m\u001b[1m]\u001b[0m Train loss    avg: \u001b[1;36m2.9073805809020996\u001b[0m\n"
      ]
     },
     "metadata": {},
     "output_type": "display_data"
    },
    {
     "data": {
      "text/html": [
       "<pre style=\"white-space:pre;overflow-x:auto;line-height:normal;font-family:Menlo,'DejaVu Sans Mono',consolas,'Courier New',monospace\">Epoch<span style=\"font-weight: bold\">[</span><span style=\"color: #008080; text-decoration-color: #008080; font-weight: bold\">270</span><span style=\"font-weight: bold\">]</span> Train loss    avg: <span style=\"color: #008080; text-decoration-color: #008080; font-weight: bold\">2.808100461959839</span>\n",
       "</pre>\n"
      ],
      "text/plain": [
       "Epoch\u001b[1m[\u001b[0m\u001b[1;36m270\u001b[0m\u001b[1m]\u001b[0m Train loss    avg: \u001b[1;36m2.808100461959839\u001b[0m\n"
      ]
     },
     "metadata": {},
     "output_type": "display_data"
    },
    {
     "data": {
      "text/html": [
       "<pre style=\"white-space:pre;overflow-x:auto;line-height:normal;font-family:Menlo,'DejaVu Sans Mono',consolas,'Courier New',monospace\">Epoch<span style=\"font-weight: bold\">[</span><span style=\"color: #008080; text-decoration-color: #008080; font-weight: bold\">280</span><span style=\"font-weight: bold\">]</span> Train loss    avg: <span style=\"color: #008080; text-decoration-color: #008080; font-weight: bold\">2.784024238586426</span>\n",
       "</pre>\n"
      ],
      "text/plain": [
       "Epoch\u001b[1m[\u001b[0m\u001b[1;36m280\u001b[0m\u001b[1m]\u001b[0m Train loss    avg: \u001b[1;36m2.784024238586426\u001b[0m\n"
      ]
     },
     "metadata": {},
     "output_type": "display_data"
    },
    {
     "data": {
      "text/html": [
       "<pre style=\"white-space:pre;overflow-x:auto;line-height:normal;font-family:Menlo,'DejaVu Sans Mono',consolas,'Courier New',monospace\">Epoch<span style=\"font-weight: bold\">[</span><span style=\"color: #008080; text-decoration-color: #008080; font-weight: bold\">290</span><span style=\"font-weight: bold\">]</span> Train loss    avg: <span style=\"color: #008080; text-decoration-color: #008080; font-weight: bold\">2.7060749530792236</span>\n",
       "</pre>\n"
      ],
      "text/plain": [
       "Epoch\u001b[1m[\u001b[0m\u001b[1;36m290\u001b[0m\u001b[1m]\u001b[0m Train loss    avg: \u001b[1;36m2.7060749530792236\u001b[0m\n"
      ]
     },
     "metadata": {},
     "output_type": "display_data"
    },
    {
     "data": {
      "text/html": [
       "<pre style=\"white-space:pre;overflow-x:auto;line-height:normal;font-family:Menlo,'DejaVu Sans Mono',consolas,'Courier New',monospace\">Epoch<span style=\"font-weight: bold\">[</span><span style=\"color: #008080; text-decoration-color: #008080; font-weight: bold\">300</span><span style=\"font-weight: bold\">]</span> Train loss    avg: <span style=\"color: #008080; text-decoration-color: #008080; font-weight: bold\">2.695674180984497</span>\n",
       "</pre>\n"
      ],
      "text/plain": [
       "Epoch\u001b[1m[\u001b[0m\u001b[1;36m300\u001b[0m\u001b[1m]\u001b[0m Train loss    avg: \u001b[1;36m2.695674180984497\u001b[0m\n"
      ]
     },
     "metadata": {},
     "output_type": "display_data"
    },
    {
     "data": {
      "text/html": [
       "<pre style=\"white-space:pre;overflow-x:auto;line-height:normal;font-family:Menlo,'DejaVu Sans Mono',consolas,'Courier New',monospace\">Epoch<span style=\"font-weight: bold\">[</span><span style=\"color: #008080; text-decoration-color: #008080; font-weight: bold\">310</span><span style=\"font-weight: bold\">]</span> Train loss    avg: <span style=\"color: #008080; text-decoration-color: #008080; font-weight: bold\">2.628600597381592</span>\n",
       "</pre>\n"
      ],
      "text/plain": [
       "Epoch\u001b[1m[\u001b[0m\u001b[1;36m310\u001b[0m\u001b[1m]\u001b[0m Train loss    avg: \u001b[1;36m2.628600597381592\u001b[0m\n"
      ]
     },
     "metadata": {},
     "output_type": "display_data"
    },
    {
     "data": {
      "text/html": [
       "<pre style=\"white-space:pre;overflow-x:auto;line-height:normal;font-family:Menlo,'DejaVu Sans Mono',consolas,'Courier New',monospace\">Epoch<span style=\"font-weight: bold\">[</span><span style=\"color: #008080; text-decoration-color: #008080; font-weight: bold\">320</span><span style=\"font-weight: bold\">]</span> Train loss    avg: <span style=\"color: #008080; text-decoration-color: #008080; font-weight: bold\">2.547525405883789</span>\n",
       "</pre>\n"
      ],
      "text/plain": [
       "Epoch\u001b[1m[\u001b[0m\u001b[1;36m320\u001b[0m\u001b[1m]\u001b[0m Train loss    avg: \u001b[1;36m2.547525405883789\u001b[0m\n"
      ]
     },
     "metadata": {},
     "output_type": "display_data"
    },
    {
     "data": {
      "text/html": [
       "<pre style=\"white-space:pre;overflow-x:auto;line-height:normal;font-family:Menlo,'DejaVu Sans Mono',consolas,'Courier New',monospace\">Epoch<span style=\"font-weight: bold\">[</span><span style=\"color: #008080; text-decoration-color: #008080; font-weight: bold\">330</span><span style=\"font-weight: bold\">]</span> Train loss    avg: <span style=\"color: #008080; text-decoration-color: #008080; font-weight: bold\">2.4923675060272217</span>\n",
       "</pre>\n"
      ],
      "text/plain": [
       "Epoch\u001b[1m[\u001b[0m\u001b[1;36m330\u001b[0m\u001b[1m]\u001b[0m Train loss    avg: \u001b[1;36m2.4923675060272217\u001b[0m\n"
      ]
     },
     "metadata": {},
     "output_type": "display_data"
    },
    {
     "data": {
      "text/html": [
       "<pre style=\"white-space:pre;overflow-x:auto;line-height:normal;font-family:Menlo,'DejaVu Sans Mono',consolas,'Courier New',monospace\">Epoch<span style=\"font-weight: bold\">[</span><span style=\"color: #008080; text-decoration-color: #008080; font-weight: bold\">340</span><span style=\"font-weight: bold\">]</span> Train loss    avg: <span style=\"color: #008080; text-decoration-color: #008080; font-weight: bold\">2.459218740463257</span>\n",
       "</pre>\n"
      ],
      "text/plain": [
       "Epoch\u001b[1m[\u001b[0m\u001b[1;36m340\u001b[0m\u001b[1m]\u001b[0m Train loss    avg: \u001b[1;36m2.459218740463257\u001b[0m\n"
      ]
     },
     "metadata": {},
     "output_type": "display_data"
    },
    {
     "data": {
      "text/html": [
       "<pre style=\"white-space:pre;overflow-x:auto;line-height:normal;font-family:Menlo,'DejaVu Sans Mono',consolas,'Courier New',monospace\">Epoch<span style=\"font-weight: bold\">[</span><span style=\"color: #008080; text-decoration-color: #008080; font-weight: bold\">350</span><span style=\"font-weight: bold\">]</span> Train loss    avg: <span style=\"color: #008080; text-decoration-color: #008080; font-weight: bold\">2.4142439365386963</span>\n",
       "</pre>\n"
      ],
      "text/plain": [
       "Epoch\u001b[1m[\u001b[0m\u001b[1;36m350\u001b[0m\u001b[1m]\u001b[0m Train loss    avg: \u001b[1;36m2.4142439365386963\u001b[0m\n"
      ]
     },
     "metadata": {},
     "output_type": "display_data"
    },
    {
     "data": {
      "text/html": [
       "<pre style=\"white-space:pre;overflow-x:auto;line-height:normal;font-family:Menlo,'DejaVu Sans Mono',consolas,'Courier New',monospace\">Epoch<span style=\"font-weight: bold\">[</span><span style=\"color: #008080; text-decoration-color: #008080; font-weight: bold\">360</span><span style=\"font-weight: bold\">]</span> Train loss    avg: <span style=\"color: #008080; text-decoration-color: #008080; font-weight: bold\">2.4255833625793457</span>\n",
       "</pre>\n"
      ],
      "text/plain": [
       "Epoch\u001b[1m[\u001b[0m\u001b[1;36m360\u001b[0m\u001b[1m]\u001b[0m Train loss    avg: \u001b[1;36m2.4255833625793457\u001b[0m\n"
      ]
     },
     "metadata": {},
     "output_type": "display_data"
    },
    {
     "data": {
      "text/html": [
       "<pre style=\"white-space:pre;overflow-x:auto;line-height:normal;font-family:Menlo,'DejaVu Sans Mono',consolas,'Courier New',monospace\">Epoch<span style=\"font-weight: bold\">[</span><span style=\"color: #008080; text-decoration-color: #008080; font-weight: bold\">370</span><span style=\"font-weight: bold\">]</span> Train loss    avg: <span style=\"color: #008080; text-decoration-color: #008080; font-weight: bold\">2.3851184844970703</span>\n",
       "</pre>\n"
      ],
      "text/plain": [
       "Epoch\u001b[1m[\u001b[0m\u001b[1;36m370\u001b[0m\u001b[1m]\u001b[0m Train loss    avg: \u001b[1;36m2.3851184844970703\u001b[0m\n"
      ]
     },
     "metadata": {},
     "output_type": "display_data"
    },
    {
     "data": {
      "text/html": [
       "<pre style=\"white-space:pre;overflow-x:auto;line-height:normal;font-family:Menlo,'DejaVu Sans Mono',consolas,'Courier New',monospace\">Epoch<span style=\"font-weight: bold\">[</span><span style=\"color: #008080; text-decoration-color: #008080; font-weight: bold\">380</span><span style=\"font-weight: bold\">]</span> Train loss    avg: <span style=\"color: #008080; text-decoration-color: #008080; font-weight: bold\">2.3575713634490967</span>\n",
       "</pre>\n"
      ],
      "text/plain": [
       "Epoch\u001b[1m[\u001b[0m\u001b[1;36m380\u001b[0m\u001b[1m]\u001b[0m Train loss    avg: \u001b[1;36m2.3575713634490967\u001b[0m\n"
      ]
     },
     "metadata": {},
     "output_type": "display_data"
    },
    {
     "data": {
      "text/html": [
       "<pre style=\"white-space:pre;overflow-x:auto;line-height:normal;font-family:Menlo,'DejaVu Sans Mono',consolas,'Courier New',monospace\">Epoch<span style=\"font-weight: bold\">[</span><span style=\"color: #008080; text-decoration-color: #008080; font-weight: bold\">390</span><span style=\"font-weight: bold\">]</span> Train loss    avg: <span style=\"color: #008080; text-decoration-color: #008080; font-weight: bold\">2.3278913497924805</span>\n",
       "</pre>\n"
      ],
      "text/plain": [
       "Epoch\u001b[1m[\u001b[0m\u001b[1;36m390\u001b[0m\u001b[1m]\u001b[0m Train loss    avg: \u001b[1;36m2.3278913497924805\u001b[0m\n"
      ]
     },
     "metadata": {},
     "output_type": "display_data"
    },
    {
     "data": {
      "text/html": [
       "<pre style=\"white-space:pre;overflow-x:auto;line-height:normal;font-family:Menlo,'DejaVu Sans Mono',consolas,'Courier New',monospace\">Epoch<span style=\"font-weight: bold\">[</span><span style=\"color: #008080; text-decoration-color: #008080; font-weight: bold\">400</span><span style=\"font-weight: bold\">]</span> Train loss    avg: <span style=\"color: #008080; text-decoration-color: #008080; font-weight: bold\">2.3224616050720215</span>\n",
       "</pre>\n"
      ],
      "text/plain": [
       "Epoch\u001b[1m[\u001b[0m\u001b[1;36m400\u001b[0m\u001b[1m]\u001b[0m Train loss    avg: \u001b[1;36m2.3224616050720215\u001b[0m\n"
      ]
     },
     "metadata": {},
     "output_type": "display_data"
    },
    {
     "data": {
      "text/html": [
       "<pre style=\"white-space:pre;overflow-x:auto;line-height:normal;font-family:Menlo,'DejaVu Sans Mono',consolas,'Courier New',monospace\">Epoch<span style=\"font-weight: bold\">[</span><span style=\"color: #008080; text-decoration-color: #008080; font-weight: bold\">410</span><span style=\"font-weight: bold\">]</span> Train loss    avg: <span style=\"color: #008080; text-decoration-color: #008080; font-weight: bold\">2.2842040061950684</span>\n",
       "</pre>\n"
      ],
      "text/plain": [
       "Epoch\u001b[1m[\u001b[0m\u001b[1;36m410\u001b[0m\u001b[1m]\u001b[0m Train loss    avg: \u001b[1;36m2.2842040061950684\u001b[0m\n"
      ]
     },
     "metadata": {},
     "output_type": "display_data"
    },
    {
     "data": {
      "text/html": [
       "<pre style=\"white-space:pre;overflow-x:auto;line-height:normal;font-family:Menlo,'DejaVu Sans Mono',consolas,'Courier New',monospace\">Epoch<span style=\"font-weight: bold\">[</span><span style=\"color: #008080; text-decoration-color: #008080; font-weight: bold\">420</span><span style=\"font-weight: bold\">]</span> Train loss    avg: <span style=\"color: #008080; text-decoration-color: #008080; font-weight: bold\">2.2751705646514893</span>\n",
       "</pre>\n"
      ],
      "text/plain": [
       "Epoch\u001b[1m[\u001b[0m\u001b[1;36m420\u001b[0m\u001b[1m]\u001b[0m Train loss    avg: \u001b[1;36m2.2751705646514893\u001b[0m\n"
      ]
     },
     "metadata": {},
     "output_type": "display_data"
    },
    {
     "data": {
      "text/html": [
       "<pre style=\"white-space:pre;overflow-x:auto;line-height:normal;font-family:Menlo,'DejaVu Sans Mono',consolas,'Courier New',monospace\">Epoch<span style=\"font-weight: bold\">[</span><span style=\"color: #008080; text-decoration-color: #008080; font-weight: bold\">430</span><span style=\"font-weight: bold\">]</span> Train loss    avg: <span style=\"color: #008080; text-decoration-color: #008080; font-weight: bold\">2.2477447986602783</span>\n",
       "</pre>\n"
      ],
      "text/plain": [
       "Epoch\u001b[1m[\u001b[0m\u001b[1;36m430\u001b[0m\u001b[1m]\u001b[0m Train loss    avg: \u001b[1;36m2.2477447986602783\u001b[0m\n"
      ]
     },
     "metadata": {},
     "output_type": "display_data"
    },
    {
     "data": {
      "text/html": [
       "<pre style=\"white-space:pre;overflow-x:auto;line-height:normal;font-family:Menlo,'DejaVu Sans Mono',consolas,'Courier New',monospace\">Epoch<span style=\"font-weight: bold\">[</span><span style=\"color: #008080; text-decoration-color: #008080; font-weight: bold\">440</span><span style=\"font-weight: bold\">]</span> Train loss    avg: <span style=\"color: #008080; text-decoration-color: #008080; font-weight: bold\">2.2483224868774414</span>\n",
       "</pre>\n"
      ],
      "text/plain": [
       "Epoch\u001b[1m[\u001b[0m\u001b[1;36m440\u001b[0m\u001b[1m]\u001b[0m Train loss    avg: \u001b[1;36m2.2483224868774414\u001b[0m\n"
      ]
     },
     "metadata": {},
     "output_type": "display_data"
    },
    {
     "data": {
      "text/html": [
       "<pre style=\"white-space:pre;overflow-x:auto;line-height:normal;font-family:Menlo,'DejaVu Sans Mono',consolas,'Courier New',monospace\">Epoch<span style=\"font-weight: bold\">[</span><span style=\"color: #008080; text-decoration-color: #008080; font-weight: bold\">450</span><span style=\"font-weight: bold\">]</span> Train loss    avg: <span style=\"color: #008080; text-decoration-color: #008080; font-weight: bold\">2.224759101867676</span>\n",
       "</pre>\n"
      ],
      "text/plain": [
       "Epoch\u001b[1m[\u001b[0m\u001b[1;36m450\u001b[0m\u001b[1m]\u001b[0m Train loss    avg: \u001b[1;36m2.224759101867676\u001b[0m\n"
      ]
     },
     "metadata": {},
     "output_type": "display_data"
    },
    {
     "data": {
      "text/html": [
       "<pre style=\"white-space:pre;overflow-x:auto;line-height:normal;font-family:Menlo,'DejaVu Sans Mono',consolas,'Courier New',monospace\">Epoch<span style=\"font-weight: bold\">[</span><span style=\"color: #008080; text-decoration-color: #008080; font-weight: bold\">460</span><span style=\"font-weight: bold\">]</span> Train loss    avg: <span style=\"color: #008080; text-decoration-color: #008080; font-weight: bold\">2.22395920753479</span>\n",
       "</pre>\n"
      ],
      "text/plain": [
       "Epoch\u001b[1m[\u001b[0m\u001b[1;36m460\u001b[0m\u001b[1m]\u001b[0m Train loss    avg: \u001b[1;36m2.22395920753479\u001b[0m\n"
      ]
     },
     "metadata": {},
     "output_type": "display_data"
    },
    {
     "data": {
      "text/html": [
       "<pre style=\"white-space:pre;overflow-x:auto;line-height:normal;font-family:Menlo,'DejaVu Sans Mono',consolas,'Courier New',monospace\">Epoch<span style=\"font-weight: bold\">[</span><span style=\"color: #008080; text-decoration-color: #008080; font-weight: bold\">470</span><span style=\"font-weight: bold\">]</span> Train loss    avg: <span style=\"color: #008080; text-decoration-color: #008080; font-weight: bold\">2.1700809001922607</span>\n",
       "</pre>\n"
      ],
      "text/plain": [
       "Epoch\u001b[1m[\u001b[0m\u001b[1;36m470\u001b[0m\u001b[1m]\u001b[0m Train loss    avg: \u001b[1;36m2.1700809001922607\u001b[0m\n"
      ]
     },
     "metadata": {},
     "output_type": "display_data"
    },
    {
     "data": {
      "text/html": [
       "<pre style=\"white-space:pre;overflow-x:auto;line-height:normal;font-family:Menlo,'DejaVu Sans Mono',consolas,'Courier New',monospace\">Epoch<span style=\"font-weight: bold\">[</span><span style=\"color: #008080; text-decoration-color: #008080; font-weight: bold\">480</span><span style=\"font-weight: bold\">]</span> Train loss    avg: <span style=\"color: #008080; text-decoration-color: #008080; font-weight: bold\">2.1574065685272217</span>\n",
       "</pre>\n"
      ],
      "text/plain": [
       "Epoch\u001b[1m[\u001b[0m\u001b[1;36m480\u001b[0m\u001b[1m]\u001b[0m Train loss    avg: \u001b[1;36m2.1574065685272217\u001b[0m\n"
      ]
     },
     "metadata": {},
     "output_type": "display_data"
    },
    {
     "data": {
      "text/html": [
       "<pre style=\"white-space:pre;overflow-x:auto;line-height:normal;font-family:Menlo,'DejaVu Sans Mono',consolas,'Courier New',monospace\">Epoch<span style=\"font-weight: bold\">[</span><span style=\"color: #008080; text-decoration-color: #008080; font-weight: bold\">490</span><span style=\"font-weight: bold\">]</span> Train loss    avg: <span style=\"color: #008080; text-decoration-color: #008080; font-weight: bold\">2.18064284324646</span>\n",
       "</pre>\n"
      ],
      "text/plain": [
       "Epoch\u001b[1m[\u001b[0m\u001b[1;36m490\u001b[0m\u001b[1m]\u001b[0m Train loss    avg: \u001b[1;36m2.18064284324646\u001b[0m\n"
      ]
     },
     "metadata": {},
     "output_type": "display_data"
    },
    {
     "data": {
      "text/html": [
       "<pre style=\"white-space:pre;overflow-x:auto;line-height:normal;font-family:Menlo,'DejaVu Sans Mono',consolas,'Courier New',monospace\">Epoch<span style=\"font-weight: bold\">[</span><span style=\"color: #008080; text-decoration-color: #008080; font-weight: bold\">500</span><span style=\"font-weight: bold\">]</span> Train loss    avg: <span style=\"color: #008080; text-decoration-color: #008080; font-weight: bold\">2.1394267082214355</span>\n",
       "</pre>\n"
      ],
      "text/plain": [
       "Epoch\u001b[1m[\u001b[0m\u001b[1;36m500\u001b[0m\u001b[1m]\u001b[0m Train loss    avg: \u001b[1;36m2.1394267082214355\u001b[0m\n"
      ]
     },
     "metadata": {},
     "output_type": "display_data"
    },
    {
     "data": {
      "text/html": [
       "<pre style=\"white-space:pre;overflow-x:auto;line-height:normal;font-family:Menlo,'DejaVu Sans Mono',consolas,'Courier New',monospace\">Epoch<span style=\"font-weight: bold\">[</span><span style=\"color: #008080; text-decoration-color: #008080; font-weight: bold\">510</span><span style=\"font-weight: bold\">]</span> Train loss    avg: <span style=\"color: #008080; text-decoration-color: #008080; font-weight: bold\">2.1382806301116943</span>\n",
       "</pre>\n"
      ],
      "text/plain": [
       "Epoch\u001b[1m[\u001b[0m\u001b[1;36m510\u001b[0m\u001b[1m]\u001b[0m Train loss    avg: \u001b[1;36m2.1382806301116943\u001b[0m\n"
      ]
     },
     "metadata": {},
     "output_type": "display_data"
    },
    {
     "data": {
      "text/html": [
       "<pre style=\"white-space:pre;overflow-x:auto;line-height:normal;font-family:Menlo,'DejaVu Sans Mono',consolas,'Courier New',monospace\">Epoch<span style=\"font-weight: bold\">[</span><span style=\"color: #008080; text-decoration-color: #008080; font-weight: bold\">520</span><span style=\"font-weight: bold\">]</span> Train loss    avg: <span style=\"color: #008080; text-decoration-color: #008080; font-weight: bold\">2.1395716667175293</span>\n",
       "</pre>\n"
      ],
      "text/plain": [
       "Epoch\u001b[1m[\u001b[0m\u001b[1;36m520\u001b[0m\u001b[1m]\u001b[0m Train loss    avg: \u001b[1;36m2.1395716667175293\u001b[0m\n"
      ]
     },
     "metadata": {},
     "output_type": "display_data"
    },
    {
     "data": {
      "text/html": [
       "<pre style=\"white-space:pre;overflow-x:auto;line-height:normal;font-family:Menlo,'DejaVu Sans Mono',consolas,'Courier New',monospace\">Epoch<span style=\"font-weight: bold\">[</span><span style=\"color: #008080; text-decoration-color: #008080; font-weight: bold\">530</span><span style=\"font-weight: bold\">]</span> Train loss    avg: <span style=\"color: #008080; text-decoration-color: #008080; font-weight: bold\">2.1094818115234375</span>\n",
       "</pre>\n"
      ],
      "text/plain": [
       "Epoch\u001b[1m[\u001b[0m\u001b[1;36m530\u001b[0m\u001b[1m]\u001b[0m Train loss    avg: \u001b[1;36m2.1094818115234375\u001b[0m\n"
      ]
     },
     "metadata": {},
     "output_type": "display_data"
    },
    {
     "data": {
      "text/html": [
       "<pre style=\"white-space:pre;overflow-x:auto;line-height:normal;font-family:Menlo,'DejaVu Sans Mono',consolas,'Courier New',monospace\">Epoch<span style=\"font-weight: bold\">[</span><span style=\"color: #008080; text-decoration-color: #008080; font-weight: bold\">540</span><span style=\"font-weight: bold\">]</span> Train loss    avg: <span style=\"color: #008080; text-decoration-color: #008080; font-weight: bold\">2.0736804008483887</span>\n",
       "</pre>\n"
      ],
      "text/plain": [
       "Epoch\u001b[1m[\u001b[0m\u001b[1;36m540\u001b[0m\u001b[1m]\u001b[0m Train loss    avg: \u001b[1;36m2.0736804008483887\u001b[0m\n"
      ]
     },
     "metadata": {},
     "output_type": "display_data"
    },
    {
     "data": {
      "text/html": [
       "<pre style=\"white-space:pre;overflow-x:auto;line-height:normal;font-family:Menlo,'DejaVu Sans Mono',consolas,'Courier New',monospace\">Epoch<span style=\"font-weight: bold\">[</span><span style=\"color: #008080; text-decoration-color: #008080; font-weight: bold\">550</span><span style=\"font-weight: bold\">]</span> Train loss    avg: <span style=\"color: #008080; text-decoration-color: #008080; font-weight: bold\">2.064444065093994</span>\n",
       "</pre>\n"
      ],
      "text/plain": [
       "Epoch\u001b[1m[\u001b[0m\u001b[1;36m550\u001b[0m\u001b[1m]\u001b[0m Train loss    avg: \u001b[1;36m2.064444065093994\u001b[0m\n"
      ]
     },
     "metadata": {},
     "output_type": "display_data"
    },
    {
     "data": {
      "text/html": [
       "<pre style=\"white-space:pre;overflow-x:auto;line-height:normal;font-family:Menlo,'DejaVu Sans Mono',consolas,'Courier New',monospace\">Epoch<span style=\"font-weight: bold\">[</span><span style=\"color: #008080; text-decoration-color: #008080; font-weight: bold\">560</span><span style=\"font-weight: bold\">]</span> Train loss    avg: <span style=\"color: #008080; text-decoration-color: #008080; font-weight: bold\">2.058757781982422</span>\n",
       "</pre>\n"
      ],
      "text/plain": [
       "Epoch\u001b[1m[\u001b[0m\u001b[1;36m560\u001b[0m\u001b[1m]\u001b[0m Train loss    avg: \u001b[1;36m2.058757781982422\u001b[0m\n"
      ]
     },
     "metadata": {},
     "output_type": "display_data"
    },
    {
     "data": {
      "text/html": [
       "<pre style=\"white-space:pre;overflow-x:auto;line-height:normal;font-family:Menlo,'DejaVu Sans Mono',consolas,'Courier New',monospace\">Epoch<span style=\"font-weight: bold\">[</span><span style=\"color: #008080; text-decoration-color: #008080; font-weight: bold\">570</span><span style=\"font-weight: bold\">]</span> Train loss    avg: <span style=\"color: #008080; text-decoration-color: #008080; font-weight: bold\">2.003221035003662</span>\n",
       "</pre>\n"
      ],
      "text/plain": [
       "Epoch\u001b[1m[\u001b[0m\u001b[1;36m570\u001b[0m\u001b[1m]\u001b[0m Train loss    avg: \u001b[1;36m2.003221035003662\u001b[0m\n"
      ]
     },
     "metadata": {},
     "output_type": "display_data"
    },
    {
     "data": {
      "text/html": [
       "<pre style=\"white-space:pre;overflow-x:auto;line-height:normal;font-family:Menlo,'DejaVu Sans Mono',consolas,'Courier New',monospace\">Epoch<span style=\"font-weight: bold\">[</span><span style=\"color: #008080; text-decoration-color: #008080; font-weight: bold\">580</span><span style=\"font-weight: bold\">]</span> Train loss    avg: <span style=\"color: #008080; text-decoration-color: #008080; font-weight: bold\">2.018906593322754</span>\n",
       "</pre>\n"
      ],
      "text/plain": [
       "Epoch\u001b[1m[\u001b[0m\u001b[1;36m580\u001b[0m\u001b[1m]\u001b[0m Train loss    avg: \u001b[1;36m2.018906593322754\u001b[0m\n"
      ]
     },
     "metadata": {},
     "output_type": "display_data"
    },
    {
     "data": {
      "text/html": [
       "<pre style=\"white-space:pre;overflow-x:auto;line-height:normal;font-family:Menlo,'DejaVu Sans Mono',consolas,'Courier New',monospace\">Epoch<span style=\"font-weight: bold\">[</span><span style=\"color: #008080; text-decoration-color: #008080; font-weight: bold\">590</span><span style=\"font-weight: bold\">]</span> Train loss    avg: <span style=\"color: #008080; text-decoration-color: #008080; font-weight: bold\">1.987280249595642</span>\n",
       "</pre>\n"
      ],
      "text/plain": [
       "Epoch\u001b[1m[\u001b[0m\u001b[1;36m590\u001b[0m\u001b[1m]\u001b[0m Train loss    avg: \u001b[1;36m1.987280249595642\u001b[0m\n"
      ]
     },
     "metadata": {},
     "output_type": "display_data"
    },
    {
     "data": {
      "text/html": [
       "<pre style=\"white-space:pre;overflow-x:auto;line-height:normal;font-family:Menlo,'DejaVu Sans Mono',consolas,'Courier New',monospace\">Epoch<span style=\"font-weight: bold\">[</span><span style=\"color: #008080; text-decoration-color: #008080; font-weight: bold\">600</span><span style=\"font-weight: bold\">]</span> Train loss    avg: <span style=\"color: #008080; text-decoration-color: #008080; font-weight: bold\">1.96501624584198</span>\n",
       "</pre>\n"
      ],
      "text/plain": [
       "Epoch\u001b[1m[\u001b[0m\u001b[1;36m600\u001b[0m\u001b[1m]\u001b[0m Train loss    avg: \u001b[1;36m1.96501624584198\u001b[0m\n"
      ]
     },
     "metadata": {},
     "output_type": "display_data"
    },
    {
     "data": {
      "text/html": [
       "<pre style=\"white-space:pre;overflow-x:auto;line-height:normal;font-family:Menlo,'DejaVu Sans Mono',consolas,'Courier New',monospace\">Epoch<span style=\"font-weight: bold\">[</span><span style=\"color: #008080; text-decoration-color: #008080; font-weight: bold\">610</span><span style=\"font-weight: bold\">]</span> Train loss    avg: <span style=\"color: #008080; text-decoration-color: #008080; font-weight: bold\">1.9422487020492554</span>\n",
       "</pre>\n"
      ],
      "text/plain": [
       "Epoch\u001b[1m[\u001b[0m\u001b[1;36m610\u001b[0m\u001b[1m]\u001b[0m Train loss    avg: \u001b[1;36m1.9422487020492554\u001b[0m\n"
      ]
     },
     "metadata": {},
     "output_type": "display_data"
    },
    {
     "data": {
      "text/html": [
       "<pre style=\"white-space:pre;overflow-x:auto;line-height:normal;font-family:Menlo,'DejaVu Sans Mono',consolas,'Courier New',monospace\">Epoch<span style=\"font-weight: bold\">[</span><span style=\"color: #008080; text-decoration-color: #008080; font-weight: bold\">620</span><span style=\"font-weight: bold\">]</span> Train loss    avg: <span style=\"color: #008080; text-decoration-color: #008080; font-weight: bold\">1.8947010040283203</span>\n",
       "</pre>\n"
      ],
      "text/plain": [
       "Epoch\u001b[1m[\u001b[0m\u001b[1;36m620\u001b[0m\u001b[1m]\u001b[0m Train loss    avg: \u001b[1;36m1.8947010040283203\u001b[0m\n"
      ]
     },
     "metadata": {},
     "output_type": "display_data"
    },
    {
     "data": {
      "text/html": [
       "<pre style=\"white-space:pre;overflow-x:auto;line-height:normal;font-family:Menlo,'DejaVu Sans Mono',consolas,'Courier New',monospace\">Epoch<span style=\"font-weight: bold\">[</span><span style=\"color: #008080; text-decoration-color: #008080; font-weight: bold\">630</span><span style=\"font-weight: bold\">]</span> Train loss    avg: <span style=\"color: #008080; text-decoration-color: #008080; font-weight: bold\">1.8764938116073608</span>\n",
       "</pre>\n"
      ],
      "text/plain": [
       "Epoch\u001b[1m[\u001b[0m\u001b[1;36m630\u001b[0m\u001b[1m]\u001b[0m Train loss    avg: \u001b[1;36m1.8764938116073608\u001b[0m\n"
      ]
     },
     "metadata": {},
     "output_type": "display_data"
    },
    {
     "data": {
      "text/html": [
       "<pre style=\"white-space:pre;overflow-x:auto;line-height:normal;font-family:Menlo,'DejaVu Sans Mono',consolas,'Courier New',monospace\">Epoch<span style=\"font-weight: bold\">[</span><span style=\"color: #008080; text-decoration-color: #008080; font-weight: bold\">640</span><span style=\"font-weight: bold\">]</span> Train loss    avg: <span style=\"color: #008080; text-decoration-color: #008080; font-weight: bold\">1.872593879699707</span>\n",
       "</pre>\n"
      ],
      "text/plain": [
       "Epoch\u001b[1m[\u001b[0m\u001b[1;36m640\u001b[0m\u001b[1m]\u001b[0m Train loss    avg: \u001b[1;36m1.872593879699707\u001b[0m\n"
      ]
     },
     "metadata": {},
     "output_type": "display_data"
    },
    {
     "data": {
      "text/html": [
       "<pre style=\"white-space:pre;overflow-x:auto;line-height:normal;font-family:Menlo,'DejaVu Sans Mono',consolas,'Courier New',monospace\">Epoch<span style=\"font-weight: bold\">[</span><span style=\"color: #008080; text-decoration-color: #008080; font-weight: bold\">650</span><span style=\"font-weight: bold\">]</span> Train loss    avg: <span style=\"color: #008080; text-decoration-color: #008080; font-weight: bold\">1.8486113548278809</span>\n",
       "</pre>\n"
      ],
      "text/plain": [
       "Epoch\u001b[1m[\u001b[0m\u001b[1;36m650\u001b[0m\u001b[1m]\u001b[0m Train loss    avg: \u001b[1;36m1.8486113548278809\u001b[0m\n"
      ]
     },
     "metadata": {},
     "output_type": "display_data"
    },
    {
     "data": {
      "text/html": [
       "<pre style=\"white-space:pre;overflow-x:auto;line-height:normal;font-family:Menlo,'DejaVu Sans Mono',consolas,'Courier New',monospace\">Epoch<span style=\"font-weight: bold\">[</span><span style=\"color: #008080; text-decoration-color: #008080; font-weight: bold\">660</span><span style=\"font-weight: bold\">]</span> Train loss    avg: <span style=\"color: #008080; text-decoration-color: #008080; font-weight: bold\">1.833693265914917</span>\n",
       "</pre>\n"
      ],
      "text/plain": [
       "Epoch\u001b[1m[\u001b[0m\u001b[1;36m660\u001b[0m\u001b[1m]\u001b[0m Train loss    avg: \u001b[1;36m1.833693265914917\u001b[0m\n"
      ]
     },
     "metadata": {},
     "output_type": "display_data"
    },
    {
     "data": {
      "text/html": [
       "<pre style=\"white-space:pre;overflow-x:auto;line-height:normal;font-family:Menlo,'DejaVu Sans Mono',consolas,'Courier New',monospace\">Epoch<span style=\"font-weight: bold\">[</span><span style=\"color: #008080; text-decoration-color: #008080; font-weight: bold\">670</span><span style=\"font-weight: bold\">]</span> Train loss    avg: <span style=\"color: #008080; text-decoration-color: #008080; font-weight: bold\">1.8437469005584717</span>\n",
       "</pre>\n"
      ],
      "text/plain": [
       "Epoch\u001b[1m[\u001b[0m\u001b[1;36m670\u001b[0m\u001b[1m]\u001b[0m Train loss    avg: \u001b[1;36m1.8437469005584717\u001b[0m\n"
      ]
     },
     "metadata": {},
     "output_type": "display_data"
    },
    {
     "data": {
      "text/html": [
       "<pre style=\"white-space:pre;overflow-x:auto;line-height:normal;font-family:Menlo,'DejaVu Sans Mono',consolas,'Courier New',monospace\">Epoch<span style=\"font-weight: bold\">[</span><span style=\"color: #008080; text-decoration-color: #008080; font-weight: bold\">680</span><span style=\"font-weight: bold\">]</span> Train loss    avg: <span style=\"color: #008080; text-decoration-color: #008080; font-weight: bold\">1.8056073188781738</span>\n",
       "</pre>\n"
      ],
      "text/plain": [
       "Epoch\u001b[1m[\u001b[0m\u001b[1;36m680\u001b[0m\u001b[1m]\u001b[0m Train loss    avg: \u001b[1;36m1.8056073188781738\u001b[0m\n"
      ]
     },
     "metadata": {},
     "output_type": "display_data"
    },
    {
     "data": {
      "text/html": [
       "<pre style=\"white-space:pre;overflow-x:auto;line-height:normal;font-family:Menlo,'DejaVu Sans Mono',consolas,'Courier New',monospace\">Epoch<span style=\"font-weight: bold\">[</span><span style=\"color: #008080; text-decoration-color: #008080; font-weight: bold\">690</span><span style=\"font-weight: bold\">]</span> Train loss    avg: <span style=\"color: #008080; text-decoration-color: #008080; font-weight: bold\">1.764814853668213</span>\n",
       "</pre>\n"
      ],
      "text/plain": [
       "Epoch\u001b[1m[\u001b[0m\u001b[1;36m690\u001b[0m\u001b[1m]\u001b[0m Train loss    avg: \u001b[1;36m1.764814853668213\u001b[0m\n"
      ]
     },
     "metadata": {},
     "output_type": "display_data"
    },
    {
     "data": {
      "text/html": [
       "<pre style=\"white-space:pre;overflow-x:auto;line-height:normal;font-family:Menlo,'DejaVu Sans Mono',consolas,'Courier New',monospace\">Epoch<span style=\"font-weight: bold\">[</span><span style=\"color: #008080; text-decoration-color: #008080; font-weight: bold\">700</span><span style=\"font-weight: bold\">]</span> Train loss    avg: <span style=\"color: #008080; text-decoration-color: #008080; font-weight: bold\">1.7861812114715576</span>\n",
       "</pre>\n"
      ],
      "text/plain": [
       "Epoch\u001b[1m[\u001b[0m\u001b[1;36m700\u001b[0m\u001b[1m]\u001b[0m Train loss    avg: \u001b[1;36m1.7861812114715576\u001b[0m\n"
      ]
     },
     "metadata": {},
     "output_type": "display_data"
    },
    {
     "data": {
      "text/html": [
       "<pre style=\"white-space:pre;overflow-x:auto;line-height:normal;font-family:Menlo,'DejaVu Sans Mono',consolas,'Courier New',monospace\">Epoch<span style=\"font-weight: bold\">[</span><span style=\"color: #008080; text-decoration-color: #008080; font-weight: bold\">710</span><span style=\"font-weight: bold\">]</span> Train loss    avg: <span style=\"color: #008080; text-decoration-color: #008080; font-weight: bold\">1.757551670074463</span>\n",
       "</pre>\n"
      ],
      "text/plain": [
       "Epoch\u001b[1m[\u001b[0m\u001b[1;36m710\u001b[0m\u001b[1m]\u001b[0m Train loss    avg: \u001b[1;36m1.757551670074463\u001b[0m\n"
      ]
     },
     "metadata": {},
     "output_type": "display_data"
    },
    {
     "data": {
      "text/html": [
       "<pre style=\"white-space:pre;overflow-x:auto;line-height:normal;font-family:Menlo,'DejaVu Sans Mono',consolas,'Courier New',monospace\">Epoch<span style=\"font-weight: bold\">[</span><span style=\"color: #008080; text-decoration-color: #008080; font-weight: bold\">720</span><span style=\"font-weight: bold\">]</span> Train loss    avg: <span style=\"color: #008080; text-decoration-color: #008080; font-weight: bold\">1.7200764417648315</span>\n",
       "</pre>\n"
      ],
      "text/plain": [
       "Epoch\u001b[1m[\u001b[0m\u001b[1;36m720\u001b[0m\u001b[1m]\u001b[0m Train loss    avg: \u001b[1;36m1.7200764417648315\u001b[0m\n"
      ]
     },
     "metadata": {},
     "output_type": "display_data"
    },
    {
     "data": {
      "text/html": [
       "<pre style=\"white-space:pre;overflow-x:auto;line-height:normal;font-family:Menlo,'DejaVu Sans Mono',consolas,'Courier New',monospace\">Epoch<span style=\"font-weight: bold\">[</span><span style=\"color: #008080; text-decoration-color: #008080; font-weight: bold\">730</span><span style=\"font-weight: bold\">]</span> Train loss    avg: <span style=\"color: #008080; text-decoration-color: #008080; font-weight: bold\">1.7189090251922607</span>\n",
       "</pre>\n"
      ],
      "text/plain": [
       "Epoch\u001b[1m[\u001b[0m\u001b[1;36m730\u001b[0m\u001b[1m]\u001b[0m Train loss    avg: \u001b[1;36m1.7189090251922607\u001b[0m\n"
      ]
     },
     "metadata": {},
     "output_type": "display_data"
    },
    {
     "data": {
      "text/html": [
       "<pre style=\"white-space:pre;overflow-x:auto;line-height:normal;font-family:Menlo,'DejaVu Sans Mono',consolas,'Courier New',monospace\">Epoch<span style=\"font-weight: bold\">[</span><span style=\"color: #008080; text-decoration-color: #008080; font-weight: bold\">740</span><span style=\"font-weight: bold\">]</span> Train loss    avg: <span style=\"color: #008080; text-decoration-color: #008080; font-weight: bold\">1.6995402574539185</span>\n",
       "</pre>\n"
      ],
      "text/plain": [
       "Epoch\u001b[1m[\u001b[0m\u001b[1;36m740\u001b[0m\u001b[1m]\u001b[0m Train loss    avg: \u001b[1;36m1.6995402574539185\u001b[0m\n"
      ]
     },
     "metadata": {},
     "output_type": "display_data"
    },
    {
     "data": {
      "text/html": [
       "<pre style=\"white-space:pre;overflow-x:auto;line-height:normal;font-family:Menlo,'DejaVu Sans Mono',consolas,'Courier New',monospace\">Epoch<span style=\"font-weight: bold\">[</span><span style=\"color: #008080; text-decoration-color: #008080; font-weight: bold\">750</span><span style=\"font-weight: bold\">]</span> Train loss    avg: <span style=\"color: #008080; text-decoration-color: #008080; font-weight: bold\">1.7124497890472412</span>\n",
       "</pre>\n"
      ],
      "text/plain": [
       "Epoch\u001b[1m[\u001b[0m\u001b[1;36m750\u001b[0m\u001b[1m]\u001b[0m Train loss    avg: \u001b[1;36m1.7124497890472412\u001b[0m\n"
      ]
     },
     "metadata": {},
     "output_type": "display_data"
    },
    {
     "data": {
      "text/html": [
       "<pre style=\"white-space:pre;overflow-x:auto;line-height:normal;font-family:Menlo,'DejaVu Sans Mono',consolas,'Courier New',monospace\">Epoch<span style=\"font-weight: bold\">[</span><span style=\"color: #008080; text-decoration-color: #008080; font-weight: bold\">760</span><span style=\"font-weight: bold\">]</span> Train loss    avg: <span style=\"color: #008080; text-decoration-color: #008080; font-weight: bold\">1.7183703184127808</span>\n",
       "</pre>\n"
      ],
      "text/plain": [
       "Epoch\u001b[1m[\u001b[0m\u001b[1;36m760\u001b[0m\u001b[1m]\u001b[0m Train loss    avg: \u001b[1;36m1.7183703184127808\u001b[0m\n"
      ]
     },
     "metadata": {},
     "output_type": "display_data"
    },
    {
     "data": {
      "text/html": [
       "<pre style=\"white-space:pre;overflow-x:auto;line-height:normal;font-family:Menlo,'DejaVu Sans Mono',consolas,'Courier New',monospace\">Epoch<span style=\"font-weight: bold\">[</span><span style=\"color: #008080; text-decoration-color: #008080; font-weight: bold\">770</span><span style=\"font-weight: bold\">]</span> Train loss    avg: <span style=\"color: #008080; text-decoration-color: #008080; font-weight: bold\">1.6860554218292236</span>\n",
       "</pre>\n"
      ],
      "text/plain": [
       "Epoch\u001b[1m[\u001b[0m\u001b[1;36m770\u001b[0m\u001b[1m]\u001b[0m Train loss    avg: \u001b[1;36m1.6860554218292236\u001b[0m\n"
      ]
     },
     "metadata": {},
     "output_type": "display_data"
    },
    {
     "data": {
      "text/html": [
       "<pre style=\"white-space:pre;overflow-x:auto;line-height:normal;font-family:Menlo,'DejaVu Sans Mono',consolas,'Courier New',monospace\">Epoch<span style=\"font-weight: bold\">[</span><span style=\"color: #008080; text-decoration-color: #008080; font-weight: bold\">780</span><span style=\"font-weight: bold\">]</span> Train loss    avg: <span style=\"color: #008080; text-decoration-color: #008080; font-weight: bold\">1.6725183725357056</span>\n",
       "</pre>\n"
      ],
      "text/plain": [
       "Epoch\u001b[1m[\u001b[0m\u001b[1;36m780\u001b[0m\u001b[1m]\u001b[0m Train loss    avg: \u001b[1;36m1.6725183725357056\u001b[0m\n"
      ]
     },
     "metadata": {},
     "output_type": "display_data"
    },
    {
     "data": {
      "text/html": [
       "<pre style=\"white-space:pre;overflow-x:auto;line-height:normal;font-family:Menlo,'DejaVu Sans Mono',consolas,'Courier New',monospace\">Epoch<span style=\"font-weight: bold\">[</span><span style=\"color: #008080; text-decoration-color: #008080; font-weight: bold\">790</span><span style=\"font-weight: bold\">]</span> Train loss    avg: <span style=\"color: #008080; text-decoration-color: #008080; font-weight: bold\">1.667292594909668</span>\n",
       "</pre>\n"
      ],
      "text/plain": [
       "Epoch\u001b[1m[\u001b[0m\u001b[1;36m790\u001b[0m\u001b[1m]\u001b[0m Train loss    avg: \u001b[1;36m1.667292594909668\u001b[0m\n"
      ]
     },
     "metadata": {},
     "output_type": "display_data"
    },
    {
     "data": {
      "text/html": [
       "<pre style=\"white-space:pre;overflow-x:auto;line-height:normal;font-family:Menlo,'DejaVu Sans Mono',consolas,'Courier New',monospace\">Epoch<span style=\"font-weight: bold\">[</span><span style=\"color: #008080; text-decoration-color: #008080; font-weight: bold\">800</span><span style=\"font-weight: bold\">]</span> Train loss    avg: <span style=\"color: #008080; text-decoration-color: #008080; font-weight: bold\">1.6659419536590576</span>\n",
       "</pre>\n"
      ],
      "text/plain": [
       "Epoch\u001b[1m[\u001b[0m\u001b[1;36m800\u001b[0m\u001b[1m]\u001b[0m Train loss    avg: \u001b[1;36m1.6659419536590576\u001b[0m\n"
      ]
     },
     "metadata": {},
     "output_type": "display_data"
    }
   ],
   "source": [
    "\n",
    "mts.features = getContrastiveFeatures(\n",
    "    mts.X.transpose([0, 2, 1]), mts.y, \n",
    "    epochs = EPOCHS, \n",
    "    batch_size = BATCH_SIZE,\n",
    "    loss_metric= LOSS,\n",
    "    mode = MODE, \n",
    "    encoding_size = ENC_SIZE,\n",
    "    conv_filters = CONV_FILTERS,\n",
    "    conv_kernels = CONV_KERNELS,\n",
    "    use_KL_regularizer = True,\n",
    "    feat_size=FEAT_SIZE,\n",
    ")"
   ]
  },
  {
   "cell_type": "code",
   "execution_count": null,
   "metadata": {},
   "outputs": [],
   "source": []
  },
  {
   "cell_type": "code",
   "execution_count": 73,
   "metadata": {},
   "outputs": [
    {
     "data": {
      "text/plain": [
       "<matplotlib.collections.PathCollection at 0x7fe079fc5400>"
      ]
     },
     "execution_count": 73,
     "metadata": {},
     "output_type": "execute_result"
    },
    {
     "data": {
      "image/png": "[encoded data removed]",
      "text/plain": [
       "<Figure size 640x480 with 1 Axes>"
      ]
     },
     "metadata": {},
     "output_type": "display_data"
    }
   ],
   "source": [
    "import umap\n",
    "from sklearn.manifold import TSNE\n",
    "import matplotlib.pyplot as plt\n",
    "reducer = umap.UMAP(n_components=2, metric='euclidean', n_neighbors=30)\n",
    "# reducer = UMAP(n_components=2)\n",
    "# reducer = UMAP(n_components=2, n_neighbors=10, min_dist=0.1)\n",
    "# reducer = TSNE(n_components=2, metric='euclidean')\n",
    "\n",
    "# coords = reducer.fit_transform(mts.features, y=mts.y)\n",
    "coords = reducer.fit_transform(mts.features)\n",
    "plt.scatter(coords[:, 0], coords[:, 1])"
   ]
  },
  {
   "cell_type": "code",
   "execution_count": 66,
   "metadata": {},
   "outputs": [],
   "source": [
    "# year_ids[year_ids==2011]"
   ]
  },
  {
   "cell_type": "code",
   "execution_count": 67,
   "metadata": {},
   "outputs": [],
   "source": [
    "# mts.features.min()\n",
    "from sklearn.decomposition import PCA\n",
    "d = mts.X.shape[2]\n",
    "n = mts.X.shape[0]\n",
    "\n",
    "features = mts.features.reshape([n, int(mts.features.shape[1] / d), d])\n",
    "dfeatures = np.zeros([n, d])\n",
    "for i in range(d):\n",
    "    reducer = PCA(n_components=1)\n",
    "    dfeatures[:,i] = reducer.fit_transform(features[:, :, i]).squeeze()\n"
   ]
  },
  {
   "cell_type": "code",
   "execution_count": 68,
   "metadata": {},
   "outputs": [],
   "source": [
    "# dfeatures.shape\n",
    "# year_ids.shape\n",
    "# dfeatures[year_ids==2011].shape\n",
    "# dfeatures[year_ids!=2011].shape"
   ]
  },
  {
   "cell_type": "code",
   "execution_count": null,
   "metadata": {},
   "outputs": [],
   "source": [
    "\n",
    "\n"
   ]
  },
  {
   "cell_type": "code",
   "execution_count": 61,
   "metadata": {},
   "outputs": [],
   "source": [
    "years = np.unique(mts.y)\n",
    "group_ids = mts.y\n",
    "\n",
    "fcs = []\n",
    "\n",
    "for target in years:\n",
    "\n",
    "    ccpca = CCPCA(n_components=1)\n",
    "    # target = 2012\n",
    "    ccpca.fit(\n",
    "        dfeatures[group_ids==target],\n",
    "        dfeatures[group_ids!=target],\n",
    "        var_thres_ratio=0.5,\n",
    "        n_alphas=40,\n",
    "        max_log_alpha=0.5,\n",
    "    )\n",
    "\n",
    "\n",
    "    coords2 = ccpca.transform(dfeatures[group_ids==target])\n",
    "    # coords2 = ccpca.transform(dfeatures[year_ids!=2011])\n",
    "    # coords2 = ccpca.transform(dfeatures)\n",
    "    best_alpha = ccpca.get_best_alpha()\n",
    "    cpca_fcs = ccpca.get_feat_contribs()\n",
    "    fcs.append(cpca_fcs)\n",
    "    # print(cpca_fcs)\n",
    "    # print(best_alpha)\n",
    "    # plt.scatter(coords2[:, 0], coords2[:, 1])\n"
   ]
  },
  {
   "cell_type": "code",
   "execution_count": 62,
   "metadata": {},
   "outputs": [
    {
     "name": "stdout",
     "output_type": "stream",
     "text": [
      "[0 1 2 3]\n"
     ]
    },
    {
     "data": {
      "text/plain": [
       "<BarContainer object of 4 artists>"
      ]
     },
     "execution_count": 62,
     "metadata": {},
     "output_type": "execute_result"
    },
    {
     "data": {
      "image/png": "[encoded data removed]",
      "text/plain": [
       "<Figure size 640x480 with 1 Axes>"
      ]
     },
     "metadata": {},
     "output_type": "display_data"
    }
   ],
   "source": [
    "print(years)\n",
    "fcs = np.array(fcs)\n",
    "\n",
    "fig = plt.figure()\n",
    "ax = fig.add_axes([0,0,1,1])\n",
    "X = np.array([i for i in range (len(years))])\n",
    "ax.bar(X + 0.00, fcs[:,0], color = 'b', width = 0.25)\n",
    "ax.bar(X + 0.25, fcs[:,1], color = 'g', width = 0.25)\n",
    "ax.bar(X + 0.50, fcs[:,2], color = 'r', width = 0.25)\n",
    "# plt.bar(, fcs[:,0])"
   ]
  },
  {
   "cell_type": "code",
   "execution_count": 63,
   "metadata": {},
   "outputs": [
    {
     "name": "stdout",
     "output_type": "stream",
     "text": [
      "mts shape: N: 40 -  T: 100 - D: 12\n"
     ]
    }
   ],
   "source": [
    "from server.source.storage import MTSStorage\n",
    "\n",
    "# storage = MTSStorage(os.path.join(VIS_PATH ,'ontario_months.npy'))    \n",
    "storage = MTSStorage(os.path.join(VIS_PATH ,'ontario_days.npy'))    \n",
    "# storage.delete()\n",
    "storage.load()\n",
    "\n",
    "dimensions = [str(dim) for dim in range(mts.D)]\n",
    "\n",
    "data = np.concatenate([mts.X_orig, mts.X], axis=2) \n",
    "storage.add_mts(\n",
    "    'dataset' , data , \n",
    "    dimensions = dimensions + [dim+ '_norm' for dim in dimensions], \n",
    "    labels = {'class': mts.y},\n",
    "    labelsNames = {'class': classLabels},\n",
    "    coords = {\n",
    "        'coords': coords,\n",
    "    },\n",
    "    sampling=True,\n",
    "    n_samples= N_VIZ_SAMPLES\n",
    ")\n",
    "\n",
    "storage.save()"
   ]
  },
  {
   "cell_type": "code",
   "execution_count": null,
   "metadata": {},
   "outputs": [],
   "source": []
  }
 ],
 "metadata": {
  "kernelspec": {
   "display_name": "Python 3.8.13 ('clearn')",
   "language": "python",
   "name": "python3"
  },
  "language_info": {
   "codemirror_mode": {
    "name": "ipython",
    "version": 3
   },
   "file_extension": ".py",
   "mimetype": "text/x-python",
   "name": "python",
   "nbconvert_exporter": "python",
   "pygments_lexer": "ipython3",
   "version": "3.8.13"
  },
  "orig_nbformat": 4,
  "vscode": {
   "interpreter": {
    "hash": "9b358327185eebe25ac8832d1d1e0e28e2841cec82efe29413dcc7b9341241d3"
   }
  }
 },
 "nbformat": 4,
 "nbformat_minor": 2
}
