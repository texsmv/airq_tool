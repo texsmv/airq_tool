{
 "cells": [
  {
   "cell_type": "code",
   "execution_count": 1,
   "metadata": {},
   "outputs": [
    {
     "name": "stderr",
     "output_type": "stream",
     "text": [
      "/home/texs/anaconda3/envs/clearn/lib/python3.8/site-packages/tqdm/auto.py:22: TqdmWarning: IProgress not found. Please update jupyter and ipywidgets. See https://ipywidgets.readthedocs.io/en/stable/user_install.html\n",
      "  from .autonotebook import tqdm as notebook_tqdm\n"
     ]
    }
   ],
   "source": [
    "import torch\n",
    "import torch.nn as nn\n",
    "import numpy as np\n",
    "from source.featlearn.autoencoder_lr import AutoencoderFL\n"
   ]
  },
  {
   "cell_type": "code",
   "execution_count": 26,
   "metadata": {},
   "outputs": [
    {
     "name": "stdout",
     "output_type": "stream",
     "text": [
      "28\n",
      "0\n",
      "0\n",
      "4\n"
     ]
    }
   ],
   "source": [
    "length = 28\n",
    "channels = 5\n",
    "x =  torch.zeros([32, length, channels])\n",
    "ae = CNN_AE( channels, length, 5, out_channels=128, backbone=True)"
   ]
  },
  {
   "cell_type": "code",
   "execution_count": 25,
   "metadata": {},
   "outputs": [
    {
     "name": "stdout",
     "output_type": "stream",
     "text": [
      "torch.Size([32, 5, 365])\n",
      "torch.Size([32, 32, 182])\n",
      "torch.Size([32, 64, 91])\n",
      "torch.Size([32, 128, 45])\n",
      "torch.Size([32, 64, 90])\n",
      "True\n",
      "False\n",
      "True\n",
      "Paddinbg?\n",
      "torch.Size([32, 64, 91])\n",
      "Hereeeeeee?\n",
      "torch.Size([32, 32, 182])\n",
      "Here?\n",
      "Paddinbg?\n",
      "torch.Size([32, 5, 365])\n",
      "torch.Size([32, 5, 365])\n",
      "torch.Size([32, 5760])\n"
     ]
    }
   ],
   "source": [
    "enc = ae(x)\n",
    "print(enc.shape)\n",
    "# 364 % 4 != 0"
   ]
  },
  {
   "cell_type": "code",
   "execution_count": null,
   "metadata": {},
   "outputs": [],
   "source": []
  },
  {
   "cell_type": "code",
   "execution_count": null,
   "metadata": {},
   "outputs": [],
   "source": []
  }
 ],
 "metadata": {
  "kernelspec": {
   "display_name": "clearn",
   "language": "python",
   "name": "python3"
  },
  "language_info": {
   "codemirror_mode": {
    "name": "ipython",
    "version": 3
   },
   "file_extension": ".py",
   "mimetype": "text/x-python",
   "name": "python",
   "nbconvert_exporter": "python",
   "pygments_lexer": "ipython3",
   "version": "3.8.13 (default, Mar 28 2022, 11:38:47) \n[GCC 7.5.0]"
  },
  "orig_nbformat": 4,
  "vscode": {
   "interpreter": {
    "hash": "9b358327185eebe25ac8832d1d1e0e28e2841cec82efe29413dcc7b9341241d3"
   }
  }
 },
 "nbformat": 4,
 "nbformat_minor": 2
}
