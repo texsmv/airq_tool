{
 "cells": [
  {
   "cell_type": "code",
   "execution_count": 1,
   "metadata": {},
   "outputs": [
    {
     "name": "stderr",
     "output_type": "stream",
     "text": [
      "/home/texs/anaconda3/envs/contrastive/lib/python3.10/site-packages/tqdm/auto.py:22: TqdmWarning: IProgress not found. Please update jupyter and ipywidgets. See https://ipywidgets.readthedocs.io/en/stable/user_install.html\n",
      "  from .autonotebook import tqdm as notebook_tqdm\n"
     ]
    }
   ],
   "source": [
    "%reload_ext autoreload\n",
    "%autoreload 2\n",
    "\n",
    "import os\n",
    "import numpy as np\n",
    "from source.tserie import TSerie\n",
    "from source.read_ontario import read_ontario\n",
    "from source.utils import commonWindows\n",
    "from source.torch_utils import getContrastiveFeatures\n",
    "\n",
    "VIS_PATH = 'visualizations'\n",
    "SMOOTH = 10 # 8 -1 if you don't want to smooth the data otherwise the size of the smooth window\n",
    "LOSS = 'SimCLR' # SupConLoss | SimCLR\n",
    "MODE = 'subsequences' # subsequences - shape\n",
    "# MODE = 'shape' # subsequences - shape\n",
    "EPOCHS = 80\n",
    "BATCH_SIZE = 64\n",
    "ENC_SIZE = 8 # 8\n",
    "POLLUTANTS = ['SO2'] # ['NO', 'NOx', 'NO2', 'SO2', 'CO', 'O3', 'PM25']\n",
    "CONV_FILTERS = [16, 32]\n",
    "CONV_KERNELS = [7, 7]\n",
    "UMAP_NEIGHBORS = 15\n",
    "N_VIZ_SAMPLES = 600"
   ]
  },
  {
   "cell_type": "markdown",
   "metadata": {},
   "source": [
    "# Months case"
   ]
  },
  {
   "cell_type": "code",
   "execution_count": 2,
   "metadata": {},
   "outputs": [],
   "source": [
    "windows_map = read_ontario(granularity='daily', cache=True)\n",
    "pollutans = POLLUTANTS\n",
    "# windows, dates, station_ids, stations = commonWindows(windows_map, pollutans)"
   ]
  },
  {
   "cell_type": "code",
   "execution_count": 3,
   "metadata": {},
   "outputs": [],
   "source": [
    "# windows_map['SO2'][13001]['2010-1'][0].shape\n",
    "# windows_map\n",
    "windows, dates, station_ids, stations = commonWindows(windows_map, pollutans)"
   ]
  },
  {
   "cell_type": "markdown",
   "metadata": {},
   "source": [
    "windows.shape"
   ]
  },
  {
   "cell_type": "code",
   "execution_count": 4,
   "metadata": {},
   "outputs": [],
   "source": [
    "# windows.shape\n",
    "# dates.shape"
   ]
  },
  {
   "cell_type": "code",
   "execution_count": 5,
   "metadata": {},
   "outputs": [],
   "source": [
    "month_ids = np.array([date.month for date in dates])\n",
    "year_ids = np.array([date.year for date in dates])\n",
    "\n",
    "\n",
    "stations_map = {int(i):str(stations[i]) for i in range(len(stations))}\n",
    "months_map = {int(i):str(i) for i in range(1, 13)}\n",
    "years_map = {int(year) : str(year) for year in year_ids}"
   ]
  },
  {
   "cell_type": "code",
   "execution_count": 6,
   "metadata": {},
   "outputs": [
    {
     "name": "stdout",
     "output_type": "stream",
     "text": [
      "Loaded mts - N: 1381, T: 24, D: 1 \n"
     ]
    }
   ],
   "source": [
    "mts = TSerie(X=windows, y = station_ids)\n",
    "\n",
    "if SMOOTH > 0:\n",
    "    mts.smooth(window_size=SMOOTH)\n",
    "\n",
    "if MODE == 'shape':\n",
    "    mts.shapeNormalizization()\n",
    "else:\n",
    "    mts.minMaxNormalizization()\n"
   ]
  },
  {
   "cell_type": "code",
   "execution_count": 8,
   "metadata": {},
   "outputs": [
    {
     "name": "stdout",
     "output_type": "stream",
     "text": [
      "Subsequence length: 22\n",
      "Epoch[1] Train loss    avg: 2.3032945665446194\n",
      "Epoch[10] Train loss    avg: 1.7321271896362305\n",
      "Epoch[20] Train loss    avg: 1.7154255671934648\n",
      "Epoch[30] Train loss    avg: 1.661868686025793\n",
      "Epoch[40] Train loss    avg: 1.6726299199191006\n",
      "Epoch[50] Train loss    avg: 1.6323192715644836\n",
      "Epoch[60] Train loss    avg: 1.6097199591723355\n",
      "Epoch[70] Train loss    avg: 1.6150366176258435\n",
      "Epoch[80] Train loss    avg: 1.5836562731049277\n"
     ]
    }
   ],
   "source": [
    "\n",
    "mts.features = getContrastiveFeatures(\n",
    "    mts.X.transpose([0, 2, 1]), mts.y, \n",
    "    epochs = EPOCHS, \n",
    "    batch_size = BATCH_SIZE, \n",
    "    loss_metric= LOSS, \n",
    "    mode = MODE, \n",
    "    encoding_size = ENC_SIZE,\n",
    "    conv_filters = CONV_FILTERS,\n",
    "    conv_kernels = CONV_KERNELS,\n",
    "    use_KL_regularizer = False,\n",
    ")"
   ]
  },
  {
   "cell_type": "code",
   "execution_count": 9,
   "metadata": {},
   "outputs": [
    {
     "name": "stderr",
     "output_type": "stream",
     "text": [
      "OMP: Info #276: omp_set_nested routine deprecated, please use omp_set_max_active_levels instead.\n"
     ]
    },
    {
     "data": {
      "text/plain": [
       "<matplotlib.collections.PathCollection at 0x7f97790f6290>"
      ]
     },
     "execution_count": 9,
     "metadata": {},
     "output_type": "execute_result"
    },
    {
     "data": {
      "image/png": "[encoded data removed]",
      "text/plain": [
       "<Figure size 432x288 with 1 Axes>"
      ]
     },
     "metadata": {
      "needs_background": "light"
     },
     "output_type": "display_data"
    }
   ],
   "source": [
    "import umap\n",
    "from sklearn.manifold import TSNE\n",
    "import matplotlib.pyplot as plt\n",
    "reducer = umap.UMAP(n_components=2, metric='euclidean', n_neighbors=30)\n",
    "# reducer = TSNE(n_components=2, metric='euclidean')\n",
    "\n",
    "coords = reducer.fit_transform(mts.features)\n",
    "plt.scatter(coords[:, 0], coords[:, 1])"
   ]
  },
  {
   "cell_type": "code",
   "execution_count": 10,
   "metadata": {},
   "outputs": [
    {
     "name": "stdout",
     "output_type": "stream",
     "text": [
      "mts shape: N: 1381 -  T: 24 - D: 2\n"
     ]
    }
   ],
   "source": [
    "from server.source.storage import MTSStorage\n",
    "\n",
    "# storage = MTSStorage(os.path.join(VIS_PATH ,'ontario_months.npy'))    \n",
    "storage = MTSStorage(os.path.join(VIS_PATH ,'ontario_days.npy'))    \n",
    "# storage.delete()\n",
    "storage.load()\n",
    "\n",
    "dimensions = pollutans\n",
    "data = np.concatenate([mts.X_orig, mts.X], axis=2) \n",
    "storage.add_mts(\n",
    "    '_'.join(POLLUTANTS) , data , \n",
    "    dimensions = dimensions + [dim+ '_norm' for dim in dimensions], \n",
    "    labels = {'station': station_ids, 'months': month_ids, 'years': year_ids}, \n",
    "    labelsNames={'station': stations_map, 'months': months_map, 'years': years_map}, \n",
    "    coords = {\n",
    "        'coords': coords,\n",
    "    },\n",
    "    sampling=False,\n",
    "    n_samples= N_VIZ_SAMPLES\n",
    ")\n",
    "\n",
    "storage.save()"
   ]
  },
  {
   "cell_type": "code",
   "execution_count": null,
   "metadata": {},
   "outputs": [
    {
     "name": "stdout",
     "output_type": "stream",
     "text": [
      "/home/texs/Documentos/AirQuality/airqviz\n"
     ]
    }
   ],
   "source": [
    "!pwd"
   ]
  },
  {
   "cell_type": "code",
   "execution_count": null,
   "metadata": {},
   "outputs": [],
   "source": []
  }
 ],
 "metadata": {
  "kernelspec": {
   "display_name": "Python 3.10.6 64-bit",
   "language": "python",
   "name": "python3"
  },
  "language_info": {
   "codemirror_mode": {
    "name": "ipython",
    "version": 3
   },
   "file_extension": ".py",
   "mimetype": "text/x-python",
   "name": "python",
   "nbconvert_exporter": "python",
   "pygments_lexer": "ipython3",
   "version": "3.10.6"
  },
  "orig_nbformat": 4,
  "vscode": {
   "interpreter": {
    "hash": "916dbcbb3f70747c44a77c7bcd40155683ae19c65e1c03b4aa3499c5328201f1"
   }
  }
 },
 "nbformat": 4,
 "nbformat_minor": 2
}
