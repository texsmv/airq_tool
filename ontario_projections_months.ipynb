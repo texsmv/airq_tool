{
 "cells": [
  {
   "cell_type": "code",
   "execution_count": 4,
   "metadata": {},
   "outputs": [],
   "source": [
    "%reload_ext autoreload\n",
    "%autoreload 2\n",
    "\n",
    "import os\n",
    "import numpy as np\n",
    "from source.tserie import TSerie\n",
    "from source.read_ontario import read_ontario, read_ontario_stations\n",
    "from source.read_hongkong import read_hongkong\n",
    "from source.utils import commonWindows\n",
    "from source.torch_utils import getContrastiveFeatures\n",
    "from cuml.manifold import UMAP\n",
    "from source.featlearn.byol import BYOL\n",
    "# , BarlowTwins\n",
    "# from ccpca import CCPCA\n",
    "\n",
    "VIS_PATH = 'visualizations'\n",
    "SMOOTH = 8 # 8 -1 if you don't want to smooth the data otherwise the size of the smooth window\n",
    "LOSS = 'SimCLR' # SupConLoss | SimCLR\n",
    "MODE = 'subsequences' # subsequences - shape\n",
    "# MODE = 'shape' # subsequences - shape\n",
    "EPOCHS = 150\n",
    "BATCH_SIZE = 128\n",
    "ENC_SIZE = 8 # 8\n",
    "# POLLUTANTS = ['PM25', 'CO', 'NO'] # ['NO', 'NOx', 'NO2', 'SO2', 'CO', 'O3', 'PM25']\n",
    "POLLUTANTS = ['FSP', 'O3'] # ['NO', 'NOx', 'NO2', 'SO2', 'CO', 'O3', 'PM25']\n",
    "CONV_FILTERS = [16, 32]\n",
    "CONV_KERNELS = [7, 7]\n",
    "UMAP_NEIGHBORS = 15\n",
    "N_VIZ_SAMPLES = 600"
   ]
  },
  {
   "cell_type": "markdown",
   "metadata": {},
   "source": [
    "# Months case"
   ]
  },
  {
   "cell_type": "code",
   "execution_count": 20,
   "metadata": {},
   "outputs": [],
   "source": [
    "# windows_map = read_ontario(granularity='months', cache=True)\n",
    "# windows_map = read_hongkong(granularity='years', cache=True)\n",
    "# windows_map = read_hongkong(granularity='months', cache=True)\n",
    "windows_map = read_hongkong(granularity='daily', cache=True)\n",
    "\n",
    "# data_info = read_ontario_stations()\n",
    "pollutans = POLLUTANTS\n",
    "# windows, dates, station_ids, stations = commonWindows(windows_map, pollutans)"
   ]
  },
  {
   "cell_type": "code",
   "execution_count": 21,
   "metadata": {},
   "outputs": [],
   "source": [
    "# windows_map['SO2'][13001]['2010-1'][0].shape\n",
    "# windows_map\n",
    "windows, dates, station_ids, stations = commonWindows(windows_map, pollutans)"
   ]
  },
  {
   "cell_type": "markdown",
   "metadata": {},
   "source": [
    "windows.shape"
   ]
  },
  {
   "cell_type": "code",
   "execution_count": 4,
   "metadata": {},
   "outputs": [],
   "source": [
    "# windows.shape\n",
    "# data_info\n",
    "# station_ids\n",
    "# stations\n",
    "# dates.shape\n",
    "\n",
    "# data_info\n",
    "# data_info[str(stations[station_ids[0]])]"
   ]
  },
  {
   "cell_type": "code",
   "execution_count": 15,
   "metadata": {},
   "outputs": [],
   "source": [
    "month_ids = np.array([date.month for date in dates])\n",
    "year_ids = np.array([date.year for date in dates])\n",
    "\n",
    "\n",
    "stations_map = {int(i):str(stations[i]) for i in range(len(stations))}\n",
    "months_map = {int(i):str(i) for i in range(1, 13)}\n",
    "years_map = {int(year) : str(year) for year in year_ids}\n",
    "# coords = np.array([\n",
    "#     [\n",
    "#         float(data_info[str(stations[station_ids[i]])]['latitude']), \n",
    "#         float(data_info[str(stations[station_ids[i]])]['longitude'])\n",
    "#     ]\n",
    "#     for i in range(len(windows))\n",
    "# ])"
   ]
  },
  {
   "cell_type": "code",
   "execution_count": 6,
   "metadata": {},
   "outputs": [],
   "source": [
    "# dates\n",
    "import datetime\n",
    "\n",
    "epoch = datetime.datetime.utcfromtimestamp(0)\n",
    "\n",
    "def unix_time_millis(dt):\n",
    "    return (dt - epoch).total_seconds() * 1000.0\n",
    "\n",
    "# unix_time_millis(dates[0])\n",
    "\n",
    "timeInMs = np.array([unix_time_millis(d) for d in dates])\n",
    "timeInMs = np.expand_dims(timeInMs, axis=1)\n"
   ]
  },
  {
   "cell_type": "code",
   "execution_count": 22,
   "metadata": {},
   "outputs": [
    {
     "name": "stdout",
     "output_type": "stream",
     "text": [
      "Loaded mts - N: 43913, T: 24, D: 2 \n",
      "(43913, 2, 24)\n"
     ]
    }
   ],
   "source": [
    "mts = TSerie(X=windows, y = station_ids)\n",
    "\n",
    "if SMOOTH > 0:\n",
    "    mts.smooth(window_size=SMOOTH)\n",
    "\n",
    "if MODE == 'shape':\n",
    "    mts.shapeNormalizization()\n",
    "else:\n",
    "    mts.minMaxNormalizization()\n"
   ]
  },
  {
   "cell_type": "code",
   "execution_count": 23,
   "metadata": {},
   "outputs": [
    {
     "data": {
      "text/html": [
       "<pre style=\"white-space:pre;overflow-x:auto;line-height:normal;font-family:Menlo,'DejaVu Sans Mono',consolas,'Courier New',monospace\">Using CNN backbone\n",
       "</pre>\n"
      ],
      "text/plain": [
       "Using CNN backbone\n"
      ]
     },
     "metadata": {},
     "output_type": "display_data"
    },
    {
     "name": "stdout",
     "output_type": "stream",
     "text": [
      "Epoch[1] Train loss    avg: -0.9423309027859308\n",
      "Epoch[1] Val loss    avg: -0.9911427191325597\n",
      "Epoch[5] Train loss    avg: -0.9993325871171304\n",
      "Epoch[5] Val loss    avg: -0.9976640599114555\n",
      "Epoch[10] Train loss    avg: -0.9994955253832548\n",
      "Epoch[10] Val loss    avg: -0.9984192388398306\n"
     ]
    },
    {
     "data": {
      "text/plain": [
       "(<source.utils.ValueLogger at 0x7f0a1eb4e9d0>,\n",
       " <source.utils.ValueLogger at 0x7f0a1eb4ea30>)"
      ]
     },
     "execution_count": 23,
     "metadata": {},
     "output_type": "execute_result"
    }
   ],
   "source": [
    "from source.featlearn.autoencoder_lr import AutoencoderFL, DCEC, VAE_FL\n",
    "from sklearn.model_selection import train_test_split\n",
    "\n",
    "# cae = AutoencoderFL(mts.D, mts.T, feature_size=10)\n",
    "# cae = DCEC(mts.D, mts.T, feature_size=10, n_clusters=5)\n",
    "# cae = VAE_FL(mts.D, mts.T, feature_size=10)\n",
    "\n",
    "X_train, X_val = train_test_split(mts.X.transpose([0, 2, 1]))\n",
    "\n",
    "\n",
    "# model = BarlowTwins(mts.D, mts.T, feature_size=10, aug_type='noise', encoding_size=6, use_frequency=False)\n",
    "model = BYOL(mts.D, mts.T, feature_size=7, aug_type='noise', encoding_size=6, use_frequency=False)\n",
    "\n",
    "# model.fit(mts.X, epochs=1400, batch_size=320)\n",
    "# model.fit(X_train, epochs=200, batch_size=320, X_val=X_val)\n",
    "model.fit(X_train, epochs=10, batch_size=320, X_val=X_val)\n",
    "# cae.fit(mts.X, epochs=1000, batch_size=320, gamma=0)"
   ]
  },
  {
   "cell_type": "code",
   "execution_count": 25,
   "metadata": {},
   "outputs": [],
   "source": [
    "from source.featlearn.autoencoder_lr import AutoencoderFL, DCEC\n",
    "\n",
    "\n",
    "\n",
    "\n",
    "# cae.fit(mts.X, epochs=1000, batch_size=320, gamma=100)\n",
    "# rec, mts.features, clusters = cae.encode(mts.X)\n",
    "# rec, mts.features = cae.encode(mts.X)\n",
    "\n",
    "\n",
    "mts.features = model.encode(mts.X.transpose([0, 2, 1]))\n"
   ]
  },
  {
   "cell_type": "code",
   "execution_count": 23,
   "metadata": {},
   "outputs": [
    {
     "data": {
      "text/plain": [
       "0.0"
      ]
     },
     "execution_count": 23,
     "metadata": {},
     "output_type": "execute_result"
    }
   ],
   "source": [
    "# mts.features.min()"
   ]
  },
  {
   "cell_type": "code",
   "execution_count": 10,
   "metadata": {},
   "outputs": [],
   "source": [
    "# def jitter(x, sigma=0.01):\n",
    "#     # https://arxiv.org/pdf/1706.00527.pdf\n",
    "#     return x + np.random.normal(loc=0., scale=sigma, size=x.shape)\n",
    "\n",
    "# time = X_train[0]\n",
    "# time = jitter(time)\n",
    "# plt.plot(time[0])"
   ]
  },
  {
   "cell_type": "code",
   "execution_count": 11,
   "metadata": {},
   "outputs": [],
   "source": [
    "from sklearn.metrics import pairwise_distances\n",
    "\n",
    "delta = 0.\n",
    "beta = 0.\n",
    "\n",
    "space_DM = pairwise_distances(coords)\n",
    "space_DM = space_DM / np.max(space_DM)\n",
    "\n",
    "feature_DM = pairwise_distances(mts.features, metric='euclidean')\n",
    "feature_DM = feature_DM / np.max(feature_DM)\n",
    "\n",
    "\n",
    "time_DM = pairwise_distances(timeInMs)\n",
    "time_DM = time_DM / np.max(time_DM)\n",
    "\n",
    "# distM = feature_DM * (1 - delta) + space_DM * delta\n",
    "distM = feature_DM * (1 - (delta + beta)) + space_DM * delta + time_DM * beta\n",
    "# mts.features = np.concatenate([mts.features, coords], axis=1)"
   ]
  },
  {
   "cell_type": "code",
   "execution_count": 12,
   "metadata": {},
   "outputs": [],
   "source": [
    "# # # clusters\n",
    "# preds = np.argmax(clusters, axis=1)\n",
    "# print(np.unique(preds, return_counts=True))"
   ]
  },
  {
   "cell_type": "code",
   "execution_count": 26,
   "metadata": {},
   "outputs": [
    {
     "data": {
      "text/plain": [
       "<matplotlib.collections.PathCollection at 0x7f08a63d4d60>"
      ]
     },
     "execution_count": 26,
     "metadata": {},
     "output_type": "execute_result"
    },
    {
     "data": {
      "image/png": "[encoded data removed]",
      "text/plain": [
       "<Figure size 640x480 with 1 Axes>"
      ]
     },
     "metadata": {},
     "output_type": "display_data"
    }
   ],
   "source": [
    "import umap\n",
    "from sklearn.manifold import TSNE\n",
    "import matplotlib.pyplot as plt\n",
    "reducer = umap.UMAP(n_components=2, metric='euclidean')\n",
    "# reducer = umap.UMAP(n_components=2, metric='precomputed')\n",
    "# reducer = TSNE(n_components=2, metric='precomputed')\n",
    "\n",
    "# reducer = UMAP(n_components=2, n_neighbors=10, min_dist=0.1, metric='cosine')\n",
    "# reducer = UMAP(n_components=2, n_neighbors=10, min_dist=0.1)\n",
    "# reducer = TSNE(n_components=2, metric='euclidean')\n",
    "\n",
    "# coords = reducer.fit_transform(mts.features, y = month_ids)\n",
    "coords = reducer.fit_transform(mts.features)\n",
    "# coords = reducer.fit_transform(distM)\n",
    "\n",
    "# plt.scatter(coords[:, 0], coords[:, 1], c=preds)\n",
    "plt.scatter(coords[:, 0], coords[:, 1])"
   ]
  },
  {
   "cell_type": "code",
   "execution_count": 14,
   "metadata": {},
   "outputs": [],
   "source": [
    "import matplotlib.pyplot as plt\n",
    "\n",
    "def plot1d(x, x2=None, x3=None, ylim=(-1, 1), save_file=\"\"):\n",
    "    import matplotlib.pyplot as plt\n",
    "\n",
    "    plt.figure(figsize=(6, 3))\n",
    "    steps = np.arange(x.shape[0])\n",
    "    plt.plot(steps, x)\n",
    "    if x2 is not None:\n",
    "        plt.plot(steps, x2)\n",
    "    if x3 is not None:\n",
    "        plt.plot(steps, x3)\n",
    "    plt.xlim(0, x.shape[0])\n",
    "    # plt.ylim(ylim)\n",
    "    plt.tight_layout()\n",
    "    if save_file:\n",
    "        plt.savefig(save_file, \"\")\n",
    "    else:\n",
    "        plt.show()\n",
    "    return"
   ]
  },
  {
   "cell_type": "code",
   "execution_count": 15,
   "metadata": {},
   "outputs": [
    {
     "data": {
      "image/png": "[encoded data removed]",
      "text/plain": [
       "<Figure size 600x300 with 1 Axes>"
      ]
     },
     "metadata": {},
     "output_type": "display_data"
    }
   ],
   "source": [
    "pos = 90\n",
    "plot1d(mts.X[pos])"
   ]
  },
  {
   "cell_type": "code",
   "execution_count": 16,
   "metadata": {},
   "outputs": [
    {
     "ename": "NameError",
     "evalue": "name 'rec' is not defined",
     "output_type": "error",
     "traceback": [
      "\u001b[0;31m---------------------------------------------------------------------------\u001b[0m",
      "\u001b[0;31mNameError\u001b[0m                                 Traceback (most recent call last)",
      "Cell \u001b[0;32mIn [16], line 1\u001b[0m\n\u001b[0;32m----> 1\u001b[0m plot1d(rec[pos])\n",
      "\u001b[0;31mNameError\u001b[0m: name 'rec' is not defined"
     ]
    }
   ],
   "source": [
    "plot1d(rec[pos])"
   ]
  },
  {
   "cell_type": "code",
   "execution_count": null,
   "metadata": {},
   "outputs": [],
   "source": []
  }
 ],
 "metadata": {
  "kernelspec": {
   "display_name": "Python 3.8.13 ('clearn')",
   "language": "python",
   "name": "python3"
  },
  "language_info": {
   "codemirror_mode": {
    "name": "ipython",
    "version": 3
   },
   "file_extension": ".py",
   "mimetype": "text/x-python",
   "name": "python",
   "nbconvert_exporter": "python",
   "pygments_lexer": "ipython3",
   "version": "3.8.13 (default, Mar 28 2022, 11:38:47) \n[GCC 7.5.0]"
  },
  "orig_nbformat": 4,
  "vscode": {
   "interpreter": {
    "hash": "9b358327185eebe25ac8832d1d1e0e28e2841cec82efe29413dcc7b9341241d3"
   }
  }
 },
 "nbformat": 4,
 "nbformat_minor": 2
}
