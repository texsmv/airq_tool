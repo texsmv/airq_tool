{
 "cells": [
  {
   "cell_type": "code",
   "execution_count": 68,
   "metadata": {},
   "outputs": [],
   "source": [
    "%reload_ext autoreload\n",
    "%autoreload 2\n",
    "\n",
    "import os\n",
    "import numpy as np\n",
    "from source.tserie import TSerie\n",
    "from source.read_ontario import read_ontario, read_ontario_stations\n",
    "from source.utils import commonWindows\n",
    "from source.torch_utils import getContrastiveFeatures\n",
    "from cuml.manifold import UMAP\n",
    "# from ccpca import CCPCA\n",
    "\n",
    "VIS_PATH = 'visualizations'\n",
    "SMOOTH = 8 # 8 -1 if you don't want to smooth the data otherwise the size of the smooth window\n",
    "LOSS = 'SimCLR' # SupConLoss | SimCLR\n",
    "MODE = 'subsequences' # subsequences - shape\n",
    "# MODE = 'shape' # subsequences - shape\n",
    "EPOCHS = 40\n",
    "BATCH_SIZE = 128\n",
    "ENC_SIZE = 8 # 8\n",
    "POLLUTANTS = ['PM25', 'CO', 'NO'] # ['NO', 'NOx', 'NO2', 'SO2', 'CO', 'O3', 'PM25']\n",
    "CONV_FILTERS = [16, 32]\n",
    "CONV_KERNELS = [7, 7]\n",
    "UMAP_NEIGHBORS = 15\n",
    "N_VIZ_SAMPLES = 600"
   ]
  },
  {
   "cell_type": "markdown",
   "metadata": {},
   "source": [
    "# Months case"
   ]
  },
  {
   "cell_type": "code",
   "execution_count": 82,
   "metadata": {},
   "outputs": [],
   "source": [
    "windows_map = read_ontario(granularity='months', cache=True)\n",
    "\n",
    "data_info = read_ontario_stations()\n",
    "pollutans = POLLUTANTS\n",
    "# windows, dates, station_ids, stations = commonWindows(windows_map, pollutans)"
   ]
  },
  {
   "cell_type": "code",
   "execution_count": 83,
   "metadata": {},
   "outputs": [],
   "source": [
    "# windows_map['SO2'][13001]['2010-1'][0].shape\n",
    "# windows_map\n",
    "windows, dates, station_ids, stations = commonWindows(windows_map, pollutans)"
   ]
  },
  {
   "cell_type": "markdown",
   "metadata": {},
   "source": [
    "windows.shape"
   ]
  },
  {
   "cell_type": "code",
   "execution_count": 84,
   "metadata": {},
   "outputs": [
    {
     "data": {
      "text/plain": [
       "(1172, 28, 3)"
      ]
     },
     "execution_count": 84,
     "metadata": {},
     "output_type": "execute_result"
    }
   ],
   "source": [
    "windows.shape\n",
    "# dates.shape\n",
    "\n",
    "# data_info\n",
    "# data_info[str(stations[station_ids[0]])]"
   ]
  },
  {
   "cell_type": "code",
   "execution_count": 85,
   "metadata": {},
   "outputs": [],
   "source": [
    "month_ids = np.array([date.month for date in dates])\n",
    "year_ids = np.array([date.year for date in dates])\n",
    "\n",
    "\n",
    "stations_map = {int(i):str(stations[i]) for i in range(len(stations))}\n",
    "months_map = {int(i):str(i) for i in range(1, 13)}\n",
    "years_map = {int(year) : str(year) for year in year_ids}\n",
    "coords = np.array([\n",
    "    [\n",
    "        float(data_info[str(stations[station_ids[i]])]['latitude']), \n",
    "        float(data_info[str(stations[station_ids[i]])]['longitude'])\n",
    "    ]\n",
    "    for i in range(len(windows))\n",
    "])"
   ]
  },
  {
   "cell_type": "code",
   "execution_count": 87,
   "metadata": {},
   "outputs": [],
   "source": [
    "# dates\n",
    "import datetime\n",
    "\n",
    "epoch = datetime.datetime.utcfromtimestamp(0)\n",
    "\n",
    "def unix_time_millis(dt):\n",
    "    return (dt - epoch).total_seconds() * 1000.0\n",
    "\n",
    "# unix_time_millis(dates[0])\n",
    "\n",
    "timeInMs = np.array([unix_time_millis(d) for d in dates])\n",
    "timeInMs = np.expand_dims(timeInMs, axis=1)\n"
   ]
  },
  {
   "cell_type": "code",
   "execution_count": 88,
   "metadata": {},
   "outputs": [
    {
     "name": "stdout",
     "output_type": "stream",
     "text": [
      "Loaded mts - N: 1172, T: 28, D: 3 \n",
      "(1172, 3, 28)\n"
     ]
    }
   ],
   "source": [
    "mts = TSerie(X=windows, y = station_ids)\n",
    "\n",
    "if SMOOTH > 0:\n",
    "    mts.smooth(window_size=SMOOTH)\n",
    "\n",
    "if MODE == 'shape':\n",
    "    mts.shapeNormalizization()\n",
    "else:\n",
    "    mts.minMaxNormalizization()\n"
   ]
  },
  {
   "cell_type": "code",
   "execution_count": 89,
   "metadata": {},
   "outputs": [
    {
     "name": "stdout",
     "output_type": "stream",
     "text": [
      "Epoch[1] Train loss    avg: 0.4190531298518181\n",
      "Epoch[4] Train loss    avg: 0.24491605907678604\n",
      "Epoch[8] Train loss    avg: 0.059915941208601\n",
      "Epoch[12] Train loss    avg: 0.02264886489138007\n",
      "Epoch[16] Train loss    avg: 0.013711354229599237\n",
      "Epoch[20] Train loss    avg: 0.011317889904603362\n",
      "Epoch[24] Train loss    avg: 0.00959704164415598\n",
      "Epoch[28] Train loss    avg: 0.008815326262265444\n",
      "Epoch[32] Train loss    avg: 0.0081191121134907\n",
      "Epoch[36] Train loss    avg: 0.007548663415946066\n",
      "Epoch[40] Train loss    avg: 0.0075478547951206565\n",
      "Epoch[44] Train loss    avg: 0.006631406955420971\n",
      "Epoch[48] Train loss    avg: 0.006281948764808476\n",
      "Epoch[52] Train loss    avg: 0.006101790349930525\n",
      "Epoch[56] Train loss    avg: 0.005577389616519213\n",
      "Epoch[60] Train loss    avg: 0.005475252168253064\n",
      "Epoch[64] Train loss    avg: 0.0052521832985803485\n",
      "Epoch[68] Train loss    avg: 0.005263335187919438\n",
      "Epoch[72] Train loss    avg: 0.004773351247422397\n",
      "Epoch[76] Train loss    avg: 0.005095896311104298\n",
      "Epoch[80] Train loss    avg: 0.004281827714294195\n",
      "Epoch[84] Train loss    avg: 0.004390305606648326\n",
      "Epoch[88] Train loss    avg: 0.0041245000320486724\n",
      "Epoch[92] Train loss    avg: 0.0040151437860913575\n",
      "Epoch[96] Train loss    avg: 0.0038436065078713\n",
      "Epoch[100] Train loss    avg: 0.003976588661316782\n",
      "Epoch[104] Train loss    avg: 0.004081096674781293\n",
      "Epoch[108] Train loss    avg: 0.0034527344978414476\n",
      "Epoch[112] Train loss    avg: 0.0041647961479611695\n",
      "Epoch[116] Train loss    avg: 0.0033917734981514513\n",
      "Epoch[120] Train loss    avg: 0.003163225657772273\n",
      "Epoch[124] Train loss    avg: 0.0032510925666429102\n",
      "Epoch[128] Train loss    avg: 0.0033577331923879683\n",
      "Epoch[132] Train loss    avg: 0.0029258651193231344\n",
      "Epoch[136] Train loss    avg: 0.0030358710209839046\n",
      "Epoch[140] Train loss    avg: 0.0029495282215066254\n",
      "Epoch[144] Train loss    avg: 0.0027935252292081714\n",
      "Epoch[148] Train loss    avg: 0.002649329893756658\n",
      "Epoch[152] Train loss    avg: 0.0029568179161287844\n",
      "Epoch[156] Train loss    avg: 0.0029646697803400457\n",
      "Epoch[160] Train loss    avg: 0.003031920292414725\n",
      "Epoch[164] Train loss    avg: 0.002531350066419691\n",
      "Epoch[168] Train loss    avg: 0.0025811749510467052\n",
      "Epoch[172] Train loss    avg: 0.0024303696118295193\n",
      "Epoch[176] Train loss    avg: 0.002289408992510289\n",
      "Epoch[180] Train loss    avg: 0.002301020547747612\n",
      "Epoch[184] Train loss    avg: 0.0029413450974971056\n",
      "Epoch[188] Train loss    avg: 0.0022802793537266552\n",
      "Epoch[192] Train loss    avg: 0.0021836943342350423\n",
      "Epoch[196] Train loss    avg: 0.0026126382290385664\n",
      "Epoch[200] Train loss    avg: 0.002552469144575298\n",
      "Epoch[204] Train loss    avg: 0.0023153619840741158\n",
      "Epoch[208] Train loss    avg: 0.0021398034295998514\n",
      "Epoch[212] Train loss    avg: 0.0020377604523673654\n",
      "Epoch[216] Train loss    avg: 0.002014973491895944\n",
      "Epoch[220] Train loss    avg: 0.0020237816497683525\n",
      "Epoch[224] Train loss    avg: 0.0023436810297425836\n",
      "Epoch[228] Train loss    avg: 0.001937136083142832\n",
      "Epoch[232] Train loss    avg: 0.002083118335576728\n",
      "Epoch[236] Train loss    avg: 0.00225959561066702\n",
      "Epoch[240] Train loss    avg: 0.0019554966711439192\n",
      "Epoch[244] Train loss    avg: 0.00207150774076581\n",
      "Epoch[248] Train loss    avg: 0.0019514979503583163\n",
      "Epoch[252] Train loss    avg: 0.002134657872375101\n",
      "Epoch[256] Train loss    avg: 0.0018981820612680167\n",
      "Epoch[260] Train loss    avg: 0.0018043454911094159\n",
      "Epoch[264] Train loss    avg: 0.0017763817158993334\n",
      "Epoch[268] Train loss    avg: 0.0018354064086452127\n",
      "Epoch[272] Train loss    avg: 0.0018203948275186121\n",
      "Epoch[276] Train loss    avg: 0.002118298871209845\n",
      "Epoch[280] Train loss    avg: 0.0016927059914451092\n",
      "Epoch[284] Train loss    avg: 0.0017082064878195524\n",
      "Epoch[288] Train loss    avg: 0.0016865163634065539\n",
      "Epoch[292] Train loss    avg: 0.0017966250015888363\n",
      "Epoch[296] Train loss    avg: 0.0019738229166250676\n",
      "Epoch[300] Train loss    avg: 0.0016145799309015274\n",
      "Epoch[304] Train loss    avg: 0.0017988819745369256\n",
      "Epoch[308] Train loss    avg: 0.00166550453286618\n",
      "Epoch[312] Train loss    avg: 0.001700227556284517\n",
      "Epoch[316] Train loss    avg: 0.0018347454897593707\n",
      "Epoch[320] Train loss    avg: 0.0018633209401741624\n",
      "Epoch[324] Train loss    avg: 0.0017697506118565798\n",
      "Epoch[328] Train loss    avg: 0.0017578762490302324\n",
      "Epoch[332] Train loss    avg: 0.0016000185278244317\n",
      "Epoch[336] Train loss    avg: 0.0015541223401669413\n",
      "Epoch[340] Train loss    avg: 0.0015041659644339234\n",
      "Epoch[344] Train loss    avg: 0.0016290670610032976\n",
      "Epoch[348] Train loss    avg: 0.0015407053288072348\n",
      "Epoch[352] Train loss    avg: 0.0015705842524766922\n",
      "Epoch[356] Train loss    avg: 0.0016350024088751525\n",
      "Epoch[360] Train loss    avg: 0.0016622450202703476\n",
      "Epoch[364] Train loss    avg: 0.0015721801028121263\n",
      "Epoch[368] Train loss    avg: 0.0017725595971569419\n",
      "Epoch[372] Train loss    avg: 0.0016459460312034935\n",
      "Epoch[376] Train loss    avg: 0.0015145497163757682\n",
      "Epoch[380] Train loss    avg: 0.0014613402890972793\n",
      "Epoch[384] Train loss    avg: 0.00150104975909926\n",
      "Epoch[388] Train loss    avg: 0.0016055563755799085\n",
      "Epoch[392] Train loss    avg: 0.0014722818741574883\n",
      "Epoch[396] Train loss    avg: 0.0015240073262248188\n",
      "Epoch[400] Train loss    avg: 0.0014399512147065252\n",
      "Epoch[404] Train loss    avg: 0.0014130888157524168\n",
      "Epoch[408] Train loss    avg: 0.001444246678147465\n",
      "Epoch[412] Train loss    avg: 0.0014282911142800003\n",
      "Epoch[416] Train loss    avg: 0.0014517339586745948\n",
      "Epoch[420] Train loss    avg: 0.0016924067458603531\n",
      "Epoch[424] Train loss    avg: 0.0014061207184568048\n",
      "Epoch[428] Train loss    avg: 0.0013036288728471845\n",
      "Epoch[432] Train loss    avg: 0.0014275469293352216\n",
      "Epoch[436] Train loss    avg: 0.0014369078853633255\n",
      "Epoch[440] Train loss    avg: 0.0013631341280415654\n",
      "Epoch[444] Train loss    avg: 0.0013287915498949587\n",
      "Epoch[448] Train loss    avg: 0.0013190195022616535\n",
      "Epoch[452] Train loss    avg: 0.0013704457669518888\n",
      "Epoch[456] Train loss    avg: 0.0013933378213550895\n",
      "Epoch[460] Train loss    avg: 0.0012610719713848084\n",
      "Epoch[464] Train loss    avg: 0.0014110608317423612\n",
      "Epoch[468] Train loss    avg: 0.0012613457220140845\n",
      "Epoch[472] Train loss    avg: 0.0012894612736999989\n",
      "Epoch[476] Train loss    avg: 0.001339616224868223\n",
      "Epoch[480] Train loss    avg: 0.001306105958065018\n",
      "Epoch[484] Train loss    avg: 0.001518164703156799\n",
      "Epoch[488] Train loss    avg: 0.0012145027285441756\n",
      "Epoch[492] Train loss    avg: 0.0012454262468963861\n",
      "Epoch[496] Train loss    avg: 0.0012225068639963865\n",
      "Epoch[500] Train loss    avg: 0.0013158843794371933\n",
      "Epoch[504] Train loss    avg: 0.0012408140464685857\n",
      "Epoch[508] Train loss    avg: 0.0013691940694116056\n",
      "Epoch[512] Train loss    avg: 0.0012641740904655308\n",
      "Epoch[516] Train loss    avg: 0.0012064905022270977\n",
      "Epoch[520] Train loss    avg: 0.001190482813399285\n",
      "Epoch[524] Train loss    avg: 0.0018488104396965355\n",
      "Epoch[528] Train loss    avg: 0.0012142312771175057\n",
      "Epoch[532] Train loss    avg: 0.001188283204101026\n",
      "Epoch[536] Train loss    avg: 0.0013196679356042296\n",
      "Epoch[540] Train loss    avg: 0.0011840993247460574\n",
      "Epoch[544] Train loss    avg: 0.0011311166745144874\n",
      "Epoch[548] Train loss    avg: 0.001095587242161855\n",
      "Epoch[552] Train loss    avg: 0.0012309285230003297\n",
      "Epoch[556] Train loss    avg: 0.0012061659945175052\n",
      "Epoch[560] Train loss    avg: 0.0010821330797625706\n",
      "Epoch[564] Train loss    avg: 0.001325066405115649\n",
      "Epoch[568] Train loss    avg: 0.0011171000078320503\n",
      "Epoch[572] Train loss    avg: 0.001224617735715583\n",
      "Epoch[576] Train loss    avg: 0.0010559481452219188\n",
      "Epoch[580] Train loss    avg: 0.0009853877127170563\n",
      "Epoch[584] Train loss    avg: 0.0011130407074233517\n",
      "Epoch[588] Train loss    avg: 0.0010363237233832479\n",
      "Epoch[592] Train loss    avg: 0.0011762284848373383\n",
      "Epoch[596] Train loss    avg: 0.0010171489120693877\n",
      "Epoch[600] Train loss    avg: 0.0012963366461917758\n",
      "Epoch[604] Train loss    avg: 0.001040610033669509\n",
      "Epoch[608] Train loss    avg: 0.0010586825519567356\n",
      "Epoch[612] Train loss    avg: 0.0011329062981531024\n",
      "Epoch[616] Train loss    avg: 0.0010032717400463298\n",
      "Epoch[620] Train loss    avg: 0.0010856862500077114\n",
      "Epoch[624] Train loss    avg: 0.0010529665305512026\n",
      "Epoch[628] Train loss    avg: 0.00102940782380756\n",
      "Epoch[632] Train loss    avg: 0.0010469316475791857\n",
      "Epoch[636] Train loss    avg: 0.0010441470221849158\n",
      "Epoch[640] Train loss    avg: 0.0009544247732264921\n",
      "Epoch[644] Train loss    avg: 0.0009714820771478117\n",
      "Epoch[648] Train loss    avg: 0.0009453778620809317\n",
      "Epoch[652] Train loss    avg: 0.0009636448958190158\n",
      "Epoch[656] Train loss    avg: 0.0010191352921538055\n",
      "Epoch[660] Train loss    avg: 0.000906397559447214\n",
      "Epoch[664] Train loss    avg: 0.0009896225965349004\n",
      "Epoch[668] Train loss    avg: 0.0009158210741588846\n",
      "Epoch[672] Train loss    avg: 0.0009274077019654214\n",
      "Epoch[676] Train loss    avg: 0.0009028882632264867\n",
      "Epoch[680] Train loss    avg: 0.0009462070011068135\n",
      "Epoch[684] Train loss    avg: 0.0010949532443191856\n",
      "Epoch[688] Train loss    avg: 0.000939278572332114\n",
      "Epoch[692] Train loss    avg: 0.0009222549706464633\n",
      "Epoch[696] Train loss    avg: 0.0008449452434433624\n",
      "Epoch[700] Train loss    avg: 0.0008830695733195171\n",
      "Epoch[704] Train loss    avg: 0.0009188974363496527\n",
      "Epoch[708] Train loss    avg: 0.0009380572009831667\n",
      "Epoch[712] Train loss    avg: 0.0009277054923586547\n",
      "Epoch[716] Train loss    avg: 0.000916398988920264\n",
      "Epoch[720] Train loss    avg: 0.0008618687716079876\n",
      "Epoch[724] Train loss    avg: 0.001257529787835665\n",
      "Epoch[728] Train loss    avg: 0.0009387314785271883\n",
      "Epoch[732] Train loss    avg: 0.0008471720502711833\n",
      "Epoch[736] Train loss    avg: 0.000862843997310847\n",
      "Epoch[740] Train loss    avg: 0.0008336553873959929\n",
      "Epoch[744] Train loss    avg: 0.0010169193847104907\n",
      "Epoch[748] Train loss    avg: 0.0008702122286194935\n",
      "Epoch[752] Train loss    avg: 0.0010094185126945376\n",
      "Epoch[756] Train loss    avg: 0.0008134132367558777\n",
      "Epoch[760] Train loss    avg: 0.0008297251188196242\n",
      "Epoch[764] Train loss    avg: 0.0008445852872682735\n",
      "Epoch[768] Train loss    avg: 0.0008161277510225773\n",
      "Epoch[772] Train loss    avg: 0.0010191358160227537\n",
      "Epoch[776] Train loss    avg: 0.0008497997187077999\n",
      "Epoch[780] Train loss    avg: 0.000818636966869235\n",
      "Epoch[784] Train loss    avg: 0.0008517401874996722\n",
      "Epoch[788] Train loss    avg: 0.0008968604088295251\n",
      "Epoch[792] Train loss    avg: 0.0008249640231952071\n",
      "Epoch[796] Train loss    avg: 0.0009784688736544922\n",
      "Epoch[800] Train loss    avg: 0.0008631006494397298\n",
      "Epoch[804] Train loss    avg: 0.0011080911790486425\n",
      "Epoch[808] Train loss    avg: 0.0009798031678656116\n",
      "Epoch[812] Train loss    avg: 0.0008662252366775647\n",
      "Epoch[816] Train loss    avg: 0.0008495106885675341\n",
      "Epoch[820] Train loss    avg: 0.0008005996351130307\n",
      "Epoch[824] Train loss    avg: 0.00100144931639079\n",
      "Epoch[828] Train loss    avg: 0.0008211860695155337\n",
      "Epoch[832] Train loss    avg: 0.0026691819075495005\n",
      "Epoch[836] Train loss    avg: 0.0009976042929338291\n",
      "Epoch[840] Train loss    avg: 0.0012322163820499554\n",
      "Epoch[844] Train loss    avg: 0.0008616134145995602\n",
      "Epoch[848] Train loss    avg: 0.0009467773779761046\n",
      "Epoch[852] Train loss    avg: 0.0009242520027328283\n",
      "Epoch[856] Train loss    avg: 0.0007962154340930283\n",
      "Epoch[860] Train loss    avg: 0.0008313680009450763\n",
      "Epoch[864] Train loss    avg: 0.0007818872109055519\n",
      "Epoch[868] Train loss    avg: 0.0008117374673020095\n",
      "Epoch[872] Train loss    avg: 0.0008337114559253678\n",
      "Epoch[876] Train loss    avg: 0.0007579748926218599\n",
      "Epoch[880] Train loss    avg: 0.0007920501084299758\n",
      "Epoch[884] Train loss    avg: 0.0009182038920698687\n",
      "Epoch[888] Train loss    avg: 0.000772260085796006\n",
      "Epoch[892] Train loss    avg: 0.0007804744527675211\n",
      "Epoch[896] Train loss    avg: 0.000819429085822776\n",
      "Epoch[900] Train loss    avg: 0.0007372026884695515\n",
      "Epoch[904] Train loss    avg: 0.0007495355530409142\n",
      "Epoch[908] Train loss    avg: 0.0008357164188055322\n",
      "Epoch[912] Train loss    avg: 0.0007337713177548721\n",
      "Epoch[916] Train loss    avg: 0.0008860982779879123\n",
      "Epoch[920] Train loss    avg: 0.0008212323155021295\n",
      "Epoch[924] Train loss    avg: 0.0007803699991200119\n",
      "Epoch[928] Train loss    avg: 0.000760843904572539\n",
      "Epoch[932] Train loss    avg: 0.0007425655203405768\n",
      "Epoch[936] Train loss    avg: 0.0007173208432504907\n",
      "Epoch[940] Train loss    avg: 0.0007739918801235035\n",
      "Epoch[944] Train loss    avg: 0.000834945123642683\n",
      "Epoch[948] Train loss    avg: 0.0008301504567498341\n",
      "Epoch[952] Train loss    avg: 0.000718969211447984\n",
      "Epoch[956] Train loss    avg: 0.0007711719663348049\n",
      "Epoch[960] Train loss    avg: 0.0007515121978940442\n",
      "Epoch[964] Train loss    avg: 0.0007526481931563467\n",
      "Epoch[968] Train loss    avg: 0.0007217628735816106\n",
      "Epoch[972] Train loss    avg: 0.000715769492671825\n",
      "Epoch[976] Train loss    avg: 0.0006886849441798404\n",
      "Epoch[980] Train loss    avg: 0.0007122986280592158\n",
      "Epoch[984] Train loss    avg: 0.0006683473766315728\n",
      "Epoch[988] Train loss    avg: 0.0007230200717458501\n",
      "Epoch[992] Train loss    avg: 0.000781672541052103\n",
      "Epoch[996] Train loss    avg: 0.0007745185284875333\n",
      "Epoch[1000] Train loss    avg: 0.000721881544450298\n"
     ]
    },
    {
     "data": {
      "text/plain": [
       "<source.utils.ValueLogger at 0x7ff96dd03f70>"
      ]
     },
     "execution_count": 89,
     "metadata": {},
     "output_type": "execute_result"
    }
   ],
   "source": [
    "from source.featlearn.autoencoder_lr import AutoencoderFL, DCEC, VAE_FL\n",
    "\n",
    "cae = AutoencoderFL(mts.D, mts.T, feature_size=10)\n",
    "# cae = DCEC(mts.D, mts.T, feature_size=10, n_clusters=5)\n",
    "# cae = VAE_FL(mts.D, mts.T, feature_size=10)\n",
    "\n",
    "cae.fit(mts.X, epochs=1000, batch_size=320)\n",
    "# cae.fit(mts.X, epochs=1000, batch_size=320, gamma=0)"
   ]
  },
  {
   "cell_type": "code",
   "execution_count": 90,
   "metadata": {},
   "outputs": [],
   "source": [
    "from source.featlearn.autoencoder_lr import AutoencoderFL, DCEC\n",
    "\n",
    "# cae.fit(mts.X, epochs=1000, batch_size=320, gamma=100)\n",
    "# rec, mts.features, clusters = cae.encode(mts.X)\n",
    "rec, mts.features = cae.encode(mts.X)\n"
   ]
  },
  {
   "cell_type": "code",
   "execution_count": 81,
   "metadata": {},
   "outputs": [
    {
     "data": {
      "text/plain": [
       "(1172, 1)"
      ]
     },
     "execution_count": 81,
     "metadata": {},
     "output_type": "execute_result"
    }
   ],
   "source": [
    "# coords.shape\n",
    "# timeInMs.shape\n",
    "# mts.features.shape\n"
   ]
  },
  {
   "cell_type": "code",
   "execution_count": 130,
   "metadata": {},
   "outputs": [],
   "source": [
    "from sklearn.metrics import pairwise_distances\n",
    "\n",
    "delta = 0.1\n",
    "beta = 0.1\n",
    "\n",
    "space_DM = pairwise_distances(coords)\n",
    "space_DM = space_DM / np.max(space_DM)\n",
    "\n",
    "feature_DM = pairwise_distances(mts.features, metric='cosine')\n",
    "feature_DM = feature_DM / np.max(feature_DM)\n",
    "\n",
    "\n",
    "time_DM = pairwise_distances(timeInMs)\n",
    "time_DM = time_DM / np.max(time_DM)\n",
    "\n",
    "# distM = feature_DM * (1 - delta) + space_DM * delta\n",
    "distM = feature_DM * (1 - (delta + beta)) + space_DM * delta + time_DM * beta\n",
    "# mts.features = np.concatenate([mts.features, coords], axis=1)"
   ]
  },
  {
   "cell_type": "code",
   "execution_count": 131,
   "metadata": {},
   "outputs": [],
   "source": [
    "# # # clusters\n",
    "# preds = np.argmax(clusters, axis=1)\n",
    "# print(np.unique(preds, return_counts=True))"
   ]
  },
  {
   "cell_type": "code",
   "execution_count": 132,
   "metadata": {},
   "outputs": [
    {
     "name": "stderr",
     "output_type": "stream",
     "text": [
      "/home/texs/anaconda3/envs/clearn/lib/python3.8/site-packages/umap/umap_.py:1780: UserWarning: using precomputed metric; inverse_transform will be unavailable\n",
      "  warn(\"using precomputed metric; inverse_transform will be unavailable\")\n"
     ]
    },
    {
     "data": {
      "text/plain": [
       "<matplotlib.collections.PathCollection at 0x7ff96c97f820>"
      ]
     },
     "execution_count": 132,
     "metadata": {},
     "output_type": "execute_result"
    },
    {
     "data": {
      "image/png": "[encoded data removed]",
      "text/plain": [
       "<Figure size 640x480 with 1 Axes>"
      ]
     },
     "metadata": {},
     "output_type": "display_data"
    }
   ],
   "source": [
    "import umap\n",
    "from sklearn.manifold import TSNE\n",
    "import matplotlib.pyplot as plt\n",
    "# reducer = umap.UMAP(n_components=2, metric='euclidean')\n",
    "reducer = umap.UMAP(n_components=2, metric='precomputed')\n",
    "# reducer = TSNE(n_components=2, metric='precomputed')\n",
    "\n",
    "# reducer = UMAP(n_components=2, n_neighbors=10, min_dist=0.1, metric='cosine')\n",
    "# reducer = UMAP(n_components=2, n_neighbors=10, min_dist=0.1)\n",
    "# reducer = TSNE(n_components=2, metric='euclidean')\n",
    "\n",
    "# coords = reducer.fit_transform(mts.features, y = month_ids)\n",
    "# coords = reducer.fit_transform(mts.features)\n",
    "coords = reducer.fit_transform(distM)\n",
    "\n",
    "# plt.scatter(coords[:, 0], coords[:, 1], c=preds)\n",
    "plt.scatter(coords[:, 0], coords[:, 1])"
   ]
  },
  {
   "cell_type": "code",
   "execution_count": 31,
   "metadata": {},
   "outputs": [],
   "source": [
    "import matplotlib.pyplot as plt\n",
    "\n",
    "def plot1d(x, x2=None, x3=None, ylim=(-1, 1), save_file=\"\"):\n",
    "    import matplotlib.pyplot as plt\n",
    "\n",
    "    plt.figure(figsize=(6, 3))\n",
    "    steps = np.arange(x.shape[0])\n",
    "    plt.plot(steps, x)\n",
    "    if x2 is not None:\n",
    "        plt.plot(steps, x2)\n",
    "    if x3 is not None:\n",
    "        plt.plot(steps, x3)\n",
    "    plt.xlim(0, x.shape[0])\n",
    "    # plt.ylim(ylim)\n",
    "    plt.tight_layout()\n",
    "    if save_file:\n",
    "        plt.savefig(save_file, \"\")\n",
    "    else:\n",
    "        plt.show()\n",
    "    return"
   ]
  },
  {
   "cell_type": "code",
   "execution_count": 32,
   "metadata": {},
   "outputs": [
    {
     "data": {
      "image/png": "[encoded data removed]",
      "text/plain": [
       "<Figure size 600x300 with 1 Axes>"
      ]
     },
     "metadata": {},
     "output_type": "display_data"
    }
   ],
   "source": [
    "pos = 200\n",
    "plot1d(mts.X[pos])"
   ]
  },
  {
   "cell_type": "code",
   "execution_count": 33,
   "metadata": {},
   "outputs": [
    {
     "data": {
      "image/png": "[encoded data removed]",
      "text/plain": [
       "<Figure size 600x300 with 1 Axes>"
      ]
     },
     "metadata": {},
     "output_type": "display_data"
    }
   ],
   "source": [
    "plot1d(rec[pos])"
   ]
  },
  {
   "cell_type": "code",
   "execution_count": null,
   "metadata": {},
   "outputs": [],
   "source": []
  }
 ],
 "metadata": {
  "kernelspec": {
   "display_name": "Python 3.8.13 ('clearn')",
   "language": "python",
   "name": "python3"
  },
  "language_info": {
   "codemirror_mode": {
    "name": "ipython",
    "version": 3
   },
   "file_extension": ".py",
   "mimetype": "text/x-python",
   "name": "python",
   "nbconvert_exporter": "python",
   "pygments_lexer": "ipython3",
   "version": "3.8.13"
  },
  "orig_nbformat": 4,
  "vscode": {
   "interpreter": {
    "hash": "9b358327185eebe25ac8832d1d1e0e28e2841cec82efe29413dcc7b9341241d3"
   }
  }
 },
 "nbformat": 4,
 "nbformat_minor": 2
}
