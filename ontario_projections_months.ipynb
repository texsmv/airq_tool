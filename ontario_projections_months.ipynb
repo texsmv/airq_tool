{
 "cells": [
  {
   "cell_type": "code",
   "execution_count": 23,
   "metadata": {},
   "outputs": [],
   "source": [
    "%reload_ext autoreload\n",
    "%autoreload 2\n",
    "\n",
    "import os\n",
    "import numpy as np\n",
    "from source.tserie import TSerie\n",
    "from source.read_ontario import read_ontario, read_ontario_stations\n",
    "from source.utils import commonWindows\n",
    "from source.torch_utils import getContrastiveFeatures\n",
    "from cuml.manifold import UMAP\n",
    "# from ccpca import CCPCA\n",
    "\n",
    "VIS_PATH = 'visualizations'\n",
    "SMOOTH = 8 # 8 -1 if you don't want to smooth the data otherwise the size of the smooth window\n",
    "LOSS = 'SimCLR' # SupConLoss | SimCLR\n",
    "MODE = 'subsequences' # subsequences - shape\n",
    "# MODE = 'shape' # subsequences - shape\n",
    "EPOCHS = 40\n",
    "BATCH_SIZE = 128\n",
    "ENC_SIZE = 8 # 8\n",
    "POLLUTANTS = ['PM25', 'CO', 'NO'] # ['NO', 'NOx', 'NO2', 'SO2', 'CO', 'O3', 'PM25']\n",
    "CONV_FILTERS = [16, 32]\n",
    "CONV_KERNELS = [7, 7]\n",
    "UMAP_NEIGHBORS = 15\n",
    "N_VIZ_SAMPLES = 600"
   ]
  },
  {
   "cell_type": "markdown",
   "metadata": {},
   "source": [
    "# Months case"
   ]
  },
  {
   "cell_type": "code",
   "execution_count": 24,
   "metadata": {},
   "outputs": [],
   "source": [
    "windows_map = read_ontario(granularity='months', cache=True)\n",
    "\n",
    "data_info = read_ontario_stations()\n",
    "pollutans = POLLUTANTS\n",
    "# windows, dates, station_ids, stations = commonWindows(windows_map, pollutans)"
   ]
  },
  {
   "cell_type": "code",
   "execution_count": 25,
   "metadata": {},
   "outputs": [],
   "source": [
    "# windows_map['SO2'][13001]['2010-1'][0].shape\n",
    "# windows_map\n",
    "windows, dates, station_ids, stations = commonWindows(windows_map, pollutans)"
   ]
  },
  {
   "cell_type": "markdown",
   "metadata": {},
   "source": [
    "windows.shape"
   ]
  },
  {
   "cell_type": "code",
   "execution_count": 31,
   "metadata": {},
   "outputs": [
    {
     "data": {
      "text/plain": [
       "{'46089': {'name': 'Brampton',\n",
       "  'latitude': '43.69875',\n",
       "  'longitude': '-79.780917'},\n",
       " '44008': {'name': 'Burlington',\n",
       "  'latitude': '43.315111',\n",
       "  'longitude': '-79.802639'},\n",
       " '56051': {'name': 'Cornwall',\n",
       "  'latitude': '45.017972',\n",
       "  'longitude': '-74.735222'},\n",
       " '49010': {'name': 'Dorset',\n",
       "  'latitude': '45.224278',\n",
       "  'longitude': '-78.932944'},\n",
       " '15020': {'name': 'Grand Bend',\n",
       "  'latitude': '43.333083',\n",
       "  'longitude': '-81.742889'},\n",
       " '28028': {'name': 'Guelph',\n",
       "  'latitude': '43.551611',\n",
       "  'longitude': '-80.264167'},\n",
       " '29000': {'name': 'Hamilton Downtown',\n",
       "  'latitude': '43.257778',\n",
       "  'longitude': '-79.861667'},\n",
       " '29114': {'name': 'Hamilton Mountain',\n",
       "  'latitude': '43.229417',\n",
       "  'longitude': '-79.862778'},\n",
       " '29118': {'name': 'Hamilton West',\n",
       "  'latitude': '43.257444',\n",
       "  'longitude': '-79.90775'},\n",
       " '52020': {'name': 'Kingston',\n",
       "  'latitude': '44.265698',\n",
       "  'longitude': '-76.5017756'},\n",
       " '26060': {'name': 'Kitchener',\n",
       "  'latitude': '43.443833',\n",
       "  'longitude': '-80.503806'},\n",
       " '15025': {'name': 'London',\n",
       "  'latitude': '43.006722',\n",
       "  'longitude': '-81.206417'},\n",
       " '13021': {'name': 'Merlin',\n",
       "  'latitude': '42.249526',\n",
       "  'longitude': '-82.2180688'},\n",
       " '46110': {'name': 'Mississauga',\n",
       "  'latitude': '43.574146',\n",
       "  'longitude': '-79.6083034'},\n",
       " '75010': {'name': 'North Bay',\n",
       "  'latitude': '46.322500',\n",
       "  'longitude': '-79.4494444'},\n",
       " '44015': {'name': 'Oakville',\n",
       "  'latitude': '43.400000',\n",
       "  'longitude': '-79.7333333'},\n",
       " '45025': {'name': 'Oshawa',\n",
       "  'latitude': '43.891899',\n",
       "  'longitude': '-78.8508795'},\n",
       " '51001': {'name': 'Ottawa Downtown',\n",
       "  'latitude': '45.434333',\n",
       "  'longitude': '-75.676'},\n",
       " '59006': {'name': 'Peterborough',\n",
       "  'latitude': '44.301917',\n",
       "  'longitude': '-78.346222'},\n",
       " '14064': {'name': 'Sarnia',\n",
       "  'latitude': '42.982278',\n",
       "  'longitude': '-82.405083'},\n",
       " '71068': {'name': 'Sault Ste. Marie',\n",
       "  'latitude': '46.532062',\n",
       "  'longitude': '-84.3542374'},\n",
       " '22071': {'name': 'Simcoe',\n",
       "  'latitude': '42.856834',\n",
       "  'longitude': '-80.269722'},\n",
       " '27067': {'name': 'St. Catharines',\n",
       "  'latitude': '43.160056',\n",
       "  'longitude': '-79.23475'},\n",
       " '48002': {'name': 'Stouffville',\n",
       "  'latitude': '43.964580',\n",
       "  'longitude': '-79.266070'},\n",
       " '77203': {'name': 'Sudbury',\n",
       "  'latitude': '46.471044',\n",
       "  'longitude': '-80.9959326'},\n",
       " '63200': {'name': 'Thunder Bay',\n",
       "  'latitude': '48.374049',\n",
       "  'longitude': '-89.2896585'},\n",
       " '18007': {'name': 'Tiverton',\n",
       "  'latitude': '44.314472',\n",
       "  'longitude': '-81.549722'},\n",
       " '31103': {'name': 'Toronto Downtown',\n",
       "  'latitude': '43.662972',\n",
       "  'longitude': '-79.388111'},\n",
       " '33003': {'name': 'Toronto East',\n",
       "  'latitude': '43.747917',\n",
       "  'longitude': '-79.274056'},\n",
       " '34020': {'name': 'Toronto North',\n",
       "  'latitude': '43.781611',\n",
       "  'longitude': '-79.417722'},\n",
       " '12008': {'name': 'Windsor Downtown',\n",
       "  'latitude': '42.315778',\n",
       "  'longitude': '-83.043667'},\n",
       " '12016': {'name': 'Windsor West',\n",
       "  'latitude': '42.292889',\n",
       "  'longitude': '-83.073139'},\n",
       " '49005': {'name': 'Parry Sound',\n",
       "  'latitude': '45.338261',\n",
       "  'longitude': '-80.039269'},\n",
       " '47045': {'name': 'Barrie',\n",
       "  'latitude': '44.382361',\n",
       "  'longitude': '-79.702306'},\n",
       " '48006': {'name': 'Newmarket',\n",
       "  'latitude': '44.044306',\n",
       "  'longitude': '-79.48325'},\n",
       " '16015': {'name': 'Port Stanley',\n",
       "  'latitude': '42.672083',\n",
       "  'longitude': '-81.162889'},\n",
       " '54012': {'name': 'Belleville',\n",
       "  'latitude': '44.150528',\n",
       "  'longitude': '-77.3955'},\n",
       " '35125': {'name': 'Toronto West',\n",
       "  'latitude': '43.709444',\n",
       "  'longitude': '-79.5435'},\n",
       " '21005': {'name': 'Brantford',\n",
       "  'latitude': '43.138611',\n",
       "  'longitude': '-80.292639'},\n",
       " '46109': {'name': 'Mississauga',\n",
       "  'latitude': '43.61591',\n",
       "  'longitude': '-79.652750'},\n",
       " '44017': {'name': 'Oakville',\n",
       "  'latitude': '43.486917',\n",
       "  'longitude': '-79.702278'},\n",
       " '71078': {'name': 'Sault Ste. Marie',\n",
       "  'latitude': '46.533194',\n",
       "  'longitude': '-84.309917'},\n",
       " '63203': {'name': 'Thunder Bay',\n",
       "  'latitude': '48.379389',\n",
       "  'longitude': '-89.290167'},\n",
       " '13001': {'name': 'Chatham',\n",
       "  'latitude': '42.403694',\n",
       "  'longitude': '-82.208306'},\n",
       " '56010': {'name': 'Morrisburg',\n",
       "  'latitude': '44.89975',\n",
       "  'longitude': '-75.189944'},\n",
       " '45026': {'name': 'Oshawa',\n",
       "  'latitude': '43.945944',\n",
       "  'longitude': '-78.894917'},\n",
       " '77219': {'name': 'Sudbury',\n",
       "  'latitude': '46.475694',\n",
       "  'longitude': '-80.962944'},\n",
       " '52022': {'name': 'Kingston',\n",
       "  'latitude': '44.21625',\n",
       "  'longitude': '-76.528306'},\n",
       " '51002': {'name': 'Ottawa Central',\n",
       "  'latitude': '45.382528',\n",
       "  'longitude': '-75.714194'},\n",
       " '46108': {'name': 'Mississauga',\n",
       "  'latitude': '43.54697',\n",
       "  'longitude': '-79.65869'},\n",
       " '51010': {'name': 'Petawawa',\n",
       "  'latitude': '45.996722',\n",
       "  'longitude': '-77.441194'},\n",
       " '15026': {'name': 'London',\n",
       "  'latitude': '42.97446',\n",
       "  'longitude': '-81.200858'},\n",
       " '77233': {'name': 'Sudbury',\n",
       "  'latitude': '46.49194',\n",
       "  'longitude': '-81.003105'},\n",
       " '52023': {'name': 'Kingston',\n",
       "  'latitude': '44.219722',\n",
       "  'longitude': '-76.521111'},\n",
       " '14110': {'name': 'Sarnia',\n",
       "  'latitude': '42.981660',\n",
       "  'longitude': '-82.414078'},\n",
       " '46090': {'name': 'Brampton',\n",
       "  'latitude': '43.669911',\n",
       "  'longitude': '-79.766589'},\n",
       " '14111': {'name': 'Sarnia',\n",
       "  'latitude': '42.990263',\n",
       "  'longitude': '-82.395341'},\n",
       " '34021': {'name': 'Toronto North',\n",
       "  'latitude': '43.78047',\n",
       "  'longitude': '-79.467372'},\n",
       " '45027': {'name': 'Oshawa', 'latitude': '43.95222', 'longitude': '-78.9125'},\n",
       " '29214': {'name': 'Hamilton Mountain',\n",
       "  'latitude': '43.24132',\n",
       "  'longitude': '-79.88941'},\n",
       " '44029': {'name': 'Milton',\n",
       "  'latitude': '43.529650',\n",
       "  'longitude': '-79.862449'},\n",
       " '31129': {'name': 'Toronto Downtown',\n",
       "  'latitude': '43.64543',\n",
       "  'longitude': '-79.38908'}}"
      ]
     },
     "execution_count": 31,
     "metadata": {},
     "output_type": "execute_result"
    }
   ],
   "source": [
    "# windows.shape\n",
    "# data_info\n",
    "# station_ids\n",
    "# stations\n",
    "# dates.shape\n",
    "\n",
    "# data_info\n",
    "# data_info[str(stations[station_ids[0]])]"
   ]
  },
  {
   "cell_type": "code",
   "execution_count": 5,
   "metadata": {},
   "outputs": [],
   "source": [
    "month_ids = np.array([date.month for date in dates])\n",
    "year_ids = np.array([date.year for date in dates])\n",
    "\n",
    "\n",
    "stations_map = {int(i):str(stations[i]) for i in range(len(stations))}\n",
    "months_map = {int(i):str(i) for i in range(1, 13)}\n",
    "years_map = {int(year) : str(year) for year in year_ids}\n",
    "coords = np.array([\n",
    "    [\n",
    "        float(data_info[str(stations[station_ids[i]])]['latitude']), \n",
    "        float(data_info[str(stations[station_ids[i]])]['longitude'])\n",
    "    ]\n",
    "    for i in range(len(windows))\n",
    "])"
   ]
  },
  {
   "cell_type": "code",
   "execution_count": 6,
   "metadata": {},
   "outputs": [],
   "source": [
    "# dates\n",
    "import datetime\n",
    "\n",
    "epoch = datetime.datetime.utcfromtimestamp(0)\n",
    "\n",
    "def unix_time_millis(dt):\n",
    "    return (dt - epoch).total_seconds() * 1000.0\n",
    "\n",
    "# unix_time_millis(dates[0])\n",
    "\n",
    "timeInMs = np.array([unix_time_millis(d) for d in dates])\n",
    "timeInMs = np.expand_dims(timeInMs, axis=1)\n"
   ]
  },
  {
   "cell_type": "code",
   "execution_count": 7,
   "metadata": {},
   "outputs": [
    {
     "name": "stdout",
     "output_type": "stream",
     "text": [
      "Loaded mts - N: 1172, T: 28, D: 3 \n",
      "(1172, 3, 28)\n"
     ]
    }
   ],
   "source": [
    "mts = TSerie(X=windows, y = station_ids)\n",
    "\n",
    "if SMOOTH > 0:\n",
    "    mts.smooth(window_size=SMOOTH)\n",
    "\n",
    "if MODE == 'shape':\n",
    "    mts.shapeNormalizization()\n",
    "else:\n",
    "    mts.minMaxNormalizization()\n"
   ]
  },
  {
   "cell_type": "code",
   "execution_count": 8,
   "metadata": {},
   "outputs": [
    {
     "name": "stdout",
     "output_type": "stream",
     "text": [
      "Epoch[1] Train loss    avg: 0.41125161945819855\n",
      "Epoch[50] Train loss    avg: 0.0056793405674397945\n",
      "Epoch[100] Train loss    avg: 0.003232437593396753\n",
      "Epoch[150] Train loss    avg: 0.0023074577911756933\n",
      "Epoch[200] Train loss    avg: 0.002014938014326617\n",
      "Epoch[250] Train loss    avg: 0.0015648615662939847\n",
      "Epoch[300] Train loss    avg: 0.001810238987673074\n",
      "Epoch[350] Train loss    avg: 0.0012470784422475845\n",
      "Epoch[400] Train loss    avg: 0.0011630907538346946\n",
      "Epoch[450] Train loss    avg: 0.0011711777042364702\n",
      "Epoch[500] Train loss    avg: 0.0010057050094474107\n",
      "Epoch[550] Train loss    avg: 0.0010388082882855088\n",
      "Epoch[600] Train loss    avg: 0.0008923497225623578\n",
      "Epoch[650] Train loss    avg: 0.00083423093019519\n",
      "Epoch[700] Train loss    avg: 0.0008537168323528022\n",
      "Epoch[750] Train loss    avg: 0.0007814483833499253\n",
      "Epoch[800] Train loss    avg: 0.000757705929572694\n",
      "Epoch[850] Train loss    avg: 0.0007772473036311567\n",
      "Epoch[900] Train loss    avg: 0.0007952532032504678\n",
      "Epoch[950] Train loss    avg: 0.0006758530798833817\n",
      "Epoch[1000] Train loss    avg: 0.0006294011691352352\n",
      "Epoch[1050] Train loss    avg: 0.0006390031485352665\n",
      "Epoch[1100] Train loss    avg: 0.0006190876592881978\n",
      "Epoch[1150] Train loss    avg: 0.0008453969494439662\n",
      "Epoch[1200] Train loss    avg: 0.0006328290182864293\n",
      "Epoch[1250] Train loss    avg: 0.000571086784475483\n",
      "Epoch[1300] Train loss    avg: 0.0005162669767742045\n",
      "Epoch[1350] Train loss    avg: 0.0006490496089099906\n",
      "Epoch[1400] Train loss    avg: 0.0005428363510873169\n"
     ]
    },
    {
     "data": {
      "text/plain": [
       "<source.utils.ValueLogger at 0x7ff3d50bc1f0>"
      ]
     },
     "execution_count": 8,
     "metadata": {},
     "output_type": "execute_result"
    }
   ],
   "source": [
    "from source.featlearn.autoencoder_lr import AutoencoderFL, DCEC, VAE_FL\n",
    "\n",
    "cae = AutoencoderFL(mts.D, mts.T, feature_size=10)\n",
    "# cae = DCEC(mts.D, mts.T, feature_size=10, n_clusters=5)\n",
    "# cae = VAE_FL(mts.D, mts.T, feature_size=10)\n",
    "\n",
    "cae.fit(mts.X, epochs=1400, batch_size=320)\n",
    "# cae.fit(mts.X, epochs=1000, batch_size=320, gamma=0)"
   ]
  },
  {
   "cell_type": "code",
   "execution_count": 9,
   "metadata": {},
   "outputs": [],
   "source": [
    "from source.featlearn.autoencoder_lr import AutoencoderFL, DCEC\n",
    "\n",
    "# cae.fit(mts.X, epochs=1000, batch_size=320, gamma=100)\n",
    "# rec, mts.features, clusters = cae.encode(mts.X)\n",
    "rec, mts.features = cae.encode(mts.X)\n"
   ]
  },
  {
   "cell_type": "code",
   "execution_count": 10,
   "metadata": {},
   "outputs": [],
   "source": [
    "# coords.shape\n",
    "# timeInMs.shape\n",
    "# mts.features.shape\n"
   ]
  },
  {
   "cell_type": "code",
   "execution_count": 20,
   "metadata": {},
   "outputs": [],
   "source": [
    "from sklearn.metrics import pairwise_distances\n",
    "\n",
    "delta = 0.1\n",
    "beta = 0.\n",
    "\n",
    "space_DM = pairwise_distances(coords)\n",
    "space_DM = space_DM / np.max(space_DM)\n",
    "\n",
    "feature_DM = pairwise_distances(mts.features, metric='cosine')\n",
    "feature_DM = feature_DM / np.max(feature_DM)\n",
    "\n",
    "\n",
    "time_DM = pairwise_distances(timeInMs)\n",
    "time_DM = time_DM / np.max(time_DM)\n",
    "\n",
    "# distM = feature_DM * (1 - delta) + space_DM * delta\n",
    "distM = feature_DM * (1 - (delta + beta)) + space_DM * delta + time_DM * beta\n",
    "# mts.features = np.concatenate([mts.features, coords], axis=1)"
   ]
  },
  {
   "cell_type": "code",
   "execution_count": 21,
   "metadata": {},
   "outputs": [],
   "source": [
    "# # # clusters\n",
    "# preds = np.argmax(clusters, axis=1)\n",
    "# print(np.unique(preds, return_counts=True))"
   ]
  },
  {
   "cell_type": "code",
   "execution_count": 22,
   "metadata": {},
   "outputs": [
    {
     "name": "stderr",
     "output_type": "stream",
     "text": [
      "/home/texs/anaconda3/envs/clearn/lib/python3.8/site-packages/umap/umap_.py:1780: UserWarning: using precomputed metric; inverse_transform will be unavailable\n",
      "  warn(\"using precomputed metric; inverse_transform will be unavailable\")\n"
     ]
    },
    {
     "data": {
      "text/plain": [
       "<matplotlib.collections.PathCollection at 0x7ff39d44beb0>"
      ]
     },
     "execution_count": 22,
     "metadata": {},
     "output_type": "execute_result"
    },
    {
     "data": {
      "image/png": "[encoded data removed]",
      "text/plain": [
       "<Figure size 640x480 with 1 Axes>"
      ]
     },
     "metadata": {},
     "output_type": "display_data"
    }
   ],
   "source": [
    "import umap\n",
    "from sklearn.manifold import TSNE\n",
    "import matplotlib.pyplot as plt\n",
    "# reducer = umap.UMAP(n_components=2, metric='euclidean')\n",
    "reducer = umap.UMAP(n_components=2, metric='precomputed')\n",
    "# reducer = TSNE(n_components=2, metric='precomputed')\n",
    "\n",
    "# reducer = UMAP(n_components=2, n_neighbors=10, min_dist=0.1, metric='cosine')\n",
    "# reducer = UMAP(n_components=2, n_neighbors=10, min_dist=0.1)\n",
    "# reducer = TSNE(n_components=2, metric='euclidean')\n",
    "\n",
    "# coords = reducer.fit_transform(mts.features, y = month_ids)\n",
    "# coords = reducer.fit_transform(mts.features)\n",
    "coords = reducer.fit_transform(distM)\n",
    "\n",
    "# plt.scatter(coords[:, 0], coords[:, 1], c=preds)\n",
    "plt.scatter(coords[:, 0], coords[:, 1])"
   ]
  },
  {
   "cell_type": "code",
   "execution_count": 14,
   "metadata": {},
   "outputs": [],
   "source": [
    "import matplotlib.pyplot as plt\n",
    "\n",
    "def plot1d(x, x2=None, x3=None, ylim=(-1, 1), save_file=\"\"):\n",
    "    import matplotlib.pyplot as plt\n",
    "\n",
    "    plt.figure(figsize=(6, 3))\n",
    "    steps = np.arange(x.shape[0])\n",
    "    plt.plot(steps, x)\n",
    "    if x2 is not None:\n",
    "        plt.plot(steps, x2)\n",
    "    if x3 is not None:\n",
    "        plt.plot(steps, x3)\n",
    "    plt.xlim(0, x.shape[0])\n",
    "    # plt.ylim(ylim)\n",
    "    plt.tight_layout()\n",
    "    if save_file:\n",
    "        plt.savefig(save_file, \"\")\n",
    "    else:\n",
    "        plt.show()\n",
    "    return"
   ]
  },
  {
   "cell_type": "code",
   "execution_count": 15,
   "metadata": {},
   "outputs": [
    {
     "data": {
      "image/png": "[encoded data removed]",
      "text/plain": [
       "<Figure size 600x300 with 1 Axes>"
      ]
     },
     "metadata": {},
     "output_type": "display_data"
    }
   ],
   "source": [
    "pos = 90\n",
    "plot1d(mts.X[pos])"
   ]
  },
  {
   "cell_type": "code",
   "execution_count": 16,
   "metadata": {},
   "outputs": [
    {
     "data": {
      "image/png": "[encoded data removed]",
      "text/plain": [
       "<Figure size 600x300 with 1 Axes>"
      ]
     },
     "metadata": {},
     "output_type": "display_data"
    }
   ],
   "source": [
    "plot1d(rec[pos])"
   ]
  },
  {
   "cell_type": "code",
   "execution_count": null,
   "metadata": {},
   "outputs": [],
   "source": []
  }
 ],
 "metadata": {
  "kernelspec": {
   "display_name": "Python 3.8.13 ('clearn')",
   "language": "python",
   "name": "python3"
  },
  "language_info": {
   "codemirror_mode": {
    "name": "ipython",
    "version": 3
   },
   "file_extension": ".py",
   "mimetype": "text/x-python",
   "name": "python",
   "nbconvert_exporter": "python",
   "pygments_lexer": "ipython3",
   "version": "3.8.13 (default, Mar 28 2022, 11:38:47) \n[GCC 7.5.0]"
  },
  "orig_nbformat": 4,
  "vscode": {
   "interpreter": {
    "hash": "9b358327185eebe25ac8832d1d1e0e28e2841cec82efe29413dcc7b9341241d3"
   }
  }
 },
 "nbformat": 4,
 "nbformat_minor": 2
}
