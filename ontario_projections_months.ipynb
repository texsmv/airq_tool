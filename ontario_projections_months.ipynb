{
 "cells": [
  {
   "cell_type": "code",
   "execution_count": 16,
   "metadata": {},
   "outputs": [],
   "source": [
    "%reload_ext autoreload\n",
    "%autoreload 2\n",
    "\n",
    "import os\n",
    "import numpy as np\n",
    "from source.tserie import TSerie\n",
    "from source.read_ontario import read_ontario\n",
    "from source.utils import commonWindows\n",
    "from source.torch_utils import getContrastiveFeatures\n",
    "from cuml.manifold import UMAP\n",
    "from ccpca import CCPCA\n",
    "\n",
    "VIS_PATH = 'visualizations'\n",
    "SMOOTH = 8 # 8 -1 if you don't want to smooth the data otherwise the size of the smooth window\n",
    "LOSS = 'SimCLR' # SupConLoss | SimCLR\n",
    "MODE = 'subsequences' # subsequences - shape\n",
    "# MODE = 'shape' # subsequences - shape\n",
    "EPOCHS = 40\n",
    "BATCH_SIZE = 128\n",
    "ENC_SIZE = 8 # 8\n",
    "POLLUTANTS = ['PM25', 'SO2', 'CO'] # ['NO', 'NOx', 'NO2', 'SO2', 'CO', 'O3', 'PM25']\n",
    "CONV_FILTERS = [16, 32]\n",
    "CONV_KERNELS = [7, 7]\n",
    "UMAP_NEIGHBORS = 15\n",
    "N_VIZ_SAMPLES = 600"
   ]
  },
  {
   "cell_type": "markdown",
   "metadata": {},
   "source": [
    "# Months case"
   ]
  },
  {
   "cell_type": "code",
   "execution_count": 19,
   "metadata": {},
   "outputs": [
    {
     "name": "stdout",
     "output_type": "stream",
     "text": [
      "SHAPE\n",
      "(96360, 1)\n",
      "                     value\n",
      "date                      \n",
      "2010-01-01 00:00:00    3.0\n",
      "2010-01-01 01:00:00    4.0\n",
      "2010-01-01 02:00:00    3.0\n",
      "2010-01-01 03:00:00    1.0\n",
      "2010-01-01 04:00:00    0.0\n",
      "4017\n",
      "SHAPE\n",
      "(96360, 1)\n",
      "                     value\n",
      "date                      \n",
      "2010-01-01 00:00:00    0.0\n",
      "2010-01-01 01:00:00    0.0\n",
      "2010-01-01 02:00:00    0.0\n",
      "2010-01-01 03:00:00    0.0\n",
      "2010-01-01 04:00:00    0.0\n",
      "4017\n",
      "SHAPE\n",
      "(70080, 1)\n",
      "                     value\n",
      "date                      \n",
      "2010-01-01 00:00:00    5.0\n",
      "2010-01-01 01:00:00    5.0\n",
      "2010-01-01 02:00:00    3.0\n",
      "2010-01-01 03:00:00    2.0\n",
      "2010-01-01 04:00:00    0.0\n",
      "2922\n",
      "SHAPE\n",
      "(96360, 1)\n",
      "                     value\n",
      "date                      \n",
      "2010-01-01 00:00:00    0.0\n",
      "2010-01-01 01:00:00    0.0\n",
      "2010-01-01 02:00:00    0.0\n",
      "2010-01-01 03:00:00    0.0\n",
      "2010-01-01 04:00:00    0.0\n",
      "4017\n",
      "SHAPE\n",
      "(96360, 1)\n",
      "                     value\n",
      "date                      \n",
      "2010-01-01 00:00:00    1.0\n",
      "2010-01-01 01:00:00    2.0\n",
      "2010-01-01 02:00:00    2.0\n",
      "2010-01-01 03:00:00    1.0\n",
      "2010-01-01 04:00:00    1.0\n",
      "4017\n",
      "SHAPE\n",
      "(96360, 1)\n",
      "                     value\n",
      "date                      \n",
      "2010-01-01 00:00:00    5.0\n",
      "2010-01-01 01:00:00    5.0\n",
      "2010-01-01 02:00:00    4.0\n",
      "2010-01-01 03:00:00    3.0\n",
      "2010-01-01 04:00:00    4.0\n",
      "4017\n",
      "SHAPE\n",
      "(96360, 1)\n",
      "                     value\n",
      "date                      \n",
      "2010-01-01 00:00:00    3.0\n",
      "2010-01-01 01:00:00    3.0\n",
      "2010-01-01 02:00:00    3.0\n",
      "2010-01-01 03:00:00    3.0\n",
      "2010-01-01 04:00:00    2.0\n",
      "4017\n",
      "SHAPE\n",
      "(94056, 1)\n",
      "                     value\n",
      "date                      \n",
      "2010-04-07 00:00:00    NaN\n",
      "2010-04-07 01:00:00    NaN\n",
      "2010-04-07 02:00:00    NaN\n",
      "2010-04-07 03:00:00    NaN\n",
      "2010-04-07 04:00:00    NaN\n",
      "3921\n",
      "SHAPE\n",
      "(96360, 1)\n",
      "                     value\n",
      "date                      \n",
      "2010-01-01 00:00:00    0.0\n",
      "2010-01-01 01:00:00    0.0\n",
      "2010-01-01 02:00:00    0.0\n",
      "2010-01-01 03:00:00    0.0\n",
      "2010-01-01 04:00:00    0.0\n",
      "4017\n",
      "SHAPE\n",
      "(96360, 1)\n",
      "                     value\n",
      "date                      \n",
      "2010-01-01 00:00:00    3.0\n",
      "2010-01-01 01:00:00    3.0\n",
      "2010-01-01 02:00:00    3.0\n",
      "2010-01-01 03:00:00    3.0\n",
      "2010-01-01 04:00:00    1.0\n",
      "4017\n",
      "SHAPE\n",
      "(87600, 1)\n",
      "                     value\n",
      "date                      \n",
      "2010-01-01 00:00:00    1.0\n",
      "2010-01-01 01:00:00    1.0\n",
      "2010-01-01 02:00:00    1.0\n",
      "2010-01-01 03:00:00    1.0\n",
      "2010-01-01 04:00:00    0.0\n",
      "3651\n",
      "SHAPE\n",
      "(94248, 1)\n",
      "                     value\n",
      "date                      \n",
      "2010-03-30 00:00:00    NaN\n",
      "2010-03-30 01:00:00    NaN\n",
      "2010-03-30 02:00:00    NaN\n",
      "2010-03-30 03:00:00    NaN\n",
      "2010-03-30 04:00:00    NaN\n",
      "3929\n",
      "SHAPE\n",
      "(34944, 1)\n",
      "                     value\n",
      "date                      \n",
      "2010-01-05 00:00:00    NaN\n",
      "2010-01-05 01:00:00    NaN\n",
      "2010-01-05 02:00:00    NaN\n",
      "2010-01-05 03:00:00    NaN\n",
      "2010-01-05 04:00:00    NaN\n",
      "1457\n",
      "SHAPE\n",
      "(96360, 1)\n",
      "                     value\n",
      "date                      \n",
      "2010-01-01 00:00:00    1.0\n",
      "2010-01-01 01:00:00    1.0\n",
      "2010-01-01 02:00:00    0.0\n",
      "2010-01-01 03:00:00    0.0\n",
      "2010-01-01 04:00:00    0.0\n",
      "4017\n",
      "SHAPE\n",
      "(26280, 1)\n",
      "                     value\n",
      "date                      \n",
      "2010-01-01 00:00:00    2.0\n",
      "2010-01-01 01:00:00    2.0\n",
      "2010-01-01 02:00:00    2.0\n",
      "2010-01-01 03:00:00    1.0\n",
      "2010-01-01 04:00:00    1.0\n",
      "1095\n",
      "SHAPE\n",
      "(96360, 1)\n",
      "                     value\n",
      "date                      \n",
      "2010-01-01 00:00:00    0.0\n",
      "2010-01-01 01:00:00    1.0\n",
      "2010-01-01 02:00:00    1.0\n",
      "2010-01-01 03:00:00    0.0\n",
      "2010-01-01 04:00:00    0.0\n",
      "4017\n",
      "SHAPE\n",
      "(96360, 1)\n",
      "                     value\n",
      "date                      \n",
      "2010-01-01 00:00:00    1.0\n",
      "2010-01-01 01:00:00    1.0\n",
      "2010-01-01 02:00:00    1.0\n",
      "2010-01-01 03:00:00    1.0\n",
      "2010-01-01 04:00:00    1.0\n",
      "4017\n",
      "SHAPE\n",
      "(96288, 1)\n",
      "                     value\n",
      "date                      \n",
      "2010-01-01 00:00:00    1.0\n",
      "2010-01-01 01:00:00    1.0\n",
      "2010-01-01 02:00:00    1.0\n",
      "2010-01-01 03:00:00    1.0\n",
      "2010-01-01 04:00:00    1.0\n",
      "4017\n",
      "SHAPE\n",
      "(96360, 1)\n",
      "                     value\n",
      "date                      \n",
      "2010-01-01 00:00:00    1.0\n",
      "2010-01-01 01:00:00    1.0\n",
      "2010-01-01 02:00:00    1.0\n",
      "2010-01-01 03:00:00    1.0\n",
      "2010-01-01 04:00:00    1.0\n",
      "4017\n",
      "SHAPE\n",
      "(87600, 1)\n",
      "                     value\n",
      "date                      \n",
      "2010-01-01 00:00:00   11.0\n",
      "2010-01-01 01:00:00    5.0\n",
      "2010-01-01 02:00:00    6.0\n",
      "2010-01-01 03:00:00   11.0\n",
      "2010-01-01 04:00:00   15.0\n",
      "3642\n",
      "SHAPE\n",
      "(70128, 1)\n",
      "                     value\n",
      "date                      \n",
      "2010-01-01 00:00:00    0.0\n",
      "2010-01-01 01:00:00    0.0\n",
      "2010-01-01 02:00:00    0.0\n",
      "2010-01-01 03:00:00    0.0\n",
      "2010-01-01 04:00:00    0.0\n",
      "2924\n",
      "SHAPE\n",
      "(96360, 1)\n",
      "                     value\n",
      "date                      \n",
      "2010-01-01 00:00:00    2.0\n",
      "2010-01-01 01:00:00    2.0\n",
      "2010-01-01 02:00:00    2.0\n",
      "2010-01-01 03:00:00    2.0\n",
      "2010-01-01 04:00:00    2.0\n",
      "4017\n",
      "SHAPE\n",
      "(94248, 1)\n",
      "                     value\n",
      "date                      \n",
      "2010-03-30 00:00:00    NaN\n",
      "2010-03-30 01:00:00    NaN\n",
      "2010-03-30 02:00:00    NaN\n",
      "2010-03-30 03:00:00    NaN\n",
      "2010-03-30 04:00:00    NaN\n",
      "3929\n",
      "SHAPE\n",
      "(96360, 1)\n",
      "                     value\n",
      "date                      \n",
      "2010-01-01 00:00:00    2.0\n",
      "2010-01-01 01:00:00    1.0\n",
      "2010-01-01 02:00:00    1.0\n",
      "2010-01-01 03:00:00    1.0\n",
      "2010-01-01 04:00:00    1.0\n",
      "4017\n",
      "SHAPE\n",
      "(61320, 1)\n",
      "                     value\n",
      "date                      \n",
      "2010-01-01 00:00:00    0.0\n",
      "2010-01-01 01:00:00    0.0\n",
      "2010-01-01 02:00:00    0.0\n",
      "2010-01-01 03:00:00    0.0\n",
      "2010-01-01 04:00:00    0.0\n",
      "2504\n",
      "SHAPE\n",
      "(96360, 1)\n",
      "                     value\n",
      "date                      \n",
      "2010-01-01 00:00:00    1.0\n",
      "2010-01-01 01:00:00    1.0\n",
      "2010-01-01 02:00:00    1.0\n",
      "2010-01-01 03:00:00    0.0\n",
      "2010-01-01 04:00:00    1.0\n",
      "4017\n",
      "SHAPE\n",
      "(96360, 1)\n",
      "                     value\n",
      "date                      \n",
      "2010-01-01 00:00:00    1.0\n",
      "2010-01-01 01:00:00    1.0\n",
      "2010-01-01 02:00:00    1.0\n",
      "2010-01-01 03:00:00    1.0\n",
      "2010-01-01 04:00:00    1.0\n",
      "4017\n",
      "SHAPE\n",
      "(96312, 1)\n",
      "                     value\n",
      "date                      \n",
      "2010-01-01 00:00:00    0.0\n",
      "2010-01-01 01:00:00    0.0\n",
      "2010-01-01 02:00:00    0.0\n",
      "2010-01-01 03:00:00    0.0\n",
      "2010-01-01 04:00:00    0.0\n",
      "4017\n",
      "SHAPE\n",
      "(80208, 1)\n",
      "                     value\n",
      "date                      \n",
      "2010-01-01 00:00:00    1.0\n",
      "2010-01-01 01:00:00    1.0\n",
      "2010-01-01 02:00:00    1.0\n",
      "2010-01-01 03:00:00    1.0\n",
      "2010-01-01 04:00:00    1.0\n",
      "3344\n",
      "SHAPE\n",
      "(96360, 1)\n",
      "                     value\n",
      "date                      \n",
      "2010-01-01 00:00:00   10.0\n",
      "2010-01-01 01:00:00   14.0\n",
      "2010-01-01 02:00:00   10.0\n",
      "2010-01-01 03:00:00    5.0\n",
      "2010-01-01 04:00:00    3.0\n",
      "3835\n",
      "SHAPE\n",
      "(96360, 1)\n",
      "                     value\n",
      "date                      \n",
      "2010-01-01 00:00:00   17.0\n",
      "2010-01-01 01:00:00   20.0\n",
      "2010-01-01 02:00:00   12.0\n",
      "2010-01-01 03:00:00    9.0\n",
      "2010-01-01 04:00:00    5.0\n",
      "4017\n",
      "SHAPE\n",
      "(70080, 1)\n",
      "                     value\n",
      "date                      \n",
      "2010-01-01 00:00:00   10.0\n",
      "2010-01-01 01:00:00   10.0\n",
      "2010-01-01 02:00:00    7.0\n",
      "2010-01-01 03:00:00    5.0\n",
      "2010-01-01 04:00:00    2.0\n",
      "2876\n",
      "SHAPE\n",
      "(96360, 1)\n",
      "                     value\n",
      "date                      \n",
      "2010-01-01 00:00:00    7.0\n",
      "2010-01-01 01:00:00    4.0\n",
      "2010-01-01 02:00:00    3.0\n",
      "2010-01-01 03:00:00    6.0\n",
      "2010-01-01 04:00:00    2.0\n",
      "4017\n",
      "SHAPE\n",
      "(96360, 1)\n",
      "                     value\n",
      "date                      \n",
      "2010-01-01 00:00:00    NaN\n",
      "2010-01-01 01:00:00    NaN\n",
      "2010-01-01 02:00:00    NaN\n",
      "2010-01-01 03:00:00    NaN\n",
      "2010-01-01 04:00:00    NaN\n",
      "4017\n",
      "SHAPE\n",
      "(96360, 1)\n",
      "                     value\n",
      "date                      \n",
      "2010-01-01 00:00:00    0.0\n",
      "2010-01-01 01:00:00    0.0\n",
      "2010-01-01 02:00:00    0.0\n",
      "2010-01-01 03:00:00    0.0\n",
      "2010-01-01 04:00:00    0.0\n",
      "4017\n",
      "SHAPE\n",
      "(70080, 1)\n",
      "                     value\n",
      "date                      \n",
      "2013-01-01 00:00:00    1.0\n",
      "2013-01-01 01:00:00    1.0\n",
      "2013-01-01 02:00:00    1.0\n",
      "2013-01-01 03:00:00    1.0\n",
      "2013-01-01 04:00:00    1.0\n",
      "2921\n",
      "SHAPE\n",
      "(70080, 1)\n",
      "                     value\n",
      "date                      \n",
      "2013-01-01 00:00:00    1.0\n",
      "2013-01-01 01:00:00    1.0\n",
      "2013-01-01 02:00:00    1.0\n",
      "2013-01-01 03:00:00    1.0\n",
      "2013-01-01 04:00:00    1.0\n",
      "2921\n",
      "SHAPE\n",
      "(61320, 1)\n",
      "                     value\n",
      "date                      \n",
      "2014-01-01 00:00:00    0.0\n",
      "2014-01-01 01:00:00    0.0\n",
      "2014-01-01 02:00:00    1.0\n",
      "2014-01-01 03:00:00    0.0\n",
      "2014-01-01 04:00:00    1.0\n",
      "2556\n",
      "SHAPE\n",
      "(52944, 1)\n",
      "                     value\n",
      "date                      \n",
      "2014-12-16 00:00:00    NaN\n",
      "2014-12-16 01:00:00    NaN\n",
      "2014-12-16 02:00:00    NaN\n",
      "2014-12-16 03:00:00    NaN\n",
      "2014-12-16 04:00:00    NaN\n",
      "2207\n",
      "SHAPE\n",
      "(35040, 1)\n",
      "                     value\n",
      "date                      \n",
      "2017-01-01 00:00:00    0.0\n",
      "2017-01-01 01:00:00    0.0\n",
      "2017-01-01 02:00:00    0.0\n",
      "2017-01-01 03:00:00    NaN\n",
      "2017-01-01 04:00:00    0.0\n",
      "1460\n",
      "SHAPE\n",
      "(26280, 1)\n",
      "                     value\n",
      "date                      \n",
      "2018-01-01 00:00:00    0.3\n",
      "2018-01-01 01:00:00    0.8\n",
      "2018-01-01 02:00:00    0.5\n",
      "2018-01-01 03:00:00    0.3\n",
      "2018-01-01 04:00:00    0.2\n",
      "1095\n",
      "SHAPE\n",
      "(17712, 1)\n",
      "                     value\n",
      "date                      \n",
      "2018-12-24 00:00:00    2.9\n",
      "2018-12-24 01:00:00    0.9\n",
      "2018-12-24 02:00:00    0.9\n",
      "2018-12-24 03:00:00    0.7\n",
      "2018-12-24 04:00:00    0.6\n",
      "738\n",
      "SHAPE\n",
      "(26256, 1)\n",
      "                     value\n",
      "date                      \n",
      "2018-01-01 00:00:00   19.2\n",
      "2018-01-01 01:00:00    3.7\n",
      "2018-01-01 02:00:00   21.8\n",
      "2018-01-01 03:00:00   30.2\n",
      "2018-01-01 04:00:00   42.0\n",
      "1096\n",
      "SHAPE\n",
      "(8760, 1)\n",
      "                     value\n",
      "date                      \n",
      "2020-01-01 00:00:00    0.3\n",
      "2020-01-01 01:00:00    0.4\n",
      "2020-01-01 02:00:00    0.4\n",
      "2020-01-01 03:00:00    0.3\n",
      "2020-01-01 04:00:00    0.3\n",
      "365\n",
      "SHAPE\n",
      "(8760, 1)\n",
      "                     value\n",
      "date                      \n",
      "2020-01-01 00:00:00    0.0\n",
      "2020-01-01 01:00:00    0.0\n",
      "2020-01-01 02:00:00    0.0\n",
      "2020-01-01 03:00:00    0.0\n",
      "2020-01-01 04:00:00    0.0\n",
      "365\n"
     ]
    },
    {
     "ename": "KeyboardInterrupt",
     "evalue": "",
     "output_type": "error",
     "traceback": [
      "\u001b[0;31m---------------------------------------------------------------------------\u001b[0m",
      "\u001b[0;31mKeyboardInterrupt\u001b[0m                         Traceback (most recent call last)",
      "Cell \u001b[0;32mIn [19], line 1\u001b[0m\n\u001b[0;32m----> 1\u001b[0m windows_map \u001b[38;5;241m=\u001b[39m read_ontario(granularity\u001b[38;5;241m=\u001b[39m\u001b[38;5;124m'\u001b[39m\u001b[38;5;124mdaily\u001b[39m\u001b[38;5;124m'\u001b[39m, cache\u001b[38;5;241m=\u001b[39m\u001b[38;5;28;01mFalse\u001b[39;00m)\n\u001b[1;32m      2\u001b[0m pollutans \u001b[38;5;241m=\u001b[39m POLLUTANTS\n",
      "File \u001b[0;32m~/Documentos/Airquality/contrastive_learning_airq/source/read_ontario.py:52\u001b[0m, in \u001b[0;36mread_ontario\u001b[0;34m(granularity, cache, maxMissing)\u001b[0m\n\u001b[1;32m     50\u001b[0m \u001b[39mif\u001b[39;00m granularity \u001b[39m==\u001b[39m \u001b[39m'\u001b[39m\u001b[39mdaily\u001b[39m\u001b[39m'\u001b[39m:\n\u001b[1;32m     51\u001b[0m     dateStr \u001b[39m=\u001b[39m \u001b[39m'\u001b[39m\u001b[39m{}\u001b[39;00m\u001b[39mT\u001b[39m\u001b[39m{}\u001b[39;00m\u001b[39m:00:00.000000000\u001b[39m\u001b[39m'\u001b[39m\u001b[39m.\u001b[39mformat(row[\u001b[39m'\u001b[39m\u001b[39mDate\u001b[39m\u001b[39m'\u001b[39m], hoursD[k])\n\u001b[0;32m---> 52\u001b[0m     date \u001b[39m=\u001b[39m pd\u001b[39m.\u001b[39;49mto_datetime(dateStr, infer_datetime_format\u001b[39m=\u001b[39;49m\u001b[39mTrue\u001b[39;49;00m)\n\u001b[1;32m     53\u001b[0m     dates\u001b[39m.\u001b[39mappend(date)\n\u001b[1;32m     54\u001b[0m \u001b[39melif\u001b[39;00m k \u001b[39m==\u001b[39m \u001b[39m0\u001b[39m:\n",
      "File \u001b[0;32m~/anaconda3/envs/clearn/lib/python3.8/site-packages/pandas/core/tools/datetimes.py:914\u001b[0m, in \u001b[0;36mto_datetime\u001b[0;34m(arg, errors, dayfirst, yearfirst, utc, format, exact, unit, infer_datetime_format, origin, cache)\u001b[0m\n\u001b[1;32m    912\u001b[0m         result \u001b[39m=\u001b[39m convert_listlike(arg, \u001b[39mformat\u001b[39m)\n\u001b[1;32m    913\u001b[0m \u001b[39melse\u001b[39;00m:\n\u001b[0;32m--> 914\u001b[0m     result \u001b[39m=\u001b[39m convert_listlike(np\u001b[39m.\u001b[39;49marray([arg]), \u001b[39mformat\u001b[39;49m)[\u001b[39m0\u001b[39;49m]\n\u001b[1;32m    916\u001b[0m \u001b[39m#  error: Incompatible return value type (got \"Union[Timestamp, NaTType,\u001b[39;00m\n\u001b[1;32m    917\u001b[0m \u001b[39m# Series, Index]\", expected \"Union[DatetimeIndex, Series, float, str,\u001b[39;00m\n\u001b[1;32m    918\u001b[0m \u001b[39m# NaTType, None]\")\u001b[39;00m\n\u001b[1;32m    919\u001b[0m \u001b[39mreturn\u001b[39;00m result\n",
      "File \u001b[0;32m~/anaconda3/envs/clearn/lib/python3.8/site-packages/pandas/core/indexes/extension.py:279\u001b[0m, in \u001b[0;36mExtensionIndex.__getitem__\u001b[0;34m(self, key)\u001b[0m\n\u001b[1;32m    278\u001b[0m \u001b[39mdef\u001b[39;00m \u001b[39m__getitem__\u001b[39m(\u001b[39mself\u001b[39m, key):\n\u001b[0;32m--> 279\u001b[0m     result \u001b[39m=\u001b[39m \u001b[39mself\u001b[39;49m\u001b[39m.\u001b[39;49m_data[key]\n\u001b[1;32m    280\u001b[0m     \u001b[39mif\u001b[39;00m \u001b[39misinstance\u001b[39m(result, \u001b[39mtype\u001b[39m(\u001b[39mself\u001b[39m\u001b[39m.\u001b[39m_data)):\n\u001b[1;32m    281\u001b[0m         \u001b[39mif\u001b[39;00m result\u001b[39m.\u001b[39mndim \u001b[39m==\u001b[39m \u001b[39m1\u001b[39m:\n",
      "File \u001b[0;32m~/anaconda3/envs/clearn/lib/python3.8/site-packages/pandas/core/arrays/datetimelike.py:322\u001b[0m, in \u001b[0;36mDatetimeLikeArrayMixin.__getitem__\u001b[0;34m(self, key)\u001b[0m\n\u001b[1;32m    315\u001b[0m \u001b[39mdef\u001b[39;00m \u001b[39m__getitem__\u001b[39m(\n\u001b[1;32m    316\u001b[0m     \u001b[39mself\u001b[39m, key: PositionalIndexer2D\n\u001b[1;32m    317\u001b[0m ) \u001b[39m-\u001b[39m\u001b[39m>\u001b[39m DatetimeLikeArrayMixin \u001b[39m|\u001b[39m DTScalarOrNaT:\n\u001b[1;32m    318\u001b[0m     \u001b[39m\"\"\"\u001b[39;00m\n\u001b[1;32m    319\u001b[0m \u001b[39m    This getitem defers to the underlying array, which by-definition can\u001b[39;00m\n\u001b[1;32m    320\u001b[0m \u001b[39m    only handle list-likes, slices, and integer scalars\u001b[39;00m\n\u001b[1;32m    321\u001b[0m \u001b[39m    \"\"\"\u001b[39;00m\n\u001b[0;32m--> 322\u001b[0m     result \u001b[39m=\u001b[39m \u001b[39msuper\u001b[39;49m()\u001b[39m.\u001b[39;49m\u001b[39m__getitem__\u001b[39;49m(key)\n\u001b[1;32m    323\u001b[0m     \u001b[39mif\u001b[39;00m lib\u001b[39m.\u001b[39mis_scalar(result):\n\u001b[1;32m    324\u001b[0m         \u001b[39mreturn\u001b[39;00m result\n",
      "File \u001b[0;32m~/anaconda3/envs/clearn/lib/python3.8/site-packages/pandas/core/arrays/_mixins.py:196\u001b[0m, in \u001b[0;36mNDArrayBackedExtensionArray.__getitem__\u001b[0;34m(self, key)\u001b[0m\n\u001b[1;32m    194\u001b[0m     result \u001b[39m=\u001b[39m \u001b[39mself\u001b[39m\u001b[39m.\u001b[39m_ndarray[key]\n\u001b[1;32m    195\u001b[0m     \u001b[39mif\u001b[39;00m \u001b[39mself\u001b[39m\u001b[39m.\u001b[39mndim \u001b[39m==\u001b[39m \u001b[39m1\u001b[39m:\n\u001b[0;32m--> 196\u001b[0m         \u001b[39mreturn\u001b[39;00m \u001b[39mself\u001b[39;49m\u001b[39m.\u001b[39;49m_box_func(result)\n\u001b[1;32m    197\u001b[0m     \u001b[39mreturn\u001b[39;00m \u001b[39mself\u001b[39m\u001b[39m.\u001b[39m_from_backing_data(result)\n\u001b[1;32m    199\u001b[0m \u001b[39m# error: Value of type variable \"AnyArrayLike\" of \"extract_array\" cannot be\u001b[39;00m\n\u001b[1;32m    200\u001b[0m \u001b[39m# \"Union[int, slice, ndarray]\"\u001b[39;00m\n\u001b[1;32m    201\u001b[0m \u001b[39m# error: Incompatible types in assignment (expression has type \"ExtensionArray\",\u001b[39;00m\n\u001b[1;32m    202\u001b[0m \u001b[39m# variable has type \"Union[int, slice, ndarray]\")\u001b[39;00m\n",
      "File \u001b[0;32m~/anaconda3/envs/clearn/lib/python3.8/site-packages/pandas/core/arrays/datetimes.py:512\u001b[0m, in \u001b[0;36mDatetimeArray._box_func\u001b[0;34m(self, x)\u001b[0m\n\u001b[1;32m    511\u001b[0m \u001b[39mdef\u001b[39;00m \u001b[39m_box_func\u001b[39m(\u001b[39mself\u001b[39m, x) \u001b[39m-\u001b[39m\u001b[39m>\u001b[39m Timestamp \u001b[39m|\u001b[39m NaTType:\n\u001b[0;32m--> 512\u001b[0m     ts \u001b[39m=\u001b[39m Timestamp(x, tz\u001b[39m=\u001b[39;49m\u001b[39mself\u001b[39;49m\u001b[39m.\u001b[39;49mtz)\n\u001b[1;32m    513\u001b[0m     \u001b[39m# Non-overlapping identity check (left operand type: \"Timestamp\",\u001b[39;00m\n\u001b[1;32m    514\u001b[0m     \u001b[39m# right operand type: \"NaTType\")\u001b[39;00m\n\u001b[1;32m    515\u001b[0m     \u001b[39mif\u001b[39;00m ts \u001b[39mis\u001b[39;00m \u001b[39mnot\u001b[39;00m NaT:  \u001b[39m# type: ignore[comparison-overlap]\u001b[39;00m\n\u001b[1;32m    516\u001b[0m         \u001b[39m# GH#41586\u001b[39;00m\n\u001b[1;32m    517\u001b[0m         \u001b[39m# do this instead of passing to the constructor to avoid FutureWarning\u001b[39;00m\n",
      "\u001b[0;31mKeyboardInterrupt\u001b[0m: "
     ]
    }
   ],
   "source": [
    "windows_map = read_ontario(granularity='months', cache=False)\n",
    "pollutans = POLLUTANTS\n",
    "# windows, dates, station_ids, stations = commonWindows(windows_map, pollutans)"
   ]
  },
  {
   "cell_type": "code",
   "execution_count": 18,
   "metadata": {},
   "outputs": [
    {
     "ename": "KeyError",
     "evalue": "'PM25'",
     "output_type": "error",
     "traceback": [
      "\u001b[0;31m---------------------------------------------------------------------------\u001b[0m",
      "\u001b[0;31mKeyError\u001b[0m                                  Traceback (most recent call last)",
      "Cell \u001b[0;32mIn [18], line 3\u001b[0m\n\u001b[1;32m      1\u001b[0m \u001b[38;5;66;03m# windows_map['SO2'][13001]['2010-1'][0].shape\u001b[39;00m\n\u001b[1;32m      2\u001b[0m \u001b[38;5;66;03m# windows_map\u001b[39;00m\n\u001b[0;32m----> 3\u001b[0m windows, dates, station_ids, stations \u001b[38;5;241m=\u001b[39m commonWindows(windows_map, pollutans)\n",
      "File \u001b[0;32m~/Documentos/Airquality/contrastive_learning_airq/source/utils.py:137\u001b[0m, in \u001b[0;36mcommonWindows\u001b[0;34m(windows_map, pollutants)\u001b[0m\n\u001b[1;32m    135\u001b[0m stations \u001b[39m=\u001b[39m []\n\u001b[1;32m    136\u001b[0m \u001b[39mfor\u001b[39;00m pol \u001b[39min\u001b[39;00m pollutants:\n\u001b[0;32m--> 137\u001b[0m     stations \u001b[39m=\u001b[39m stations \u001b[39m+\u001b[39m \u001b[39mlist\u001b[39m(windows_map[pol]\u001b[39m.\u001b[39mkeys()) \n\u001b[1;32m    138\u001b[0m stations \u001b[39m=\u001b[39m np\u001b[39m.\u001b[39munique(np\u001b[39m.\u001b[39marray(stations))\n\u001b[1;32m    139\u001b[0m all_windows \u001b[39m=\u001b[39m []\n",
      "\u001b[0;31mKeyError\u001b[0m: 'PM25'"
     ]
    }
   ],
   "source": [
    "# windows_map['SO2'][13001]['2010-1'][0].shape\n",
    "# windows_map\n",
    "windows, dates, station_ids, stations = commonWindows(windows_map, pollutans)"
   ]
  },
  {
   "cell_type": "markdown",
   "metadata": {},
   "source": [
    "windows.shape"
   ]
  },
  {
   "cell_type": "code",
   "execution_count": null,
   "metadata": {},
   "outputs": [
    {
     "data": {
      "text/plain": [
       "(358,)"
      ]
     },
     "execution_count": 4,
     "metadata": {},
     "output_type": "execute_result"
    }
   ],
   "source": [
    "windows.shape\n",
    "dates.shape"
   ]
  },
  {
   "cell_type": "code",
   "execution_count": null,
   "metadata": {},
   "outputs": [],
   "source": [
    "month_ids = np.array([date.month for date in dates])\n",
    "year_ids = np.array([date.year for date in dates])\n",
    "\n",
    "\n",
    "stations_map = {int(i):str(stations[i]) for i in range(len(stations))}\n",
    "months_map = {int(i):str(i) for i in range(1, 13)}\n",
    "years_map = {int(year) : str(year) for year in year_ids}"
   ]
  },
  {
   "cell_type": "code",
   "execution_count": null,
   "metadata": {},
   "outputs": [
    {
     "name": "stdout",
     "output_type": "stream",
     "text": [
      "Loaded mts - N: 358, T: 28, D: 3 \n"
     ]
    }
   ],
   "source": [
    "mts = TSerie(X=windows, y = station_ids)\n",
    "\n",
    "if SMOOTH > 0:\n",
    "    mts.smooth(window_size=SMOOTH)\n",
    "\n",
    "if MODE == 'shape':\n",
    "    mts.shapeNormalizization()\n",
    "else:\n",
    "    mts.minMaxNormalizization()\n"
   ]
  },
  {
   "cell_type": "code",
   "execution_count": null,
   "metadata": {},
   "outputs": [
    {
     "data": {
      "text/html": [
       "<pre style=\"white-space:pre;overflow-x:auto;line-height:normal;font-family:Menlo,'DejaVu Sans Mono',consolas,'Courier New',monospace\">Subsequence length: <span style=\"color: #008080; text-decoration-color: #008080; font-weight: bold\">26</span>\n",
       "</pre>\n"
      ],
      "text/plain": [
       "Subsequence length: \u001b[1;36m26\u001b[0m\n"
      ]
     },
     "metadata": {},
     "output_type": "display_data"
    },
    {
     "data": {
      "text/html": [
       "<pre style=\"white-space:pre;overflow-x:auto;line-height:normal;font-family:Menlo,'DejaVu Sans Mono',consolas,'Courier New',monospace\">Epoch<span style=\"font-weight: bold\">[</span><span style=\"color: #008080; text-decoration-color: #008080; font-weight: bold\">1</span><span style=\"font-weight: bold\">]</span> Train loss    avg: <span style=\"color: #008080; text-decoration-color: #008080; font-weight: bold\">12.162676493326822</span>\n",
       "</pre>\n"
      ],
      "text/plain": [
       "Epoch\u001b[1m[\u001b[0m\u001b[1;36m1\u001b[0m\u001b[1m]\u001b[0m Train loss    avg: \u001b[1;36m12.162676493326822\u001b[0m\n"
      ]
     },
     "metadata": {},
     "output_type": "display_data"
    },
    {
     "data": {
      "text/html": [
       "<pre style=\"white-space:pre;overflow-x:auto;line-height:normal;font-family:Menlo,'DejaVu Sans Mono',consolas,'Courier New',monospace\">Epoch<span style=\"font-weight: bold\">[</span><span style=\"color: #008080; text-decoration-color: #008080; font-weight: bold\">10</span><span style=\"font-weight: bold\">]</span> Train loss    avg: <span style=\"color: #008080; text-decoration-color: #008080; font-weight: bold\">6.648983160654704</span>\n",
       "</pre>\n"
      ],
      "text/plain": [
       "Epoch\u001b[1m[\u001b[0m\u001b[1;36m10\u001b[0m\u001b[1m]\u001b[0m Train loss    avg: \u001b[1;36m6.648983160654704\u001b[0m\n"
      ]
     },
     "metadata": {},
     "output_type": "display_data"
    },
    {
     "data": {
      "text/html": [
       "<pre style=\"white-space:pre;overflow-x:auto;line-height:normal;font-family:Menlo,'DejaVu Sans Mono',consolas,'Courier New',monospace\">Epoch<span style=\"font-weight: bold\">[</span><span style=\"color: #008080; text-decoration-color: #008080; font-weight: bold\">20</span><span style=\"font-weight: bold\">]</span> Train loss    avg: <span style=\"color: #008080; text-decoration-color: #008080; font-weight: bold\">6.120406309763591</span>\n",
       "</pre>\n"
      ],
      "text/plain": [
       "Epoch\u001b[1m[\u001b[0m\u001b[1;36m20\u001b[0m\u001b[1m]\u001b[0m Train loss    avg: \u001b[1;36m6.120406309763591\u001b[0m\n"
      ]
     },
     "metadata": {},
     "output_type": "display_data"
    },
    {
     "data": {
      "text/html": [
       "<pre style=\"white-space:pre;overflow-x:auto;line-height:normal;font-family:Menlo,'DejaVu Sans Mono',consolas,'Courier New',monospace\">Epoch<span style=\"font-weight: bold\">[</span><span style=\"color: #008080; text-decoration-color: #008080; font-weight: bold\">30</span><span style=\"font-weight: bold\">]</span> Train loss    avg: <span style=\"color: #008080; text-decoration-color: #008080; font-weight: bold\">5.847539742787679</span>\n",
       "</pre>\n"
      ],
      "text/plain": [
       "Epoch\u001b[1m[\u001b[0m\u001b[1;36m30\u001b[0m\u001b[1m]\u001b[0m Train loss    avg: \u001b[1;36m5.847539742787679\u001b[0m\n"
      ]
     },
     "metadata": {},
     "output_type": "display_data"
    },
    {
     "data": {
      "text/html": [
       "<pre style=\"white-space:pre;overflow-x:auto;line-height:normal;font-family:Menlo,'DejaVu Sans Mono',consolas,'Courier New',monospace\">Epoch<span style=\"font-weight: bold\">[</span><span style=\"color: #008080; text-decoration-color: #008080; font-weight: bold\">40</span><span style=\"font-weight: bold\">]</span> Train loss    avg: <span style=\"color: #008080; text-decoration-color: #008080; font-weight: bold\">5.639392693837483</span>\n",
       "</pre>\n"
      ],
      "text/plain": [
       "Epoch\u001b[1m[\u001b[0m\u001b[1;36m40\u001b[0m\u001b[1m]\u001b[0m Train loss    avg: \u001b[1;36m5.639392693837483\u001b[0m\n"
      ]
     },
     "metadata": {},
     "output_type": "display_data"
    }
   ],
   "source": [
    "\n",
    "mts.features = getContrastiveFeatures(\n",
    "    mts.X.transpose([0, 2, 1]), mts.y, \n",
    "    epochs = EPOCHS, \n",
    "    batch_size = BATCH_SIZE, \n",
    "    loss_metric= LOSS, \n",
    "    mode = MODE, \n",
    "    encoding_size = ENC_SIZE,\n",
    "    conv_filters = CONV_FILTERS,\n",
    "    conv_kernels = CONV_KERNELS,\n",
    "    use_KL_regularizer = True,\n",
    "    feat_size=512,\n",
    ")"
   ]
  },
  {
   "cell_type": "code",
   "execution_count": null,
   "metadata": {},
   "outputs": [],
   "source": []
  },
  {
   "cell_type": "code",
   "execution_count": null,
   "metadata": {},
   "outputs": [
    {
     "data": {
      "text/plain": [
       "<matplotlib.collections.PathCollection at 0x7fe7b4f779a0>"
      ]
     },
     "execution_count": 8,
     "metadata": {},
     "output_type": "execute_result"
    },
    {
     "data": {
      "image/png": "[encoded data removed]",
      "text/plain": [
       "<Figure size 640x480 with 1 Axes>"
      ]
     },
     "metadata": {},
     "output_type": "display_data"
    }
   ],
   "source": [
    "import umap\n",
    "from sklearn.manifold import TSNE\n",
    "import matplotlib.pyplot as plt\n",
    "# reducer = umap.UMAP(n_components=2, metric='euclidean', n_neighbors=30)\n",
    "reducer = UMAP(n_components=2, n_neighbors=10, min_dist=0.1)\n",
    "# reducer = UMAP(n_components=2, n_neighbors=10, min_dist=0.1)\n",
    "# reducer = TSNE(n_components=2, metric='euclidean')\n",
    "\n",
    "coords = reducer.fit_transform(mts.features, y = month_ids)\n",
    "# coords = reducer.fit_transform(mts.features)\n",
    "plt.scatter(coords[:, 0], coords[:, 1])"
   ]
  },
  {
   "cell_type": "code",
   "execution_count": null,
   "metadata": {},
   "outputs": [],
   "source": [
    "# year_ids[year_ids==2011]"
   ]
  },
  {
   "cell_type": "code",
   "execution_count": null,
   "metadata": {},
   "outputs": [],
   "source": [
    "# mts.features.min()\n",
    "from sklearn.decomposition import PCA\n",
    "d = mts.X.shape[2]\n",
    "n = mts.X.shape[0]\n",
    "\n",
    "features = mts.features.reshape([n, int(mts.features.shape[1] / d), d])\n",
    "dfeatures = np.zeros([n, d])\n",
    "for i in range(d):\n",
    "    reducer = PCA(n_components=1)\n",
    "    dfeatures[:,i] = reducer.fit_transform(features[:, :, i]).squeeze()\n"
   ]
  },
  {
   "cell_type": "code",
   "execution_count": null,
   "metadata": {},
   "outputs": [],
   "source": [
    "# dfeatures.shape\n",
    "# year_ids.shape\n",
    "# dfeatures[year_ids==2011].shape\n",
    "# dfeatures[year_ids!=2011].shape"
   ]
  },
  {
   "cell_type": "code",
   "execution_count": null,
   "metadata": {},
   "outputs": [],
   "source": [
    "\n",
    "\n"
   ]
  },
  {
   "cell_type": "code",
   "execution_count": null,
   "metadata": {},
   "outputs": [],
   "source": [
    "years = np.unique(month_ids)\n",
    "group_ids = month_ids\n",
    "\n",
    "fcs = []\n",
    "\n",
    "for target in years:\n",
    "\n",
    "    ccpca = CCPCA(n_components=1)\n",
    "    # target = 2012\n",
    "    ccpca.fit(\n",
    "        dfeatures[group_ids==target],\n",
    "        dfeatures[group_ids!=target],\n",
    "        var_thres_ratio=0.5,\n",
    "        n_alphas=40,\n",
    "        max_log_alpha=0.5,\n",
    "    )\n",
    "\n",
    "\n",
    "    coords2 = ccpca.transform(dfeatures[group_ids==target])\n",
    "    # coords2 = ccpca.transform(dfeatures[year_ids!=2011])\n",
    "    # coords2 = ccpca.transform(dfeatures)\n",
    "    best_alpha = ccpca.get_best_alpha()\n",
    "    cpca_fcs = ccpca.get_feat_contribs()\n",
    "    fcs.append(cpca_fcs)\n",
    "    # print(cpca_fcs)\n",
    "    # print(best_alpha)\n",
    "    # plt.scatter(coords2[:, 0], coords2[:, 1])\n"
   ]
  },
  {
   "cell_type": "code",
   "execution_count": null,
   "metadata": {},
   "outputs": [
    {
     "name": "stdout",
     "output_type": "stream",
     "text": [
      "[ 1  2  3  4  5  6  7  8  9 10 11 12]\n"
     ]
    },
    {
     "data": {
      "text/plain": [
       "<BarContainer object of 12 artists>"
      ]
     },
     "execution_count": 13,
     "metadata": {},
     "output_type": "execute_result"
    },
    {
     "data": {
      "image/png": "[encoded data removed]",
      "text/plain": [
       "<Figure size 640x480 with 1 Axes>"
      ]
     },
     "metadata": {},
     "output_type": "display_data"
    }
   ],
   "source": [
    "print(years)\n",
    "fcs = np.array(fcs)\n",
    "\n",
    "fig = plt.figure()\n",
    "ax = fig.add_axes([0,0,1,1])\n",
    "X = np.array([i for i in range (len(years))])\n",
    "ax.bar(X + 0.00, fcs[:,0], color = 'b', width = 0.25)\n",
    "ax.bar(X + 0.25, fcs[:,1], color = 'g', width = 0.25)\n",
    "ax.bar(X + 0.50, fcs[:,2], color = 'r', width = 0.25)\n",
    "# plt.bar(, fcs[:,0])"
   ]
  },
  {
   "cell_type": "code",
   "execution_count": null,
   "metadata": {},
   "outputs": [
    {
     "name": "stdout",
     "output_type": "stream",
     "text": [
      "mts shape: N: 358 -  T: 28 - D: 6\n"
     ]
    }
   ],
   "source": [
    "from server.source.storage import MTSStorage\n",
    "\n",
    "# storage = MTSStorage(os.path.join(VIS_PATH ,'ontario_months.npy'))    \n",
    "storage = MTSStorage(os.path.join(VIS_PATH ,'ontario_days.npy'))    \n",
    "# storage.delete()\n",
    "storage.load()\n",
    "\n",
    "dimensions = pollutans\n",
    "data = np.concatenate([mts.X_orig, mts.X], axis=2) \n",
    "storage.add_mts(\n",
    "    '_'.join(POLLUTANTS) , data , \n",
    "    dimensions = dimensions + [dim+ '_norm' for dim in dimensions], \n",
    "    labels = {'station': station_ids, 'months': month_ids, 'years': year_ids}, \n",
    "    labelsNames={'station': stations_map, 'months': months_map, 'years': years_map}, \n",
    "    coords = {\n",
    "        'coords': coords,\n",
    "    },\n",
    "    sampling=True,\n",
    "    n_samples= N_VIZ_SAMPLES\n",
    ")\n",
    "\n",
    "storage.save()"
   ]
  },
  {
   "cell_type": "markdown",
   "metadata": {},
   "source": []
  },
  {
   "cell_type": "markdown",
   "metadata": {},
   "source": [
    "!pwd"
   ]
  },
  {
   "cell_type": "code",
   "execution_count": null,
   "metadata": {},
   "outputs": [],
   "source": []
  }
 ],
 "metadata": {
  "kernelspec": {
   "display_name": "Python 3.10.4 ('contrastive')",
   "language": "python",
   "name": "python3"
  },
  "language_info": {
   "codemirror_mode": {
    "name": "ipython",
    "version": 3
   },
   "file_extension": ".py",
   "mimetype": "text/x-python",
   "name": "python",
   "nbconvert_exporter": "python",
   "pygments_lexer": "ipython3",
   "version": "3.10.4"
  },
  "orig_nbformat": 4,
  "vscode": {
   "interpreter": {
    "hash": "af38bbb6e377e6d688e9d49e963edf808fac73a4ecd279c84061bb0d9783d83c"
   }
  }
 },
 "nbformat": 4,
 "nbformat_minor": 2
}
