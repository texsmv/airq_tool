{
 "cells": [
  {
   "cell_type": "code",
   "execution_count": 1,
   "metadata": {},
   "outputs": [
    {
     "name": "stderr",
     "output_type": "stream",
     "text": [
      "/home/texs/anaconda3/envs/clearn/lib/python3.8/site-packages/tqdm/auto.py:22: TqdmWarning: IProgress not found. Please update jupyter and ipywidgets. See https://ipywidgets.readthedocs.io/en/stable/user_install.html\n",
      "  from .autonotebook import tqdm as notebook_tqdm\n"
     ]
    }
   ],
   "source": [
    "%reload_ext autoreload\n",
    "%autoreload 2\n",
    "\n",
    "import numpy as np\n",
    "from source.tserie import TSerie\n",
    "from source.featlearn.tdr import TDR\n",
    "from source.torch_utils import getContrastiveFeatures\n",
    "from source.read_ontario import read_ontario\n",
    "from source.read_india import read_india\n",
    "from source.read_brasil import read_brasil\n",
    "from source.utils import commonWindows\n",
    "from cuml.manifold import UMAP\n",
    "from source.featlearn.autoencoder_lr import AutoencoderFL\n",
    "import sys\n",
    "\n",
    "sys.path.append('/home/texs/Documentos/Repositories/ts2vec')\n",
    "from ts2vec import TS2Vec\n",
    "# from cuml.manifold import UMAP\n",
    "\n",
    "N_VIZ_SAMPLES = 600\n",
    "VIS_PATH = 'visualizations'\n",
    "SMOOTH = 8 # 8 -1 if you don't want to smooth the data otherwise the size of the smooth window\n",
    "MODE = 'shape' # subsequences - shape\n",
    "EPOCHS = 40\n",
    "POLLUTANTS = ['O3', 'PM25'] # ['NO', 'NOx', 'NO2', 'SO2', 'CO', 'O3', 'PM25']\n",
    "UMAP_NEIGHBORS = 15\n",
    "\n"
   ]
  },
  {
   "cell_type": "code",
   "execution_count": 2,
   "metadata": {},
   "outputs": [],
   "source": [
    "windows_map = read_ontario(granularity='years', cache=True)\n",
    "\n",
    "windows, dates, station_ids, stations = commonWindows(windows_map, POLLUTANTS)"
   ]
  },
  {
   "cell_type": "code",
   "execution_count": 3,
   "metadata": {},
   "outputs": [],
   "source": [
    "# windows.shape"
   ]
  },
  {
   "cell_type": "code",
   "execution_count": 6,
   "metadata": {},
   "outputs": [],
   "source": [
    "cae = AutoencoderFL(windows.shape[2], windows.shape[1], feature_size=40)"
   ]
  },
  {
   "cell_type": "code",
   "execution_count": 8,
   "metadata": {},
   "outputs": [
    {
     "name": "stdout",
     "output_type": "stream",
     "text": [
      "Loaded mts - N: 380, T: 365, D: 2 \n",
      "(380, 2, 365)\n"
     ]
    }
   ],
   "source": [
    "\n",
    "# X = np.transpose(windows, [0, 2, 1])\n",
    "# X = windows\n",
    "mts = TSerie(X=windows, y =None)\n",
    "# mts.smooth(8)\n",
    "mts.minMaxNormalizization()\n",
    "mts.smooth(50)"
   ]
  },
  {
   "cell_type": "code",
   "execution_count": null,
   "metadata": {},
   "outputs": [],
   "source": []
  },
  {
   "cell_type": "code",
   "execution_count": 9,
   "metadata": {},
   "outputs": [
    {
     "data": {
      "text/plain": [
       "(380, 365, 2)"
      ]
     },
     "execution_count": 9,
     "metadata": {},
     "output_type": "execute_result"
    }
   ],
   "source": [
    "X = mts.X\n",
    "X.shape"
   ]
  },
  {
   "cell_type": "code",
   "execution_count": 25,
   "metadata": {},
   "outputs": [
    {
     "name": "stdout",
     "output_type": "stream",
     "text": [
      "Epoch[1] Train loss    avg: 0.00027760714874602854\n",
      "Epoch[4] Train loss    avg: 0.0005035321664763615\n",
      "Epoch[8] Train loss    avg: 0.0002947584871435538\n",
      "Epoch[12] Train loss    avg: 0.00021688070410164073\n",
      "Epoch[16] Train loss    avg: 0.0002461820185999386\n",
      "Epoch[20] Train loss    avg: 0.00027329326258040965\n",
      "Epoch[24] Train loss    avg: 0.0003031510641449131\n",
      "Epoch[28] Train loss    avg: 0.00024810974719002843\n",
      "Epoch[32] Train loss    avg: 0.00027951784431934357\n",
      "Epoch[36] Train loss    avg: 0.00019556573533918709\n",
      "Epoch[40] Train loss    avg: 0.00020559684344334528\n",
      "Epoch[44] Train loss    avg: 0.0001952072125277482\n",
      "Epoch[48] Train loss    avg: 0.0001792845650925301\n",
      "Epoch[52] Train loss    avg: 0.000176652982190717\n",
      "Epoch[56] Train loss    avg: 0.0001835822477005422\n",
      "Epoch[60] Train loss    avg: 0.00018490199727239087\n",
      "Epoch[64] Train loss    avg: 0.00019734984380193055\n",
      "Epoch[68] Train loss    avg: 0.00019156393682351336\n",
      "Epoch[72] Train loss    avg: 0.000197128982108552\n",
      "Epoch[76] Train loss    avg: 0.0001658313412917778\n",
      "Epoch[80] Train loss    avg: 0.00016628866433165967\n",
      "Epoch[84] Train loss    avg: 0.00021721437224186957\n",
      "Epoch[88] Train loss    avg: 0.00018881005962612107\n",
      "Epoch[92] Train loss    avg: 0.00016670015611452982\n",
      "Epoch[96] Train loss    avg: 0.00021085405023768544\n",
      "Epoch[100] Train loss    avg: 0.0002719248368521221\n",
      "Epoch[104] Train loss    avg: 0.00018512826500227675\n",
      "Epoch[108] Train loss    avg: 0.00021866220777155831\n",
      "Epoch[112] Train loss    avg: 0.00017219655273947865\n",
      "Epoch[116] Train loss    avg: 0.00017324552027275786\n",
      "Epoch[120] Train loss    avg: 0.00016296417015837505\n",
      "Epoch[124] Train loss    avg: 0.00016581797535764053\n",
      "Epoch[128] Train loss    avg: 0.00017018742073560134\n",
      "Epoch[132] Train loss    avg: 0.00016179231170099229\n",
      "Epoch[136] Train loss    avg: 0.0001928713172674179\n",
      "Epoch[140] Train loss    avg: 0.00015501760935876518\n",
      "Epoch[144] Train loss    avg: 0.0002413534966763109\n",
      "Epoch[148] Train loss    avg: 0.00015959265147102997\n",
      "Epoch[152] Train loss    avg: 0.0001451671269023791\n",
      "Epoch[156] Train loss    avg: 0.00016031583800213411\n",
      "Epoch[160] Train loss    avg: 0.00018759175873128697\n",
      "Epoch[164] Train loss    avg: 0.00024152503465302289\n",
      "Epoch[168] Train loss    avg: 0.00014987902250140905\n",
      "Epoch[172] Train loss    avg: 0.00016203163977479562\n",
      "Epoch[176] Train loss    avg: 0.0001271879009436816\n",
      "Epoch[180] Train loss    avg: 0.00012315439380472526\n",
      "Epoch[184] Train loss    avg: 0.00014884686970617622\n",
      "Epoch[188] Train loss    avg: 0.0001321596500929445\n",
      "Epoch[192] Train loss    avg: 0.0001623821590328589\n",
      "Epoch[196] Train loss    avg: 0.00013560712977778167\n",
      "Epoch[200] Train loss    avg: 0.00017660579760558903\n",
      "Epoch[204] Train loss    avg: 0.0001362549555778969\n",
      "Epoch[208] Train loss    avg: 0.00022508717665914446\n",
      "Epoch[212] Train loss    avg: 0.00021946732886135578\n",
      "Epoch[216] Train loss    avg: 0.00013895003939978778\n",
      "Epoch[220] Train loss    avg: 0.00013647336891153827\n",
      "Epoch[224] Train loss    avg: 0.0001345014497928787\n",
      "Epoch[228] Train loss    avg: 0.00012068021533195861\n",
      "Epoch[232] Train loss    avg: 0.00012640970817301422\n",
      "Epoch[236] Train loss    avg: 0.00021238687622826546\n",
      "Epoch[240] Train loss    avg: 0.00017853295867098495\n",
      "Epoch[244] Train loss    avg: 0.00015582985361106694\n",
      "Epoch[248] Train loss    avg: 0.00012466288899304345\n",
      "Epoch[252] Train loss    avg: 0.00012564596909214742\n",
      "Epoch[256] Train loss    avg: 0.00012060895096510649\n",
      "Epoch[260] Train loss    avg: 0.00014598663983633742\n",
      "Epoch[264] Train loss    avg: 0.00014127591930446215\n",
      "Epoch[268] Train loss    avg: 0.00011566753528313711\n",
      "Epoch[272] Train loss    avg: 0.00014381529035745189\n",
      "Epoch[276] Train loss    avg: 0.00010817796646733768\n",
      "Epoch[280] Train loss    avg: 0.00015155314758885652\n",
      "Epoch[284] Train loss    avg: 0.00021726929480792023\n",
      "Epoch[288] Train loss    avg: 0.00011589302812353708\n",
      "Epoch[292] Train loss    avg: 0.00014358514454215765\n",
      "Epoch[296] Train loss    avg: 0.00013663588470080867\n",
      "Epoch[300] Train loss    avg: 0.00013037406824878417\n",
      "Epoch[304] Train loss    avg: 0.0006126596126705408\n",
      "Epoch[308] Train loss    avg: 0.0002512537539587356\n",
      "Epoch[312] Train loss    avg: 0.0002831601887010038\n",
      "Epoch[316] Train loss    avg: 0.0002910425901063718\n",
      "Epoch[320] Train loss    avg: 0.00017768846737453714\n",
      "Epoch[324] Train loss    avg: 0.00020983901049476117\n",
      "Epoch[328] Train loss    avg: 0.00015155076835071668\n",
      "Epoch[332] Train loss    avg: 0.00019116461044177413\n",
      "Epoch[336] Train loss    avg: 0.00016597483772784472\n",
      "Epoch[340] Train loss    avg: 0.00015347820590250194\n",
      "Epoch[344] Train loss    avg: 0.00014949723845347762\n",
      "Epoch[348] Train loss    avg: 0.00015211026038741693\n",
      "Epoch[352] Train loss    avg: 0.00013298928388394415\n",
      "Epoch[356] Train loss    avg: 0.00015565309877274558\n",
      "Epoch[360] Train loss    avg: 0.00015134907880565152\n",
      "Epoch[364] Train loss    avg: 0.00015206103853415698\n",
      "Epoch[368] Train loss    avg: 0.00017349076370010152\n",
      "Epoch[372] Train loss    avg: 0.00024606169608887285\n",
      "Epoch[376] Train loss    avg: 0.00015053941024234518\n",
      "Epoch[380] Train loss    avg: 0.0001611281477380544\n",
      "Epoch[384] Train loss    avg: 0.000123997924674768\n",
      "Epoch[388] Train loss    avg: 0.00014032281978870742\n",
      "Epoch[392] Train loss    avg: 0.00011546498717507347\n",
      "Epoch[396] Train loss    avg: 0.00013349140135687776\n",
      "Epoch[400] Train loss    avg: 0.00021123516125953756\n",
      "Epoch[404] Train loss    avg: 0.00012061908637406304\n",
      "Epoch[408] Train loss    avg: 0.0002267969393869862\n",
      "Epoch[412] Train loss    avg: 0.00012411944408086129\n",
      "Epoch[416] Train loss    avg: 0.00011296147931716405\n",
      "Epoch[420] Train loss    avg: 0.00011730493497452699\n",
      "Epoch[424] Train loss    avg: 0.00011920549150090665\n",
      "Epoch[428] Train loss    avg: 0.00012237972259754315\n",
      "Epoch[432] Train loss    avg: 0.00014520233162329532\n",
      "Epoch[436] Train loss    avg: 0.00011302033090032637\n",
      "Epoch[440] Train loss    avg: 0.00011518185056047514\n",
      "Epoch[444] Train loss    avg: 0.00011265885768807493\n",
      "Epoch[448] Train loss    avg: 0.00014595028551411815\n",
      "Epoch[452] Train loss    avg: 0.00011349031774443574\n",
      "Epoch[456] Train loss    avg: 0.00013785998453386128\n",
      "Epoch[460] Train loss    avg: 0.00011775194070651196\n",
      "Epoch[464] Train loss    avg: 0.00011312156493659131\n",
      "Epoch[468] Train loss    avg: 0.00013082776058581658\n",
      "Epoch[472] Train loss    avg: 9.676123590907082e-05\n",
      "Epoch[476] Train loss    avg: 0.0001781896426109597\n",
      "Epoch[480] Train loss    avg: 0.00037423397589009255\n",
      "Epoch[484] Train loss    avg: 0.00016757228877395391\n",
      "Epoch[488] Train loss    avg: 0.00013601534737972543\n",
      "Epoch[492] Train loss    avg: 0.00014291220577433705\n",
      "Epoch[496] Train loss    avg: 0.00013517847401089966\n",
      "Epoch[500] Train loss    avg: 0.0001235159761563409\n",
      "Epoch[504] Train loss    avg: 0.00012597788008861244\n",
      "Epoch[508] Train loss    avg: 0.00010950224168482237\n",
      "Epoch[512] Train loss    avg: 0.00010942824155790731\n",
      "Epoch[516] Train loss    avg: 0.00011026720312656835\n",
      "Epoch[520] Train loss    avg: 0.000204647054488305\n",
      "Epoch[524] Train loss    avg: 0.00012318808512645774\n",
      "Epoch[528] Train loss    avg: 0.0001463161715946626\n",
      "Epoch[532] Train loss    avg: 0.0001188167734653689\n",
      "Epoch[536] Train loss    avg: 0.00014437070058193058\n",
      "Epoch[540] Train loss    avg: 0.00010652187120285816\n",
      "Epoch[544] Train loss    avg: 0.00010832682892214507\n",
      "Epoch[548] Train loss    avg: 0.0001002368881017901\n",
      "Epoch[552] Train loss    avg: 0.00015056539268698543\n",
      "Epoch[556] Train loss    avg: 0.00013236718586995266\n",
      "Epoch[560] Train loss    avg: 0.00011997501860605553\n",
      "Epoch[564] Train loss    avg: 0.00010093695163959637\n",
      "Epoch[568] Train loss    avg: 0.00010534780449233949\n",
      "Epoch[572] Train loss    avg: 0.0001037573856592644\n",
      "Epoch[576] Train loss    avg: 0.0001612707128515467\n",
      "Epoch[580] Train loss    avg: 0.00010292827573721297\n",
      "Epoch[584] Train loss    avg: 0.0001066115582943894\n",
      "Epoch[588] Train loss    avg: 8.678640733705834e-05\n",
      "Epoch[592] Train loss    avg: 9.663145829108544e-05\n",
      "Epoch[596] Train loss    avg: 8.557748151361011e-05\n",
      "Epoch[600] Train loss    avg: 0.00013165697964723222\n",
      "Epoch[604] Train loss    avg: 0.00013607660366687924\n",
      "Epoch[608] Train loss    avg: 9.693059109849855e-05\n",
      "Epoch[612] Train loss    avg: 0.00010842665506061167\n",
      "Epoch[616] Train loss    avg: 8.468870873912238e-05\n",
      "Epoch[620] Train loss    avg: 8.386740955756977e-05\n",
      "Epoch[624] Train loss    avg: 0.00010023475624620914\n",
      "Epoch[628] Train loss    avg: 7.637163434992544e-05\n",
      "Epoch[632] Train loss    avg: 0.00010491255670785904\n",
      "Epoch[636] Train loss    avg: 0.0001298980350838974\n",
      "Epoch[640] Train loss    avg: 8.149216591846198e-05\n",
      "Epoch[644] Train loss    avg: 0.00011135629756608978\n",
      "Epoch[648] Train loss    avg: 7.907971667009406e-05\n",
      "Epoch[652] Train loss    avg: 9.144523573922925e-05\n",
      "Epoch[656] Train loss    avg: 7.054335219436325e-05\n",
      "Epoch[660] Train loss    avg: 0.0005881790420971811\n",
      "Epoch[664] Train loss    avg: 0.0002077360259136185\n",
      "Epoch[668] Train loss    avg: 0.00017909256712300703\n",
      "Epoch[672] Train loss    avg: 0.0001285237231059\n",
      "Epoch[676] Train loss    avg: 0.00014470494716078974\n",
      "Epoch[680] Train loss    avg: 0.0001223461476911325\n",
      "Epoch[684] Train loss    avg: 0.00011249915405642241\n",
      "Epoch[688] Train loss    avg: 0.00010214801295660436\n",
      "Epoch[692] Train loss    avg: 0.00010357255087001249\n",
      "Epoch[696] Train loss    avg: 0.00012005707685602829\n",
      "Epoch[700] Train loss    avg: 0.00018926159100374207\n",
      "Epoch[704] Train loss    avg: 0.00011510479089338332\n",
      "Epoch[708] Train loss    avg: 9.182152280118316e-05\n",
      "Epoch[712] Train loss    avg: 0.00010962966916849837\n",
      "Epoch[716] Train loss    avg: 9.696001507109031e-05\n",
      "Epoch[720] Train loss    avg: 0.00011657453069346957\n",
      "Epoch[724] Train loss    avg: 0.00010067689800052904\n",
      "Epoch[728] Train loss    avg: 8.404740583500825e-05\n",
      "Epoch[732] Train loss    avg: 9.675591718405485e-05\n",
      "Epoch[736] Train loss    avg: 8.59524698171299e-05\n",
      "Epoch[740] Train loss    avg: 8.548492769477889e-05\n",
      "Epoch[744] Train loss    avg: 9.555946962791495e-05\n",
      "Epoch[748] Train loss    avg: 8.567098120693117e-05\n",
      "Epoch[752] Train loss    avg: 9.774089994607493e-05\n",
      "Epoch[756] Train loss    avg: 9.279016012442298e-05\n",
      "Epoch[760] Train loss    avg: 0.00011417681162129156\n",
      "Epoch[764] Train loss    avg: 0.00013984335600980558\n",
      "Epoch[768] Train loss    avg: 0.00019974651877419092\n",
      "Epoch[772] Train loss    avg: 9.88743340712972e-05\n",
      "Epoch[776] Train loss    avg: 9.463684909860604e-05\n",
      "Epoch[780] Train loss    avg: 9.83151730906684e-05\n",
      "Epoch[784] Train loss    avg: 9.105958088184707e-05\n",
      "Epoch[788] Train loss    avg: 8.25890529085882e-05\n",
      "Epoch[792] Train loss    avg: 9.381406562170014e-05\n",
      "Epoch[796] Train loss    avg: 9.359585601487197e-05\n",
      "Epoch[800] Train loss    avg: 8.877708023646846e-05\n",
      "Epoch[804] Train loss    avg: 0.00021956375712761655\n",
      "Epoch[808] Train loss    avg: 0.00018968850781675428\n",
      "Epoch[812] Train loss    avg: 0.00014038171502761543\n",
      "Epoch[816] Train loss    avg: 0.00013845528883393854\n",
      "Epoch[820] Train loss    avg: 0.00010777130955830216\n",
      "Epoch[824] Train loss    avg: 0.0001090593468688894\n",
      "Epoch[828] Train loss    avg: 9.710266749607399e-05\n",
      "Epoch[832] Train loss    avg: 0.00010799568190122955\n",
      "Epoch[836] Train loss    avg: 0.0002073439936793875\n",
      "Epoch[840] Train loss    avg: 0.00012319102461333387\n",
      "Epoch[844] Train loss    avg: 0.00014976120291976258\n",
      "Epoch[848] Train loss    avg: 0.00011394239845685661\n",
      "Epoch[852] Train loss    avg: 9.676942863734439e-05\n",
      "Epoch[856] Train loss    avg: 8.628960131318308e-05\n",
      "Epoch[860] Train loss    avg: 9.864038656814955e-05\n",
      "Epoch[864] Train loss    avg: 0.00011261212421231903\n",
      "Epoch[868] Train loss    avg: 8.527272802894004e-05\n",
      "Epoch[872] Train loss    avg: 9.611743371351622e-05\n",
      "Epoch[876] Train loss    avg: 8.291138146887533e-05\n",
      "Epoch[880] Train loss    avg: 0.00010424880747450516\n",
      "Epoch[884] Train loss    avg: 8.055205398704857e-05\n",
      "Epoch[888] Train loss    avg: 7.531491792178713e-05\n",
      "Epoch[892] Train loss    avg: 8.190025255316868e-05\n",
      "Epoch[896] Train loss    avg: 8.42637600726448e-05\n",
      "Epoch[900] Train loss    avg: 8.692529081599787e-05\n",
      "Epoch[904] Train loss    avg: 0.00011732995699276216\n",
      "Epoch[908] Train loss    avg: 9.469823999097571e-05\n",
      "Epoch[912] Train loss    avg: 7.921735959826037e-05\n",
      "Epoch[916] Train loss    avg: 7.799576269462705e-05\n",
      "Epoch[920] Train loss    avg: 0.00010273763473378494\n",
      "Epoch[924] Train loss    avg: 7.640220792382024e-05\n",
      "Epoch[928] Train loss    avg: 7.461693530785851e-05\n",
      "Epoch[932] Train loss    avg: 0.0001340192429779563\n",
      "Epoch[936] Train loss    avg: 8.791950313025154e-05\n",
      "Epoch[940] Train loss    avg: 0.0001529884393676184\n",
      "Epoch[944] Train loss    avg: 0.00010721445141825825\n",
      "Epoch[948] Train loss    avg: 8.124000305542722e-05\n",
      "Epoch[952] Train loss    avg: 0.00015092686226125807\n",
      "Epoch[956] Train loss    avg: 8.459666059934534e-05\n",
      "Epoch[960] Train loss    avg: 7.699137131567113e-05\n",
      "Epoch[964] Train loss    avg: 0.00010016290980274789\n",
      "Epoch[968] Train loss    avg: 7.92764731158968e-05\n",
      "Epoch[972] Train loss    avg: 7.265807289513759e-05\n",
      "Epoch[976] Train loss    avg: 7.494344026781619e-05\n",
      "Epoch[980] Train loss    avg: 7.911925058579072e-05\n",
      "Epoch[984] Train loss    avg: 8.883120244718157e-05\n",
      "Epoch[988] Train loss    avg: 7.579852535855025e-05\n",
      "Epoch[992] Train loss    avg: 8.649389565107413e-05\n",
      "Epoch[996] Train loss    avg: 7.47825215512421e-05\n",
      "Epoch[1000] Train loss    avg: 8.91011040948797e-05\n"
     ]
    },
    {
     "data": {
      "text/plain": [
       "<source.utils.ValueLogger at 0x7fc5041b9e80>"
      ]
     },
     "execution_count": 25,
     "metadata": {},
     "output_type": "execute_result"
    }
   ],
   "source": [
    "cae.fit(X, epochs=1000, batch_size=320)"
   ]
  },
  {
   "cell_type": "code",
   "execution_count": 26,
   "metadata": {},
   "outputs": [],
   "source": [
    "X_out, features = cae.encode(X)"
   ]
  },
  {
   "cell_type": "code",
   "execution_count": 27,
   "metadata": {},
   "outputs": [
    {
     "data": {
      "text/plain": [
       "(380, 40)"
      ]
     },
     "execution_count": 27,
     "metadata": {},
     "output_type": "execute_result"
    }
   ],
   "source": [
    "features.shape"
   ]
  },
  {
   "cell_type": "code",
   "execution_count": 32,
   "metadata": {},
   "outputs": [
    {
     "data": {
      "text/plain": [
       "[<matplotlib.lines.Line2D at 0x7fc4fbfb58e0>,\n",
       " <matplotlib.lines.Line2D at 0x7fc4fbfb5940>]"
      ]
     },
     "execution_count": 32,
     "metadata": {},
     "output_type": "execute_result"
    },
    {
     "data": {
      "image/png": "[encoded data removed]",
      "text/plain": [
       "<Figure size 640x480 with 1 Axes>"
      ]
     },
     "metadata": {},
     "output_type": "display_data"
    }
   ],
   "source": [
    "import matplotlib.pyplot as plt\n",
    "test = 4\n",
    "# plt.plot(X[test])\n",
    "plt.plot(mts.X[test])"
   ]
  },
  {
   "cell_type": "code",
   "execution_count": 33,
   "metadata": {},
   "outputs": [
    {
     "data": {
      "text/plain": [
       "[<matplotlib.lines.Line2D at 0x7fc4fb1dfc10>,\n",
       " <matplotlib.lines.Line2D at 0x7fc4fb1dfc70>]"
      ]
     },
     "execution_count": 33,
     "metadata": {},
     "output_type": "execute_result"
    },
    {
     "data": {
      "image/png": "[encoded data removed]",
      "text/plain": [
       "<Figure size 640x480 with 1 Axes>"
      ]
     },
     "metadata": {},
     "output_type": "display_data"
    }
   ],
   "source": [
    "plt.plot(X_out[test])"
   ]
  },
  {
   "cell_type": "code",
   "execution_count": null,
   "metadata": {},
   "outputs": [],
   "source": [
    "# from sklearn.decomposition import PCA\n",
    "# class TS2VecModel:\n",
    "#     def __init__(self, output_dims):\n",
    "#         self.output_dims = output_dims\n",
    "    \n",
    "#     def fit_transform(self, X, n_epochs):\n",
    "#         N, T, D = X.shape\n",
    "#         self.Drepr = np.zeros([N, D, self.output_dims])\n",
    "#         self.Trepr = np.zeros([N, D, T, self.output_dims])\n",
    "#         for i in range(D):\n",
    "#             model = TS2Vec(\n",
    "#                 input_dims=1,\n",
    "#                 device=0,\n",
    "#                 output_dims=self.output_dims,\n",
    "                \n",
    "#             )\n",
    "#             Xi = np.expand_dims(X[:, :, i], axis=2)\n",
    "#             model.fit(Xi, verbose=True,n_epochs = n_epochs)\n",
    "#             self.Drepr[:, i, :] =  model.encode(Xi, encoding_window='full_series')\n",
    "#             self.Trepr[:, i, :, :] = model.encode(Xi)\n",
    "            \n",
    "#         self.Dvals = np.zeros([N, D])\n",
    "#         # self.Tvals = np.zeros([N, D])\n",
    "#         for i in range(D):\n",
    "#             reducer = PCA(n_components=1)\n",
    "#             self.Dvals[:, i] =reducer.fit_transform(self.Drepr[:, i, :]).flatten()\n",
    "            \n",
    "#         return self.Drepr.reshape([N, D * self.output_dims])\n",
    "\n"
   ]
  },
  {
   "cell_type": "code",
   "execution_count": null,
   "metadata": {},
   "outputs": [],
   "source": [
    "# model = TS2VecModel(4)\n",
    "# mts.features = model.fit_transform(mts.X, n_epochs = 10)"
   ]
  },
  {
   "cell_type": "code",
   "execution_count": null,
   "metadata": {},
   "outputs": [
    {
     "data": {
      "text/plain": [
       "(380, 16)"
      ]
     },
     "execution_count": 15,
     "metadata": {},
     "output_type": "execute_result"
    }
   ],
   "source": [
    "features.shape"
   ]
  },
  {
   "cell_type": "code",
   "execution_count": null,
   "metadata": {},
   "outputs": [
    {
     "data": {
      "text/plain": [
       "<matplotlib.collections.PathCollection at 0x7fbc905b0ca0>"
      ]
     },
     "execution_count": 16,
     "metadata": {},
     "output_type": "execute_result"
    },
    {
     "data": {
      "image/png": "[encoded data removed]",
      "text/plain": [
       "<Figure size 640x480 with 1 Axes>"
      ]
     },
     "metadata": {},
     "output_type": "display_data"
    }
   ],
   "source": [
    "import matplotlib.pyplot as plt\n",
    "\n",
    "reducer = UMAP(n_components=2, n_epochs=4000)\n",
    "reducer.fit(features)\n",
    "coords = reducer.transform(features)\n",
    "# min_r = 10\n",
    "# max_r = 80\n",
    "# magnitudes = mts.magnitudes[:, 0]\n",
    "# point_radius = ((magnitudes + magnitudes.min()) / (magnitudes.max() - magnitudes.min()) ) * (max_r - min_r) + min_r\n",
    "\n",
    "# plt.scatter(coords[:, 0], coords[:, 1], s = point_radius, color=\"blue\", alpha=0.5)\n",
    "plt.scatter(coords[:, 0], coords[:, 1], s = 3, color=\"blue\", alpha=0.5)\n",
    "\n"
   ]
  },
  {
   "cell_type": "code",
   "execution_count": null,
   "metadata": {},
   "outputs": [],
   "source": [
    "# from sklearn.cluster import KMeans\n",
    "# n_clusters = 5\n",
    "# kmeans = KMeans(n_clusters=n_clusters, random_state=0).fit(coords)\n",
    "\n",
    "# classes = kmeans.labels_\n",
    "# # clusters = np.unique(kmeans.labels_)s\n",
    "\n",
    "# # clusterLabels = \n",
    "\n",
    "# plt.scatter(coords[:, 0], coords[:, 1], s = point_radius, c = classes, alpha=0.5)\n"
   ]
  },
  {
   "cell_type": "code",
   "execution_count": null,
   "metadata": {},
   "outputs": [],
   "source": [
    "# from ccpca import CCPCA\n",
    "\n",
    "# groups = np.unique(classes)\n",
    "# group_ids = classes\n",
    "\n",
    "# fcs = []\n",
    "\n",
    "\n",
    "# for target in groups:\n",
    "\n",
    "#     ccpca = CCPCA(n_components=1)\n",
    "#     # target = 2012\n",
    "#     ccpca.fit(\n",
    "#         model.Dvals[group_ids==target],\n",
    "#         model.Dvals[group_ids!=target],\n",
    "#         var_thres_ratio=0.5,\n",
    "#         n_alphas=40,\n",
    "#         max_log_alpha=0.5,\n",
    "#     )\n",
    "\n",
    "\n",
    "#     coords2 = ccpca.transform(model.Dvals[group_ids==target])\n",
    "#     # coords2 = ccpca.transform(dfeatures[year_ids!=2011])\n",
    "#     # coords2 = ccpca.transform(dfeatures)\n",
    "#     best_alpha = ccpca.get_best_alpha()\n",
    "#     cpca_fcs = ccpca.get_feat_contribs()\n",
    "#     fcs.append(cpca_fcs)\n",
    "#     # print(cpca_fcs)\n",
    "#     # print(best_alpha)\n",
    "#     # plt.scatter(coords2[:, 0], coords2[:, 1])\n",
    "# # print(len(fcs))\n",
    "# # print(fcs[0].shape)\n"
   ]
  },
  {
   "cell_type": "code",
   "execution_count": null,
   "metadata": {},
   "outputs": [],
   "source": [
    "# fcs = np.array(fcs)\n",
    "# plt.bar(np.array([i for i in range (n_clusters)]), fcs[:, 0])"
   ]
  },
  {
   "cell_type": "code",
   "execution_count": null,
   "metadata": {},
   "outputs": [],
   "source": [
    "# plt.bar(np.array([i for i in range (n_clusters)]), fcs[:, 1])"
   ]
  },
  {
   "cell_type": "code",
   "execution_count": null,
   "metadata": {},
   "outputs": [],
   "source": [
    "# item1 = 2\n",
    "# item2 = 3\n",
    "# print(year_ids[item2])\n",
    "# fcs = np.array(fcs)\n",
    "\n",
    "# fig = plt.figure()\n",
    "# ax = fig.add_axes([0,0,1,1])\n",
    "\n",
    "# X = np.array([i for i in range (2)])\n",
    "# # for i in range(28):\n",
    "# ax.bar(X + 0.00, fcs[item1], color = 'g', width = 0.25)\n",
    "# ax.bar(X + 0.25, fcs[item2], color = 'r', width = 0.25)\n",
    "# # ax.bar(X + 0.50, fcs[:,2], color = 'r', width = 0.25)\n",
    "# # plt.bar(, fcs[:,0])"
   ]
  },
  {
   "cell_type": "code",
   "execution_count": null,
   "metadata": {},
   "outputs": [],
   "source": [
    "# from server.source.storage import MTSStorage\n",
    "\n",
    "# storage = MTSStorage(os.path.join(VIS_PATH ,'ts2vec.npy'))    \n",
    "# # storage.delete()\n",
    "# storage.load()\n",
    "\n",
    "# dimensions = POLLUTANTS\n",
    "# data = np.concatenate([mts.X_orig, mts.X], axis=2) \n",
    "# storage.add_mts(\n",
    "#     '_'.join(POLLUTANTS) , data , \n",
    "#     dimensions = dimensions + [dim+ '_norm' for dim in dimensions], \n",
    "#     labels = {'station': station_ids, 'months': month_ids, 'years': year_ids}, \n",
    "#     labelsNames={'station': stations_map, 'months': months_map, 'years': years_map}, \n",
    "#     coords = {\n",
    "#         'coords': coords,\n",
    "#     },\n",
    "#     sampling=True,\n",
    "#     n_samples= N_VIZ_SAMPLES\n",
    "# )\n",
    "\n",
    "# storage.save()"
   ]
  },
  {
   "cell_type": "code",
   "execution_count": null,
   "metadata": {},
   "outputs": [],
   "source": []
  }
 ],
 "metadata": {
  "kernelspec": {
   "display_name": "Python 3.8.13 ('clearn')",
   "language": "python",
   "name": "python3"
  },
  "language_info": {
   "codemirror_mode": {
    "name": "ipython",
    "version": 3
   },
   "file_extension": ".py",
   "mimetype": "text/x-python",
   "name": "python",
   "nbconvert_exporter": "python",
   "pygments_lexer": "ipython3",
   "version": "3.8.13"
  },
  "orig_nbformat": 4,
  "vscode": {
   "interpreter": {
    "hash": "9b358327185eebe25ac8832d1d1e0e28e2841cec82efe29413dcc7b9341241d3"
   }
  }
 },
 "nbformat": 4,
 "nbformat_minor": 2
}
