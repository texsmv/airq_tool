{
 "cells": [
  {
   "cell_type": "code",
   "execution_count": 2,
   "metadata": {},
   "outputs": [
    {
     "name": "stderr",
     "output_type": "stream",
     "text": [
      "/home/texs/anaconda3/envs/clearn/lib/python3.8/site-packages/tqdm/auto.py:22: TqdmWarning: IProgress not found. Please update jupyter and ipywidgets. See https://ipywidgets.readthedocs.io/en/stable/user_install.html\n",
      "  from .autonotebook import tqdm as notebook_tqdm\n"
     ]
    }
   ],
   "source": [
    "%reload_ext autoreload\n",
    "%autoreload 2\n",
    "\n",
    "import numpy as np\n",
    "from source.tserie import TSerie\n",
    "\n",
    "from source.torch_utils import getContrastiveFeatures"
   ]
  },
  {
   "cell_type": "code",
   "execution_count": 3,
   "metadata": {},
   "outputs": [],
   "source": [
    "from source.datasets import loadFuncionalModel, loadNatops, loadWafer, loadSelfRegulationSCP2, loadBasicMotions, loadEarthquakes, loadItalyPowerDemand, loadEigenWorms\n",
    "\n",
    "dataset = 'italy' # natops | wafer | selfreg | basicmotions | earthquakes | italy | eigenworms\n",
    "\n",
    "settings = {\n",
    "    'natops' : {\n",
    "        'epochs': 150,\n",
    "        'filters' : [32, 64],\n",
    "        'kernels' : [5, 5],\n",
    "        'feat_size' : 256,\n",
    "        'enc_size' : 20,\n",
    "    },\n",
    "    'wafer' : {\n",
    "        'epochs': 20,\n",
    "        'filters' : [16, 32],\n",
    "        'kernels' : [5, 5],\n",
    "        'feat_size' : 512,\n",
    "        'enc_size' : 20,\n",
    "    },\n",
    "    'basicmotions' : {\n",
    "        'epochs': 200,\n",
    "        'filters' : [16, 32],\n",
    "        'kernels' : [5, 5],\n",
    "        'feat_size' : 128,\n",
    "        'enc_size' : 20,\n",
    "    },\n",
    "    'italy' : {\n",
    "        'epochs': 200,\n",
    "        'filters' : [16],\n",
    "        'kernels' : [5],\n",
    "        'feat_size' : 128,\n",
    "        'enc_size' : 8,\n",
    "    }\n",
    "}\n",
    "\n",
    "if dataset == 'natops':\n",
    "    X_train, y_train, X_test, y_test, classLabels = loadNatops()\n",
    "elif dataset == 'wafer':\n",
    "    X_train, y_train, X_test, y_test = loadWafer()\n",
    "    classLabels = {}\n",
    "elif dataset == 'basicmotions':\n",
    "    X_train, y_train, X_test, y_test, classLabels= loadBasicMotions()\n",
    "elif dataset == 'italy':\n",
    "    X_train, y_train, X_test, y_test, classLabels= loadItalyPowerDemand()\n",
    "# X = np.concatenate([X_train, X_test], axis=0).transpose([0, 2, 1])\n",
    "# y = np.concatenate([y_train, y_test], axis=0)\n",
    "# y = np.array([float(v) for v in y]).astype(int).tolist()"
   ]
  },
  {
   "cell_type": "code",
   "execution_count": 4,
   "metadata": {},
   "outputs": [
    {
     "name": "stdout",
     "output_type": "stream",
     "text": [
      "Loaded mts - N: 67, T: 24, D: 1 \n",
      "Loaded mts - N: 1029, T: 24, D: 1 \n"
     ]
    }
   ],
   "source": [
    "mts_train = TSerie(X=X_train.transpose([0, 2, 1]), y=y_train)\n",
    "mts_test = TSerie(X=X_test.transpose([0, 2, 1]), y=y_test)"
   ]
  },
  {
   "cell_type": "code",
   "execution_count": 30,
   "metadata": {},
   "outputs": [],
   "source": [
    "# mts.smooth(window_size=40)\n",
    "# mts_train.shapeNormalizization()\n",
    "# mts_test.shapeNormalizization()\n",
    "# mts_train.minMaxNormalizization()\n",
    "# mts_test.minMaxNormalizization()\n",
    "minl, maxl = mts_train.minMaxNormalizization()\n",
    "minl, maxl = mts_test.minMaxNormalizization(minl= minl, maxl=maxl)"
   ]
  },
  {
   "cell_type": "code",
   "execution_count": 90,
   "metadata": {},
   "outputs": [],
   "source": [
    "from source.featlearn.simclr import EncoderCNN, SimClrFL\n",
    "\n",
    "in_channels = mts_train.D\n",
    "in_time = mts_train.T\n",
    "encoder = SimClrFL(in_channels, in_time)"
   ]
  },
  {
   "cell_type": "code",
   "execution_count": 91,
   "metadata": {},
   "outputs": [
    {
     "data": {
      "text/plain": [
       "torch.Size([32, 8])"
      ]
     },
     "execution_count": 91,
     "metadata": {},
     "output_type": "execute_result"
    }
   ],
   "source": [
    "enc = encoder.fit(mts_train.X.transpose([0, 2, 1]))\n",
    "enc.shape"
   ]
  },
  {
   "cell_type": "code",
   "execution_count": 15,
   "metadata": {},
   "outputs": [
    {
     "name": "stdout",
     "output_type": "stream",
     "text": [
      "Epoch[1] Train loss    avg: 3.0585336685180664\n",
      "Epoch[10] Train loss    avg: 1.9147847890853882\n",
      "Epoch[20] Train loss    avg: 1.6258481740951538\n",
      "Epoch[30] Train loss    avg: 1.4838871359825134\n",
      "Epoch[40] Train loss    avg: 1.3747137188911438\n",
      "Epoch[50] Train loss    avg: 1.5093927383422852\n",
      "Epoch[60] Train loss    avg: 1.2293577790260315\n",
      "Epoch[70] Train loss    avg: 1.285077452659607\n",
      "Epoch[80] Train loss    avg: 1.356519341468811\n",
      "Epoch[90] Train loss    avg: 1.241120159626007\n",
      "Epoch[100] Train loss    avg: 1.22439044713974\n",
      "Epoch[110] Train loss    avg: 1.2281876802444458\n",
      "Epoch[120] Train loss    avg: 1.1981939673423767\n",
      "Epoch[130] Train loss    avg: 1.2328932285308838\n",
      "Epoch[140] Train loss    avg: 1.1514646410942078\n",
      "Epoch[150] Train loss    avg: 1.1505226492881775\n",
      "Epoch[160] Train loss    avg: 1.1561101078987122\n",
      "Epoch[170] Train loss    avg: 1.1440837979316711\n",
      "Epoch[180] Train loss    avg: 1.1414029598236084\n",
      "Epoch[190] Train loss    avg: 1.1556047797203064\n",
      "Epoch[200] Train loss    avg: 1.1445895433425903\n"
     ]
    }
   ],
   "source": [
    "# mts.folding_features_v2()\n",
    "# mts.features, _ =  getPeaxFeatures(mts.X.transpose([0, 2, 1]), feat_size = 15, epochs =400, batch_size = 32)\n",
    "LOSS = 'SimCLR' # SupConLoss | SimCLR\n",
    "MODE = 'shape'\n",
    "# MODE = 'subsequences'\n",
    "EPOCHS = settings[dataset]['epochs']\n",
    "BATCH_SIZE = 64\n",
    "ENC_SIZE = settings[dataset]['enc_size']\n",
    "FEAT_SIZE = settings[dataset]['feat_size']\n",
    "# MODE = 'shape'\n",
    "mts_train.features, mts_test.features = getContrastiveFeatures(\n",
    "    mts_train.X.transpose([0, 2, 1]), mts_train.y, \n",
    "    epochs = EPOCHS, \n",
    "    batch_size = BATCH_SIZE, \n",
    "    loss_metric= LOSS, \n",
    "    mode = MODE, \n",
    "    head = 'linear',\n",
    "    X_test=mts_test.X.transpose([0, 2, 1]),\n",
    "    encoding_size = ENC_SIZE,\n",
    "    feat_size = FEAT_SIZE,\n",
    "    conv_filters = settings[dataset]['filters'], \n",
    "    conv_kernels = settings[dataset]['kernels'],\n",
    ")\n",
    "# getContrastiveFeatures(mts.X, y)"
   ]
  },
  {
   "cell_type": "code",
   "execution_count": 16,
   "metadata": {},
   "outputs": [
    {
     "name": "stdout",
     "output_type": "stream",
     "text": [
      "accuracy\n",
      "0.9850746268656716\n",
      "0.9416909620991254\n",
      "f1 score\n",
      "0.9850746268656716\n",
      "0.9417024182251809\n"
     ]
    }
   ],
   "source": [
    "from sklearn import svm\n",
    "from sklearn.metrics import f1_score\n",
    "\n",
    "clf = svm.SVC()\n",
    "clf.fit(mts_train.features, mts_train.y)\n",
    "\n",
    "print('accuracy')\n",
    "print(clf.score(mts_train.features, mts_train.y))\n",
    "print(clf.score(mts_test.features, mts_test.y))\n",
    "\n",
    "print('f1 score')\n",
    "print(f1_score(clf.predict(mts_train.features), mts_train.y, average= 'weighted'))\n",
    "print(f1_score(clf.predict(mts_test.features), mts_test.y, average= 'weighted'))"
   ]
  },
  {
   "cell_type": "code",
   "execution_count": 17,
   "metadata": {},
   "outputs": [
    {
     "data": {
      "text/plain": [
       "<matplotlib.collections.PathCollection at 0x7fc9c92c8d90>"
      ]
     },
     "execution_count": 17,
     "metadata": {},
     "output_type": "execute_result"
    },
    {
     "data": {
      "image/png": "[encoded data removed]",
      "text/plain": [
       "<Figure size 432x288 with 1 Axes>"
      ]
     },
     "metadata": {
      "needs_background": "light"
     },
     "output_type": "display_data"
    }
   ],
   "source": [
    "import matplotlib.pyplot as plt\n",
    "import umap\n",
    "\n",
    "# reducer = umap.UMAP(n_components=2, metric='cosine')\n",
    "reducer = umap.UMAP(n_components=2, metric='euclidean', n_neighbors=15)\n",
    "reducer.fit(mts_train.features, y=mts_train.y)\n",
    "coords_train = reducer.transform(mts_train.features)\n",
    "coords_test = reducer.transform(mts_test.features)\n",
    "\n",
    "plt.scatter(coords_train[:, 0], coords_train[:, 1])\n"
   ]
  },
  {
   "cell_type": "code",
   "execution_count": 18,
   "metadata": {},
   "outputs": [
    {
     "data": {
      "text/plain": [
       "<matplotlib.collections.PathCollection at 0x7fc9c96556c0>"
      ]
     },
     "execution_count": 18,
     "metadata": {},
     "output_type": "execute_result"
    },
    {
     "data": {
      "image/png": "[encoded data removed]",
      "text/plain": [
       "<Figure size 432x288 with 1 Axes>"
      ]
     },
     "metadata": {
      "needs_background": "light"
     },
     "output_type": "display_data"
    }
   ],
   "source": [
    "plt.scatter(coords_test[:, 0], coords_test[:, 1])"
   ]
  },
  {
   "cell_type": "code",
   "execution_count": 19,
   "metadata": {},
   "outputs": [],
   "source": [
    "import sys\n",
    "sys.path.append('/home/texs/Documentos/Repositories/mts_viz')\n",
    "from server.source.storage import MTSStorage"
   ]
  },
  {
   "cell_type": "code",
   "execution_count": 20,
   "metadata": {},
   "outputs": [
    {
     "name": "stdout",
     "output_type": "stream",
     "text": [
      "mts shape: N: 67 -  T: 24 - D: 2\n",
      "mts shape: N: 1029 -  T: 24 - D: 2\n"
     ]
    }
   ],
   "source": [
    "storage = MTSStorage('mts_comparison')    \n",
    "# storage.delete()\n",
    "storage.load()\n",
    "\n",
    "# classLabels = {int(v): str(v) for v in np.unique(y)}\n",
    "dimensions = [str(dim) for dim in range(mts_train.D)]\n",
    "# dimensions = [sPoll, sPoll + '_norm']\n",
    "# dimensions = pollutants + [poll + '_norm' for poll in pollutants]\n",
    "data = np.concatenate([mts_train.X_orig, mts_train.X], axis=2) \n",
    "storage.add_mts(\n",
    "    '{}_{}_{}_train'.format(dataset, LOSS, MODE),\n",
    "    data, \n",
    "    dimensions = dimensions + [dim+ '_norm' for dim in dimensions], \n",
    "    labels = {'class': mts_train.y},\n",
    "    labelsNames = {'class': classLabels},\n",
    "    coords = {\n",
    "        'shape': coords_train,\n",
    "    },\n",
    "    sampling=True,\n",
    "    n_samples= 400\n",
    ")\n",
    "\n",
    "data = np.concatenate([mts_test.X_orig, mts_test.X], axis=2) \n",
    "storage.add_mts(\n",
    "    '{}_{}_{}_test'.format(dataset, LOSS, MODE),\n",
    "    data, \n",
    "    dimensions = dimensions + [dim+ '_norm' for dim in dimensions], \n",
    "    labels = {'class': mts_test.y},\n",
    "    labelsNames = {'class': classLabels},\n",
    "    coords = {\n",
    "        'shape': coords_test,\n",
    "    },\n",
    "    sampling=True,\n",
    "    n_samples= 400\n",
    ")\n",
    "\n",
    "\n",
    "storage.save()"
   ]
  },
  {
   "cell_type": "code",
   "execution_count": null,
   "metadata": {},
   "outputs": [],
   "source": []
  }
 ],
 "metadata": {
  "kernelspec": {
   "display_name": "Python 3.8.13 ('clearn')",
   "language": "python",
   "name": "python3"
  },
  "language_info": {
   "codemirror_mode": {
    "name": "ipython",
    "version": 3
   },
   "file_extension": ".py",
   "mimetype": "text/x-python",
   "name": "python",
   "nbconvert_exporter": "python",
   "pygments_lexer": "ipython3",
   "version": "3.8.13"
  },
  "orig_nbformat": 4,
  "vscode": {
   "interpreter": {
    "hash": "9b358327185eebe25ac8832d1d1e0e28e2841cec82efe29413dcc7b9341241d3"
   }
  }
 },
 "nbformat": 4,
 "nbformat_minor": 2
}
