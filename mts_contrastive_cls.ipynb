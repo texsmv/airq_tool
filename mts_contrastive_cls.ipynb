{
 "cells": [
  {
   "cell_type": "code",
   "execution_count": 1,
   "metadata": {},
   "outputs": [
    {
     "name": "stderr",
     "output_type": "stream",
     "text": [
      "/home/texs/anaconda3/envs/cuml-torch/lib/python3.8/site-packages/tqdm/auto.py:22: TqdmWarning: IProgress not found. Please update jupyter and ipywidgets. See https://ipywidgets.readthedocs.io/en/stable/user_install.html\n",
      "  from .autonotebook import tqdm as notebook_tqdm\n"
     ]
    }
   ],
   "source": [
    "%reload_ext autoreload\n",
    "%autoreload 2\n",
    "\n",
    "import numpy as np\n",
    "from source.tserie import TSerie\n",
    "\n",
    "from source.torch_utils import getContrastiveFeatures\n",
    "\n",
    "import sys\n",
    "\n",
    "sys.path.append('/home/texs/Documentos/Repositories/ts2vec')\n",
    "\n"
   ]
  },
  {
   "cell_type": "code",
   "execution_count": 2,
   "metadata": {},
   "outputs": [],
   "source": [
    "from source.datasets import loadFuncionalModel, loadNatops, loadWafer, loadSelfRegulationSCP2, loadBasicMotions, loadEarthquakes, loadItalyPowerDemand, loadEigenWorms\n",
    "\n",
    "dataset = 'basicmotions' # natops | wafer | selfreg | basicmotions | earthquakes | italy | eigenworms\n",
    "\n",
    "settings = {\n",
    "    'natops' : {\n",
    "        'epochs': 150,\n",
    "        'filters' : [32, 64],\n",
    "        'kernels' : [5, 5],\n",
    "        'feat_size' : 256,\n",
    "        'enc_size' : 20,\n",
    "    },\n",
    "    'wafer' : {\n",
    "        'epochs': 20,\n",
    "        'filters' : [16, 32],\n",
    "        'kernels' : [5, 5],\n",
    "        'feat_size' : 512,\n",
    "        'enc_size' : 20,\n",
    "    },\n",
    "    'basicmotions' : {\n",
    "        'epochs': 200,\n",
    "        'filters' : [16, 32],\n",
    "        'kernels' : [5, 5],\n",
    "        'feat_size' : 128,\n",
    "        'enc_size' : 20,\n",
    "    },\n",
    "    'italy' : {\n",
    "        'epochs': 200,\n",
    "        'filters' : [16],\n",
    "        'kernels' : [5],\n",
    "        'feat_size' : 128,\n",
    "        'enc_size' : 8,\n",
    "    }\n",
    "}\n",
    "\n",
    "if dataset == 'natops':\n",
    "    X_train, y_train, X_test, y_test, classLabels = loadNatops()\n",
    "elif dataset == 'wafer':\n",
    "    X_train, y_train, X_test, y_test = loadWafer()\n",
    "    classLabels = {}\n",
    "elif dataset == 'basicmotions':\n",
    "    X_train, y_train, X_test, y_test, classLabels= loadBasicMotions()\n",
    "elif dataset == 'italy':\n",
    "    X_train, y_train, X_test, y_test, classLabels= loadItalyPowerDemand()\n",
    "# X = np.concatenate([X_train, X_test], axis=0).transpose([0, 2, 1])\n",
    "# y = np.concatenate([y_train, y_test], axis=0)\n",
    "# y = np.array([float(v) for v in y]).astype(int).tolist()"
   ]
  },
  {
   "cell_type": "code",
   "execution_count": 3,
   "metadata": {},
   "outputs": [
    {
     "name": "stdout",
     "output_type": "stream",
     "text": [
      "Loaded mts - N: 40, T: 100, D: 6 \n",
      "Loaded mts - N: 40, T: 100, D: 6 \n"
     ]
    }
   ],
   "source": [
    "mts_train = TSerie(X=X_train.transpose([0, 2, 1]), y=y_train)\n",
    "mts_test = TSerie(X=X_test.transpose([0, 2, 1]), y=y_test)"
   ]
  },
  {
   "cell_type": "code",
   "execution_count": 4,
   "metadata": {},
   "outputs": [],
   "source": [
    "# mts.smooth(window_size=40)\n",
    "# mts_train.shapeNormalizization()\n",
    "# mts_test.shapeNormalizization()\n",
    "# mts_train.minMaxNormalizization()\n",
    "# mts_test.minMaxNormalizization()\n",
    "# minl, maxl = mts_train.minMaxNormalizization()\n",
    "# minl, maxl = mts_test.minMaxNormalizization(minl= minl, maxl=maxl)"
   ]
  },
  {
   "cell_type": "code",
   "execution_count": 5,
   "metadata": {},
   "outputs": [],
   "source": [
    "from source.featlearn.simclr import SimClrFL\n",
    "from source.featlearn.weakStrongFL import WeakStrongFL\n",
    "from ts2vec import TS2Vec\n",
    "\n",
    "# Train a TS2Vec model\n",
    "# model = TS2Vec(\n",
    "#     input_dims=mts_train.D,\n",
    "#     device=0,\n",
    "#     output_dims=128,\n",
    "# )\n",
    "\n",
    "\n",
    "\n",
    "\n",
    "in_channels = mts_train.D\n",
    "in_time = mts_train.T\n",
    "# encoder = SimClrFL(in_channels, in_time)\n",
    "encoder = SimClrFL(\n",
    "    in_channels, \n",
    "    in_time, \n",
    "    encoding_size = 4, \n",
    "    feature_size=32, \n",
    "    filters = [16, 16, 16],\n",
    "    kernels = [3, 3, 3],\n",
    "    # kernels = [16, 16, 16],\n",
    "    # filters = [5, 5, 5],\n",
    ")"
   ]
  },
  {
   "cell_type": "code",
   "execution_count": 183,
   "metadata": {},
   "outputs": [],
   "source": [
    "# encoder.reviewAugmentations(mts_train.X.transpose([0, 2, 1]))"
   ]
  },
  {
   "cell_type": "code",
   "execution_count": 6,
   "metadata": {},
   "outputs": [
    {
     "name": "stdout",
     "output_type": "stream",
     "text": [
      "Epoch[1] Train loss    avg: 4.314742684364319\n",
      "Epoch[1] Val loss    avg: 3.967381000518799\n",
      "Epoch[10] Train loss    avg: 2.990684986114502\n",
      "Epoch[10] Val loss    avg: 2.9007540941238403\n",
      "Epoch[20] Train loss    avg: 2.6258776783943176\n",
      "Epoch[20] Val loss    avg: 2.7283451557159424\n",
      "Epoch[30] Train loss    avg: 2.5084738731384277\n",
      "Epoch[30] Val loss    avg: 2.5697750449180603\n",
      "Epoch[40] Train loss    avg: 2.4566155672073364\n",
      "Epoch[40] Val loss    avg: 2.594030201435089\n",
      "Epoch[50] Train loss    avg: 2.1222691535949707\n",
      "Epoch[50] Val loss    avg: 2.496153175830841\n"
     ]
    }
   ],
   "source": [
    "encoder.fit(mts_train.X.transpose([0, 2, 1]), \n",
    "            epochs=50, \n",
    "            batch_size=32,X_val = mts_test.X.transpose([0, 2, 1]),\n",
    ")\n",
    "\n",
    "\n",
    "# loss_log = model.fit(\n",
    "#     mts_train.X,\n",
    "#     verbose=True\n",
    "# )"
   ]
  },
  {
   "cell_type": "code",
   "execution_count": 7,
   "metadata": {},
   "outputs": [
    {
     "name": "stdout",
     "output_type": "stream",
     "text": [
      "34.86621 29.394165\n",
      "-27.822042 -27.321314\n",
      "(40, 100, 6)\n"
     ]
    }
   ],
   "source": [
    "print(mts_train.X.max(), mts_test.X.max())\n",
    "print(mts_train.X.min(), mts_test.X.min())\n",
    "\n",
    "print(mts_train.X.shape)"
   ]
  },
  {
   "cell_type": "code",
   "execution_count": 8,
   "metadata": {},
   "outputs": [],
   "source": [
    "mts_test.features = encoder.encode(mts_test.X.transpose([0, 2, 1]))\n",
    "mts_train.features = encoder.encode(mts_train.X.transpose([0, 2, 1]))\n",
    "\n",
    "# mts_train.features = model.encode(mts_train.X, encoding_window='full_series')\n",
    "# mts_test.features = model.encode(mts_test.X, encoding_window='full_series')\n"
   ]
  },
  {
   "cell_type": "code",
   "execution_count": 9,
   "metadata": {},
   "outputs": [
    {
     "name": "stdout",
     "output_type": "stream",
     "text": [
      "accuracy\n",
      "1.0\n",
      "0.95\n",
      "f1 score\n",
      "1.0\n",
      "0.95\n"
     ]
    }
   ],
   "source": [
    "from sklearn import svm\n",
    "from sklearn.metrics import f1_score\n",
    "\n",
    "clf = svm.SVC()\n",
    "clf.fit(mts_train.features, mts_train.y)\n",
    "\n",
    "print('accuracy')\n",
    "print(clf.score(mts_train.features, mts_train.y))\n",
    "print(clf.score(mts_test.features, mts_test.y))\n",
    "\n",
    "print('f1 score')\n",
    "print(f1_score(clf.predict(mts_train.features), mts_train.y, average= 'weighted'))\n",
    "print(f1_score(clf.predict(mts_test.features), mts_test.y, average= 'weighted'))"
   ]
  },
  {
   "cell_type": "code",
   "execution_count": 10,
   "metadata": {},
   "outputs": [
    {
     "data": {
      "text/plain": [
       "<matplotlib.collections.PathCollection at 0x7f698e75ae20>"
      ]
     },
     "execution_count": 10,
     "metadata": {},
     "output_type": "execute_result"
    },
    {
     "data": {
      "image/png": "[encoded data removed]",
      "text/plain": [
       "<Figure size 640x480 with 1 Axes>"
      ]
     },
     "metadata": {},
     "output_type": "display_data"
    }
   ],
   "source": [
    "import matplotlib.pyplot as plt\n",
    "import umap\n",
    "\n",
    "# reducer = umap.UMAP(n_components=2, metric='cosine')\n",
    "reducer = umap.UMAP(n_components=2, metric='euclidean', n_neighbors=8)\n",
    "reducer.fit(mts_train.features, y = mts_train.y)\n",
    "# reducer.fit(mts_train.features)\n",
    "coords_train = reducer.transform(mts_train.features)\n",
    "coords_test = reducer.transform(mts_test.features)\n",
    "\n",
    "plt.scatter(coords_train[:, 0], coords_train[:, 1], c=mts_train.y)\n"
   ]
  },
  {
   "cell_type": "code",
   "execution_count": 11,
   "metadata": {},
   "outputs": [
    {
     "data": {
      "text/plain": [
       "<matplotlib.collections.PathCollection at 0x7f69818533d0>"
      ]
     },
     "execution_count": 11,
     "metadata": {},
     "output_type": "execute_result"
    },
    {
     "data": {
      "image/png": "[encoded data removed]",
      "text/plain": [
       "<Figure size 640x480 with 1 Axes>"
      ]
     },
     "metadata": {},
     "output_type": "display_data"
    }
   ],
   "source": [
    "plt.scatter(coords_test[:, 0], coords_test[:, 1],  c=mts_test.y)"
   ]
  },
  {
   "cell_type": "code",
   "execution_count": 181,
   "metadata": {},
   "outputs": [],
   "source": [
    "import sys\n",
    "sys.path.append('/home/texs/Documentos/Repositories/mts_viz')\n",
    "from server.source.storage import MTSStorage"
   ]
  },
  {
   "cell_type": "code",
   "execution_count": 160,
   "metadata": {},
   "outputs": [
    {
     "name": "stdout",
     "output_type": "stream",
     "text": [
      "mts shape: N: 40 -  T: 100 - D: 12\n",
      "mts shape: N: 40 -  T: 100 - D: 12\n"
     ]
    }
   ],
   "source": [
    "storage = MTSStorage('mts_comparison')    \n",
    "# storage.delete()\n",
    "storage.load()\n",
    "\n",
    "# classLabels = {int(v): str(v) for v in np.unique(y)}\n",
    "dimensions = [str(dim) for dim in range(mts_train.D)]\n",
    "# dimensions = [sPoll, sPoll + '_norm']\n",
    "# dimensions = pollutants + [poll + '_norm' for poll in pollutants]\n",
    "data = np.concatenate([mts_train.X_orig, mts_train.X], axis=2) \n",
    "storage.add_mts(\n",
    "    '{}_train'.format(dataset),\n",
    "    data, \n",
    "    dimensions = dimensions + [dim+ '_norm' for dim in dimensions], \n",
    "    labels = {'class': mts_train.y},\n",
    "    labelsNames = {'class': classLabels},\n",
    "    coords = {\n",
    "        'shape': coords_train,\n",
    "    },\n",
    "    sampling=True,\n",
    "    n_samples= 400\n",
    ")\n",
    "\n",
    "data = np.concatenate([mts_test.X_orig, mts_test.X], axis=2) \n",
    "storage.add_mts(\n",
    "    '{}_test'.format(dataset),\n",
    "    data, \n",
    "    dimensions = dimensions + [dim+ '_norm' for dim in dimensions], \n",
    "    labels = {'class': mts_test.y},\n",
    "    labelsNames = {'class': classLabels},\n",
    "    coords = {\n",
    "        'shape': coords_test,\n",
    "    },\n",
    "    sampling=True,\n",
    "    n_samples= 400\n",
    ")\n",
    "\n",
    "\n",
    "storage.save()"
   ]
  },
  {
   "cell_type": "code",
   "execution_count": null,
   "metadata": {},
   "outputs": [],
   "source": []
  },
  {
   "cell_type": "code",
   "execution_count": null,
   "metadata": {},
   "outputs": [],
   "source": []
  }
 ],
 "metadata": {
  "kernelspec": {
   "display_name": "clearn",
   "language": "python",
   "name": "python3"
  },
  "language_info": {
   "codemirror_mode": {
    "name": "ipython",
    "version": 3
   },
   "file_extension": ".py",
   "mimetype": "text/x-python",
   "name": "python",
   "nbconvert_exporter": "python",
   "pygments_lexer": "ipython3",
   "version": "3.8.13 (default, Mar 28 2022, 11:38:47) \n[GCC 7.5.0]"
  },
  "orig_nbformat": 4,
  "vscode": {
   "interpreter": {
    "hash": "9b358327185eebe25ac8832d1d1e0e28e2841cec82efe29413dcc7b9341241d3"
   }
  }
 },
 "nbformat": 4,
 "nbformat_minor": 2
}
