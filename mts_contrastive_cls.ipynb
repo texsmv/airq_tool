{
 "cells": [
  {
   "cell_type": "code",
   "execution_count": 83,
   "metadata": {},
   "outputs": [],
   "source": [
    "%reload_ext autoreload\n",
    "%autoreload 2\n",
    "\n",
    "import numpy as np\n",
    "from source.tserie import TSerie\n",
    "\n",
    "from source.torch_utils import getContrastiveFeatures\n",
    "\n",
    "import sys\n",
    "\n",
    "sys.path.append('/home/texs/Documentos/Repositories/ts2vec')\n",
    "\n"
   ]
  },
  {
   "cell_type": "code",
   "execution_count": 109,
   "metadata": {},
   "outputs": [],
   "source": [
    "from source.datasets import loadFuncionalModel, loadNatops, loadWafer, loadSelfRegulationSCP2, loadBasicMotions, loadEarthquakes, loadItalyPowerDemand, loadEigenWorms\n",
    "\n",
    "dataset = 'wafer' # natops | wafer | selfreg | basicmotions | earthquakes | italy | eigenworms\n",
    "\n",
    "settings = {\n",
    "    'natops' : {\n",
    "        'epochs': 150,\n",
    "        'filters' : [32, 64],\n",
    "        'kernels' : [5, 5],\n",
    "        'feat_size' : 256,\n",
    "        'enc_size' : 20,\n",
    "    },\n",
    "    'wafer' : {\n",
    "        'epochs': 20,\n",
    "        'filters' : [16, 32],\n",
    "        'kernels' : [5, 5],\n",
    "        'feat_size' : 512,\n",
    "        'enc_size' : 20,\n",
    "    },\n",
    "    'basicmotions' : {\n",
    "        'epochs': 200,\n",
    "        'filters' : [16, 32],\n",
    "        'kernels' : [5, 5],\n",
    "        'feat_size' : 128,\n",
    "        'enc_size' : 20,\n",
    "    },\n",
    "    'italy' : {\n",
    "        'epochs': 200,\n",
    "        'filters' : [16],\n",
    "        'kernels' : [5],\n",
    "        'feat_size' : 128,\n",
    "        'enc_size' : 8,\n",
    "    }\n",
    "}\n",
    "\n",
    "if dataset == 'natops':\n",
    "    X_train, y_train, X_test, y_test, classLabels = loadNatops()\n",
    "elif dataset == 'wafer':\n",
    "    X_train, y_train, X_test, y_test = loadWafer()\n",
    "    classLabels = {}\n",
    "elif dataset == 'basicmotions':\n",
    "    X_train, y_train, X_test, y_test, classLabels= loadBasicMotions()\n",
    "elif dataset == 'italy':\n",
    "    X_train, y_train, X_test, y_test, classLabels= loadItalyPowerDemand()\n",
    "# X = np.concatenate([X_train, X_test], axis=0).transpose([0, 2, 1])\n",
    "# y = np.concatenate([y_train, y_test], axis=0)\n",
    "# y = np.array([float(v) for v in y]).astype(int).tolist()"
   ]
  },
  {
   "cell_type": "code",
   "execution_count": 110,
   "metadata": {},
   "outputs": [
    {
     "name": "stdout",
     "output_type": "stream",
     "text": [
      "Loaded mts - N: 1000, T: 152, D: 1 \n",
      "Loaded mts - N: 6164, T: 152, D: 1 \n"
     ]
    }
   ],
   "source": [
    "mts_train = TSerie(X=X_train.transpose([0, 2, 1]), y=y_train)\n",
    "mts_test = TSerie(X=X_test.transpose([0, 2, 1]), y=y_test)"
   ]
  },
  {
   "cell_type": "code",
   "execution_count": 111,
   "metadata": {},
   "outputs": [],
   "source": [
    "# mts.smooth(window_size=40)\n",
    "# mts_train.shapeNormalizization()\n",
    "# mts_test.shapeNormalizization()\n",
    "# mts_train.minMaxNormalizization()\n",
    "# mts_test.minMaxNormalizization()\n",
    "minl, maxl = mts_train.minMaxNormalizization()\n",
    "minl, maxl = mts_test.minMaxNormalizization(minl= minl, maxl=maxl)"
   ]
  },
  {
   "cell_type": "code",
   "execution_count": 112,
   "metadata": {},
   "outputs": [],
   "source": [
    "from source.featlearn.simclr import SimClrFL\n",
    "from source.featlearn.weakStrongFL import WeakStrongFL\n",
    "from ts2vec import TS2Vec\n",
    "\n",
    "# Train a TS2Vec model\n",
    "model = TS2Vec(\n",
    "    input_dims=mts_train.D,\n",
    "    device=0,\n",
    "    output_dims=128,\n",
    ")\n",
    "\n",
    "\n",
    "\n",
    "\n",
    "# in_channels = mts_train.D\n",
    "# in_time = mts_train.T\n",
    "# # encoder = SimClrFL(in_channels, in_time)\n",
    "# encoder = SimClrFL(in_channels, in_time, encoding_size = 8, feature_size=128, filters = [8, 8],\n",
    "#             kernels = [5, 5],)"
   ]
  },
  {
   "cell_type": "code",
   "execution_count": 113,
   "metadata": {},
   "outputs": [],
   "source": [
    "# encoder.reviewAugmentations(mts_train.X.transpose([0, 2, 1]))"
   ]
  },
  {
   "cell_type": "code",
   "execution_count": 114,
   "metadata": {},
   "outputs": [
    {
     "name": "stdout",
     "output_type": "stream",
     "text": [
      "Epoch #0: loss=2.9405838328023113\n",
      "Epoch #1: loss=2.6516595386689708\n",
      "Epoch #2: loss=2.338978255948713\n",
      "Epoch #3: loss=2.145258838130582\n",
      "Epoch #4: loss=2.030718395786901\n",
      "Epoch #5: loss=1.9101206679497995\n",
      "Epoch #6: loss=1.7143012381369067\n",
      "Epoch #7: loss=1.7672265441186967\n",
      "Epoch #8: loss=1.4833608615782954\n"
     ]
    }
   ],
   "source": [
    "# encoder.fit(mts_train.X.transpose([0, 2, 1]), \n",
    "#             epochs=200, \n",
    "#             batch_size=128\n",
    "# )\n",
    "\n",
    "\n",
    "loss_log = model.fit(\n",
    "    mts_train.X,\n",
    "    verbose=True\n",
    ")"
   ]
  },
  {
   "cell_type": "code",
   "execution_count": 115,
   "metadata": {},
   "outputs": [],
   "source": [
    "# mts_train.features = encoder.encode(mts_train.X.transpose([0, 2, 1]))\n",
    "# mts_test.features = encoder.encode(mts_test.X.transpose([0, 2, 1]))\n",
    "\n",
    "mts_train.features = model.encode(mts_train.X, encoding_window='full_series')\n",
    "mts_test.features = model.encode(mts_test.X, encoding_window='full_series')\n"
   ]
  },
  {
   "cell_type": "code",
   "execution_count": 116,
   "metadata": {},
   "outputs": [
    {
     "name": "stdout",
     "output_type": "stream",
     "text": [
      "accuracy\n",
      "0.987\n",
      "0.9800454250486696\n",
      "f1 score\n",
      "0.9874203967330724\n",
      "0.9806963432545055\n"
     ]
    }
   ],
   "source": [
    "from sklearn import svm\n",
    "from sklearn.metrics import f1_score\n",
    "\n",
    "clf = svm.SVC()\n",
    "clf.fit(mts_train.features, mts_train.y)\n",
    "\n",
    "print('accuracy')\n",
    "print(clf.score(mts_train.features, mts_train.y))\n",
    "print(clf.score(mts_test.features, mts_test.y))\n",
    "\n",
    "print('f1 score')\n",
    "print(f1_score(clf.predict(mts_train.features), mts_train.y, average= 'weighted'))\n",
    "print(f1_score(clf.predict(mts_test.features), mts_test.y, average= 'weighted'))"
   ]
  },
  {
   "cell_type": "code",
   "execution_count": 117,
   "metadata": {},
   "outputs": [
    {
     "data": {
      "text/plain": [
       "<matplotlib.collections.PathCollection at 0x7f3d43bd5ca0>"
      ]
     },
     "execution_count": 117,
     "metadata": {},
     "output_type": "execute_result"
    },
    {
     "data": {
      "image/png": "[encoded data removed]",
      "text/plain": [
       "<Figure size 640x480 with 1 Axes>"
      ]
     },
     "metadata": {},
     "output_type": "display_data"
    }
   ],
   "source": [
    "import matplotlib.pyplot as plt\n",
    "import umap\n",
    "\n",
    "# reducer = umap.UMAP(n_components=2, metric='cosine')\n",
    "reducer = umap.UMAP(n_components=2, metric='euclidean', n_neighbors=15)\n",
    "reducer.fit(mts_train.features, y = mts_train.y)\n",
    "coords_train = reducer.transform(mts_train.features)\n",
    "coords_test = reducer.transform(mts_test.features)\n",
    "\n",
    "plt.scatter(coords_train[:, 0], coords_train[:, 1], c=mts_train.y)\n"
   ]
  },
  {
   "cell_type": "code",
   "execution_count": 118,
   "metadata": {},
   "outputs": [
    {
     "data": {
      "text/plain": [
       "<matplotlib.collections.PathCollection at 0x7f3cd0185c10>"
      ]
     },
     "execution_count": 118,
     "metadata": {},
     "output_type": "execute_result"
    },
    {
     "data": {
      "image/png": "[encoded data removed]",
      "text/plain": [
       "<Figure size 640x480 with 1 Axes>"
      ]
     },
     "metadata": {},
     "output_type": "display_data"
    }
   ],
   "source": [
    "plt.scatter(coords_test[:, 0], coords_test[:, 1],  c=mts_test.y)"
   ]
  },
  {
   "cell_type": "code",
   "execution_count": 19,
   "metadata": {},
   "outputs": [],
   "source": [
    "import sys\n",
    "sys.path.append('/home/texs/Documentos/Repositories/mts_viz')\n",
    "from server.source.storage import MTSStorage"
   ]
  },
  {
   "cell_type": "code",
   "execution_count": 20,
   "metadata": {},
   "outputs": [
    {
     "name": "stdout",
     "output_type": "stream",
     "text": [
      "mts shape: N: 67 -  T: 24 - D: 2\n",
      "mts shape: N: 1029 -  T: 24 - D: 2\n"
     ]
    }
   ],
   "source": [
    "storage = MTSStorage('mts_comparison')    \n",
    "# storage.delete()\n",
    "storage.load()\n",
    "\n",
    "# classLabels = {int(v): str(v) for v in np.unique(y)}\n",
    "dimensions = [str(dim) for dim in range(mts_train.D)]\n",
    "# dimensions = [sPoll, sPoll + '_norm']\n",
    "# dimensions = pollutants + [poll + '_norm' for poll in pollutants]\n",
    "data = np.concatenate([mts_train.X_orig, mts_train.X], axis=2) \n",
    "storage.add_mts(\n",
    "    '{}_{}_{}_train'.format(dataset, LOSS, MODE),\n",
    "    data, \n",
    "    dimensions = dimensions + [dim+ '_norm' for dim in dimensions], \n",
    "    labels = {'class': mts_train.y},\n",
    "    labelsNames = {'class': classLabels},\n",
    "    coords = {\n",
    "        'shape': coords_train,\n",
    "    },\n",
    "    sampling=True,\n",
    "    n_samples= 400\n",
    ")\n",
    "\n",
    "data = np.concatenate([mts_test.X_orig, mts_test.X], axis=2) \n",
    "storage.add_mts(\n",
    "    '{}_{}_{}_test'.format(dataset, LOSS, MODE),\n",
    "    data, \n",
    "    dimensions = dimensions + [dim+ '_norm' for dim in dimensions], \n",
    "    labels = {'class': mts_test.y},\n",
    "    labelsNames = {'class': classLabels},\n",
    "    coords = {\n",
    "        'shape': coords_test,\n",
    "    },\n",
    "    sampling=True,\n",
    "    n_samples= 400\n",
    ")\n",
    "\n",
    "\n",
    "storage.save()"
   ]
  },
  {
   "cell_type": "code",
   "execution_count": null,
   "metadata": {},
   "outputs": [],
   "source": []
  }
 ],
 "metadata": {
  "kernelspec": {
   "display_name": "Python 3.8.13 ('clearn')",
   "language": "python",
   "name": "python3"
  },
  "language_info": {
   "codemirror_mode": {
    "name": "ipython",
    "version": 3
   },
   "file_extension": ".py",
   "mimetype": "text/x-python",
   "name": "python",
   "nbconvert_exporter": "python",
   "pygments_lexer": "ipython3",
   "version": "3.8.13"
  },
  "orig_nbformat": 4,
  "vscode": {
   "interpreter": {
    "hash": "9b358327185eebe25ac8832d1d1e0e28e2841cec82efe29413dcc7b9341241d3"
   }
  }
 },
 "nbformat": 4,
 "nbformat_minor": 2
}
