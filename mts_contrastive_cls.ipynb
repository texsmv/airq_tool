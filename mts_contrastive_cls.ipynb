{
 "cells": [
  {
   "cell_type": "code",
   "execution_count": 1,
   "metadata": {},
   "outputs": [
    {
     "name": "stderr",
     "output_type": "stream",
     "text": [
      "/home/texs/anaconda3/envs/clearn/lib/python3.8/site-packages/tqdm/auto.py:22: TqdmWarning: IProgress not found. Please update jupyter and ipywidgets. See https://ipywidgets.readthedocs.io/en/stable/user_install.html\n",
      "  from .autonotebook import tqdm as notebook_tqdm\n"
     ]
    }
   ],
   "source": [
    "%reload_ext autoreload\n",
    "%autoreload 2\n",
    "\n",
    "import numpy as np\n",
    "from source.tserie import TSerie\n",
    "\n",
    "from source.torch_utils import getContrastiveFeatures\n",
    "\n",
    "import sys\n",
    "\n",
    "sys.path.append('/home/texs/Documentos/Repositories/ts2vec')\n",
    "\n"
   ]
  },
  {
   "cell_type": "code",
   "execution_count": 2,
   "metadata": {},
   "outputs": [],
   "source": [
    "from source.datasets import loadFuncionalModel, loadNatops, loadWafer, loadSelfRegulationSCP2, loadBasicMotions, loadEarthquakes, loadItalyPowerDemand, loadEigenWorms\n",
    "\n",
    "dataset = 'basicmotions' # natops | wafer | selfreg | basicmotions | earthquakes | italy | eigenworms\n",
    "\n",
    "settings = {\n",
    "    'natops' : {\n",
    "        'epochs': 150,\n",
    "        'filters' : [32, 64],\n",
    "        'kernels' : [5, 5],\n",
    "        'feat_size' : 256,\n",
    "        'enc_size' : 20,\n",
    "    },\n",
    "    'wafer' : {\n",
    "        'epochs': 20,\n",
    "        'filters' : [16, 32],\n",
    "        'kernels' : [5, 5],\n",
    "        'feat_size' : 512,\n",
    "        'enc_size' : 20,\n",
    "    },\n",
    "    'basicmotions' : {\n",
    "        'epochs': 200,\n",
    "        'filters' : [16, 32],\n",
    "        'kernels' : [5, 5],\n",
    "        'feat_size' : 128,\n",
    "        'enc_size' : 20,\n",
    "    },\n",
    "    'italy' : {\n",
    "        'epochs': 200,\n",
    "        'filters' : [16],\n",
    "        'kernels' : [5],\n",
    "        'feat_size' : 128,\n",
    "        'enc_size' : 8,\n",
    "    }\n",
    "}\n",
    "\n",
    "if dataset == 'natops':\n",
    "    X_train, y_train, X_test, y_test, classLabels = loadNatops()\n",
    "elif dataset == 'wafer':\n",
    "    X_train, y_train, X_test, y_test = loadWafer()\n",
    "    classLabels = {}\n",
    "elif dataset == 'basicmotions':\n",
    "    X_train, y_train, X_test, y_test, classLabels= loadBasicMotions()\n",
    "elif dataset == 'italy':\n",
    "    X_train, y_train, X_test, y_test, classLabels= loadItalyPowerDemand()\n",
    "# X = np.concatenate([X_train, X_test], axis=0).transpose([0, 2, 1])\n",
    "# y = np.concatenate([y_train, y_test], axis=0)\n",
    "# y = np.array([float(v) for v in y]).astype(int).tolist()"
   ]
  },
  {
   "cell_type": "code",
   "execution_count": 3,
   "metadata": {},
   "outputs": [
    {
     "name": "stdout",
     "output_type": "stream",
     "text": [
      "Loaded mts - N: 40, T: 100, D: 6 \n",
      "Loaded mts - N: 40, T: 100, D: 6 \n"
     ]
    }
   ],
   "source": [
    "mts_train = TSerie(X=X_train.transpose([0, 2, 1]), y=y_train)\n",
    "mts_test = TSerie(X=X_test.transpose([0, 2, 1]), y=y_test)"
   ]
  },
  {
   "cell_type": "code",
   "execution_count": 4,
   "metadata": {},
   "outputs": [
    {
     "name": "stdout",
     "output_type": "stream",
     "text": [
      "(40, 6, 100)\n",
      "(40, 6, 100)\n"
     ]
    }
   ],
   "source": [
    "# mts.smooth(window_size=40)\n",
    "# mts_train.shapeNormalizization()\n",
    "# mts_test.shapeNormalizization()\n",
    "# mts_train.minMaxNormalizization()\n",
    "# mts_test.minMaxNormalizization()\n",
    "minl, maxl = mts_train.minMaxNormalizization()\n",
    "minl, maxl = mts_test.minMaxNormalizization(minl= minl, maxl=maxl)"
   ]
  },
  {
   "cell_type": "code",
   "execution_count": 5,
   "metadata": {},
   "outputs": [],
   "source": [
    "# from source.featlearn.simclr import SimClrFL\n",
    "# from source.featlearn.weakStrongFL import WeakStrongFL\n",
    "from source.featlearn.autoencoder_lr import AutoencoderFL, DCEC, VAE_FL\n",
    "from ts2vec import TS2Vec\n",
    "\n",
    "# Train a TS2Vec model\n",
    "# model = TS2Vec(\n",
    "#     input_dims=mts_train.D,\n",
    "#     device=0,\n",
    "#     output_dims=128,\n",
    "# )\n",
    "\n",
    "\n",
    "\n",
    "\n",
    "# in_channels = mts_train.D\n",
    "# in_time = mts_train.T\n",
    "\n",
    "# encoder = AutoencoderFL(mts_train.D, mts_train.T, feature_size=32)\n",
    "encoder = VAE_FL(mts_train.D, mts_train.T, feature_size=16)\n",
    "# encoder = SimClrFL(in_channels, in_time)\n",
    "# encoder = SimClrFL(\n",
    "#     in_channels, \n",
    "#     in_time, \n",
    "#     encoding_size = 4, \n",
    "#     feature_size=32, \n",
    "#     filters = [16, 16, 16],\n",
    "#     kernels = [3, 3, 3],\n",
    "#     # kernels = [16, 16, 16],\n",
    "#     # filters = [5, 5, 5],\n",
    "# )"
   ]
  },
  {
   "cell_type": "code",
   "execution_count": 6,
   "metadata": {},
   "outputs": [],
   "source": [
    "# encoder.reviewAugmentations(mts_train.X.transpose([0, 2, 1]))"
   ]
  },
  {
   "cell_type": "code",
   "execution_count": 7,
   "metadata": {},
   "outputs": [
    {
     "name": "stdout",
     "output_type": "stream",
     "text": [
      "Epoch[1] Train loss    avg: 17469.1015625\n",
      "Epoch[1] Train KL loss    avg: 17468.73828125\n",
      "Epoch[50] Train loss    avg: 57.53165817260742\n",
      "Epoch[50] Train KL loss    avg: 57.41262435913086\n",
      "Epoch[100] Train loss    avg: 20.428030014038086\n",
      "Epoch[100] Train KL loss    avg: 20.339635848999023\n",
      "Epoch[150] Train loss    avg: 10.9483060836792\n",
      "Epoch[150] Train KL loss    avg: 10.869016647338867\n",
      "Epoch[200] Train loss    avg: 8.251994132995605\n",
      "Epoch[200] Train KL loss    avg: 8.178534507751465\n",
      "Epoch[250] Train loss    avg: 6.081860065460205\n",
      "Epoch[250] Train KL loss    avg: 6.012660980224609\n",
      "Epoch[300] Train loss    avg: 4.616550445556641\n",
      "Epoch[300] Train KL loss    avg: 4.5530686378479\n",
      "Epoch[350] Train loss    avg: 3.86114501953125\n",
      "Epoch[350] Train KL loss    avg: 3.803051710128784\n",
      "Epoch[400] Train loss    avg: 2.9051356315612793\n",
      "Epoch[400] Train KL loss    avg: 2.850215196609497\n",
      "Epoch[450] Train loss    avg: 2.841830253601074\n",
      "Epoch[450] Train KL loss    avg: 2.7913131713867188\n",
      "Epoch[500] Train loss    avg: 2.637672185897827\n",
      "Epoch[500] Train KL loss    avg: 2.5928750038146973\n",
      "Epoch[550] Train loss    avg: 2.2055504322052\n",
      "Epoch[550] Train KL loss    avg: 2.1630709171295166\n",
      "Epoch[600] Train loss    avg: 1.9438493251800537\n",
      "Epoch[600] Train KL loss    avg: 1.9057928323745728\n",
      "Epoch[650] Train loss    avg: 1.7806040048599243\n",
      "Epoch[650] Train KL loss    avg: 1.7442727088928223\n",
      "Epoch[700] Train loss    avg: 1.5156357288360596\n",
      "Epoch[700] Train KL loss    avg: 1.4804195165634155\n",
      "Epoch[750] Train loss    avg: 1.3108067512512207\n",
      "Epoch[750] Train KL loss    avg: 1.2684721946716309\n",
      "Epoch[800] Train loss    avg: 1.288203239440918\n",
      "Epoch[800] Train KL loss    avg: 1.2605783939361572\n",
      "Epoch[850] Train loss    avg: 1.1171926259994507\n",
      "Epoch[850] Train KL loss    avg: 1.086777925491333\n",
      "Epoch[900] Train loss    avg: 1.0296088457107544\n",
      "Epoch[900] Train KL loss    avg: 1.0053097009658813\n",
      "Epoch[950] Train loss    avg: 0.8928085565567017\n",
      "Epoch[950] Train KL loss    avg: 0.8678285479545593\n",
      "Epoch[1000] Train loss    avg: 0.8026397228240967\n",
      "Epoch[1000] Train KL loss    avg: 0.7806801795959473\n",
      "Epoch[1050] Train loss    avg: 0.8620737195014954\n",
      "Epoch[1050] Train KL loss    avg: 0.8411328196525574\n",
      "Epoch[1100] Train loss    avg: 0.7975438833236694\n",
      "Epoch[1100] Train KL loss    avg: 0.7725660800933838\n",
      "Epoch[1150] Train loss    avg: 0.6715754270553589\n",
      "Epoch[1150] Train KL loss    avg: 0.6510050296783447\n",
      "Epoch[1200] Train loss    avg: 0.6948119401931763\n",
      "Epoch[1200] Train KL loss    avg: 0.6758344173431396\n",
      "Epoch[1250] Train loss    avg: 0.6212504506111145\n",
      "Epoch[1250] Train KL loss    avg: 0.6045190691947937\n",
      "Epoch[1300] Train loss    avg: 0.6103379130363464\n",
      "Epoch[1300] Train KL loss    avg: 0.5947686433792114\n",
      "Epoch[1350] Train loss    avg: 0.564714789390564\n",
      "Epoch[1350] Train KL loss    avg: 0.548163115978241\n",
      "Epoch[1400] Train loss    avg: 0.5023303031921387\n",
      "Epoch[1400] Train KL loss    avg: 0.4862060844898224\n",
      "Epoch[1450] Train loss    avg: 0.543067991733551\n",
      "Epoch[1450] Train KL loss    avg: 0.5276213884353638\n",
      "Epoch[1500] Train loss    avg: 0.5189717411994934\n",
      "Epoch[1500] Train KL loss    avg: 0.504747211933136\n",
      "Epoch[1550] Train loss    avg: 0.46758997440338135\n",
      "Epoch[1550] Train KL loss    avg: 0.4542088210582733\n",
      "Epoch[1600] Train loss    avg: 0.467537522315979\n",
      "Epoch[1600] Train KL loss    avg: 0.45381948351860046\n",
      "Epoch[1650] Train loss    avg: 0.4579281210899353\n",
      "Epoch[1650] Train KL loss    avg: 0.4443146884441376\n",
      "Epoch[1700] Train loss    avg: 0.3917222023010254\n",
      "Epoch[1700] Train KL loss    avg: 0.3780965805053711\n",
      "Epoch[1750] Train loss    avg: 0.3703550696372986\n",
      "Epoch[1750] Train KL loss    avg: 0.3581136465072632\n",
      "Epoch[1800] Train loss    avg: 0.3459112346172333\n",
      "Epoch[1800] Train KL loss    avg: 0.33472689986228943\n",
      "Epoch[1850] Train loss    avg: 0.32326820492744446\n",
      "Epoch[1850] Train KL loss    avg: 0.31105488538742065\n",
      "Epoch[1900] Train loss    avg: 0.3508908450603485\n",
      "Epoch[1900] Train KL loss    avg: 0.3390112519264221\n",
      "Epoch[1950] Train loss    avg: 0.32024717330932617\n",
      "Epoch[1950] Train KL loss    avg: 0.3022172749042511\n",
      "Epoch[2000] Train loss    avg: 0.30696961283683777\n",
      "Epoch[2000] Train KL loss    avg: 0.29506486654281616\n",
      "Epoch[2050] Train loss    avg: 0.2774227559566498\n",
      "Epoch[2050] Train KL loss    avg: 0.26690471172332764\n",
      "Epoch[2100] Train loss    avg: 0.312441885471344\n",
      "Epoch[2100] Train KL loss    avg: 0.29972848296165466\n",
      "Epoch[2150] Train loss    avg: 0.29350531101226807\n",
      "Epoch[2150] Train KL loss    avg: 0.2831706404685974\n",
      "Epoch[2200] Train loss    avg: 0.28005537390708923\n",
      "Epoch[2200] Train KL loss    avg: 0.26993387937545776\n",
      "Epoch[2250] Train loss    avg: 0.261201947927475\n",
      "Epoch[2250] Train KL loss    avg: 0.2514316439628601\n",
      "Epoch[2300] Train loss    avg: 0.2631146311759949\n",
      "Epoch[2300] Train KL loss    avg: 0.25287482142448425\n",
      "Epoch[2350] Train loss    avg: 0.2247278094291687\n",
      "Epoch[2350] Train KL loss    avg: 0.21254310011863708\n",
      "Epoch[2400] Train loss    avg: 0.24337822198867798\n",
      "Epoch[2400] Train KL loss    avg: 0.2335037887096405\n",
      "Epoch[2450] Train loss    avg: 0.24449630081653595\n",
      "Epoch[2450] Train KL loss    avg: 0.23297446966171265\n",
      "Epoch[2500] Train loss    avg: 0.21024660766124725\n",
      "Epoch[2500] Train KL loss    avg: 0.20052693784236908\n",
      "Epoch[2550] Train loss    avg: 0.2170790284872055\n",
      "Epoch[2550] Train KL loss    avg: 0.20493194460868835\n",
      "Epoch[2600] Train loss    avg: 0.20717039704322815\n",
      "Epoch[2600] Train KL loss    avg: 0.19839318096637726\n",
      "Epoch[2650] Train loss    avg: 0.2106991410255432\n",
      "Epoch[2650] Train KL loss    avg: 0.1993398815393448\n",
      "Epoch[2700] Train loss    avg: 0.18642522394657135\n",
      "Epoch[2700] Train KL loss    avg: 0.17775312066078186\n",
      "Epoch[2750] Train loss    avg: 0.18967413902282715\n",
      "Epoch[2750] Train KL loss    avg: 0.17645618319511414\n",
      "Epoch[2800] Train loss    avg: 0.17858269810676575\n",
      "Epoch[2800] Train KL loss    avg: 0.1704421192407608\n",
      "Epoch[2850] Train loss    avg: 0.17324744164943695\n",
      "Epoch[2850] Train KL loss    avg: 0.16485469043254852\n",
      "Epoch[2900] Train loss    avg: 0.17508096992969513\n",
      "Epoch[2900] Train KL loss    avg: 0.16385848820209503\n",
      "Epoch[2950] Train loss    avg: 0.1545408070087433\n",
      "Epoch[2950] Train KL loss    avg: 0.14525604248046875\n",
      "Epoch[3000] Train loss    avg: 0.15730276703834534\n",
      "Epoch[3000] Train KL loss    avg: 0.14781473577022552\n",
      "Epoch[3050] Train loss    avg: 0.1473587602376938\n",
      "Epoch[3050] Train KL loss    avg: 0.13955026865005493\n",
      "Epoch[3100] Train loss    avg: 0.15156304836273193\n",
      "Epoch[3100] Train KL loss    avg: 0.14329227805137634\n",
      "Epoch[3150] Train loss    avg: 0.14347022771835327\n",
      "Epoch[3150] Train KL loss    avg: 0.13603432476520538\n",
      "Epoch[3200] Train loss    avg: 0.14913634955883026\n",
      "Epoch[3200] Train KL loss    avg: 0.1394921988248825\n",
      "Epoch[3250] Train loss    avg: 0.13013871014118195\n",
      "Epoch[3250] Train KL loss    avg: 0.12236432731151581\n",
      "Epoch[3300] Train loss    avg: 0.14148224890232086\n",
      "Epoch[3300] Train KL loss    avg: 0.13290506601333618\n",
      "Epoch[3350] Train loss    avg: 0.1358926147222519\n",
      "Epoch[3350] Train KL loss    avg: 0.1273256093263626\n",
      "Epoch[3400] Train loss    avg: 0.12374529242515564\n",
      "Epoch[3400] Train KL loss    avg: 0.11567241698503494\n",
      "Epoch[3450] Train loss    avg: 0.11978616565465927\n",
      "Epoch[3450] Train KL loss    avg: 0.11117374151945114\n",
      "Epoch[3500] Train loss    avg: 0.11549584567546844\n",
      "Epoch[3500] Train KL loss    avg: 0.10815001279115677\n",
      "Epoch[3550] Train loss    avg: 0.12171511352062225\n",
      "Epoch[3550] Train KL loss    avg: 0.1136658564209938\n",
      "Epoch[3600] Train loss    avg: 0.12245689332485199\n",
      "Epoch[3600] Train KL loss    avg: 0.11511680483818054\n",
      "Epoch[3650] Train loss    avg: 0.10943594574928284\n",
      "Epoch[3650] Train KL loss    avg: 0.10157892107963562\n",
      "Epoch[3700] Train loss    avg: 0.11619532853364944\n",
      "Epoch[3700] Train KL loss    avg: 0.10894507169723511\n",
      "Epoch[3750] Train loss    avg: 0.11251763254404068\n",
      "Epoch[3750] Train KL loss    avg: 0.10574030876159668\n",
      "Epoch[3800] Train loss    avg: 0.10180722177028656\n",
      "Epoch[3800] Train KL loss    avg: 0.09525036066770554\n",
      "Epoch[3850] Train loss    avg: 0.09549122303724289\n",
      "Epoch[3850] Train KL loss    avg: 0.08779291063547134\n",
      "Epoch[3900] Train loss    avg: 0.09627103805541992\n",
      "Epoch[3900] Train KL loss    avg: 0.0882921814918518\n",
      "Epoch[3950] Train loss    avg: 0.09606364369392395\n",
      "Epoch[3950] Train KL loss    avg: 0.0892493799328804\n",
      "Epoch[4000] Train loss    avg: 0.09972835332155228\n",
      "Epoch[4000] Train KL loss    avg: 0.09372898936271667\n",
      "Epoch[4050] Train loss    avg: 0.08952842652797699\n",
      "Epoch[4050] Train KL loss    avg: 0.08314555883407593\n",
      "Epoch[4100] Train loss    avg: 0.09001937508583069\n",
      "Epoch[4100] Train KL loss    avg: 0.08343721926212311\n",
      "Epoch[4150] Train loss    avg: 0.08530884236097336\n",
      "Epoch[4150] Train KL loss    avg: 0.0793178603053093\n",
      "Epoch[4200] Train loss    avg: 0.09172037988901138\n",
      "Epoch[4200] Train KL loss    avg: 0.08580748736858368\n",
      "Epoch[4250] Train loss    avg: 0.08066356927156448\n",
      "Epoch[4250] Train KL loss    avg: 0.07463736832141876\n",
      "Epoch[4300] Train loss    avg: 0.08656889945268631\n",
      "Epoch[4300] Train KL loss    avg: 0.08085794001817703\n",
      "Epoch[4350] Train loss    avg: 0.08330940455198288\n",
      "Epoch[4350] Train KL loss    avg: 0.07700701802968979\n",
      "Epoch[4400] Train loss    avg: 0.07689432054758072\n",
      "Epoch[4400] Train KL loss    avg: 0.06991324573755264\n",
      "Epoch[4450] Train loss    avg: 0.08139605075120926\n",
      "Epoch[4450] Train KL loss    avg: 0.07313698530197144\n",
      "Epoch[4500] Train loss    avg: 0.07751887291669846\n",
      "Epoch[4500] Train KL loss    avg: 0.0708177387714386\n",
      "Epoch[4550] Train loss    avg: 0.07739844918251038\n",
      "Epoch[4550] Train KL loss    avg: 0.07174555212259293\n",
      "Epoch[4600] Train loss    avg: 0.07290806621313095\n",
      "Epoch[4600] Train KL loss    avg: 0.06647787243127823\n",
      "Epoch[4650] Train loss    avg: 0.06931544840335846\n",
      "Epoch[4650] Train KL loss    avg: 0.06299418956041336\n",
      "Epoch[4700] Train loss    avg: 0.06824284046888351\n",
      "Epoch[4700] Train KL loss    avg: 0.06265034526586533\n",
      "Epoch[4750] Train loss    avg: 0.05834931135177612\n",
      "Epoch[4750] Train KL loss    avg: 0.05263015255331993\n",
      "Epoch[4800] Train loss    avg: 0.07188978791236877\n",
      "Epoch[4800] Train KL loss    avg: 0.06683480739593506\n",
      "Epoch[4850] Train loss    avg: 0.07391027361154556\n",
      "Epoch[4850] Train KL loss    avg: 0.06665410101413727\n",
      "Epoch[4900] Train loss    avg: 0.06725704669952393\n",
      "Epoch[4900] Train KL loss    avg: 0.06050166115164757\n",
      "Epoch[4950] Train loss    avg: 0.06292902678251266\n",
      "Epoch[4950] Train KL loss    avg: 0.05710795521736145\n",
      "Epoch[5000] Train loss    avg: 0.062049880623817444\n",
      "Epoch[5000] Train KL loss    avg: 0.055399250239133835\n"
     ]
    },
    {
     "data": {
      "text/plain": [
       "<source.utils.ValueLogger at 0x7f2923bfd370>"
      ]
     },
     "execution_count": 7,
     "metadata": {},
     "output_type": "execute_result"
    }
   ],
   "source": [
    "encoder.fit(mts_train.X, \n",
    "            epochs=5000, \n",
    "            batch_size=128\n",
    ")\n",
    "\n",
    "\n",
    "# loss_log = model.fit(\n",
    "#     mts_train.X,\n",
    "#     verbose=True\n",
    "# )"
   ]
  },
  {
   "cell_type": "code",
   "execution_count": 8,
   "metadata": {},
   "outputs": [],
   "source": [
    "_, mts_test.features= encoder.encode(mts_test.X)\n",
    "_, mts_train.features = encoder.encode(mts_train.X)\n",
    "\n",
    "# mts_train.features = model.encode(mts_train.X, encoding_window='full_series')\n",
    "# mts_test.features = model.encode(mts_test.X, encoding_window='full_series')\n"
   ]
  },
  {
   "cell_type": "code",
   "execution_count": 9,
   "metadata": {},
   "outputs": [
    {
     "name": "stdout",
     "output_type": "stream",
     "text": [
      "accuracy\n",
      "0.925\n",
      "0.25\n",
      "balanced accuracy\n",
      "0.9356060606060607\n",
      "0.29568713450292394\n",
      "f1 score\n",
      "0.928749681690858\n",
      "0.2514187768271253\n"
     ]
    }
   ],
   "source": [
    "from sklearn import svm\n",
    "from sklearn.metrics import f1_score, balanced_accuracy_score\n",
    "\n",
    "clf = svm.SVC()\n",
    "clf.fit(mts_train.features, mts_train.y)\n",
    "\n",
    "print('accuracy')\n",
    "print(clf.score(mts_train.features, mts_train.y))\n",
    "print(clf.score(mts_test.features, mts_test.y))\n",
    "\n",
    "print('balanced accuracy')\n",
    "print(balanced_accuracy_score(clf.predict(mts_train.features), mts_train.y))\n",
    "print(balanced_accuracy_score(clf.predict(mts_test.features), mts_test.y))\n",
    "\n",
    "print('f1 score')\n",
    "print(f1_score(clf.predict(mts_train.features), mts_train.y, average= 'weighted'))\n",
    "print(f1_score(clf.predict(mts_test.features), mts_test.y, average= 'weighted'))"
   ]
  },
  {
   "cell_type": "code",
   "execution_count": 10,
   "metadata": {},
   "outputs": [
    {
     "data": {
      "text/plain": [
       "<matplotlib.collections.PathCollection at 0x7f28dc7942e0>"
      ]
     },
     "execution_count": 10,
     "metadata": {},
     "output_type": "execute_result"
    },
    {
     "data": {
      "image/png": "[encoded data removed]",
      "text/plain": [
       "<Figure size 640x480 with 1 Axes>"
      ]
     },
     "metadata": {},
     "output_type": "display_data"
    }
   ],
   "source": [
    "import matplotlib.pyplot as plt\n",
    "import umap\n",
    "\n",
    "reducer = umap.UMAP(n_components=2, metric='cosine')\n",
    "# reducer = umap.UMAP(n_components=2, metric='euclidean', n_neighbors=8)\n",
    "reducer.fit(mts_train.features, y = mts_train.y)\n",
    "# reducer.fit(mts_train.features)\n",
    "coords_train = reducer.transform(mts_train.features)\n",
    "coords_test = reducer.transform(mts_test.features)\n",
    "\n",
    "plt.scatter(coords_train[:, 0], coords_train[:, 1], c=mts_train.y)\n"
   ]
  },
  {
   "cell_type": "code",
   "execution_count": 11,
   "metadata": {},
   "outputs": [
    {
     "data": {
      "text/plain": [
       "<matplotlib.collections.PathCollection at 0x7f28dca9cf70>"
      ]
     },
     "execution_count": 11,
     "metadata": {},
     "output_type": "execute_result"
    },
    {
     "data": {
      "image/png": "[encoded data removed]",
      "text/plain": [
       "<Figure size 640x480 with 1 Axes>"
      ]
     },
     "metadata": {},
     "output_type": "display_data"
    }
   ],
   "source": [
    "plt.scatter(coords_test[:, 0], coords_test[:, 1],  c=mts_test.y)"
   ]
  },
  {
   "cell_type": "code",
   "execution_count": 12,
   "metadata": {},
   "outputs": [],
   "source": [
    "# import sys\n",
    "# sys.path.append('/home/texs/Documentos/Repositories/mts_viz')\n",
    "# from server.source.storage import MTSStorage"
   ]
  },
  {
   "cell_type": "code",
   "execution_count": 13,
   "metadata": {},
   "outputs": [],
   "source": [
    "# storage = MTSStorage('mts_comparison')    \n",
    "# # storage.delete()\n",
    "# storage.load()\n",
    "\n",
    "# # classLabels = {int(v): str(v) for v in np.unique(y)}\n",
    "# dimensions = [str(dim) for dim in range(mts_train.D)]\n",
    "# # dimensions = [sPoll, sPoll + '_norm']\n",
    "# # dimensions = pollutants + [poll + '_norm' for poll in pollutants]\n",
    "# data = np.concatenate([mts_train.X_orig, mts_train.X], axis=2) \n",
    "# storage.add_mts(\n",
    "#     '{}_train'.format(dataset),\n",
    "#     data, \n",
    "#     dimensions = dimensions + [dim+ '_norm' for dim in dimensions], \n",
    "#     labels = {'class': mts_train.y},\n",
    "#     labelsNames = {'class': classLabels},\n",
    "#     coords = {\n",
    "#         'shape': coords_train,\n",
    "#     },\n",
    "#     sampling=True,\n",
    "#     n_samples= 400\n",
    "# )\n",
    "\n",
    "# data = np.concatenate([mts_test.X_orig, mts_test.X], axis=2) \n",
    "# storage.add_mts(\n",
    "#     '{}_test'.format(dataset),\n",
    "#     data, \n",
    "#     dimensions = dimensions + [dim+ '_norm' for dim in dimensions], \n",
    "#     labels = {'class': mts_test.y},\n",
    "#     labelsNames = {'class': classLabels},\n",
    "#     coords = {\n",
    "#         'shape': coords_test,\n",
    "#     },\n",
    "#     sampling=True,\n",
    "#     n_samples= 400\n",
    "# )\n",
    "\n",
    "\n",
    "# storage.save()"
   ]
  },
  {
   "cell_type": "code",
   "execution_count": null,
   "metadata": {},
   "outputs": [],
   "source": []
  },
  {
   "cell_type": "code",
   "execution_count": null,
   "metadata": {},
   "outputs": [],
   "source": []
  }
 ],
 "metadata": {
  "kernelspec": {
   "display_name": "clearn",
   "language": "python",
   "name": "python3"
  },
  "language_info": {
   "codemirror_mode": {
    "name": "ipython",
    "version": 3
   },
   "file_extension": ".py",
   "mimetype": "text/x-python",
   "name": "python",
   "nbconvert_exporter": "python",
   "pygments_lexer": "ipython3",
   "version": "3.8.13 (default, Mar 28 2022, 11:38:47) \n[GCC 7.5.0]"
  },
  "orig_nbformat": 4,
  "vscode": {
   "interpreter": {
    "hash": "9b358327185eebe25ac8832d1d1e0e28e2841cec82efe29413dcc7b9341241d3"
   }
  }
 },
 "nbformat": 4,
 "nbformat_minor": 2
}
