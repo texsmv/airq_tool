{
 "cells": [
  {
   "cell_type": "code",
   "execution_count": 1,
   "metadata": {},
   "outputs": [],
   "source": [
    "%load_ext autoreload\n",
    "%autoreload 2\n",
    "import numpy as np\n",
    "import pandas as pd\n",
    "import os\n",
    "import cudf\n",
    "import io\n",
    "from source.utils import fdaOutlier\n",
    "\n",
    "from source.datasets import loadFuncionalModel"
   ]
  },
  {
   "cell_type": "code",
   "execution_count": 3,
   "metadata": {},
   "outputs": [],
   "source": [
    "windows = loadFuncionalModel(1)"
   ]
  },
  {
   "cell_type": "code",
   "execution_count": 5,
   "metadata": {},
   "outputs": [],
   "source": [
    "from source.read_ontario import read_ontario\n",
    "\n",
    "windows_map = read_ontario(granularity='daily', cache=False)"
   ]
  },
  {
   "cell_type": "code",
   "execution_count": 4,
   "metadata": {},
   "outputs": [],
   "source": [
    "# windows_map"
   ]
  },
  {
   "cell_type": "code",
   "execution_count": 3,
   "metadata": {},
   "outputs": [],
   "source": [
    "from source.utils import commonWindows\n",
    "\n",
    "pollutans = ['NOx', 'NO']\n",
    "windows, dates, wStations, stations = commonWindows(windows_map, pollutans)"
   ]
  },
  {
   "cell_type": "code",
   "execution_count": 5,
   "metadata": {},
   "outputs": [
    {
     "data": {
      "text/plain": [
       "<matplotlib.collections.PathCollection at 0x7f1c7e334c40>"
      ]
     },
     "execution_count": 5,
     "metadata": {},
     "output_type": "execute_result"
    },
    {
     "data": {
      "image/png": "[encoded data removed]",
      "text/plain": [
       "<Figure size 640x480 with 1 Axes>"
      ]
     },
     "metadata": {},
     "output_type": "display_data"
    }
   ],
   "source": [
    "import matplotlib.pyplot as plt\n",
    "\n",
    "windows.shape\n",
    "mean, var =fdaOutlier(windows[:, :])\n",
    "\n",
    "\n",
    "plt.scatter(mean, var)"
   ]
  },
  {
   "cell_type": "code",
   "execution_count": 24,
   "metadata": {},
   "outputs": [
    {
     "data": {
      "text/plain": [
       "(209,)"
      ]
     },
     "execution_count": 24,
     "metadata": {},
     "output_type": "execute_result"
    }
   ],
   "source": [
    "var.shape"
   ]
  },
  {
   "cell_type": "code",
   "execution_count": 15,
   "metadata": {},
   "outputs": [
    {
     "ename": "KeyboardInterrupt",
     "evalue": "",
     "output_type": "error",
     "traceback": [
      "\u001b[0;31m---------------------------------------------------------------------------\u001b[0m",
      "\u001b[0;31mKeyboardInterrupt\u001b[0m                         Traceback (most recent call last)",
      "\u001b[1;32m/home/texs/Documentos/AirQuality/airqviz/datasets_read.ipynb Cell 7\u001b[0m in \u001b[0;36m<cell line: 2>\u001b[0;34m()\u001b[0m\n\u001b[1;32m      <a href='vscode-notebook-cell:/home/texs/Documentos/AirQuality/airqviz/datasets_read.ipynb#W4sZmlsZQ%3D%3D?line=0'>1</a>\u001b[0m \u001b[39mfrom\u001b[39;00m \u001b[39msource\u001b[39;00m\u001b[39m.\u001b[39;00m\u001b[39mread_india\u001b[39;00m \u001b[39mimport\u001b[39;00m read_india\n\u001b[0;32m----> <a href='vscode-notebook-cell:/home/texs/Documentos/AirQuality/airqviz/datasets_read.ipynb#W4sZmlsZQ%3D%3D?line=1'>2</a>\u001b[0m windows_map \u001b[39m=\u001b[39m read_india(granularity\u001b[39m=\u001b[39;49m\u001b[39m'\u001b[39;49m\u001b[39mmonths\u001b[39;49m\u001b[39m'\u001b[39;49m)\n",
      "File \u001b[0;32m~/Documentos/AirQuality/airqviz/source/read_india.py:30\u001b[0m, in \u001b[0;36mread_india\u001b[0;34m(granularity)\u001b[0m\n\u001b[1;32m     28\u001b[0m     values, dates \u001b[39m=\u001b[39m dfYearWindows(df_conc)    \n\u001b[1;32m     29\u001b[0m \u001b[39melif\u001b[39;00m granularity \u001b[39m==\u001b[39m \u001b[39m'\u001b[39m\u001b[39mmonths\u001b[39m\u001b[39m'\u001b[39m:\n\u001b[0;32m---> 30\u001b[0m     values, dates \u001b[39m=\u001b[39m dfMonthWindows(df_conc)\n\u001b[1;32m     32\u001b[0m \u001b[39mfor\u001b[39;00m k \u001b[39min\u001b[39;00m \u001b[39mrange\u001b[39m(\u001b[39mlen\u001b[39m(values)):\n\u001b[1;32m     33\u001b[0m     dKey \u001b[39m=\u001b[39m \u001b[39m'\u001b[39m\u001b[39m{}\u001b[39;00m\u001b[39m-\u001b[39m\u001b[39m{}\u001b[39;00m\u001b[39m'\u001b[39m\u001b[39m.\u001b[39mformat(dates[k]\u001b[39m.\u001b[39myear, dates[k]\u001b[39m.\u001b[39mmonth)\n",
      "File \u001b[0;32m~/Documentos/AirQuality/airqviz/source/utils.py:98\u001b[0m, in \u001b[0;36mdfMonthWindows\u001b[0;34m(pol_df)\u001b[0m\n\u001b[1;32m     94\u001b[0m m_df \u001b[39m=\u001b[39m months[j]\n\u001b[1;32m     95\u001b[0m m_date \u001b[39m=\u001b[39m dates[j]\n\u001b[0;32m---> 98\u001b[0m temp \u001b[39m=\u001b[39m m_df\u001b[39m.\u001b[39;49mresample(\u001b[39m'\u001b[39;49m\u001b[39mD\u001b[39;49m\u001b[39m'\u001b[39;49m)\u001b[39m.\u001b[39;49mmean()\n\u001b[1;32m    101\u001b[0m \u001b[39mif\u001b[39;00m np\u001b[39m.\u001b[39mcount_nonzero(np\u001b[39m.\u001b[39misnan(temp\u001b[39m.\u001b[39mto_numpy()\u001b[39m.\u001b[39msqueeze())) \u001b[39m==\u001b[39m \u001b[39m0\u001b[39m:\n\u001b[1;32m    102\u001b[0m     \u001b[39mif\u001b[39;00m \u001b[39mlen\u001b[39m(temp) \u001b[39m<\u001b[39m \u001b[39m28\u001b[39m:\n",
      "File \u001b[0;32m~/anaconda3/envs/cuml-torch/lib/python3.8/site-packages/pandas/core/resample.py:998\u001b[0m, in \u001b[0;36mg\u001b[0;34m(self, _method, *args, **kwargs)\u001b[0m\n\u001b[1;32m    996\u001b[0m \u001b[39mdef\u001b[39;00m \u001b[39mg\u001b[39m(\u001b[39mself\u001b[39m, _method\u001b[39m=\u001b[39mmethod, \u001b[39m*\u001b[39margs, \u001b[39m*\u001b[39m\u001b[39m*\u001b[39mkwargs):\n\u001b[1;32m    997\u001b[0m     nv\u001b[39m.\u001b[39mvalidate_resampler_func(_method, args, kwargs)\n\u001b[0;32m--> 998\u001b[0m     \u001b[39mreturn\u001b[39;00m \u001b[39mself\u001b[39;49m\u001b[39m.\u001b[39;49m_downsample(_method)\n",
      "File \u001b[0;32m~/anaconda3/envs/cuml-torch/lib/python3.8/site-packages/pandas/core/resample.py:1139\u001b[0m, in \u001b[0;36mDatetimeIndexResampler._downsample\u001b[0;34m(self, how, **kwargs)\u001b[0m\n\u001b[1;32m   1133\u001b[0m     \u001b[39mreturn\u001b[39;00m obj\n\u001b[1;32m   1135\u001b[0m \u001b[39m# do we have a regular frequency\u001b[39;00m\n\u001b[1;32m   1136\u001b[0m \n\u001b[1;32m   1137\u001b[0m \u001b[39m# error: Item \"None\" of \"Optional[Any]\" has no attribute \"binlabels\"\u001b[39;00m\n\u001b[1;32m   1138\u001b[0m \u001b[39mif\u001b[39;00m (\n\u001b[0;32m-> 1139\u001b[0m     (ax\u001b[39m.\u001b[39mfreq \u001b[39mis\u001b[39;00m \u001b[39mnot\u001b[39;00m \u001b[39mNone\u001b[39;00m \u001b[39mor\u001b[39;00m ax\u001b[39m.\u001b[39;49minferred_freq \u001b[39mis\u001b[39;00m \u001b[39mnot\u001b[39;00m \u001b[39mNone\u001b[39;00m)\n\u001b[1;32m   1140\u001b[0m     \u001b[39mand\u001b[39;00m \u001b[39mlen\u001b[39m(\u001b[39mself\u001b[39m\u001b[39m.\u001b[39mgrouper\u001b[39m.\u001b[39mbinlabels) \u001b[39m>\u001b[39m \u001b[39mlen\u001b[39m(ax)\n\u001b[1;32m   1141\u001b[0m     \u001b[39mand\u001b[39;00m how \u001b[39mis\u001b[39;00m \u001b[39mNone\u001b[39;00m\n\u001b[1;32m   1142\u001b[0m ):\n\u001b[1;32m   1143\u001b[0m \n\u001b[1;32m   1144\u001b[0m     \u001b[39m# let's do an asfreq\u001b[39;00m\n\u001b[1;32m   1145\u001b[0m     \u001b[39mreturn\u001b[39;00m \u001b[39mself\u001b[39m\u001b[39m.\u001b[39masfreq()\n\u001b[1;32m   1147\u001b[0m \u001b[39m# we are downsampling\u001b[39;00m\n\u001b[1;32m   1148\u001b[0m \u001b[39m# we want to call the actual grouper method here\u001b[39;00m\n",
      "File \u001b[0;32m~/anaconda3/envs/cuml-torch/lib/python3.8/site-packages/pandas/_libs/properties.pyx:37\u001b[0m, in \u001b[0;36mpandas._libs.properties.CachedProperty.__get__\u001b[0;34m()\u001b[0m\n",
      "File \u001b[0;32m~/anaconda3/envs/cuml-torch/lib/python3.8/site-packages/pandas/core/indexes/extension.py:72\u001b[0m, in \u001b[0;36minherit_from_data.<locals>.cached\u001b[0;34m(self)\u001b[0m\n\u001b[1;32m     71\u001b[0m \u001b[39mdef\u001b[39;00m \u001b[39mcached\u001b[39m(\u001b[39mself\u001b[39m):\n\u001b[0;32m---> 72\u001b[0m     \u001b[39mreturn\u001b[39;00m \u001b[39mgetattr\u001b[39;49m(\u001b[39mself\u001b[39;49m\u001b[39m.\u001b[39;49m_data, name)\n",
      "File \u001b[0;32m~/anaconda3/envs/cuml-torch/lib/python3.8/site-packages/pandas/core/arrays/datetimelike.py:917\u001b[0m, in \u001b[0;36mDatetimeLikeArrayMixin.inferred_freq\u001b[0;34m(self)\u001b[0m\n\u001b[1;32m    915\u001b[0m     \u001b[39mreturn\u001b[39;00m \u001b[39mNone\u001b[39;00m\n\u001b[1;32m    916\u001b[0m \u001b[39mtry\u001b[39;00m:\n\u001b[0;32m--> 917\u001b[0m     \u001b[39mreturn\u001b[39;00m frequencies\u001b[39m.\u001b[39;49minfer_freq(\u001b[39mself\u001b[39;49m)\n\u001b[1;32m    918\u001b[0m \u001b[39mexcept\u001b[39;00m \u001b[39mValueError\u001b[39;00m:\n\u001b[1;32m    919\u001b[0m     \u001b[39mreturn\u001b[39;00m \u001b[39mNone\u001b[39;00m\n",
      "File \u001b[0;32m~/anaconda3/envs/cuml-torch/lib/python3.8/site-packages/pandas/tseries/frequencies.py:196\u001b[0m, in \u001b[0;36minfer_freq\u001b[0;34m(index, warn)\u001b[0m\n\u001b[1;32m    193\u001b[0m     index \u001b[39m=\u001b[39m pd\u001b[39m.\u001b[39mDatetimeIndex(index)\n\u001b[1;32m    195\u001b[0m inferer \u001b[39m=\u001b[39m _FrequencyInferer(index, warn\u001b[39m=\u001b[39mwarn)\n\u001b[0;32m--> 196\u001b[0m \u001b[39mreturn\u001b[39;00m inferer\u001b[39m.\u001b[39;49mget_freq()\n",
      "File \u001b[0;32m~/anaconda3/envs/cuml-torch/lib/python3.8/site-packages/pandas/tseries/frequencies.py:256\u001b[0m, in \u001b[0;36m_FrequencyInferer.get_freq\u001b[0;34m(self)\u001b[0m\n\u001b[1;32m    253\u001b[0m     \u001b[39mreturn\u001b[39;00m \u001b[39mNone\u001b[39;00m\n\u001b[1;32m    255\u001b[0m delta \u001b[39m=\u001b[39m \u001b[39mself\u001b[39m\u001b[39m.\u001b[39mdeltas[\u001b[39m0\u001b[39m]\n\u001b[0;32m--> 256\u001b[0m \u001b[39mif\u001b[39;00m delta \u001b[39mand\u001b[39;00m _is_multiple(delta, _ONE_DAY):\n\u001b[1;32m    257\u001b[0m     \u001b[39mreturn\u001b[39;00m \u001b[39mself\u001b[39m\u001b[39m.\u001b[39m_infer_daily_rule()\n\u001b[1;32m    259\u001b[0m \u001b[39m# Business hourly, maybe. 17: one day / 65: one weekend\u001b[39;00m\n",
      "File \u001b[0;32m~/anaconda3/envs/cuml-torch/lib/python3.8/site-packages/pandas/tseries/frequencies.py:432\u001b[0m, in \u001b[0;36m_is_multiple\u001b[0;34m(us, mult)\u001b[0m\n\u001b[1;32m    431\u001b[0m \u001b[39mdef\u001b[39;00m \u001b[39m_is_multiple\u001b[39m(us, mult: \u001b[39mint\u001b[39m) \u001b[39m-\u001b[39m\u001b[39m>\u001b[39m \u001b[39mbool\u001b[39m:\n\u001b[0;32m--> 432\u001b[0m     \u001b[39mreturn\u001b[39;00m us \u001b[39m%\u001b[39;49m mult \u001b[39m==\u001b[39;49m \u001b[39m0\u001b[39;49m\n",
      "\u001b[0;31mKeyboardInterrupt\u001b[0m: "
     ]
    }
   ],
   "source": [
    "from source.read_india import read_india\n",
    "windows_map = read_india(granularity='months')\n"
   ]
  },
  {
   "cell_type": "code",
   "execution_count": 42,
   "metadata": {},
   "outputs": [],
   "source": [
    "from source.utils import commonWindows\n",
    "\n",
    "pollutans = ['PM2.5', 'NO']\n",
    "windows, dates, wStations, stations = commonWindows(windows_map, pollutans)"
   ]
  },
  {
   "cell_type": "code",
   "execution_count": 24,
   "metadata": {},
   "outputs": [
    {
     "ename": "UnboundLocalError",
     "evalue": "local variable 'values' referenced before assignment",
     "output_type": "error",
     "traceback": [
      "\u001b[0;31m---------------------------------------------------------------------------\u001b[0m",
      "\u001b[0;31mUnboundLocalError\u001b[0m                         Traceback (most recent call last)",
      "\u001b[1;32m/home/texs/Documentos/AirQuality/airqviz/datasets_read.ipynb Cell 9\u001b[0m in \u001b[0;36m<cell line: 7>\u001b[0;34m()\u001b[0m\n\u001b[1;32m      <a href='vscode-notebook-cell:/home/texs/Documentos/AirQuality/airqviz/datasets_read.ipynb#X11sZmlsZQ%3D%3D?line=4'>5</a>\u001b[0m granularity \u001b[39m=\u001b[39m \u001b[39m'\u001b[39m\u001b[39mdaily\u001b[39m\u001b[39m'\u001b[39m\n\u001b[1;32m      <a href='vscode-notebook-cell:/home/texs/Documentos/AirQuality/airqviz/datasets_read.ipynb#X11sZmlsZQ%3D%3D?line=5'>6</a>\u001b[0m pollutans \u001b[39m=\u001b[39m  [\u001b[39m'\u001b[39m\u001b[39mNO\u001b[39m\u001b[39m'\u001b[39m, \u001b[39m'\u001b[39m\u001b[39mO3\u001b[39m\u001b[39m'\u001b[39m]\n\u001b[0;32m----> <a href='vscode-notebook-cell:/home/texs/Documentos/AirQuality/airqviz/datasets_read.ipynb#X11sZmlsZQ%3D%3D?line=6'>7</a>\u001b[0m windows_map \u001b[39m=\u001b[39m read_brasil(granularity\u001b[39m=\u001b[39;49mgranularity, cache\u001b[39m=\u001b[39;49m\u001b[39mTrue\u001b[39;49;00m)\n",
      "File \u001b[0;32m~/Documentos/AirQuality/airqviz/source/read_brasil.py:48\u001b[0m, in \u001b[0;36mread_brasil\u001b[0;34m(files, granularity, cache)\u001b[0m\n\u001b[1;32m     45\u001b[0m \u001b[39melif\u001b[39;00m granularity \u001b[39m==\u001b[39m \u001b[39m'\u001b[39m\u001b[39mmonths\u001b[39m\u001b[39m'\u001b[39m:\n\u001b[1;32m     46\u001b[0m     values, dates \u001b[39m=\u001b[39m dfMonthWindows(df_conc)\n\u001b[0;32m---> 48\u001b[0m \u001b[39mfor\u001b[39;00m k \u001b[39min\u001b[39;00m \u001b[39mrange\u001b[39m(\u001b[39mlen\u001b[39m(values)):\n\u001b[1;32m     49\u001b[0m     \u001b[39m# dKey = '{}-{}-{}'.format(dates[k].year, dates[k].month, dates[k].day)\u001b[39;00m\n\u001b[1;32m     50\u001b[0m     dKey \u001b[39m=\u001b[39m \u001b[39mstr\u001b[39m(dates[k])\n\u001b[1;32m     51\u001b[0m     station_map[dKey] \u001b[39m=\u001b[39m (values[k], dates[k])\n",
      "\u001b[0;31mUnboundLocalError\u001b[0m: local variable 'values' referenced before assignment"
     ]
    }
   ],
   "source": [
    "from source.read_brasil import read_brasil\n",
    "from source.utils import commonWindows\n",
    "\n",
    "\n",
    "granularity = 'daily'\n",
    "pollutans =  ['NO', 'O3']\n",
    "windows_map = read_brasil(granularity=granularity, cache=True)\n",
    "\n",
    "\n"
   ]
  },
  {
   "cell_type": "code",
   "execution_count": 13,
   "metadata": {},
   "outputs": [],
   "source": [
    "# windows_map['O3']\n"
   ]
  },
  {
   "cell_type": "code",
   "execution_count": 22,
   "metadata": {},
   "outputs": [
    {
     "data": {
      "text/plain": [
       "(847, 28, 2)"
      ]
     },
     "execution_count": 22,
     "metadata": {},
     "output_type": "execute_result"
    }
   ],
   "source": [
    "windows, dates, wStations, stations = commonWindows(windows_map, pollutans)\n",
    "\n",
    "windows.shape"
   ]
  },
  {
   "cell_type": "code",
   "execution_count": 23,
   "metadata": {},
   "outputs": [],
   "source": [
    "from source.utils import commonWindows, getAllStations\n",
    "\n",
    "pollutans =  ['BEN', 'CO', 'DV', 'DVG', 'ERT', 'MP10', 'MP25', 'NO', 'MP25', 'NOx', 'O3', 'PRESS', 'RADG', 'RADUV', 'SO2', 'TEMP', 'TOL', 'UR']\n",
    "# windows, dates, wStations, stations = commonWindows(windows_map, ['NO'])\n",
    "# print(windows.shape)"
   ]
  },
  {
   "cell_type": "code",
   "execution_count": 25,
   "metadata": {},
   "outputs": [
    {
     "name": "stdout",
     "output_type": "stream",
     "text": [
      "['Capão Redondo' 'Cerqueira César' 'Cid.Universitária-USP-Ipen'\n",
      " 'Congonhas' 'Ibirapuera' 'Interlagos' 'Itaim Paulista' 'Itaquera'\n",
      " 'Marg.Tietê-Pte Remédios' 'Mooca' 'N.Senhora do Ó' 'Osasco' 'Parelheiros'\n",
      " 'Parque D.Pedro II' 'Pico do Jaraguá' 'Pinheiros' 'Santana' 'Santo Amaro']\n"
     ]
    }
   ],
   "source": [
    "from source.utils import commonWindows, getAllStations\n",
    "\n",
    "stations = getAllStations(windows_map, pollutans)\n",
    "print(stations)"
   ]
  },
  {
   "cell_type": "code",
   "execution_count": null,
   "metadata": {},
   "outputs": [],
   "source": []
  }
 ],
 "metadata": {
  "kernelspec": {
   "display_name": "Python 3.8.13 ('cuml-torch')",
   "language": "python",
   "name": "python3"
  },
  "language_info": {
   "codemirror_mode": {
    "name": "ipython",
    "version": 3
   },
   "file_extension": ".py",
   "mimetype": "text/x-python",
   "name": "python",
   "nbconvert_exporter": "python",
   "pygments_lexer": "ipython3",
   "version": "3.8.13"
  },
  "orig_nbformat": 4,
  "vscode": {
   "interpreter": {
    "hash": "16ac00c0aae14b2c47d32d44577e6834b4fabf6d4eb1a3c4b23cc5fc30cd0339"
   }
  }
 },
 "nbformat": 4,
 "nbformat_minor": 2
}
