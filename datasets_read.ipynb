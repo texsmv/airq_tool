{
 "cells": [
  {
   "cell_type": "code",
   "execution_count": 1,
   "metadata": {},
   "outputs": [],
   "source": [
    "%load_ext autoreload\n",
    "%autoreload 2\n",
    "import numpy as np\n",
    "import pandas as pd\n",
    "import os\n",
    "import cudf\n",
    "import io\n"
   ]
  },
  {
   "cell_type": "code",
   "execution_count": 6,
   "metadata": {},
   "outputs": [],
   "source": [
    "from source.read_ontario import read_ontario\n",
    "\n",
    "windows_map = read_ontario(granularity='years')"
   ]
  },
  {
   "cell_type": "code",
   "execution_count": 7,
   "metadata": {},
   "outputs": [],
   "source": [
    "from source.utils import commonWindows\n",
    "\n",
    "pollutans = ['NOx', 'NO']\n",
    "windows, dates, wStations, stations = commonWindows(windows_map, pollutans)"
   ]
  },
  {
   "cell_type": "code",
   "execution_count": null,
   "metadata": {},
   "outputs": [],
   "source": []
  },
  {
   "cell_type": "code",
   "execution_count": 5,
   "metadata": {},
   "outputs": [],
   "source": [
    "from source.read_india import read_india\n",
    "windows_map = read_india(granularity='months')\n"
   ]
  },
  {
   "cell_type": "code",
   "execution_count": 42,
   "metadata": {},
   "outputs": [],
   "source": [
    "from source.utils import commonWindows\n",
    "\n",
    "pollutans = ['PM2.5', 'NO']\n",
    "windows, dates, wStations, stations = commonWindows(windows_map, pollutans)"
   ]
  },
  {
   "cell_type": "code",
   "execution_count": 14,
   "metadata": {},
   "outputs": [],
   "source": [
    "from source.read_brasil import read_brasil\n",
    "\n",
    "\n",
    "granularity = 'years'\n",
    "windows_map = read_brasil(granularity=granularity)\n"
   ]
  },
  {
   "cell_type": "code",
   "execution_count": 44,
   "metadata": {},
   "outputs": [
    {
     "name": "stdout",
     "output_type": "stream",
     "text": [
      "['2014-12']\n",
      "['2007-12']\n",
      "['2005-12', '2006-12']\n"
     ]
    }
   ],
   "source": [
    "from source.utils import commonWindows\n",
    "\n",
    "pollutans = ['MP10', 'CO']\n",
    "windows, dates, wStations, stations = commonWindows(windows_map, pollutans)"
   ]
  },
  {
   "cell_type": "code",
   "execution_count": null,
   "metadata": {},
   "outputs": [],
   "source": []
  }
 ],
 "metadata": {
  "kernelspec": {
   "display_name": "Python 3.7.10 ('rapidsml')",
   "language": "python",
   "name": "python3"
  },
  "language_info": {
   "codemirror_mode": {
    "name": "ipython",
    "version": 3
   },
   "file_extension": ".py",
   "mimetype": "text/x-python",
   "name": "python",
   "nbconvert_exporter": "python",
   "pygments_lexer": "ipython3",
   "version": "3.7.10"
  },
  "orig_nbformat": 4,
  "vscode": {
   "interpreter": {
    "hash": "4f51f79755ef8f79693022c2238daee50231b90d0a3e393b6e63d90a9477d06f"
   }
  }
 },
 "nbformat": 4,
 "nbformat_minor": 2
}
