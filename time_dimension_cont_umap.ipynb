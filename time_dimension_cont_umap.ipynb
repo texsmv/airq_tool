{
 "cells": [
  {
   "cell_type": "code",
   "execution_count": 32,
   "metadata": {},
   "outputs": [],
   "source": [
    "%reload_ext autoreload\n",
    "%autoreload 2\n",
    "\n",
    "import numpy as np\n",
    "from source.tserie import TSerie\n",
    "from source.featlearn.tdr import TDR\n",
    "from source.torch_utils import getContrastiveFeatures\n",
    "from source.read_ontario import read_ontario\n",
    "from source.read_india import read_india\n",
    "from source.read_brasil import read_brasil\n",
    "from source.utils import commonWindows, sample_data\n",
    "# from cuml.manifold import UMAP\n",
    "\n",
    "import sys\n",
    "\n",
    "sys.path.append('/home/texs/Documentos/Repositories/ts2vec')\n",
    "from ts2vec import TS2Vec\n",
    "# from cuml.manifold import UMAP\n",
    "\n",
    "N_VIZ_SAMPLES = 600\n",
    "VIS_PATH = 'visualizations'\n",
    "SMOOTH = 8 # 8 -1 if you don't want to smooth the data otherwise the size of the smooth window\n",
    "MODE = 'shape' # subsequences - shape\n",
    "EPOCHS = 40\n",
    "\n",
    "POLLUTANTS = ['NO']\n",
    "\n",
    "# POLLUTANTS = ['MP25', 'O3', 'NOx'] # ['NO', 'NOx', 'NO2', 'SO2', 'CO', 'O3', 'PM25']\n",
    "# all_fileNames = ['BEN', 'CO', 'DV', 'DVG', 'ERT', 'MP10', 'MP25', 'NO', 'MP25', 'NOx', 'O3', 'PRESS', 'RADG', 'RADUV', 'SO2', 'TEMP', 'TOL', 'UR']\n",
    "UMAP_NEIGHBORS = 15\n",
    "MAX_WINDOWS = 20000"
   ]
  },
  {
   "cell_type": "code",
   "execution_count": 33,
   "metadata": {},
   "outputs": [],
   "source": [
    "windows_map = read_ontario(granularity='daily', cache=True)\n"
   ]
  },
  {
   "cell_type": "code",
   "execution_count": 34,
   "metadata": {},
   "outputs": [
    {
     "data": {
      "text/plain": [
       "['NO', 'NOx', 'NO2', 'SO2', 'CO', 'O3', 'PM25']"
      ]
     },
     "execution_count": 34,
     "metadata": {},
     "output_type": "execute_result"
    }
   ],
   "source": [
    "# len(list(windows_map['NO'][47045].keys()))\n",
    "# len(list(windows_map.keys()))\n",
    "list(windows_map.keys())"
   ]
  },
  {
   "cell_type": "code",
   "execution_count": 35,
   "metadata": {},
   "outputs": [],
   "source": [
    "# windows_map = read_brasil(granularity='months', cache=True)\n",
    "\n",
    "windows, dates, station_ids, stations = commonWindows(windows_map, POLLUTANTS)\n",
    "\n",
    "windows, dates, station_ids = sample_data([windows, dates, station_ids], MAX_WINDOWS)"
   ]
  },
  {
   "cell_type": "code",
   "execution_count": 36,
   "metadata": {},
   "outputs": [
    {
     "name": "stdout",
     "output_type": "stream",
     "text": [
      "(20000, 24, 1)\n",
      "(45,)\n"
     ]
    }
   ],
   "source": [
    "print(windows.shape)\n",
    "print(stations.shape)"
   ]
  },
  {
   "cell_type": "code",
   "execution_count": 37,
   "metadata": {},
   "outputs": [
    {
     "name": "stdout",
     "output_type": "stream",
     "text": [
      "Loaded mts - N: 20000, T: 24, D: 1 \n",
      "(20000, 1, 24)\n"
     ]
    },
    {
     "data": {
      "text/plain": [
       "([-3.885780586188048e-16], [238.0419960365051])"
      ]
     },
     "execution_count": 37,
     "metadata": {},
     "output_type": "execute_result"
    }
   ],
   "source": [
    "month_ids = np.array([date.month for date in dates])\n",
    "year_ids = np.array([date.year for date in dates])\n",
    "\n",
    "stations_map = {int(i):str(stations[i]) for i in range(len(stations))}\n",
    "months_map = {int(i):str(i) for i in range(1, len(month_ids) + 1)}\n",
    "years_map = {int(year) : str(year) for year in year_ids}\n",
    "\n",
    "mts = TSerie(X=windows, y =station_ids)\n",
    "\n",
    "mts.smooth(window_size=8)\n",
    "# mts.shapeNormalizization()\n",
    "mts.minMaxNormalizization()"
   ]
  },
  {
   "cell_type": "code",
   "execution_count": 38,
   "metadata": {},
   "outputs": [],
   "source": [
    "from sklearn.decomposition import PCA\n",
    "from cuml.neighbors import NearestNeighbors\n",
    "from cuml.manifold import UMAP\n",
    "\n",
    "\n",
    "class TS2VecModel:\n",
    "    def __init__(self, output_dims):\n",
    "        self.output_dims = output_dims\n",
    "    \n",
    "    def fit_transform(self, X, n_epochs):\n",
    "        N, T, D = X.shape\n",
    "        self.Drepr = np.zeros([N, D, self.output_dims])\n",
    "        self.Trepr = np.zeros([N, D, T, self.output_dims])\n",
    "        for i in range(D):\n",
    "            model = TS2Vec(\n",
    "                input_dims=1,\n",
    "                device=0,\n",
    "                output_dims=self.output_dims,\n",
    "                \n",
    "            )\n",
    "            Xi = np.expand_dims(X[:, :, i], axis=2)\n",
    "            model.fit(Xi, verbose=True,n_epochs = n_epochs)\n",
    "            self.Drepr[:, i, :] =  model.encode(Xi, encoding_window='full_series')\n",
    "            self.Trepr[:, i, :, :] = model.encode(Xi)\n",
    "            \n",
    "        self.Dvals = np.zeros([N, D])\n",
    "        # self.Tvals = np.zeros([N, D])\n",
    "        for i in range(D):\n",
    "            reducer = PCA(n_components=1)\n",
    "            self.Dvals[:, i] =reducer.fit_transform(self.Drepr[:, i, :]).flatten()\n",
    "            \n",
    "        return self.Drepr.reshape([N, D * self.output_dims])\n",
    "\n",
    "class UMAP_FL:\n",
    "    def __init__(self, n_components, n_neighbors, metric = 'braycurtis', n_epochs = 1000):\n",
    "        self.reducer = UMAP(n_components=n_components, n_neighbors=n_neighbors, n_epochs=n_epochs)\n",
    "        self.nearNeigh = NearestNeighbors(n_neighbors=n_neighbors, metric=metric)\n",
    "\n",
    "    def fit_transform(self, X, y=None):\n",
    "        self.nearNeigh.fit(X)\n",
    "        knn_graph = self.nearNeigh.kneighbors_graph(X, mode=\"distance\")\n",
    "        embeddings =  self.reducer.fit_transform(X, y=y, knn_graph=knn_graph.tocsr(), convert_dtype=True)\n",
    "        return embeddings\n",
    "    \n",
    "    def transform(self, X):\n",
    "        knn_graph = self.nearNeigh.kneighbors_graph(X, mode=\"distance\")\n",
    "        embeddings =  self.reducer.transform(X, knn_graph=knn_graph.tocsr(), convert_dtype=True)\n",
    "        return embeddings\n",
    "\n",
    "# class UMAP_CONT:\n",
    "#     def __init__(self, n_components, n_neighbors, metric = 'braycurtis', n_epochs = 1000):\n",
    "#         self.reducer = UMAP(n_components=n_components, n_neighbors=n_neighbors, n_epochs=n_epochs)\n",
    "#         self.nearNeigh = NearestNeighbors(n_neighbors=n_neighbors, metric=metric)\n",
    "\n",
    "#     def fit_transform(self, X, y=None):\n",
    "#         self.nearNeigh.fit(X)\n",
    "#         knn_graph = self.nearNeigh.kneighbors_graph(X, mode=\"distance\")\n",
    "#         embeddings =  self.reducer.fit_transform(X, y=y, knn_graph=knn_graph.tocsr(), convert_dtype=True)\n",
    "#         return embeddings\n",
    "    \n",
    "#     def transform(self, X):\n",
    "#         knn_graph = self.nearNeigh.kneighbors_graph(X, mode=\"distance\")\n",
    "#         embeddings =  self.reducer.transform(X, knn_graph=knn_graph.tocsr(), convert_dtype=True)\n",
    "#         return embeddings"
   ]
  },
  {
   "cell_type": "code",
   "execution_count": 62,
   "metadata": {},
   "outputs": [
    {
     "name": "stdout",
     "output_type": "stream",
     "text": [
      "Features shape: (20000, 24)\n"
     ]
    }
   ],
   "source": [
    "# model = TS2VecModel(4)\n",
    "# mts.features = model.fit_transform(mts.X, n_epochs = 10)\n",
    "\n",
    "model = UMAP_FL(n_components=20, n_neighbors=15, metric='euclidean', n_epochs = 8000)\n",
    "\n",
    "mts.folding_features_v1()\n",
    "mts.features = model.fit_transform(mts.features)"
   ]
  },
  {
   "cell_type": "code",
   "execution_count": null,
   "metadata": {},
   "outputs": [],
   "source": []
  },
  {
   "cell_type": "code",
   "execution_count": 63,
   "metadata": {},
   "outputs": [
    {
     "data": {
      "text/plain": [
       "<matplotlib.collections.PathCollection at 0x7f8f358545e0>"
      ]
     },
     "execution_count": 63,
     "metadata": {},
     "output_type": "execute_result"
    },
    {
     "data": {
      "image/png": "[encoded data removed]",
      "text/plain": [
       "<Figure size 640x480 with 1 Axes>"
      ]
     },
     "metadata": {},
     "output_type": "display_data"
    }
   ],
   "source": [
    "import matplotlib.pyplot as plt\n",
    "\n",
    "reducer = UMAP(n_components=2, n_epochs=4000)\n",
    "reducer.fit(mts.features)\n",
    "coords = reducer.transform(mts.features)\n",
    "min_r = 5\n",
    "max_r = 80\n",
    "magnitudes = mts.magnitudes[:, 0]\n",
    "point_radius = ((magnitudes + magnitudes.min()) / (magnitudes.max() - magnitudes.min()) ) * (max_r - min_r) + min_r\n",
    "\n",
    "plt.scatter(coords[:, 0], coords[:, 1], s = point_radius, color=\"blue\", alpha=0.5)\n",
    "\n"
   ]
  },
  {
   "cell_type": "code",
   "execution_count": 64,
   "metadata": {},
   "outputs": [
    {
     "data": {
      "text/plain": [
       "<matplotlib.collections.PathCollection at 0x7f8f1efbfdf0>"
      ]
     },
     "execution_count": 64,
     "metadata": {},
     "output_type": "execute_result"
    },
    {
     "data": {
      "image/png": "[encoded data removed]",
      "text/plain": [
       "<Figure size 640x480 with 1 Axes>"
      ]
     },
     "metadata": {},
     "output_type": "display_data"
    }
   ],
   "source": [
    "from sklearn.cluster import KMeans\n",
    "n_clusters = 5\n",
    "kmeans = KMeans(n_clusters=n_clusters, random_state=0).fit(coords)\n",
    "\n",
    "classes = kmeans.labels_\n",
    "# clusters = np.unique(kmeans.labels_)s\n",
    "\n",
    "# clusterLabels = \n",
    "\n",
    "plt.scatter(coords[:, 0], coords[:, 1], s = point_radius, c = classes, alpha=0.5)\n"
   ]
  },
  {
   "cell_type": "code",
   "execution_count": 65,
   "metadata": {},
   "outputs": [
    {
     "name": "stdout",
     "output_type": "stream",
     "text": [
      "(20000, 24, 1)\n"
     ]
    }
   ],
   "source": [
    "print(mts.X.shape)\n",
    "N, T, D = mts.X.shape\n",
    "\n",
    "dim_compressed = np.zeros([N, T])\n",
    "dim_data = []\n",
    "for i in range(N):\n",
    "    for j in range(T):\n",
    "        dim_data.append(mts.X[i, j])\n",
    "dim_data = np.array(dim_data)\n",
    "\n",
    "dim_features = PCA(n_components=1).fit_transform(dim_data)\n",
    "\n",
    "dim_features = np.reshape(dim_features, [N, T])\n",
    "for i in range(N):\n",
    "    for j in range(T):\n",
    "        dim_compressed[i, j] = dim_features[i, j]"
   ]
  },
  {
   "cell_type": "code",
   "execution_count": 66,
   "metadata": {},
   "outputs": [
    {
     "name": "stdout",
     "output_type": "stream",
     "text": [
      "(20000, 24, 1)\n"
     ]
    }
   ],
   "source": [
    "print(mts.X.shape)\n",
    "N, T, D = mts.X.shape\n",
    "\n",
    "time_compressed = np.zeros([N, D])\n",
    "time_data = []\n",
    "for i in range(N):\n",
    "    for j in range(D):\n",
    "        time_data.append(mts.X[i, :,  j])\n",
    "time_data = np.array(time_data)\n",
    "time_features = PCA(n_components=1).fit_transform(time_data)\n",
    "\n",
    "time_features = np.reshape(time_features, [N, D])\n",
    "for i in range(N):\n",
    "    for j in range(D):\n",
    "        time_compressed[i, j] = time_features[i, j]"
   ]
  },
  {
   "cell_type": "code",
   "execution_count": 67,
   "metadata": {},
   "outputs": [],
   "source": [
    "from ccpca import CCPCA\n",
    "from source.utils import folding_2D\n",
    "\n",
    "groups = np.unique(classes)\n",
    "group_ids = classes\n",
    "\n",
    "fcs = []\n",
    "for target in groups:\n",
    "    ccpca = CCPCA(n_components=1)\n",
    "    \n",
    "    Xf = dim_compressed[group_ids==target]\n",
    "    Xb = dim_compressed[group_ids!=target]\n",
    "    ccpca.fit(\n",
    "        Xf,\n",
    "        Xb,\n",
    "        var_thres_ratio=0.5,\n",
    "        n_alphas=40,\n",
    "        max_log_alpha=0.5,\n",
    "    )\n",
    "    coords2 = ccpca.transform(Xf)\n",
    "    best_alpha = ccpca.get_best_alpha()\n",
    "    cpca_fcs = ccpca.get_feat_contribs()\n",
    "    fcs.append(cpca_fcs)"
   ]
  },
  {
   "cell_type": "code",
   "execution_count": 68,
   "metadata": {},
   "outputs": [],
   "source": [
    "from ccpca import CCPCA\n",
    "from source.utils import folding_2D\n",
    "\n",
    "groups = np.unique(classes)\n",
    "group_ids = classes\n",
    "\n",
    "fcs_time = []\n",
    "for target in groups:\n",
    "    ccpca = CCPCA(n_components=1)\n",
    "    \n",
    "    Xf = time_compressed[group_ids==target]\n",
    "    Xb = time_compressed[group_ids!=target]\n",
    "    ccpca.fit(\n",
    "        Xf,\n",
    "        Xb,\n",
    "        var_thres_ratio=0.5,\n",
    "        n_alphas=40,\n",
    "        max_log_alpha=0.5,\n",
    "    )\n",
    "    coords2 = ccpca.transform(Xf)\n",
    "    best_alpha = ccpca.get_best_alpha()\n",
    "    cpca_fcs = ccpca.get_feat_contribs()\n",
    "    fcs_time.append(cpca_fcs)"
   ]
  },
  {
   "cell_type": "code",
   "execution_count": 69,
   "metadata": {},
   "outputs": [
    {
     "data": {
      "text/plain": [
       "<AxesSubplot:>"
      ]
     },
     "execution_count": 69,
     "metadata": {},
     "output_type": "execute_result"
    },
    {
     "data": {
      "image/png": "[encoded data removed]",
      "text/plain": [
       "<Figure size 1600x300 with 1 Axes>"
      ]
     },
     "metadata": {},
     "output_type": "display_data"
    }
   ],
   "source": [
    "import pandas as pd\n",
    "fcs = np.array(fcs)\n",
    "fcsDf = pd.DataFrame(fcs.transpose(), index = np.arange(fcs.shape[1]))\n",
    "fcsDf.plot( kind=\"bar\", figsize=(16, 3))"
   ]
  },
  {
   "cell_type": "code",
   "execution_count": 70,
   "metadata": {},
   "outputs": [
    {
     "data": {
      "text/plain": [
       "<AxesSubplot:>"
      ]
     },
     "execution_count": 70,
     "metadata": {},
     "output_type": "execute_result"
    },
    {
     "data": {
      "image/png": "[encoded data removed]",
      "text/plain": [
       "<Figure size 1600x300 with 1 Axes>"
      ]
     },
     "metadata": {},
     "output_type": "display_data"
    }
   ],
   "source": [
    "fcs_time = np.array(fcs_time)\n",
    "fcsDf_time = pd.DataFrame(fcs_time.transpose(), index = np.arange(fcs_time.shape[1]))\n",
    "fcsDf_time.plot( kind=\"bar\", figsize=(16, 3))"
   ]
  },
  {
   "cell_type": "code",
   "execution_count": 71,
   "metadata": {},
   "outputs": [
    {
     "name": "stdout",
     "output_type": "stream",
     "text": [
      "mts shape: N: 20000 -  T: 24 - D: 2\n"
     ]
    }
   ],
   "source": [
    "from server.source.storage import MTSStorage\n",
    "\n",
    "storage = MTSStorage(os.path.join(VIS_PATH ,'ts2vec.npy'))    \n",
    "# storage.delete()\n",
    "storage.load()\n",
    "\n",
    "dimensions = POLLUTANTS\n",
    "data = np.concatenate([mts.X_orig, mts.X], axis=2) \n",
    "storage.add_mts(\n",
    "    '_'.join(POLLUTANTS) , data , \n",
    "    dimensions = dimensions + [dim+ '_norm' for dim in dimensions], \n",
    "    labels = {'station': station_ids, 'months': month_ids, 'years': year_ids, 'clusters': classes.astype(int)}, \n",
    "    labelsNames={'station': stations_map, 'months': months_map, 'years': years_map, 'clusters': {int(gr):str(gr) for gr in groups},  }, \n",
    "    coords = {\n",
    "        'coords': coords,\n",
    "    },\n",
    "    sampling=True,\n",
    "    n_samples= N_VIZ_SAMPLES\n",
    ")\n",
    "\n",
    "storage.save()"
   ]
  },
  {
   "cell_type": "code",
   "execution_count": 61,
   "metadata": {},
   "outputs": [],
   "source": [
    "classes_map = {int(gr):str(gr) for gr in groups}"
   ]
  },
  {
   "cell_type": "code",
   "execution_count": null,
   "metadata": {},
   "outputs": [],
   "source": []
  },
  {
   "cell_type": "code",
   "execution_count": null,
   "metadata": {},
   "outputs": [],
   "source": []
  }
 ],
 "metadata": {
  "kernelspec": {
   "display_name": "Python 3.8.13 ('cuml-torch')",
   "language": "python",
   "name": "python3"
  },
  "language_info": {
   "codemirror_mode": {
    "name": "ipython",
    "version": 3
   },
   "file_extension": ".py",
   "mimetype": "text/x-python",
   "name": "python",
   "nbconvert_exporter": "python",
   "pygments_lexer": "ipython3",
   "version": "3.8.13"
  },
  "orig_nbformat": 4,
  "vscode": {
   "interpreter": {
    "hash": "16ac00c0aae14b2c47d32d44577e6834b4fabf6d4eb1a3c4b23cc5fc30cd0339"
   }
  }
 },
 "nbformat": 4,
 "nbformat_minor": 2
}
