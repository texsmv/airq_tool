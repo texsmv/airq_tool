{
 "cells": [
  {
   "cell_type": "code",
   "execution_count": 15,
   "metadata": {},
   "outputs": [],
   "source": [
    "%reload_ext autoreload\n",
    "%autoreload 2\n",
    "\n",
    "import numpy as np\n",
    "from source.tserie import TSerie\n",
    "# from source.keras_utils import getPeaxFeatures\n",
    "from source.torch_utils import getContrastiveFeatures\n",
    "# import os\n",
    "# os.environ['TF_FORCE_GPU_ALLOW_GROWTH'] = 'true'"
   ]
  },
  {
   "cell_type": "code",
   "execution_count": 16,
   "metadata": {},
   "outputs": [],
   "source": [
    "from source.datasets import loadFuncionalModel, loadNatops, loadWafer, loadSelfRegulationSCP2, loadBasicMotions, loadEarthquakes, loadItalyPowerDemand, loadEigenWorms\n",
    "\n",
    "dataset = 'natops' # natops | wafer | selfreg | basicmotions | earthquakes | italy | eigenworms\n",
    "\n",
    "if dataset == 'natops':\n",
    "    X_train, y_train, X_test, y_test, classLabels = loadNatops()\n",
    "elif dataset == 'wafer':\n",
    "    X_train, y_train, X_test, y_test = loadWafer()\n",
    "    classLabels = {}\n",
    "elif dataset == 'basicmotions':\n",
    "    X_train, y_train, X_test, y_test, classLabels= loadBasicMotions()\n",
    "\n",
    "elif dataset == 'italy':\n",
    "    X_train, y_train, X_test, y_test, classLabels= loadItalyPowerDemand()\n",
    "# X = np.concatenate([X_train, X_test], axis=0).transpose([0, 2, 1])\n",
    "# y = np.concatenate([y_train, y_test], axis=0)\n",
    "# y = np.array([float(v) for v in y]).astype(int).tolist()"
   ]
  },
  {
   "cell_type": "code",
   "execution_count": 30,
   "metadata": {},
   "outputs": [
    {
     "name": "stdout",
     "output_type": "stream",
     "text": [
      "Loaded mts - N: 180, T: 51, D: 24 \n",
      "Loaded mts - N: 180, T: 51, D: 24 \n"
     ]
    }
   ],
   "source": [
    "mts_train = TSerie(X=X_train.transpose([0, 2, 1]), y=y_train)\n",
    "mts_test = TSerie(X=X_test.transpose([0, 2, 1]), y=y_test)"
   ]
  },
  {
   "cell_type": "code",
   "execution_count": 31,
   "metadata": {},
   "outputs": [],
   "source": [
    "# mts.smooth(window_size=40)\n",
    "# mts_train.shapeNormalizization()\n",
    "# mts_test.shapeNormalizization()\n",
    "# mts_train.minMaxNormalizization()\n",
    "# mts_test.minMaxNormalizization()"
   ]
  },
  {
   "cell_type": "code",
   "execution_count": 61,
   "metadata": {},
   "outputs": [
    {
     "name": "stdout",
     "output_type": "stream",
     "text": [
      "Subsequence length: 45\n",
      "Epoch[1] Train loss    avg: 2.450736939907074\n",
      "Epoch[10] Train loss    avg: 1.4835476875305176\n",
      "Epoch[20] Train loss    avg: 1.3792436520258586\n",
      "Epoch[30] Train loss    avg: 1.3333934744199116\n",
      "Epoch[40] Train loss    avg: 1.274438997109731\n",
      "Epoch[50] Train loss    avg: 1.247290809949239\n",
      "Epoch[60] Train loss    avg: 1.2264764904975891\n",
      "Epoch[70] Train loss    avg: 1.2266669472058613\n",
      "Epoch[80] Train loss    avg: 1.2008474469184875\n",
      "Epoch[90] Train loss    avg: 1.1967088182767232\n",
      "Epoch[100] Train loss    avg: 1.2149666547775269\n",
      "Epoch[110] Train loss    avg: 1.185777723789215\n",
      "Epoch[120] Train loss    avg: 1.1879006028175354\n",
      "Epoch[130] Train loss    avg: 1.1684729655583699\n",
      "Epoch[140] Train loss    avg: 1.1777639985084534\n",
      "Epoch[150] Train loss    avg: 1.1594316363334656\n"
     ]
    }
   ],
   "source": [
    "# mts.folding_features_v2()\n",
    "# mts.features, _ =  getPeaxFeatures(mts.X.transpose([0, 2, 1]), feat_size = 15, epochs =400, batch_size = 32)\n",
    "LOSS = 'SimCLR' # SupConLoss | SimCLR\n",
    "MODE = 'shape'\n",
    "EPOCHS = 150\n",
    "BATCH_SIZE = 32\n",
    "ENC_SIZE = 20\n",
    "# MODE = 'shape'\n",
    "mts_train.features, mts_test.features = getContrastiveFeatures(\n",
    "    mts_train.X.transpose([0, 2, 1]), mts_train.y, \n",
    "    epochs = EPOCHS, \n",
    "    batch_size = BATCH_SIZE, \n",
    "    loss_metric= LOSS, \n",
    "    mode = MODE, \n",
    "    X_test=mts_test.X.transpose([0, 2, 1]),\n",
    "    encoding_size = ENC_SIZE,\n",
    ")\n",
    "# getContrastiveFeatures(mts.X, y)"
   ]
  },
  {
   "cell_type": "code",
   "execution_count": 62,
   "metadata": {},
   "outputs": [
    {
     "name": "stdout",
     "output_type": "stream",
     "text": [
      "0.9722222222222222\n",
      "0.8444444444444444\n"
     ]
    }
   ],
   "source": [
    "from sklearn import svm\n",
    "\n",
    "clf = svm.SVC()\n",
    "clf.fit(mts_train.features, mts_train.y)\n",
    "\n",
    "print(clf.score(mts_train.features, mts_train.y))\n",
    "print(clf.score(mts_test.features, mts_test.y))"
   ]
  },
  {
   "cell_type": "code",
   "execution_count": 26,
   "metadata": {},
   "outputs": [
    {
     "ename": "NameError",
     "evalue": "name 'mts' is not defined",
     "output_type": "error",
     "traceback": [
      "\u001b[0;31m---------------------------------------------------------------------------\u001b[0m",
      "\u001b[0;31mNameError\u001b[0m                                 Traceback (most recent call last)",
      "\u001b[1;32m/home/texs/Documentos/AirQuality/airqviz/mts_contrastive.ipynb Cell 7\u001b[0m in \u001b[0;36m<cell line: 5>\u001b[0;34m()\u001b[0m\n\u001b[1;32m      <a href='vscode-notebook-cell:/home/texs/Documentos/AirQuality/airqviz/mts_contrastive.ipynb#ch0000005?line=2'>3</a>\u001b[0m \u001b[39m# reducer = umap.UMAP(n_components=2, metric='cosine')\u001b[39;00m\n\u001b[1;32m      <a href='vscode-notebook-cell:/home/texs/Documentos/AirQuality/airqviz/mts_contrastive.ipynb#ch0000005?line=3'>4</a>\u001b[0m reducer \u001b[39m=\u001b[39m umap\u001b[39m.\u001b[39mUMAP(n_components\u001b[39m=\u001b[39m\u001b[39m2\u001b[39m, metric\u001b[39m=\u001b[39m\u001b[39m'\u001b[39m\u001b[39meuclidean\u001b[39m\u001b[39m'\u001b[39m, n_neighbors\u001b[39m=\u001b[39m\u001b[39m12\u001b[39m)\n\u001b[0;32m----> <a href='vscode-notebook-cell:/home/texs/Documentos/AirQuality/airqviz/mts_contrastive.ipynb#ch0000005?line=4'>5</a>\u001b[0m coords \u001b[39m=\u001b[39m reducer\u001b[39m.\u001b[39mfit_transform(mts\u001b[39m.\u001b[39mfeatures)\n\u001b[1;32m      <a href='vscode-notebook-cell:/home/texs/Documentos/AirQuality/airqviz/mts_contrastive.ipynb#ch0000005?line=5'>6</a>\u001b[0m \u001b[39mimport\u001b[39;00m \u001b[39mmatplotlib\u001b[39;00m\u001b[39m.\u001b[39;00m\u001b[39mpyplot\u001b[39;00m \u001b[39mas\u001b[39;00m \u001b[39mplt\u001b[39;00m\n\u001b[1;32m      <a href='vscode-notebook-cell:/home/texs/Documentos/AirQuality/airqviz/mts_contrastive.ipynb#ch0000005?line=6'>7</a>\u001b[0m plt\u001b[39m.\u001b[39mscatter(coords[:, \u001b[39m0\u001b[39m], coords[:, \u001b[39m1\u001b[39m])\n",
      "\u001b[0;31mNameError\u001b[0m: name 'mts' is not defined"
     ]
    }
   ],
   "source": [
    "import umap\n",
    "\n",
    "# reducer = umap.UMAP(n_components=2, metric='cosine')\n",
    "reducer = umap.UMAP(n_components=2, metric='euclidean', n_neighbors=12)\n",
    "coords = reducer.fit_transform(mts.features)\n",
    "import matplotlib.pyplot as plt\n",
    "plt.scatter(coords[:, 0], coords[:, 1])"
   ]
  },
  {
   "cell_type": "code",
   "execution_count": 7,
   "metadata": {},
   "outputs": [
    {
     "data": {
      "text/plain": [
       "<matplotlib.collections.PathCollection at 0x7f08562c8910>"
      ]
     },
     "execution_count": 7,
     "metadata": {},
     "output_type": "execute_result"
    },
    {
     "data": {
      "image/png": "[encoded data removed]",
      "text/plain": [
       "<Figure size 432x288 with 1 Axes>"
      ]
     },
     "metadata": {
      "needs_background": "light"
     },
     "output_type": "display_data"
    }
   ],
   "source": [
    "reducer = umap.UMAP(n_components=2, metric='braycurtis', n_neighbors=12)\n",
    "coords_mean = reducer.fit_transform(mts.magnitudes)\n",
    "\n",
    "plt.scatter(coords_mean[:, 0], coords_mean[:, 1])"
   ]
  },
  {
   "cell_type": "code",
   "execution_count": 8,
   "metadata": {},
   "outputs": [
    {
     "name": "stdout",
     "output_type": "stream",
     "text": [
      "Subsequence length: 21\n",
      "Epoch[1] Train loss    avg: 3.864949417114258\n",
      "Epoch[10] Train loss    avg: 1.7554753644125802\n",
      "Epoch[20] Train loss    avg: 1.5317333902631487\n",
      "Epoch[30] Train loss    avg: 1.4497439997536796\n",
      "Epoch[40] Train loss    avg: 1.3884197916303362\n",
      "Epoch[50] Train loss    avg: 1.3383143424987793\n"
     ]
    },
    {
     "data": {
      "text/plain": [
       "<matplotlib.collections.PathCollection at 0x7f0813f00be0>"
      ]
     },
     "execution_count": 8,
     "metadata": {},
     "output_type": "execute_result"
    },
    {
     "data": {
      "image/png": "[encoded data removed]",
      "text/plain": [
       "<Figure size 432x288 with 1 Axes>"
      ]
     },
     "metadata": {
      "needs_background": "light"
     },
     "output_type": "display_data"
    }
   ],
   "source": [
    "mts.features = getContrastiveFeatures(mts.X_norm.transpose([0, 2, 1]), y, epochs = EPOCHS, batch_size = BATCH_SIZE, loss_metric= LOSS, mode = MODE)\n",
    "reducer = umap.UMAP(n_components=2, metric='euclidean', n_neighbors=12)\n",
    "coords_orig = reducer.fit_transform(mts.features)\n",
    "plt.scatter(coords_orig[:, 0], coords_orig[:, 1])"
   ]
  },
  {
   "cell_type": "code",
   "execution_count": 9,
   "metadata": {},
   "outputs": [],
   "source": [
    "import sys\n",
    "sys.path.append('/home/texs/Documentos/Repositories/mts_viz')\n",
    "from server.source.storage import MTSStorage"
   ]
  },
  {
   "cell_type": "code",
   "execution_count": 10,
   "metadata": {},
   "outputs": [
    {
     "name": "stdout",
     "output_type": "stream",
     "text": [
      "mts shape: N: 1096 -  T: 24 - D: 2\n"
     ]
    }
   ],
   "source": [
    "storage = MTSStorage('mts')    \n",
    "# storage.delete()\n",
    "storage.load()\n",
    "\n",
    "# classLabels = {int(v): str(v) for v in np.unique(y)}\n",
    "dimensions = [str(dim) for dim in range(mts.D)]\n",
    "# dimensions = [sPoll, sPoll + '_norm']\n",
    "# dimensions = pollutants + [poll + '_norm' for poll in pollutants]\n",
    "data = np.concatenate([mts.X_orig, mts.X], axis=2) \n",
    "storage.add_mts(\n",
    "    '{}_{}_{}'.format(dataset, LOSS, MODE),\n",
    "    data, \n",
    "    dimensions = dimensions + [dim+ '_norm' for dim in dimensions], \n",
    "    labels = {'class': y},\n",
    "    labelsNames = {'class': classLabels},\n",
    "    coords = {\n",
    "        'shape': coords,\n",
    "        'magnitude': coords_mean,\n",
    "        'original': coords_orig,\n",
    "    },\n",
    "    sampling=True,\n",
    "    n_samples= 400\n",
    ")\n",
    "\n",
    "\n",
    "\n",
    "storage.save()"
   ]
  },
  {
   "cell_type": "code",
   "execution_count": 11,
   "metadata": {},
   "outputs": [
    {
     "data": {
      "text/plain": [
       "int"
      ]
     },
     "execution_count": 11,
     "metadata": {},
     "output_type": "execute_result"
    }
   ],
   "source": [
    "type(list(classLabels.keys())[0])"
   ]
  },
  {
   "cell_type": "code",
   "execution_count": null,
   "metadata": {},
   "outputs": [],
   "source": []
  }
 ],
 "metadata": {
  "kernelspec": {
   "display_name": "Python 3.10.6 64-bit",
   "language": "python",
   "name": "python3"
  },
  "language_info": {
   "codemirror_mode": {
    "name": "ipython",
    "version": 3
   },
   "file_extension": ".py",
   "mimetype": "text/x-python",
   "name": "python",
   "nbconvert_exporter": "python",
   "pygments_lexer": "ipython3",
   "version": "3.10.6"
  },
  "orig_nbformat": 4,
  "vscode": {
   "interpreter": {
    "hash": "916dbcbb3f70747c44a77c7bcd40155683ae19c65e1c03b4aa3499c5328201f1"
   }
  }
 },
 "nbformat": 4,
 "nbformat_minor": 2
}
