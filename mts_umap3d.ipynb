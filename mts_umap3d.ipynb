{
 "cells": [
  {
   "cell_type": "code",
   "execution_count": 1,
   "metadata": {},
   "outputs": [
    {
     "name": "stderr",
     "output_type": "stream",
     "text": [
      "/home/texs/anaconda3/envs/contrastive/lib/python3.10/site-packages/tqdm/auto.py:22: TqdmWarning: IProgress not found. Please update jupyter and ipywidgets. See https://ipywidgets.readthedocs.io/en/stable/user_install.html\n",
      "  from .autonotebook import tqdm as notebook_tqdm\n"
     ]
    }
   ],
   "source": [
    "%reload_ext autoreload\n",
    "%autoreload 2\n",
    "\n",
    "import numpy as np\n",
    "from source.tserie import TSerie\n",
    "# from source.keras_utils import getPeaxFeatures\n",
    "from source.torch_utils import getContrastiveFeatures\n",
    "# import os\n",
    "# os.environ['TF_FORCE_GPU_ALLOW_GROWTH'] = 'true'"
   ]
  },
  {
   "cell_type": "code",
   "execution_count": 2,
   "metadata": {},
   "outputs": [],
   "source": [
    "from source.datasets import loadFuncionalModel, loadNatops, loadWafer, loadSelfRegulationSCP2, loadBasicMotions, loadEarthquakes, loadItalyPowerDemand, loadEigenWorms\n",
    "\n",
    "dataset = 'italy' # natops | wafer | selfreg | basicmotions | earthquakes | italy | eigenworms\n",
    "\n",
    "if dataset == 'natops':\n",
    "    X_train, y_train, X_test, y_test, classLabels = loadNatops()\n",
    "elif dataset == 'wafer':\n",
    "    X_train, y_train, X_test, y_test = loadWafer()\n",
    "    classLabels = {}\n",
    "elif dataset == 'basicmotions':\n",
    "    X_train, y_train, X_test, y_test, classLabels= loadBasicMotions()\n",
    "elif dataset == 'italy':\n",
    "    X_train, y_train, X_test, y_test, classLabels= loadItalyPowerDemand()\n",
    "\n",
    "X = np.concatenate([X_train, X_test], axis=0).transpose([0, 2, 1])\n",
    "y = np.concatenate([y_train, y_test], axis=0)\n",
    "# y = np.array([float(v) for v in y]).astype(int).tolist()"
   ]
  },
  {
   "cell_type": "code",
   "execution_count": 3,
   "metadata": {},
   "outputs": [
    {
     "name": "stdout",
     "output_type": "stream",
     "text": [
      "Loaded mts - N: 1096, T: 24, D: 1 \n"
     ]
    }
   ],
   "source": [
    "mts = TSerie(X=X)"
   ]
  },
  {
   "cell_type": "code",
   "execution_count": 4,
   "metadata": {},
   "outputs": [
    {
     "name": "stdout",
     "output_type": "stream",
     "text": [
      "(1096, 1, 24)\n"
     ]
    }
   ],
   "source": [
    "# mts.smooth(window_size=40)\n",
    "mts.shapeNormalizization()\n",
    "mts.minMaxNormalizization()"
   ]
  },
  {
   "cell_type": "code",
   "execution_count": 5,
   "metadata": {},
   "outputs": [
    {
     "name": "stdout",
     "output_type": "stream",
     "text": [
      "Features shape: (1096, 24)\n"
     ]
    }
   ],
   "source": [
    "mts.folding_features_v2()"
   ]
  },
  {
   "cell_type": "code",
   "execution_count": 6,
   "metadata": {},
   "outputs": [
    {
     "name": "stderr",
     "output_type": "stream",
     "text": [
      "OMP: Info #276: omp_set_nested routine deprecated, please use omp_set_max_active_levels instead.\n"
     ]
    },
    {
     "data": {
      "text/plain": [
       "<matplotlib.collections.PathCollection at 0x7f0501ddc490>"
      ]
     },
     "execution_count": 6,
     "metadata": {},
     "output_type": "execute_result"
    },
    {
     "data": {
      "image/png": "[encoded data removed]",
      "text/plain": [
       "<Figure size 432x288 with 1 Axes>"
      ]
     },
     "metadata": {
      "needs_background": "light"
     },
     "output_type": "display_data"
    }
   ],
   "source": [
    "import umap\n",
    "\n",
    "# reducer = umap.UMAP(n_components=2, metric='cosine')\n",
    "reducer = umap.UMAP(n_components=2, metric='euclidean', n_neighbors=12)\n",
    "coords = reducer.fit_transform(mts.features)\n",
    "import matplotlib.pyplot as plt\n",
    "plt.scatter(coords[:, 0], coords[:, 1])"
   ]
  },
  {
   "cell_type": "code",
   "execution_count": 7,
   "metadata": {},
   "outputs": [
    {
     "data": {
      "text/plain": [
       "<matplotlib.collections.PathCollection at 0x7f051304e1a0>"
      ]
     },
     "execution_count": 7,
     "metadata": {},
     "output_type": "execute_result"
    },
    {
     "data": {
      "image/png": "[encoded data removed]",
      "text/plain": [
       "<Figure size 432x288 with 1 Axes>"
      ]
     },
     "metadata": {
      "needs_background": "light"
     },
     "output_type": "display_data"
    }
   ],
   "source": [
    "reducer = umap.UMAP(n_components=2, metric='braycurtis', n_neighbors=12)\n",
    "coords_mean = reducer.fit_transform(mts.magnitudes)\n",
    "\n",
    "plt.scatter(coords_mean[:, 0], coords_mean[:, 1])"
   ]
  },
  {
   "cell_type": "code",
   "execution_count": 8,
   "metadata": {},
   "outputs": [
    {
     "name": "stdout",
     "output_type": "stream",
     "text": [
      "Features shape: (1096, 24)\n"
     ]
    },
    {
     "data": {
      "text/plain": [
       "<matplotlib.collections.PathCollection at 0x7f0512da2c20>"
      ]
     },
     "execution_count": 8,
     "metadata": {},
     "output_type": "execute_result"
    },
    {
     "data": {
      "image/png": "[encoded data removed]",
      "text/plain": [
       "<Figure size 432x288 with 1 Axes>"
      ]
     },
     "metadata": {
      "needs_background": "light"
     },
     "output_type": "display_data"
    }
   ],
   "source": [
    "mts.folding_features_v2(isNorm=True)\n",
    "reducer = umap.UMAP(n_components=2, metric='euclidean', n_neighbors=12)\n",
    "coords_orig = reducer.fit_transform(mts.features)\n",
    "plt.scatter(coords_orig[:, 0], coords_orig[:, 1])"
   ]
  },
  {
   "cell_type": "code",
   "execution_count": 9,
   "metadata": {},
   "outputs": [],
   "source": [
    "import sys\n",
    "sys.path.append('/home/texs/Documentos/Repositories/mts_viz')\n",
    "from server.source.storage import MTSStorage"
   ]
  },
  {
   "cell_type": "code",
   "execution_count": 10,
   "metadata": {},
   "outputs": [
    {
     "name": "stdout",
     "output_type": "stream",
     "text": [
      "mts shape: N: 1096 -  T: 24 - D: 2\n"
     ]
    }
   ],
   "source": [
    "storage = MTSStorage('mts')    \n",
    "# storage.delete()\n",
    "storage.load()\n",
    "\n",
    "# classLabels = {int(v): str(v) for v in np.unique(y)}\n",
    "dimensions = [str(dim) for dim in range(mts.D)]\n",
    "# dimensions = [sPoll, sPoll + '_norm']\n",
    "# dimensions = pollutants + [poll + '_norm' for poll in pollutants]\n",
    "data = np.concatenate([mts.X_orig, mts.X], axis=2) \n",
    "storage.add_mts(\n",
    "    '{}_umap'.format(dataset),\n",
    "    data, \n",
    "    dimensions = dimensions + [dim+ '_norm' for dim in dimensions], \n",
    "    labels = {'class': y},\n",
    "    labelsNames = {'class': classLabels},\n",
    "    coords = {\n",
    "        'shape': coords,\n",
    "        'magnitude': coords_mean,\n",
    "        'original': coords_orig,\n",
    "    },\n",
    "    sampling=True,\n",
    "    n_samples= 400\n",
    ")\n",
    "\n",
    "\n",
    "\n",
    "storage.save()"
   ]
  },
  {
   "cell_type": "code",
   "execution_count": null,
   "metadata": {},
   "outputs": [],
   "source": []
  }
 ],
 "metadata": {
  "kernelspec": {
   "display_name": "Python 3.10.4 ('contrastive')",
   "language": "python",
   "name": "python3"
  },
  "language_info": {
   "codemirror_mode": {
    "name": "ipython",
    "version": 3
   },
   "file_extension": ".py",
   "mimetype": "text/x-python",
   "name": "python",
   "nbconvert_exporter": "python",
   "pygments_lexer": "ipython3",
   "version": "3.10.4"
  },
  "orig_nbformat": 4,
  "vscode": {
   "interpreter": {
    "hash": "af38bbb6e377e6d688e9d49e963edf808fac73a4ecd279c84061bb0d9783d83c"
   }
  }
 },
 "nbformat": 4,
 "nbformat_minor": 2
}
