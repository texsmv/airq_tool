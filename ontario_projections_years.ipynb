{
 "cells": [
  {
   "cell_type": "code",
   "execution_count": 1,
   "metadata": {},
   "outputs": [
    {
     "name": "stderr",
     "output_type": "stream",
     "text": [
      "/home/texs/anaconda3/envs/contrastive/lib/python3.10/site-packages/tqdm/auto.py:22: TqdmWarning: IProgress not found. Please update jupyter and ipywidgets. See https://ipywidgets.readthedocs.io/en/stable/user_install.html\n",
      "  from .autonotebook import tqdm as notebook_tqdm\n"
     ]
    }
   ],
   "source": [
    "%reload_ext autoreload\n",
    "%autoreload 2\n",
    "\n",
    "import os\n",
    "import numpy as np\n",
    "from source.tserie import TSerie\n",
    "from source.read_ontario import read_ontario\n",
    "from source.utils import commonWindows\n",
    "from source.torch_utils import getContrastiveFeatures\n",
    "\n",
    "VIS_PATH = 'visualizations'\n",
    "SMOOTH = 50 # -1 if you don't want to smooth the data otherwise the size of the smooth window\n",
    "LOSS = 'SimCLR' # SupConLoss | SimCLR\n",
    "MODE = 'shape' # subsequences - shape\n",
    "EPOCHS = 150\n",
    "BATCH_SIZE = 32\n",
    "ENC_SIZE = 8\n",
    "POLLUTANTS = ['PM25', 'NO2'] # ['NO', 'NOx', 'NO2', 'SO2', 'CO', 'O3', 'PM25']\n",
    "CONV_FILTERS = [16, 32, 32]\n",
    "CONV_KERNELS = [7, 7, 7]\n",
    "UMAP_NEIGHBORS = 15\n"
   ]
  },
  {
   "cell_type": "markdown",
   "metadata": {},
   "source": [
    "# Years case"
   ]
  },
  {
   "cell_type": "code",
   "execution_count": 2,
   "metadata": {},
   "outputs": [
    {
     "name": "stderr",
     "output_type": "stream",
     "text": [
      "/home/texs/anaconda3/envs/contrastive/lib/python3.10/site-packages/numpy/lib/format.py:747: FutureWarning: The 'freq' argument in Timestamp is deprecated and will be removed in a future version.\n",
      "  array = pickle.load(fp, **pickle_kwargs)\n"
     ]
    }
   ],
   "source": [
    "windows_map = read_ontario(granularity='years')\n",
    "pollutans = POLLUTANTS\n",
    "windows, dates, station_ids, stations = commonWindows(windows_map, pollutans)"
   ]
  },
  {
   "cell_type": "code",
   "execution_count": 3,
   "metadata": {},
   "outputs": [],
   "source": [
    "month_ids = [date.month for date in dates]\n",
    "year_ids = [date.year for date in dates]\n",
    "\n",
    "\n",
    "stations_map = {int(i):str(stations[i]) for i in range(len(stations))}\n",
    "months_map = {int(i):str(i) for i in range(1, len(month_ids) + 1)}\n",
    "years_map = {int(year) : str(year) for year in year_ids}"
   ]
  },
  {
   "cell_type": "code",
   "execution_count": 4,
   "metadata": {},
   "outputs": [
    {
     "name": "stdout",
     "output_type": "stream",
     "text": [
      "Loaded mts - N: 180, T: 365, D: 2 \n",
      "(180, 2, 365)\n"
     ]
    }
   ],
   "source": [
    "mts = TSerie(X=windows, y = station_ids)\n",
    "\n",
    "if SMOOTH > 0:\n",
    "    mts.smooth(window_size=SMOOTH)\n",
    "\n",
    "if MODE == 'shape':\n",
    "    mts.shapeNormalizization()\n",
    "else:\n",
    "    mts.minMaxNormalizization()\n"
   ]
  },
  {
   "cell_type": "code",
   "execution_count": 5,
   "metadata": {},
   "outputs": [
    {
     "name": "stdout",
     "output_type": "stream",
     "text": [
      "Epoch[1] Train loss    avg: 3.2083855072657266\n",
      "Epoch[10] Train loss    avg: 1.5573779543240864\n",
      "Epoch[20] Train loss    avg: 1.3676711122194927\n",
      "Epoch[30] Train loss    avg: 1.3260427316029866\n",
      "Epoch[40] Train loss    avg: 1.3219480713208516\n",
      "Epoch[50] Train loss    avg: 1.2665870189666748\n",
      "Epoch[60] Train loss    avg: 1.241196076075236\n",
      "Epoch[70] Train loss    avg: 1.2476935386657715\n",
      "Epoch[80] Train loss    avg: 1.2221071124076843\n",
      "Epoch[90] Train loss    avg: 1.2107341090838115\n",
      "Epoch[100] Train loss    avg: 1.1959134737650554\n",
      "Epoch[110] Train loss    avg: 1.1888150374094646\n",
      "Epoch[120] Train loss    avg: 1.1840917666753132\n",
      "Epoch[130] Train loss    avg: 1.1882874369621277\n",
      "Epoch[140] Train loss    avg: 1.1805674036343892\n",
      "Epoch[150] Train loss    avg: 1.188632647196452\n"
     ]
    }
   ],
   "source": [
    "\n",
    "mts.features = getContrastiveFeatures(\n",
    "    mts.X.transpose([0, 2, 1]), mts.y, \n",
    "    epochs = EPOCHS, \n",
    "    batch_size = BATCH_SIZE, \n",
    "    loss_metric= LOSS, \n",
    "    mode = MODE, \n",
    "    encoding_size = ENC_SIZE,\n",
    "    conv_filters = CONV_FILTERS,\n",
    "    conv_kernels = CONV_KERNELS,\n",
    ")"
   ]
  },
  {
   "cell_type": "code",
   "execution_count": 6,
   "metadata": {},
   "outputs": [
    {
     "name": "stderr",
     "output_type": "stream",
     "text": [
      "OMP: Info #276: omp_set_nested routine deprecated, please use omp_set_max_active_levels instead.\n"
     ]
    }
   ],
   "source": [
    "import umap\n",
    "\n",
    "reducer = umap.UMAP(n_components=2, metric='euclidean', n_neighbors=UMAP_NEIGHBORS)\n",
    "coords = reducer.fit_transform(mts.features)"
   ]
  },
  {
   "cell_type": "code",
   "execution_count": 7,
   "metadata": {},
   "outputs": [
    {
     "data": {
      "text/plain": [
       "<matplotlib.collections.PathCollection at 0x7efe4cec8be0>"
      ]
     },
     "execution_count": 7,
     "metadata": {},
     "output_type": "execute_result"
    },
    {
     "data": {
      "image/png": "[encoded data removed]",
      "text/plain": [
       "<Figure size 432x288 with 1 Axes>"
      ]
     },
     "metadata": {
      "needs_background": "light"
     },
     "output_type": "display_data"
    }
   ],
   "source": [
    "import matplotlib.pyplot as plt\n",
    "plt.scatter(coords[:, 0], coords[:, 1])"
   ]
  },
  {
   "cell_type": "code",
   "execution_count": 8,
   "metadata": {},
   "outputs": [
    {
     "name": "stdout",
     "output_type": "stream",
     "text": [
      "mts shape: N: 180 -  T: 365 - D: 4\n"
     ]
    }
   ],
   "source": [
    "from server.source.storage import MTSStorage\n",
    "\n",
    "storage = MTSStorage(os.path.join(VIS_PATH ,'ontario_years.npy'))    \n",
    "# storage.delete()\n",
    "storage.load()\n",
    "\n",
    "dimensions = pollutans\n",
    "data = np.concatenate([mts.X_orig, mts.X], axis=2) \n",
    "storage.add_mts(\n",
    "    '_'.join(POLLUTANTS) , data , \n",
    "    dimensions = dimensions + [dim+ '_norm' for dim in dimensions], \n",
    "    labels = {'station': station_ids, 'months': month_ids, 'years': year_ids}, \n",
    "    labelsNames={'station': stations_map, 'months': months_map, 'years': years_map}, \n",
    "    coords = {\n",
    "        'coords': coords,\n",
    "    }\n",
    ")\n",
    "\n",
    "\n",
    "storage.save()"
   ]
  },
  {
   "cell_type": "code",
   "execution_count": null,
   "metadata": {},
   "outputs": [],
   "source": []
  }
 ],
 "metadata": {
  "kernelspec": {
   "display_name": "Python 3.10.4 ('contrastive')",
   "language": "python",
   "name": "python3"
  },
  "language_info": {
   "codemirror_mode": {
    "name": "ipython",
    "version": 3
   },
   "file_extension": ".py",
   "mimetype": "text/x-python",
   "name": "python",
   "nbconvert_exporter": "python",
   "pygments_lexer": "ipython3",
   "version": "3.10.4"
  },
  "orig_nbformat": 4,
  "vscode": {
   "interpreter": {
    "hash": "af38bbb6e377e6d688e9d49e963edf808fac73a4ecd279c84061bb0d9783d83c"
   }
  }
 },
 "nbformat": 4,
 "nbformat_minor": 2
}
