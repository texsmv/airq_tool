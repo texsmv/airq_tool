{
 "cells": [
  {
   "cell_type": "code",
   "execution_count": 19,
   "metadata": {},
   "outputs": [],
   "source": [
    "%reload_ext autoreload\n",
    "%autoreload 2\n",
    "\n",
    "import numpy as np\n",
    "from source.tserie import TSerie\n",
    "from source.read_ontario import read_ontario\n",
    "from source.utils import commonWindows\n",
    "from source.torch_utils import getContrastiveFeatures\n",
    "\n",
    "\n",
    "import sys\n",
    "\n",
    "sys.path.append('/home/texs/Documentos/Repositories/ts2vec')"
   ]
  },
  {
   "cell_type": "markdown",
   "metadata": {},
   "source": [
    "# Years case"
   ]
  },
  {
   "cell_type": "code",
   "execution_count": 2,
   "metadata": {},
   "outputs": [
    {
     "name": "stderr",
     "output_type": "stream",
     "text": [
      "/home/texs/anaconda3/envs/clearn/lib/python3.8/site-packages/numpy/lib/format.py:748: FutureWarning: The 'freq' argument in Timestamp is deprecated and will be removed in a future version.\n",
      "  array = pickle.load(fp, **pickle_kwargs)\n"
     ]
    }
   ],
   "source": [
    "windows_map = read_ontario(granularity='years')\n",
    "pollutans = ['NOx', 'O3']\n",
    "windows, dates, station_ids, stations = commonWindows(windows_map, pollutans)"
   ]
  },
  {
   "cell_type": "code",
   "execution_count": 3,
   "metadata": {},
   "outputs": [],
   "source": [
    "month_ids = [date.month for date in dates]\n",
    "year_ids = [date.year for date in dates]\n",
    "\n",
    "\n",
    "stations_map = {int(i):str(stations[i]) for i in range(len(stations))}\n",
    "months_map = {int(i):str(i) for i in range(1, len(month_ids) + 1)}\n",
    "years_map = {int(year) : str(year) for year in year_ids}"
   ]
  },
  {
   "cell_type": "code",
   "execution_count": 4,
   "metadata": {},
   "outputs": [
    {
     "name": "stdout",
     "output_type": "stream",
     "text": [
      "Loaded mts - N: 202, T: 365, D: 2 \n",
      "(202, 2, 365)\n"
     ]
    }
   ],
   "source": [
    "mts = TSerie(X=windows, y = station_ids)\n",
    "\n",
    "mts.smooth(window_size=50)\n",
    "mts.shapeNormalizization()\n",
    "\n",
    "# mts.minMaxNormalizization()\n"
   ]
  },
  {
   "cell_type": "code",
   "execution_count": 5,
   "metadata": {},
   "outputs": [
    {
     "data": {
      "text/html": [
       "<pre style=\"white-space:pre;overflow-x:auto;line-height:normal;font-family:Menlo,'DejaVu Sans Mono',consolas,'Courier New',monospace\">Epoch<span style=\"font-weight: bold\">[</span><span style=\"color: #008080; text-decoration-color: #008080; font-weight: bold\">1</span><span style=\"font-weight: bold\">]</span> Train loss    avg: <span style=\"color: #008080; text-decoration-color: #008080; font-weight: bold\">5.551804338182722</span>\n",
       "</pre>\n"
      ],
      "text/plain": [
       "Epoch\u001b[1m[\u001b[0m\u001b[1;36m1\u001b[0m\u001b[1m]\u001b[0m Train loss    avg: \u001b[1;36m5.551804338182722\u001b[0m\n"
      ]
     },
     "metadata": {},
     "output_type": "display_data"
    },
    {
     "data": {
      "text/html": [
       "<pre style=\"white-space:pre;overflow-x:auto;line-height:normal;font-family:Menlo,'DejaVu Sans Mono',consolas,'Courier New',monospace\">Epoch<span style=\"font-weight: bold\">[</span><span style=\"color: #008080; text-decoration-color: #008080; font-weight: bold\">10</span><span style=\"font-weight: bold\">]</span> Train loss    avg: <span style=\"color: #008080; text-decoration-color: #008080; font-weight: bold\">1.9338140147072929</span>\n",
       "</pre>\n"
      ],
      "text/plain": [
       "Epoch\u001b[1m[\u001b[0m\u001b[1;36m10\u001b[0m\u001b[1m]\u001b[0m Train loss    avg: \u001b[1;36m1.9338140147072929\u001b[0m\n"
      ]
     },
     "metadata": {},
     "output_type": "display_data"
    },
    {
     "data": {
      "text/html": [
       "<pre style=\"white-space:pre;overflow-x:auto;line-height:normal;font-family:Menlo,'DejaVu Sans Mono',consolas,'Courier New',monospace\">Epoch<span style=\"font-weight: bold\">[</span><span style=\"color: #008080; text-decoration-color: #008080; font-weight: bold\">20</span><span style=\"font-weight: bold\">]</span> Train loss    avg: <span style=\"color: #008080; text-decoration-color: #008080; font-weight: bold\">1.5026400940758842</span>\n",
       "</pre>\n"
      ],
      "text/plain": [
       "Epoch\u001b[1m[\u001b[0m\u001b[1;36m20\u001b[0m\u001b[1m]\u001b[0m Train loss    avg: \u001b[1;36m1.5026400940758842\u001b[0m\n"
      ]
     },
     "metadata": {},
     "output_type": "display_data"
    },
    {
     "data": {
      "text/html": [
       "<pre style=\"white-space:pre;overflow-x:auto;line-height:normal;font-family:Menlo,'DejaVu Sans Mono',consolas,'Courier New',monospace\">Epoch<span style=\"font-weight: bold\">[</span><span style=\"color: #008080; text-decoration-color: #008080; font-weight: bold\">30</span><span style=\"font-weight: bold\">]</span> Train loss    avg: <span style=\"color: #008080; text-decoration-color: #008080; font-weight: bold\">1.414050851549421</span>\n",
       "</pre>\n"
      ],
      "text/plain": [
       "Epoch\u001b[1m[\u001b[0m\u001b[1;36m30\u001b[0m\u001b[1m]\u001b[0m Train loss    avg: \u001b[1;36m1.414050851549421\u001b[0m\n"
      ]
     },
     "metadata": {},
     "output_type": "display_data"
    },
    {
     "data": {
      "text/html": [
       "<pre style=\"white-space:pre;overflow-x:auto;line-height:normal;font-family:Menlo,'DejaVu Sans Mono',consolas,'Courier New',monospace\">Epoch<span style=\"font-weight: bold\">[</span><span style=\"color: #008080; text-decoration-color: #008080; font-weight: bold\">40</span><span style=\"font-weight: bold\">]</span> Train loss    avg: <span style=\"color: #008080; text-decoration-color: #008080; font-weight: bold\">1.359537993158613</span>\n",
       "</pre>\n"
      ],
      "text/plain": [
       "Epoch\u001b[1m[\u001b[0m\u001b[1;36m40\u001b[0m\u001b[1m]\u001b[0m Train loss    avg: \u001b[1;36m1.359537993158613\u001b[0m\n"
      ]
     },
     "metadata": {},
     "output_type": "display_data"
    },
    {
     "data": {
      "text/html": [
       "<pre style=\"white-space:pre;overflow-x:auto;line-height:normal;font-family:Menlo,'DejaVu Sans Mono',consolas,'Courier New',monospace\">Epoch<span style=\"font-weight: bold\">[</span><span style=\"color: #008080; text-decoration-color: #008080; font-weight: bold\">50</span><span style=\"font-weight: bold\">]</span> Train loss    avg: <span style=\"color: #008080; text-decoration-color: #008080; font-weight: bold\">1.3029107877186366</span>\n",
       "</pre>\n"
      ],
      "text/plain": [
       "Epoch\u001b[1m[\u001b[0m\u001b[1;36m50\u001b[0m\u001b[1m]\u001b[0m Train loss    avg: \u001b[1;36m1.3029107877186366\u001b[0m\n"
      ]
     },
     "metadata": {},
     "output_type": "display_data"
    },
    {
     "data": {
      "text/html": [
       "<pre style=\"white-space:pre;overflow-x:auto;line-height:normal;font-family:Menlo,'DejaVu Sans Mono',consolas,'Courier New',monospace\">Epoch<span style=\"font-weight: bold\">[</span><span style=\"color: #008080; text-decoration-color: #008080; font-weight: bold\">60</span><span style=\"font-weight: bold\">]</span> Train loss    avg: <span style=\"color: #008080; text-decoration-color: #008080; font-weight: bold\">1.289272427558899</span>\n",
       "</pre>\n"
      ],
      "text/plain": [
       "Epoch\u001b[1m[\u001b[0m\u001b[1;36m60\u001b[0m\u001b[1m]\u001b[0m Train loss    avg: \u001b[1;36m1.289272427558899\u001b[0m\n"
      ]
     },
     "metadata": {},
     "output_type": "display_data"
    },
    {
     "data": {
      "text/html": [
       "<pre style=\"white-space:pre;overflow-x:auto;line-height:normal;font-family:Menlo,'DejaVu Sans Mono',consolas,'Courier New',monospace\">Epoch<span style=\"font-weight: bold\">[</span><span style=\"color: #008080; text-decoration-color: #008080; font-weight: bold\">70</span><span style=\"font-weight: bold\">]</span> Train loss    avg: <span style=\"color: #008080; text-decoration-color: #008080; font-weight: bold\">1.2727998154503959</span>\n",
       "</pre>\n"
      ],
      "text/plain": [
       "Epoch\u001b[1m[\u001b[0m\u001b[1;36m70\u001b[0m\u001b[1m]\u001b[0m Train loss    avg: \u001b[1;36m1.2727998154503959\u001b[0m\n"
      ]
     },
     "metadata": {},
     "output_type": "display_data"
    },
    {
     "data": {
      "text/html": [
       "<pre style=\"white-space:pre;overflow-x:auto;line-height:normal;font-family:Menlo,'DejaVu Sans Mono',consolas,'Courier New',monospace\">Epoch<span style=\"font-weight: bold\">[</span><span style=\"color: #008080; text-decoration-color: #008080; font-weight: bold\">80</span><span style=\"font-weight: bold\">]</span> Train loss    avg: <span style=\"color: #008080; text-decoration-color: #008080; font-weight: bold\">1.2711630378450667</span>\n",
       "</pre>\n"
      ],
      "text/plain": [
       "Epoch\u001b[1m[\u001b[0m\u001b[1;36m80\u001b[0m\u001b[1m]\u001b[0m Train loss    avg: \u001b[1;36m1.2711630378450667\u001b[0m\n"
      ]
     },
     "metadata": {},
     "output_type": "display_data"
    },
    {
     "data": {
      "text/html": [
       "<pre style=\"white-space:pre;overflow-x:auto;line-height:normal;font-family:Menlo,'DejaVu Sans Mono',consolas,'Courier New',monospace\">Epoch<span style=\"font-weight: bold\">[</span><span style=\"color: #008080; text-decoration-color: #008080; font-weight: bold\">90</span><span style=\"font-weight: bold\">]</span> Train loss    avg: <span style=\"color: #008080; text-decoration-color: #008080; font-weight: bold\">1.2250014543533325</span>\n",
       "</pre>\n"
      ],
      "text/plain": [
       "Epoch\u001b[1m[\u001b[0m\u001b[1;36m90\u001b[0m\u001b[1m]\u001b[0m Train loss    avg: \u001b[1;36m1.2250014543533325\u001b[0m\n"
      ]
     },
     "metadata": {},
     "output_type": "display_data"
    },
    {
     "data": {
      "text/html": [
       "<pre style=\"white-space:pre;overflow-x:auto;line-height:normal;font-family:Menlo,'DejaVu Sans Mono',consolas,'Courier New',monospace\">Epoch<span style=\"font-weight: bold\">[</span><span style=\"color: #008080; text-decoration-color: #008080; font-weight: bold\">100</span><span style=\"font-weight: bold\">]</span> Train loss    avg: <span style=\"color: #008080; text-decoration-color: #008080; font-weight: bold\">1.244105407169887</span>\n",
       "</pre>\n"
      ],
      "text/plain": [
       "Epoch\u001b[1m[\u001b[0m\u001b[1;36m100\u001b[0m\u001b[1m]\u001b[0m Train loss    avg: \u001b[1;36m1.244105407169887\u001b[0m\n"
      ]
     },
     "metadata": {},
     "output_type": "display_data"
    },
    {
     "data": {
      "text/html": [
       "<pre style=\"white-space:pre;overflow-x:auto;line-height:normal;font-family:Menlo,'DejaVu Sans Mono',consolas,'Courier New',monospace\">Epoch<span style=\"font-weight: bold\">[</span><span style=\"color: #008080; text-decoration-color: #008080; font-weight: bold\">110</span><span style=\"font-weight: bold\">]</span> Train loss    avg: <span style=\"color: #008080; text-decoration-color: #008080; font-weight: bold\">1.207645058631897</span>\n",
       "</pre>\n"
      ],
      "text/plain": [
       "Epoch\u001b[1m[\u001b[0m\u001b[1;36m110\u001b[0m\u001b[1m]\u001b[0m Train loss    avg: \u001b[1;36m1.207645058631897\u001b[0m\n"
      ]
     },
     "metadata": {},
     "output_type": "display_data"
    },
    {
     "data": {
      "text/html": [
       "<pre style=\"white-space:pre;overflow-x:auto;line-height:normal;font-family:Menlo,'DejaVu Sans Mono',consolas,'Courier New',monospace\">Epoch<span style=\"font-weight: bold\">[</span><span style=\"color: #008080; text-decoration-color: #008080; font-weight: bold\">120</span><span style=\"font-weight: bold\">]</span> Train loss    avg: <span style=\"color: #008080; text-decoration-color: #008080; font-weight: bold\">1.2168596812656947</span>\n",
       "</pre>\n"
      ],
      "text/plain": [
       "Epoch\u001b[1m[\u001b[0m\u001b[1;36m120\u001b[0m\u001b[1m]\u001b[0m Train loss    avg: \u001b[1;36m1.2168596812656947\u001b[0m\n"
      ]
     },
     "metadata": {},
     "output_type": "display_data"
    },
    {
     "data": {
      "text/html": [
       "<pre style=\"white-space:pre;overflow-x:auto;line-height:normal;font-family:Menlo,'DejaVu Sans Mono',consolas,'Courier New',monospace\">Epoch<span style=\"font-weight: bold\">[</span><span style=\"color: #008080; text-decoration-color: #008080; font-weight: bold\">130</span><span style=\"font-weight: bold\">]</span> Train loss    avg: <span style=\"color: #008080; text-decoration-color: #008080; font-weight: bold\">1.217539974621364</span>\n",
       "</pre>\n"
      ],
      "text/plain": [
       "Epoch\u001b[1m[\u001b[0m\u001b[1;36m130\u001b[0m\u001b[1m]\u001b[0m Train loss    avg: \u001b[1;36m1.217539974621364\u001b[0m\n"
      ]
     },
     "metadata": {},
     "output_type": "display_data"
    },
    {
     "data": {
      "text/html": [
       "<pre style=\"white-space:pre;overflow-x:auto;line-height:normal;font-family:Menlo,'DejaVu Sans Mono',consolas,'Courier New',monospace\">Epoch<span style=\"font-weight: bold\">[</span><span style=\"color: #008080; text-decoration-color: #008080; font-weight: bold\">140</span><span style=\"font-weight: bold\">]</span> Train loss    avg: <span style=\"color: #008080; text-decoration-color: #008080; font-weight: bold\">1.196081485067095</span>\n",
       "</pre>\n"
      ],
      "text/plain": [
       "Epoch\u001b[1m[\u001b[0m\u001b[1;36m140\u001b[0m\u001b[1m]\u001b[0m Train loss    avg: \u001b[1;36m1.196081485067095\u001b[0m\n"
      ]
     },
     "metadata": {},
     "output_type": "display_data"
    },
    {
     "data": {
      "text/html": [
       "<pre style=\"white-space:pre;overflow-x:auto;line-height:normal;font-family:Menlo,'DejaVu Sans Mono',consolas,'Courier New',monospace\">Epoch<span style=\"font-weight: bold\">[</span><span style=\"color: #008080; text-decoration-color: #008080; font-weight: bold\">150</span><span style=\"font-weight: bold\">]</span> Train loss    avg: <span style=\"color: #008080; text-decoration-color: #008080; font-weight: bold\">1.2005981717790877</span>\n",
       "</pre>\n"
      ],
      "text/plain": [
       "Epoch\u001b[1m[\u001b[0m\u001b[1;36m150\u001b[0m\u001b[1m]\u001b[0m Train loss    avg: \u001b[1;36m1.2005981717790877\u001b[0m\n"
      ]
     },
     "metadata": {},
     "output_type": "display_data"
    }
   ],
   "source": [
    "LOSS = 'SimCLR' # SupConLoss | SimCLR\n",
    "MODE = 'shape' # subsequences - shape\n",
    "EPOCHS = 150\n",
    "BATCH_SIZE = 32\n",
    "ENC_SIZE = 8\n",
    "mts.features = getContrastiveFeatures(\n",
    "    mts.X.transpose([0, 2, 1]), mts.y, \n",
    "    epochs = EPOCHS, \n",
    "    batch_size = BATCH_SIZE, \n",
    "    loss_metric= LOSS, \n",
    "    mode = MODE, \n",
    "    encoding_size = ENC_SIZE,\n",
    "    conv_filters = [16, 32, 32], \n",
    "    conv_kernels = [7, 7, 7],\n",
    ")"
   ]
  },
  {
   "cell_type": "code",
   "execution_count": 8,
   "metadata": {},
   "outputs": [],
   "source": [
    "import umap\n",
    "\n",
    "reducer = umap.UMAP(n_components=2, metric='euclidean', n_neighbors=15)\n",
    "coords = reducer.fit_transform(mts.features)"
   ]
  },
  {
   "cell_type": "code",
   "execution_count": 9,
   "metadata": {},
   "outputs": [
    {
     "data": {
      "text/plain": [
       "<matplotlib.collections.PathCollection at 0x7fa6d20d4c40>"
      ]
     },
     "execution_count": 9,
     "metadata": {},
     "output_type": "execute_result"
    },
    {
     "data": {
      "image/png": "[encoded data removed]",
      "text/plain": [
       "<Figure size 640x480 with 1 Axes>"
      ]
     },
     "metadata": {},
     "output_type": "display_data"
    }
   ],
   "source": [
    "import matplotlib.pyplot as plt\n",
    "plt.scatter(coords[:, 0], coords[:, 1])"
   ]
  },
  {
   "cell_type": "code",
   "execution_count": 10,
   "metadata": {},
   "outputs": [
    {
     "name": "stdout",
     "output_type": "stream",
     "text": [
      "mts shape: N: 202 -  T: 365 - D: 4\n"
     ]
    }
   ],
   "source": [
    "import sys\n",
    "sys.path.append('/home/texs/Documentos/Repositories/mts_viz')\n",
    "from server.source.storage import MTSStorage\n",
    "\n",
    "storage = MTSStorage('mts_test')    \n",
    "# storage.delete()\n",
    "storage.load()\n",
    "\n",
    "dimensions = pollutans\n",
    "# dimensions = [sPoll, sPoll + '_norm']\n",
    "# dimensions = pollutants + [poll + '_norm' for poll in pollutants]\n",
    "data = np.concatenate([mts.X_orig, mts.X], axis=2) \n",
    "storage.add_mts(\n",
    "    'Test' , data , \n",
    "    dimensions = dimensions + [dim+ '_norm' for dim in dimensions], \n",
    "    labels = {'station': station_ids, 'months': month_ids, 'years': year_ids}, \n",
    "    labelsNames={'station': stations_map, 'months': months_map, 'years': years_map}, \n",
    "    coords = {\n",
    "        # 'shape': coords,\n",
    "        # 'magnitude': coords_mean,\n",
    "        'coords': coords,\n",
    "    }\n",
    ")\n",
    "\n",
    "\n",
    "\n",
    "storage.save()"
   ]
  },
  {
   "cell_type": "markdown",
   "metadata": {},
   "source": [
    "# Months case"
   ]
  },
  {
   "cell_type": "code",
   "execution_count": 48,
   "metadata": {},
   "outputs": [],
   "source": [
    "windows_map = read_ontario(granularity='months')\n",
    "pollutans = ['NOx']\n",
    "windows, dates, station_ids, stations = commonWindows(windows_map, pollutans)"
   ]
  },
  {
   "cell_type": "code",
   "execution_count": 49,
   "metadata": {},
   "outputs": [
    {
     "data": {
      "text/plain": [
       "(4180, 28, 1)"
      ]
     },
     "execution_count": 49,
     "metadata": {},
     "output_type": "execute_result"
    }
   ],
   "source": [
    "windows.shape"
   ]
  },
  {
   "cell_type": "code",
   "execution_count": 50,
   "metadata": {},
   "outputs": [],
   "source": [
    "month_ids = np.array([date.month for date in dates])\n",
    "year_ids = np.array([date.year for date in dates])\n",
    "\n",
    "\n",
    "stations_map = {int(i):str(stations[i]) for i in range(len(stations))}\n",
    "months_map = {int(i):str(i) for i in range(1, 13)}\n",
    "years_map = {int(year) : str(year) for year in year_ids}"
   ]
  },
  {
   "cell_type": "code",
   "execution_count": 51,
   "metadata": {},
   "outputs": [
    {
     "name": "stdout",
     "output_type": "stream",
     "text": [
      "Loaded mts - N: 4180, T: 28, D: 1 \n",
      "(4180, 1, 28)\n"
     ]
    }
   ],
   "source": [
    "mts = TSerie(X=windows, y = station_ids)\n",
    "\n",
    "mts.smooth(window_size=8)\n",
    "\n",
    "mts.shapeNormalizization()\n",
    "\n",
    "# mts.minMaxNormalizization()"
   ]
  },
  {
   "cell_type": "code",
   "execution_count": 52,
   "metadata": {},
   "outputs": [
    {
     "name": "stdout",
     "output_type": "stream",
     "text": [
      "Epoch #0: loss=2.550697292861354\n",
      "Epoch #1: loss=2.5205324253359973\n",
      "Epoch #2: loss=2.3630540101464224\n",
      "Epoch #3: loss=1.9075772575034948\n",
      "Epoch #4: loss=1.6517939763964364\n",
      "Epoch #5: loss=1.5849342081281874\n",
      "Epoch #6: loss=1.5646230114830866\n",
      "Epoch #7: loss=1.5437919958797908\n",
      "Epoch #8: loss=1.4745623439664586\n",
      "Epoch #9: loss=1.4602642564024506\n",
      "Epoch #10: loss=1.416308442294826\n",
      "Epoch #11: loss=1.4391989262624718\n",
      "Epoch #12: loss=1.4345768678690738\n",
      "Epoch #13: loss=1.4235491533389037\n",
      "Epoch #14: loss=1.413578834798601\n",
      "Epoch #15: loss=1.4266299198870458\n",
      "Epoch #16: loss=1.3913353295618547\n",
      "Epoch #17: loss=1.3853192397917824\n",
      "Epoch #18: loss=1.348861151956507\n",
      "Epoch #19: loss=1.3434186173581528\n"
     ]
    }
   ],
   "source": [
    "# LOSS = 'SupConLoss' # SupConLoss | SimCLR\n",
    "# MODE = 'shape' # subsequences - shape\n",
    "# EPOCHS = 31\n",
    "# BATCH_SIZE = 32\n",
    "# ENC_SIZE = 8\n",
    "# mts.features = getContrastiveFeatures(\n",
    "#     mts.X.transpose([0, 2, 1]), mts.y, \n",
    "#     epochs = 100, \n",
    "#     batch_size = BATCH_SIZE, \n",
    "#     loss_metric= LOSS, \n",
    "#     mode = MODE, \n",
    "#     encoding_size = ENC_SIZE,\n",
    "#     conv_filters = [16, 32, 32], \n",
    "#     conv_kernels = [7, 7, 7]\n",
    "# )\n",
    "\n",
    "from ts2vec import TS2Vec\n",
    "\n",
    "# Train a TS2Vec model\n",
    "model = TS2Vec(\n",
    "    input_dims=mts.D,\n",
    "    device=0,\n",
    "    output_dims=16,\n",
    "    batch_size = 64,\n",
    ")\n",
    "loss_log = model.fit(\n",
    "    mts.X,\n",
    "    verbose=True,\n",
    "    n_epochs = 20,\n",
    ")\n",
    "\n",
    "mts.features = model.encode(mts.X, encoding_window='full_series')"
   ]
  },
  {
   "cell_type": "code",
   "execution_count": 53,
   "metadata": {},
   "outputs": [],
   "source": [
    "# # print(mts.X[:2].shape)\n",
    "# part1 = mts.X[:2]\n",
    "# part2 = np.flip(mts.X[:2], 1).copy()\n",
    "# # print(part1.shape)\n",
    "# # print(part2.shape)\n",
    "# # print(part1)\n",
    "# # print(part2)\n",
    "# test1 = model.encode(part1, encoding_window='full_series')\n",
    "# test2 = model.encode(part2, encoding_window='full_series')\n",
    "# print(test1)\n",
    "# print(test2)\n",
    "# # plt.plot()"
   ]
  },
  {
   "cell_type": "code",
   "execution_count": 54,
   "metadata": {},
   "outputs": [
    {
     "data": {
      "text/plain": [
       "<matplotlib.collections.PathCollection at 0x7fa6688293d0>"
      ]
     },
     "execution_count": 54,
     "metadata": {},
     "output_type": "execute_result"
    },
    {
     "data": {
      "image/png": "[encoded data removed]",
      "text/plain": [
       "<Figure size 640x480 with 1 Axes>"
      ]
     },
     "metadata": {},
     "output_type": "display_data"
    }
   ],
   "source": [
    "reducer = umap.UMAP(n_components=2, metric='euclidean', n_neighbors=15)\n",
    "coords = reducer.fit_transform(mts.features)\n",
    "plt.scatter(coords[:, 0], coords[:, 1])"
   ]
  },
  {
   "cell_type": "code",
   "execution_count": 56,
   "metadata": {},
   "outputs": [
    {
     "name": "stdout",
     "output_type": "stream",
     "text": [
      "mts shape: N: 4180 -  T: 28 - D: 2\n"
     ]
    }
   ],
   "source": [
    "\n",
    "storage = MTSStorage('mts_test')    \n",
    "# storage.delete()\n",
    "storage.load()\n",
    "\n",
    "dimensions = pollutans\n",
    "data = np.concatenate([mts.X_orig, mts.X], axis=2) \n",
    "storage.add_mts(\n",
    "    'Test months' , data , \n",
    "    dimensions = dimensions + [dim+ '_norm' for dim in dimensions], \n",
    "    labels = {'station': station_ids, 'months': month_ids, 'years': year_ids}, \n",
    "    labelsNames={'station': stations_map, 'months': months_map, 'years': years_map}, \n",
    "    coords = {\n",
    "        'coords': coords,\n",
    "    },\n",
    "    sampling=True,\n",
    "    n_samples= 600\n",
    ")\n",
    "\n",
    "storage.save()"
   ]
  },
  {
   "cell_type": "code",
   "execution_count": null,
   "metadata": {},
   "outputs": [],
   "source": []
  }
 ],
 "metadata": {
  "kernelspec": {
   "display_name": "Python 3.8.13 ('clearn')",
   "language": "python",
   "name": "python3"
  },
  "language_info": {
   "codemirror_mode": {
    "name": "ipython",
    "version": 3
   },
   "file_extension": ".py",
   "mimetype": "text/x-python",
   "name": "python",
   "nbconvert_exporter": "python",
   "pygments_lexer": "ipython3",
   "version": "3.8.13"
  },
  "orig_nbformat": 4,
  "vscode": {
   "interpreter": {
    "hash": "9b358327185eebe25ac8832d1d1e0e28e2841cec82efe29413dcc7b9341241d3"
   }
  }
 },
 "nbformat": 4,
 "nbformat_minor": 2
}
