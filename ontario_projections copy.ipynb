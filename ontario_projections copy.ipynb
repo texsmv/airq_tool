{
 "cells": [
  {
   "cell_type": "code",
   "execution_count": 136,
   "metadata": {},
   "outputs": [],
   "source": [
    "%reload_ext autoreload\n",
    "%autoreload 2\n",
    "\n",
    "import numpy as np\n",
    "from source.tserie import TSerie\n",
    "from source.read_ontario import read_ontario\n",
    "from source.utils import commonWindows\n",
    "from source.torch_utils import getContrastiveFeatures"
   ]
  },
  {
   "cell_type": "markdown",
   "metadata": {},
   "source": [
    "# Years case"
   ]
  },
  {
   "cell_type": "code",
   "execution_count": 147,
   "metadata": {},
   "outputs": [],
   "source": [
    "windows_map = read_ontario(granularity='years')\n",
    "pollutans = ['NOx', 'O3']\n",
    "windows, dates, station_ids, stations = commonWindows(windows_map, pollutans)"
   ]
  },
  {
   "cell_type": "code",
   "execution_count": 148,
   "metadata": {},
   "outputs": [],
   "source": [
    "month_ids = [date.month for date in dates]\n",
    "year_ids = [date.year for date in dates]\n",
    "\n",
    "\n",
    "stations_map = {int(i):str(stations[i]) for i in range(len(stations))}\n",
    "months_map = {int(i):str(i) for i in range(1, len(month_ids) + 1)}\n",
    "years_map = {int(year) : str(year) for year in year_ids}"
   ]
  },
  {
   "cell_type": "code",
   "execution_count": 149,
   "metadata": {},
   "outputs": [
    {
     "name": "stdout",
     "output_type": "stream",
     "text": [
      "Loaded mts - N: 202, T: 365, D: 2 \n",
      "(202, 2, 365)\n"
     ]
    }
   ],
   "source": [
    "mts = TSerie(X=windows, y = station_ids)\n",
    "\n",
    "mts.smooth(window_size=50)\n",
    "\n",
    "mts.shapeNormalizization()\n",
    "\n",
    "# mts.minMaxNormalizization()\n"
   ]
  },
  {
   "cell_type": "code",
   "execution_count": 154,
   "metadata": {},
   "outputs": [
    {
     "name": "stdout",
     "output_type": "stream",
     "text": [
      "Epoch[1] Train loss    avg: 2.747081126485552\n",
      "Epoch[10] Train loss    avg: 1.3527239731379919\n",
      "Epoch[20] Train loss    avg: 1.273891908781869\n",
      "Epoch[30] Train loss    avg: 1.2595877136502946\n",
      "Epoch[40] Train loss    avg: 1.187584979193551\n",
      "Epoch[50] Train loss    avg: 1.1888356719698225\n",
      "Epoch[60] Train loss    avg: 1.1987316949026925\n",
      "Epoch[70] Train loss    avg: 1.1768004042761666\n",
      "Epoch[80] Train loss    avg: 1.1710856642041887\n",
      "Epoch[90] Train loss    avg: 1.1784380844661169\n",
      "Epoch[100] Train loss    avg: 1.173235365322658\n",
      "Epoch[110] Train loss    avg: 1.1616106714521135\n",
      "Epoch[120] Train loss    avg: 1.1830146312713623\n",
      "Epoch[130] Train loss    avg: 1.173693299293518\n",
      "Epoch[140] Train loss    avg: 1.1494215045656477\n",
      "Epoch[150] Train loss    avg: 1.1520653452192033\n"
     ]
    }
   ],
   "source": [
    "LOSS = 'SimCLR' # SupConLoss | SimCLR\n",
    "MODE = 'shape' # subsequences - shape\n",
    "EPOCHS = 150\n",
    "BATCH_SIZE = 32\n",
    "ENC_SIZE = 8\n",
    "mts.features = getContrastiveFeatures(\n",
    "    mts.X.transpose([0, 2, 1]), mts.y, \n",
    "    epochs = EPOCHS, \n",
    "    batch_size = BATCH_SIZE, \n",
    "    loss_metric= LOSS, \n",
    "    mode = MODE, \n",
    "    encoding_size = ENC_SIZE,\n",
    "    conv_filters = [16, 32, 32], \n",
    "    conv_kernels = [7, 7, 7],\n",
    ")"
   ]
  },
  {
   "cell_type": "code",
   "execution_count": 155,
   "metadata": {},
   "outputs": [],
   "source": [
    "import umap\n",
    "\n",
    "reducer = umap.UMAP(n_components=2, metric='euclidean', n_neighbors=15)\n",
    "coords = reducer.fit_transform(mts.features)"
   ]
  },
  {
   "cell_type": "code",
   "execution_count": 156,
   "metadata": {},
   "outputs": [
    {
     "data": {
      "text/plain": [
       "<matplotlib.collections.PathCollection at 0x7fb66a0bbeb0>"
      ]
     },
     "execution_count": 156,
     "metadata": {},
     "output_type": "execute_result"
    },
    {
     "data": {
      "image/png": "[encoded data removed]",
      "text/plain": [
       "<Figure size 432x288 with 1 Axes>"
      ]
     },
     "metadata": {
      "needs_background": "light"
     },
     "output_type": "display_data"
    }
   ],
   "source": [
    "import matplotlib.pyplot as plt\n",
    "plt.scatter(coords[:, 0], coords[:, 1])"
   ]
  },
  {
   "cell_type": "code",
   "execution_count": 158,
   "metadata": {},
   "outputs": [
    {
     "name": "stdout",
     "output_type": "stream",
     "text": [
      "mts shape: N: 202 -  T: 365 - D: 4\n"
     ]
    }
   ],
   "source": [
    "import sys\n",
    "sys.path.append('/home/texs/Documentos/Repositories/mts_viz')\n",
    "from server.source.storage import MTSStorage\n",
    "\n",
    "storage = MTSStorage('mts_test')    \n",
    "# storage.delete()\n",
    "storage.load()\n",
    "\n",
    "dimensions = pollutans\n",
    "# dimensions = [sPoll, sPoll + '_norm']\n",
    "# dimensions = pollutants + [poll + '_norm' for poll in pollutants]\n",
    "data = np.concatenate([mts.X_orig, mts.X], axis=2) \n",
    "storage.add_mts(\n",
    "    'Test' , data , \n",
    "    dimensions = dimensions + [dim+ '_norm' for dim in dimensions], \n",
    "    labels = {'station': station_ids, 'months': month_ids, 'years': year_ids}, \n",
    "    labelsNames={'station': stations_map, 'months': months_map, 'years': years_map}, \n",
    "    coords = {\n",
    "        # 'shape': coords,\n",
    "        # 'magnitude': coords_mean,\n",
    "        'coords': coords,\n",
    "    }\n",
    ")\n",
    "\n",
    "\n",
    "\n",
    "storage.save()"
   ]
  },
  {
   "cell_type": "markdown",
   "metadata": {},
   "source": [
    "# Months case"
   ]
  },
  {
   "cell_type": "code",
   "execution_count": 85,
   "metadata": {},
   "outputs": [],
   "source": [
    "windows_map = read_ontario(granularity='months')\n",
    "pollutans = ['SO2']\n",
    "windows, dates, station_ids, stations = commonWindows(windows_map, pollutans)"
   ]
  },
  {
   "cell_type": "code",
   "execution_count": 86,
   "metadata": {},
   "outputs": [
    {
     "data": {
      "text/plain": [
       "(4158, 28, 2)"
      ]
     },
     "execution_count": 86,
     "metadata": {},
     "output_type": "execute_result"
    }
   ],
   "source": [
    "windows.shape"
   ]
  },
  {
   "cell_type": "code",
   "execution_count": 87,
   "metadata": {},
   "outputs": [],
   "source": [
    "month_ids = np.array([date.month for date in dates])\n",
    "year_ids = np.array([date.year for date in dates])\n",
    "\n",
    "\n",
    "stations_map = {int(i):str(stations[i]) for i in range(len(stations))}\n",
    "months_map = {int(i):str(i) for i in range(1, 13)}\n",
    "years_map = {int(year) : str(year) for year in year_ids}"
   ]
  },
  {
   "cell_type": "code",
   "execution_count": 126,
   "metadata": {},
   "outputs": [
    {
     "name": "stdout",
     "output_type": "stream",
     "text": [
      "Loaded mts - N: 57, T: 365, D: 1 \n",
      "(57, 1, 365)\n"
     ]
    }
   ],
   "source": [
    "mts = TSerie(X=windows, y = station_ids)\n",
    "\n",
    "mts.smooth(window_size=8)\n",
    "\n",
    "mts.shapeNormalizization()\n",
    "\n",
    "# mts.minMaxNormalizization()"
   ]
  },
  {
   "cell_type": "code",
   "execution_count": 127,
   "metadata": {},
   "outputs": [
    {
     "name": "stdout",
     "output_type": "stream",
     "text": [
      "Epoch[1] Train loss    avg: 6.371222257614136\n",
      "Epoch[10] Train loss    avg: 3.9762654304504395\n",
      "Epoch[20] Train loss    avg: 3.700909972190857\n",
      "Epoch[30] Train loss    avg: 3.6796053647994995\n"
     ]
    }
   ],
   "source": [
    "LOSS = 'SupConLoss' # SupConLoss | SimCLR\n",
    "MODE = 'shape' # subsequences - shape\n",
    "EPOCHS = 31\n",
    "BATCH_SIZE = 32\n",
    "ENC_SIZE = 8\n",
    "mts.features = getContrastiveFeatures(\n",
    "    mts.X.transpose([0, 2, 1]), mts.y, \n",
    "    epochs = EPOCHS, \n",
    "    batch_size = BATCH_SIZE, \n",
    "    loss_metric= LOSS, \n",
    "    mode = MODE, \n",
    "    encoding_size = ENC_SIZE,\n",
    "    conv_filters = [16, 32, 32], \n",
    "    conv_kernels = [7, 7, 7]\n",
    ")"
   ]
  },
  {
   "cell_type": "code",
   "execution_count": 112,
   "metadata": {},
   "outputs": [
    {
     "data": {
      "text/plain": [
       "<matplotlib.collections.PathCollection at 0x7fb664e080a0>"
      ]
     },
     "execution_count": 112,
     "metadata": {},
     "output_type": "execute_result"
    },
    {
     "data": {
      "image/png": "[encoded data removed]",
      "text/plain": [
       "<Figure size 432x288 with 1 Axes>"
      ]
     },
     "metadata": {
      "needs_background": "light"
     },
     "output_type": "display_data"
    }
   ],
   "source": [
    "reducer = umap.UMAP(n_components=2, metric='euclidean', n_neighbors=15)\n",
    "coords = reducer.fit_transform(mts.features)\n",
    "plt.scatter(coords[:, 0], coords[:, 1])"
   ]
  },
  {
   "cell_type": "code",
   "execution_count": 113,
   "metadata": {},
   "outputs": [
    {
     "name": "stdout",
     "output_type": "stream",
     "text": [
      "mts shape: N: 4158 -  T: 28 - D: 4\n"
     ]
    }
   ],
   "source": [
    "\n",
    "storage = MTSStorage('mts_test')    \n",
    "# storage.delete()\n",
    "storage.load()\n",
    "\n",
    "dimensions = pollutans\n",
    "data = np.concatenate([mts.X_orig, mts.X], axis=2) \n",
    "storage.add_mts(\n",
    "    'Test months' , data , \n",
    "    dimensions = dimensions + [dim+ '_norm' for dim in dimensions], \n",
    "    labels = {'station': station_ids, 'months': month_ids, 'years': year_ids}, \n",
    "    labelsNames={'station': stations_map, 'months': months_map, 'years': years_map}, \n",
    "    coords = {\n",
    "        'coords': coords,\n",
    "    },\n",
    "    sampling=True,\n",
    "    n_samples= 600\n",
    ")\n",
    "\n",
    "storage.save()"
   ]
  },
  {
   "cell_type": "code",
   "execution_count": null,
   "metadata": {},
   "outputs": [],
   "source": []
  }
 ],
 "metadata": {
  "kernelspec": {
   "display_name": "Python 3.10.4 ('contrastive')",
   "language": "python",
   "name": "python3"
  },
  "language_info": {
   "codemirror_mode": {
    "name": "ipython",
    "version": 3
   },
   "file_extension": ".py",
   "mimetype": "text/x-python",
   "name": "python",
   "nbconvert_exporter": "python",
   "pygments_lexer": "ipython3",
   "version": "3.10.4"
  },
  "orig_nbformat": 4,
  "vscode": {
   "interpreter": {
    "hash": "af38bbb6e377e6d688e9d49e963edf808fac73a4ecd279c84061bb0d9783d83c"
   }
  }
 },
 "nbformat": 4,
 "nbformat_minor": 2
}
