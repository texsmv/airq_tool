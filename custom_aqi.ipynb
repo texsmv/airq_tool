{
 "cells": [
  {
   "cell_type": "code",
   "execution_count": 13,
   "metadata": {},
   "outputs": [],
   "source": [
    "from math import *\n",
    "POLLUTANS_CONCENTRATIONS_ug_m3 = {\n",
    "    'SO2': [\n",
    "        50,\n",
    "        150,\n",
    "        475,\n",
    "        800,\n",
    "        1600,\n",
    "        2620,\n",
    "    ],\n",
    "    'NO2': [\n",
    "        40,\n",
    "        80,\n",
    "        180,\n",
    "        280,\n",
    "        565,\n",
    "        940,\n",
    "    ],\n",
    "    'PM10': [\n",
    "        50,\n",
    "        150,\n",
    "        250,\n",
    "        350,\n",
    "        420,\n",
    "        600,\n",
    "    ],\n",
    "    'CO': [\n",
    "        2000,\n",
    "        4000,\n",
    "        14000,\n",
    "        24000,\n",
    "        36000,\n",
    "        60000,\n",
    "    ],\n",
    "    'O3': [\n",
    "        100,\n",
    "        160,\n",
    "        215,\n",
    "        265,\n",
    "        800,\n",
    "    ],\n",
    "    'PM25': [\n",
    "        35,\n",
    "        75,\n",
    "        115,\n",
    "        150,\n",
    "        250,\n",
    "        500,\n",
    "    ],\n",
    "}\n",
    "\n",
    "AQI_RANGES = [\n",
    "    [0, 50],\n",
    "    [50, 100],\n",
    "    [100, 150],\n",
    "    [150, 200],\n",
    "    [200, 300],\n",
    "    [300, 500]\n",
    "]\n",
    "\n",
    "\n",
    "def _to_aqi(c_i, c_l, c_h, AQI_l, AQI_h):\n",
    "    return (AQI_h - AQI_l) / (c_h - c_l) * (c_i - c_l) + AQI_l\n",
    "\n",
    "def get_nivel(ranges, val):\n",
    "    for i in range(len(ranges)):\n",
    "        if val < ranges[i]:\n",
    "            return i\n",
    "\n",
    "def get_iaqi(POL, c_i):\n",
    "    pol_ranges = POLLUTANS_CONCENTRATIONS_ug_m3[POL]\n",
    "    nivel = get_nivel(pol_ranges, c_i)\n",
    "    temp_range  = [0] + pol_ranges\n",
    "    c_l, c_h = temp_range[nivel], temp_range[nivel + 1]\n",
    "    AQI_l, AQI_h = AQI_RANGES[nivel]\n",
    "    return ceil(_to_aqi(c_i, c_l, c_h, AQI_l, AQI_h))"
   ]
  },
  {
   "cell_type": "code",
   "execution_count": 14,
   "metadata": {},
   "outputs": [
    {
     "data": {
      "text/plain": [
       "173"
      ]
     },
     "execution_count": 14,
     "metadata": {},
     "output_type": "execute_result"
    }
   ],
   "source": [
    "c = 225\n",
    "\n",
    "get_iaqi('NO2', c)"
   ]
  },
  {
   "cell_type": "code",
   "execution_count": 15,
   "metadata": {},
   "outputs": [
    {
     "data": {
      "text/plain": [
       "Decimal('173')"
      ]
     },
     "execution_count": 15,
     "metadata": {},
     "output_type": "execute_result"
    }
   ],
   "source": [
    "import aqi\n",
    "\n",
    "aqi.to_iaqi('no2_24h', str(c), algo=aqi.ALGO_MEP)"
   ]
  },
  {
   "cell_type": "code",
   "execution_count": null,
   "metadata": {},
   "outputs": [],
   "source": []
  }
 ],
 "metadata": {
  "kernelspec": {
   "display_name": "clearn",
   "language": "python",
   "name": "python3"
  },
  "language_info": {
   "codemirror_mode": {
    "name": "ipython",
    "version": 3
   },
   "file_extension": ".py",
   "mimetype": "text/x-python",
   "name": "python",
   "nbconvert_exporter": "python",
   "pygments_lexer": "ipython3",
   "version": "3.8.13"
  }
 },
 "nbformat": 4,
 "nbformat_minor": 2
}
